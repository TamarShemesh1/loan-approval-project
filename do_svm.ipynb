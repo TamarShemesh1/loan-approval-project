{
 "cells": [
  {
   "cell_type": "markdown",
   "id": "382a8f2ce576c407",
   "metadata": {},
   "source": [
    "# Final Project – Introduction to Machine Learning (Group 32)\n",
    "## Loan Approval Prediction – Binary Classification\n",
    "**Tamar & Tala – Spring 2025**\n",
    "\n",
    "This notebook walks through our end-to-end machine learning project:\n",
    "- Data exploration \n",
    "- Feature processing \n",
    "- Model training \n",
    "- Evaluation \n",
    "- Final prediction submission "
   ]
  },
  {
   "cell_type": "markdown",
   "id": "809af347f383058e",
   "metadata": {},
   "source": [
    "## 1. Load Libraries and Data\n",
    "_We’ll start by loading the data and setting up useful libraries._"
   ]
  },
  {
   "cell_type": "code",
   "execution_count": 163,
   "id": "306e676c18666e27",
   "metadata": {
    "ExecuteTime": {
     "end_time": "2025-06-10T15:42:04.501361200Z",
     "start_time": "2025-06-10T15:42:04.249273300Z"
    }
   },
   "outputs": [
    {
     "data": {
      "text/plain": "   customer_id   Age Employment_Type       A Education_Level  \\\n0       115892  90.0             NaN   77053         HS-grad   \n1       115893  82.0         Private  132870         HS-grad   \n2       115895  54.0         Private  140359         7th-8th   \n3       115896  41.0         Private  264663    Some-college   \n4       115897  34.0         Private  216864         HS-grad   \n\n   Years_of_Education Marital_Status           Job_Type Household_Role  \\\n0                 9.0        Widowed                NaN  Not-in-family   \n1                 9.0        Widowed    Exec-managerial  Not-in-family   \n2                 4.0       Divorced  Machine-op-inspct      Unmarried   \n3                10.0      Separated     Prof-specialty      Own-child   \n4                 9.0       Divorced      Other-service      Unmarried   \n\n  Ethnicity  ... Investment_Gain  Investment_Loss  Weekly_Work_Hours  \\\n0     White  ...             0.0           4356.0                 40   \n1     White  ...             0.0           4356.0                 18   \n2     White  ...             0.0           3900.0                 40   \n3     White  ...             0.0           3900.0                 40   \n4     White  ...             NaN           3770.0                 45   \n\n   Country_of_Residence           C  Preferred_Communication_Method         D  \\\n0         United-States  104.906221                      Phone_Call  2.865629   \n1         United-States   96.358501                            mail  5.528583   \n2         United-States  115.529631                            mail  3.816915   \n3         United-States   85.732506                             NaN  5.416363   \n4         United-States  115.218443                            Mail  6.453932   \n\n    B           E  Loan_Approval  \n0 NaN  170.887465              0  \n1 NaN  156.630201              0  \n2 NaN  165.635557              0  \n3 NaN  123.379007              0  \n4 NaN  155.262131              0  \n\n[5 rows x 21 columns]",
      "text/html": "<div>\n<style scoped>\n    .dataframe tbody tr th:only-of-type {\n        vertical-align: middle;\n    }\n\n    .dataframe tbody tr th {\n        vertical-align: top;\n    }\n\n    .dataframe thead th {\n        text-align: right;\n    }\n</style>\n<table border=\"1\" class=\"dataframe\">\n  <thead>\n    <tr style=\"text-align: right;\">\n      <th></th>\n      <th>customer_id</th>\n      <th>Age</th>\n      <th>Employment_Type</th>\n      <th>A</th>\n      <th>Education_Level</th>\n      <th>Years_of_Education</th>\n      <th>Marital_Status</th>\n      <th>Job_Type</th>\n      <th>Household_Role</th>\n      <th>Ethnicity</th>\n      <th>...</th>\n      <th>Investment_Gain</th>\n      <th>Investment_Loss</th>\n      <th>Weekly_Work_Hours</th>\n      <th>Country_of_Residence</th>\n      <th>C</th>\n      <th>Preferred_Communication_Method</th>\n      <th>D</th>\n      <th>B</th>\n      <th>E</th>\n      <th>Loan_Approval</th>\n    </tr>\n  </thead>\n  <tbody>\n    <tr>\n      <th>0</th>\n      <td>115892</td>\n      <td>90.0</td>\n      <td>NaN</td>\n      <td>77053</td>\n      <td>HS-grad</td>\n      <td>9.0</td>\n      <td>Widowed</td>\n      <td>NaN</td>\n      <td>Not-in-family</td>\n      <td>White</td>\n      <td>...</td>\n      <td>0.0</td>\n      <td>4356.0</td>\n      <td>40</td>\n      <td>United-States</td>\n      <td>104.906221</td>\n      <td>Phone_Call</td>\n      <td>2.865629</td>\n      <td>NaN</td>\n      <td>170.887465</td>\n      <td>0</td>\n    </tr>\n    <tr>\n      <th>1</th>\n      <td>115893</td>\n      <td>82.0</td>\n      <td>Private</td>\n      <td>132870</td>\n      <td>HS-grad</td>\n      <td>9.0</td>\n      <td>Widowed</td>\n      <td>Exec-managerial</td>\n      <td>Not-in-family</td>\n      <td>White</td>\n      <td>...</td>\n      <td>0.0</td>\n      <td>4356.0</td>\n      <td>18</td>\n      <td>United-States</td>\n      <td>96.358501</td>\n      <td>mail</td>\n      <td>5.528583</td>\n      <td>NaN</td>\n      <td>156.630201</td>\n      <td>0</td>\n    </tr>\n    <tr>\n      <th>2</th>\n      <td>115895</td>\n      <td>54.0</td>\n      <td>Private</td>\n      <td>140359</td>\n      <td>7th-8th</td>\n      <td>4.0</td>\n      <td>Divorced</td>\n      <td>Machine-op-inspct</td>\n      <td>Unmarried</td>\n      <td>White</td>\n      <td>...</td>\n      <td>0.0</td>\n      <td>3900.0</td>\n      <td>40</td>\n      <td>United-States</td>\n      <td>115.529631</td>\n      <td>mail</td>\n      <td>3.816915</td>\n      <td>NaN</td>\n      <td>165.635557</td>\n      <td>0</td>\n    </tr>\n    <tr>\n      <th>3</th>\n      <td>115896</td>\n      <td>41.0</td>\n      <td>Private</td>\n      <td>264663</td>\n      <td>Some-college</td>\n      <td>10.0</td>\n      <td>Separated</td>\n      <td>Prof-specialty</td>\n      <td>Own-child</td>\n      <td>White</td>\n      <td>...</td>\n      <td>0.0</td>\n      <td>3900.0</td>\n      <td>40</td>\n      <td>United-States</td>\n      <td>85.732506</td>\n      <td>NaN</td>\n      <td>5.416363</td>\n      <td>NaN</td>\n      <td>123.379007</td>\n      <td>0</td>\n    </tr>\n    <tr>\n      <th>4</th>\n      <td>115897</td>\n      <td>34.0</td>\n      <td>Private</td>\n      <td>216864</td>\n      <td>HS-grad</td>\n      <td>9.0</td>\n      <td>Divorced</td>\n      <td>Other-service</td>\n      <td>Unmarried</td>\n      <td>White</td>\n      <td>...</td>\n      <td>NaN</td>\n      <td>3770.0</td>\n      <td>45</td>\n      <td>United-States</td>\n      <td>115.218443</td>\n      <td>Mail</td>\n      <td>6.453932</td>\n      <td>NaN</td>\n      <td>155.262131</td>\n      <td>0</td>\n    </tr>\n  </tbody>\n</table>\n<p>5 rows × 21 columns</p>\n</div>"
     },
     "execution_count": 163,
     "metadata": {},
     "output_type": "execute_result"
    }
   ],
   "source": [
    "import pandas as pd\n",
    "import numpy as np\n",
    "import matplotlib.pyplot as plt\n",
    "import seaborn as sns\n",
    "from sklearn.model_selection import train_test_split, KFold, cross_val_score\n",
    "from sklearn.metrics import confusion_matrix, roc_auc_score, roc_curve, classification_report\n",
    "import missingno as msno\n",
    "from sklearn.ensemble import RandomForestClassifier\n",
    "from sklearn.impute import SimpleImputer, KNNImputer\n",
    "from sklearn.preprocessing import OneHotEncoder, StandardScaler\n",
    "from sklearn.pipeline import Pipeline\n",
    "from sklearn.compose import ColumnTransformer\n",
    "from sklearn.pipeline import Pipeline\n",
    "from sklearn.pipeline          import Pipeline\n",
    "from sklearn.feature_selection import RFECV\n",
    "from sklearn.ensemble         import RandomForestClassifier\n",
    "from sklearn.model_selection   import StratifiedKFold\n",
    "from sklearn.feature_selection import RFE\n",
    "from sklearn.linear_model import LogisticRegression\n",
    "from sklearn.pipeline     import Pipeline\n",
    "from sklearn.linear_model import LogisticRegression\n",
    "from sklearn.model_selection import train_test_split, cross_val_score\n",
    "from sklearn.metrics      import classification_report, roc_auc_score\n",
    "\n",
    "\n",
    "\n",
    "# Load the data\n",
    "train = pd.read_csv('train.csv', na_values=[\"?\"])\n",
    "test = pd.read_csv('test.csv', na_values=[\"?\"])\n",
    "train.head()"
   ]
  },
  {
   "cell_type": "code",
   "execution_count": 164,
   "outputs": [],
   "source": [
    "# using the train test split function\n",
    "y = (train['Loan_Approval'])\n",
    "X = train.drop(columns=['Loan_Approval'])\n",
    "\n",
    "X_train, X_test, y_train, y_test = train_test_split(\n",
    "  X,y , random_state=104,test_size=0.2, shuffle=True)"
   ],
   "metadata": {
    "collapsed": false,
    "ExecuteTime": {
     "end_time": "2025-06-10T15:42:07.045025600Z",
     "start_time": "2025-06-10T15:42:06.892651400Z"
    }
   },
   "id": "80fe3c036c90554c"
  },
  {
   "cell_type": "markdown",
   "id": "1fafd0a08e17e5a7",
   "metadata": {},
   "source": [
    "## 2. Exploratory Data Analysis (EDA)\n",
    "_Let's understand the data structure, spot missing values, and explore correlations._\n",
    "\n"
   ]
  },
  {
   "cell_type": "code",
   "execution_count": 165,
   "id": "511a2b2c7c2410bf",
   "metadata": {
    "collapsed": false,
    "ExecuteTime": {
     "end_time": "2025-06-10T15:42:10.917292800Z",
     "start_time": "2025-06-10T15:42:10.890215500Z"
    }
   },
   "outputs": [
    {
     "name": "stdout",
     "output_type": "stream",
     "text": [
      "Training set dimensions: 22140 rows × 20 columns\n"
     ]
    }
   ],
   "source": [
    "n_rows,n_columns = X_train.shape\n",
    "print(f\"Training set dimensions: {n_rows} rows × {n_columns} columns\")"
   ]
  },
  {
   "cell_type": "code",
   "execution_count": 166,
   "id": "92e56be4784cad8a",
   "metadata": {
    "collapsed": false,
    "ExecuteTime": {
     "end_time": "2025-06-10T15:42:11.869490900Z",
     "start_time": "2025-06-10T15:42:11.801344400Z"
    }
   },
   "outputs": [
    {
     "data": {
      "text/plain": "         customer_id           Age             A  Years_of_Education  \\\ncount   22140.000000  22037.000000  2.214000e+04        21684.000000   \nmean   132218.508943     38.620502  1.897733e+05           10.067008   \nstd      9385.860241     13.644967  1.049739e+05            2.581366   \nmin    115892.000000     17.000000  1.376900e+04            1.000000   \n25%    124068.750000     28.000000  1.176830e+05            9.000000   \n50%    132273.500000     37.000000  1.786150e+05           10.000000   \n75%    140330.250000     48.000000  2.372398e+05           12.000000   \nmax    148452.000000     90.000000  1.366120e+06           16.000000   \n\n       Investment_Gain  Investment_Loss  Weekly_Work_Hours             C  \\\ncount     21480.000000     22116.000000       22140.000000  21256.000000   \nmean       1053.568948        85.700534          40.500407     99.933137   \nstd        7257.245757       400.523834          12.352449      9.973109   \nmin           0.000000         0.000000           1.000000     58.136513   \n25%           0.000000         0.000000          40.000000     93.197922   \n50%           0.000000         0.000000          40.000000     99.924856   \n75%           0.000000         0.000000          45.000000    106.660368   \nmax       99999.000000      4356.000000          99.000000    144.309842   \n\n                  D    B             E  \ncount  22140.000000  0.0  19516.000000  \nmean       4.982305  NaN    139.225455  \nstd        1.510376  NaN     13.770922  \nmin       -1.711896  NaN     82.675954  \n25%        3.966705  NaN    129.705568  \n50%        4.990908  NaN    139.083265  \n75%        5.995161  NaN    148.527468  \nmax       10.876204  NaN    199.134411  ",
      "text/html": "<div>\n<style scoped>\n    .dataframe tbody tr th:only-of-type {\n        vertical-align: middle;\n    }\n\n    .dataframe tbody tr th {\n        vertical-align: top;\n    }\n\n    .dataframe thead th {\n        text-align: right;\n    }\n</style>\n<table border=\"1\" class=\"dataframe\">\n  <thead>\n    <tr style=\"text-align: right;\">\n      <th></th>\n      <th>customer_id</th>\n      <th>Age</th>\n      <th>A</th>\n      <th>Years_of_Education</th>\n      <th>Investment_Gain</th>\n      <th>Investment_Loss</th>\n      <th>Weekly_Work_Hours</th>\n      <th>C</th>\n      <th>D</th>\n      <th>B</th>\n      <th>E</th>\n    </tr>\n  </thead>\n  <tbody>\n    <tr>\n      <th>count</th>\n      <td>22140.000000</td>\n      <td>22037.000000</td>\n      <td>2.214000e+04</td>\n      <td>21684.000000</td>\n      <td>21480.000000</td>\n      <td>22116.000000</td>\n      <td>22140.000000</td>\n      <td>21256.000000</td>\n      <td>22140.000000</td>\n      <td>0.0</td>\n      <td>19516.000000</td>\n    </tr>\n    <tr>\n      <th>mean</th>\n      <td>132218.508943</td>\n      <td>38.620502</td>\n      <td>1.897733e+05</td>\n      <td>10.067008</td>\n      <td>1053.568948</td>\n      <td>85.700534</td>\n      <td>40.500407</td>\n      <td>99.933137</td>\n      <td>4.982305</td>\n      <td>NaN</td>\n      <td>139.225455</td>\n    </tr>\n    <tr>\n      <th>std</th>\n      <td>9385.860241</td>\n      <td>13.644967</td>\n      <td>1.049739e+05</td>\n      <td>2.581366</td>\n      <td>7257.245757</td>\n      <td>400.523834</td>\n      <td>12.352449</td>\n      <td>9.973109</td>\n      <td>1.510376</td>\n      <td>NaN</td>\n      <td>13.770922</td>\n    </tr>\n    <tr>\n      <th>min</th>\n      <td>115892.000000</td>\n      <td>17.000000</td>\n      <td>1.376900e+04</td>\n      <td>1.000000</td>\n      <td>0.000000</td>\n      <td>0.000000</td>\n      <td>1.000000</td>\n      <td>58.136513</td>\n      <td>-1.711896</td>\n      <td>NaN</td>\n      <td>82.675954</td>\n    </tr>\n    <tr>\n      <th>25%</th>\n      <td>124068.750000</td>\n      <td>28.000000</td>\n      <td>1.176830e+05</td>\n      <td>9.000000</td>\n      <td>0.000000</td>\n      <td>0.000000</td>\n      <td>40.000000</td>\n      <td>93.197922</td>\n      <td>3.966705</td>\n      <td>NaN</td>\n      <td>129.705568</td>\n    </tr>\n    <tr>\n      <th>50%</th>\n      <td>132273.500000</td>\n      <td>37.000000</td>\n      <td>1.786150e+05</td>\n      <td>10.000000</td>\n      <td>0.000000</td>\n      <td>0.000000</td>\n      <td>40.000000</td>\n      <td>99.924856</td>\n      <td>4.990908</td>\n      <td>NaN</td>\n      <td>139.083265</td>\n    </tr>\n    <tr>\n      <th>75%</th>\n      <td>140330.250000</td>\n      <td>48.000000</td>\n      <td>2.372398e+05</td>\n      <td>12.000000</td>\n      <td>0.000000</td>\n      <td>0.000000</td>\n      <td>45.000000</td>\n      <td>106.660368</td>\n      <td>5.995161</td>\n      <td>NaN</td>\n      <td>148.527468</td>\n    </tr>\n    <tr>\n      <th>max</th>\n      <td>148452.000000</td>\n      <td>90.000000</td>\n      <td>1.366120e+06</td>\n      <td>16.000000</td>\n      <td>99999.000000</td>\n      <td>4356.000000</td>\n      <td>99.000000</td>\n      <td>144.309842</td>\n      <td>10.876204</td>\n      <td>NaN</td>\n      <td>199.134411</td>\n    </tr>\n  </tbody>\n</table>\n</div>"
     },
     "execution_count": 166,
     "metadata": {},
     "output_type": "execute_result"
    }
   ],
   "source": [
    "X_train.describe()"
   ]
  },
  {
   "cell_type": "code",
   "execution_count": 154,
   "id": "6bd74af3cb16574",
   "metadata": {
    "collapsed": false,
    "ExecuteTime": {
     "end_time": "2025-06-10T15:32:25.400199100Z",
     "start_time": "2025-06-10T15:32:25.342310300Z"
    }
   },
   "outputs": [
    {
     "name": "stdout",
     "output_type": "stream",
     "text": [
      "<class 'pandas.core.frame.DataFrame'>\n",
      "Index: 22140 entries, 336 to 8261\n",
      "Data columns (total 20 columns):\n",
      " #   Column                          Non-Null Count  Dtype  \n",
      "---  ------                          --------------  -----  \n",
      " 0   customer_id                     22140 non-null  int64  \n",
      " 1   Age                             22037 non-null  float64\n",
      " 2   Employment_Type                 20715 non-null  object \n",
      " 3   A                               22140 non-null  int64  \n",
      " 4   Education_Level                 22140 non-null  object \n",
      " 5   Years_of_Education              21684 non-null  float64\n",
      " 6   Marital_Status                  22140 non-null  object \n",
      " 7   Job_Type                        19437 non-null  object \n",
      " 8   Household_Role                  22140 non-null  object \n",
      " 9   Ethnicity                       19885 non-null  object \n",
      " 10  Gender                          22140 non-null  object \n",
      " 11  Investment_Gain                 21480 non-null  float64\n",
      " 12  Investment_Loss                 22116 non-null  float64\n",
      " 13  Weekly_Work_Hours               22140 non-null  int64  \n",
      " 14  Country_of_Residence            21727 non-null  object \n",
      " 15  Preferred_Communication_Method  21450 non-null  object \n",
      " 16  D                               22140 non-null  float64\n",
      " 17  E                               19516 non-null  float64\n",
      " 18  Net_Investment                  21456 non-null  float64\n",
      " 19  Log_Net_Investment              21456 non-null  float64\n",
      "dtypes: float64(8), int64(3), object(9)\n",
      "memory usage: 3.5+ MB\n"
     ]
    }
   ],
   "source": [
    "X_train.info()"
   ]
  },
  {
   "cell_type": "markdown",
   "id": "9f58dd8d06540027",
   "metadata": {
    "collapsed": false
   },
   "source": [
    "Column B is completely empty (100% missing), so we will remove it from the dataset.\n",
    "Several columns, such as Employment_Type, Job_Type and Ethnicity have a high percentage of missing values.\n",
    "We'll need to decide whether to fill them or drop them."
   ]
  },
  {
   "cell_type": "markdown",
   "id": "49bbe0e7870b3c7e",
   "metadata": {
    "collapsed": false
   },
   "source": [
    "_Visualizing the variables to check their distributions:_"
   ]
  },
  {
   "cell_type": "code",
   "execution_count": null,
   "id": "2f8d6bf1fc5b57f0",
   "metadata": {
    "collapsed": false
   },
   "outputs": [],
   "source": [
    "# Histograms and count plots of each explanatory variable\n",
    "for col in X_train.columns:\n",
    "    plt.figure(figsize=(15, 4))\n",
    "    \n",
    "    # For numeric variables\n",
    "    if pd.api.types.is_numeric_dtype(train[col]):\n",
    "        sns.histplot(train[col].dropna(), kde=True)\n",
    "        plt.title(f\"Distribution of {col}\")\n",
    "    \n",
    "    # For categorical variables \n",
    "    else:\n",
    "        sns.countplot(x=col, data=train, order=train[col].value_counts().index)\n",
    "        plt.xticks(rotation=45)\n",
    "        plt.title(f\"Countplot of {col}\")\n",
    "    \n",
    "    plt.tight_layout()\n",
    "    plt.show()"
   ]
  },
  {
   "cell_type": "code",
   "execution_count": null,
   "id": "42a31bcdb5f5d849",
   "metadata": {
    "collapsed": false
   },
   "outputs": [],
   "source": [
    "# Bar plots of approval rates for categorical variables\n",
    "\n",
    "categorical_vars = [\n",
    "    'Employment_Type', 'Education_Level', 'Marital_Status', 'Job_Type',\n",
    "    'Household_Role', 'Ethnicity', 'Gender', 'Country_of_Residence',\n",
    "    'Preferred_Communication_Method'\n",
    "]\n",
    "\n",
    "for col in categorical_vars:\n",
    "    plt.figure(figsize=(15, 4))\n",
    "    sns.barplot(x=col, y='Loan_Approval', data=train, estimator='mean', order=train[col].value_counts().index)\n",
    "    plt.xticks(rotation=45)\n",
    "    plt.title(f'Approval Rate by {col}')\n",
    "    plt.ylabel('Approval Rate (Mean of Loan_approval)')\n",
    "    plt.tight_layout()\n",
    "    plt.show()"
   ]
  },
  {
   "cell_type": "code",
   "execution_count": null,
   "id": "343249a9cee851ed",
   "metadata": {
    "ExecuteTime": {
     "end_time": "2025-06-03T14:12:12.820296800Z",
     "start_time": "2025-06-03T14:12:10.582051700Z"
    },
    "collapsed": false
   },
   "outputs": [],
   "source": [
    "#Box plots of approved vs. rejected for numerical variables\n",
    "train['Loan_Approval_str'] = train['Loan_Approval'].map({0: 'Rejected', 1: 'Approved'})\n",
    "\n",
    "# Remove columns that shouldn't be plotted\n",
    "numeric_cols = [col for col in train.select_dtypes(include='number').columns if col not in ['customer_id', 'Loan_Approval']]\n",
    "\n",
    "# Create one boxplot per feature vs Loan Approval\n",
    "for col in numeric_cols:\n",
    "    plt.figure(figsize=(6, 4))\n",
    "    sns.boxplot(x='Loan_Approval_str', y=col, data=train)\n",
    "    plt.title(f'{col} by Loan Approval')\n",
    "    plt.xlabel('Loan Approval')\n",
    "    plt.ylabel(col)\n",
    "    plt.tight_layout()\n",
    "    plt.show()"
   ]
  },
  {
   "cell_type": "markdown",
   "id": "3d570bc5e7054499",
   "metadata": {
    "collapsed": false
   },
   "source": [
    "## Part 2 - Data Processing\n",
    "\n",
    "1. **Normalize** all numeric features (e.g., StandardScaler).  \n",
    "2. **Handle outliers** (clip or winsorize based on IQR/Z‐score).  \n",
    "3. **Impute missing values** (median for numeric, “Unknown” for categorical).  \n",
    "4. **Encode categoricals** (one‐hot, frequency/target encoding, group rare).  \n",
    "5. **Select or reduce features** (feature importance, PCA, etc.).  \n",
    "6. **Generate any new features** (e.g., interaction terms, flags).  \n",
    "7. **Apply identical transforms to the test set**.  \n"
   ]
  },
  {
   "cell_type": "markdown",
   "id": "9e012bc51fce0e55",
   "metadata": {
    "collapsed": false
   },
   "source": [
    "**Key Insights from Feature Distributions**\n",
    "1. Employment_Type, Country_of_Residence and Ethnicity are highly imbalanced.\n",
    "To reduce sparsity and improve generalization, we will group the less frequent categories into broader, more meaningful groups.\n",
    "2. A is right-skewed, so a log transformation may help normalize its distribution.\n",
    "3. Investment_Gain and Investment_Loss are extremely skewed with large outliers, so a log transformation might help, and merging them into a single Net_Investment feature may provide a clearer signal.\n",
    "4. Preferred_Communication_Method has inconsistent values due to variations in capitalization and wording (e.g., \"Email\" vs \"email\"), so we unified similar values.\n",
    "5. Based on the approval rate bar plot for Household_Role, we observed clear patterns across the categories.\n",
    "We grouped them into three broader categories with similar approval behavior to simplify the feature and improve model stability.\n",
    "6. Column B is completely empty, so we decided to remove it.\n",
    "7.  We simplified the Country_of_Residence feature by grouping it into three categories: USA, Mexico, and Other. The vast majority of people were from the United States, and the approval rate among other countries wasn't very different.\n",
    "8.  We simplified the Employment_Type feature by grouping it into four categories: Private, not private and, and non-working.  The vast majority of people were private, and the noticeable difference in the approval rate was between non-private to non-working.\n",
    "\n"
   ]
  },
  {
   "cell_type": "code",
   "execution_count": null,
   "id": "4198104465d53ee8",
   "metadata": {
    "ExecuteTime": {
     "end_time": "2025-06-03T14:12:17.287022800Z",
     "start_time": "2025-06-03T14:12:15.531231Z"
    },
    "collapsed": false
   },
   "outputs": [],
   "source": [
    "#Creating a heatmap\n",
    "\n",
    "# Select only numeric columns\n",
    "numeric_df = train.select_dtypes(include='number')\n",
    "\n",
    "# Compute the correlation matrix\n",
    "correlation_matrix = numeric_df.corr()\n",
    "\n",
    "# Plot the heatmap\n",
    "plt.figure(figsize=(10, 8))\n",
    "sns.heatmap(correlation_matrix, annot=True, fmt=\".2f\", cmap=\"coolwarm\", square=True)\n",
    "plt.title(\"Correlation Heatmap\")\n",
    "plt.tight_layout()\n",
    "plt.show()"
   ]
  },
  {
   "cell_type": "code",
   "execution_count": 42,
   "id": "dd0e681b69d85555",
   "metadata": {
    "collapsed": false,
    "ExecuteTime": {
     "end_time": "2025-06-09T07:38:43.000189400Z",
     "start_time": "2025-06-09T07:38:42.936884Z"
    }
   },
   "outputs": [
    {
     "name": "stdout",
     "output_type": "stream",
     "text": [
      "Loan_Approval         1.000000\n",
      "Years_of_Education    0.335097\n",
      "Age                   0.234235\n",
      "Weekly_Work_Hours     0.226344\n",
      "Investment_Gain       0.223620\n",
      "Investment_Loss       0.152074\n",
      "E                     0.124523\n",
      "C                     0.010044\n",
      "D                     0.000003\n",
      "A                    -0.011856\n",
      "customer_id          -0.179697\n",
      "B                          NaN\n",
      "Name: Loan_Approval, dtype: float64\n"
     ]
    }
   ],
   "source": [
    "# Checking which variables are most correlated with Loan_approval (only linear) - this is the Loan_Approval row in the heatmap\n",
    "numeric_df = train.select_dtypes(include='number')\n",
    "correlations = numeric_df.corr()['Loan_Approval'].sort_values(ascending=False)\n",
    "print(correlations)"
   ]
  },
  {
   "cell_type": "markdown",
   "id": "18833f3e4451f9f",
   "metadata": {
    "collapsed": false
   },
   "source": [
    "**Key Insights from the heat map**\n",
    "C and E are highly correlated (r = 0.87), indicating redundancy.\n",
    "Neither has a strong linear correlation with the target, but E shows a slightly stronger signal (r = 0.125). Even though E has more missing values (as we will see later on), it’s still more useful, so we’ll keep E and drop C. "
   ]
  },
  {
   "cell_type": "markdown",
   "id": "dbba21d75f846898",
   "metadata": {
    "collapsed": false
   },
   "source": [
    "We checked for overlap between Employment_Type and Job_Type using a cross-tabulation heatmap.\n",
    "The results show no strong or consistent relationship between the two — most employment types are associated with a wide variety of job types.\n",
    "Therefore, we concluded that the two features capture distinct information and chose to keep both."
   ]
  },
  {
   "cell_type": "code",
   "execution_count": null,
   "id": "2c2ad593ba0cad71",
   "metadata": {
    "ExecuteTime": {
     "end_time": "2025-06-03T14:12:22.906157900Z",
     "start_time": "2025-06-03T14:12:21.749415700Z"
    },
    "collapsed": false
   },
   "outputs": [],
   "source": [
    "crosstab = pd.crosstab(train['Employment_Type'], train['Job_Type'], normalize='index')\n",
    "plt.figure(figsize=(14, 7))\n",
    "sns.heatmap(crosstab, cmap=\"Blues\", annot=True, fmt=\".2f\")\n",
    "plt.title(\"Employment Type vs Job Type\")\n",
    "plt.show()"
   ]
  },
  {
   "cell_type": "markdown",
   "id": "9018822c306ecfd1",
   "metadata": {
    "collapsed": false
   },
   "source": [
    "## 3. Data Preprocessing\n",
    "_Handle missing values, encode categorical features, normalize, etc._\n",
    "\n"
   ]
  },
  {
   "cell_type": "code",
   "execution_count": 132,
   "outputs": [
    {
     "data": {
      "text/plain": "                                missing_count  missing_pct\nJob_Type                                 2703        12.21\nE                                        2624        11.85\nEthnicity                                2255        10.19\nEmployment_Type                          1425         6.44\nPreferred_Communication_Method            690         3.12\nNet_Investment                            684         3.09\nLog_Net_Investment                        684         3.09\nInvestment_Gain                           660         2.98\nYears_of_Education                        456         2.06\nCountry_of_Residence                      413         1.87\nAge                                       103         0.47\nInvestment_Loss                            24         0.11",
      "text/html": "<div>\n<style scoped>\n    .dataframe tbody tr th:only-of-type {\n        vertical-align: middle;\n    }\n\n    .dataframe tbody tr th {\n        vertical-align: top;\n    }\n\n    .dataframe thead th {\n        text-align: right;\n    }\n</style>\n<table border=\"1\" class=\"dataframe\">\n  <thead>\n    <tr style=\"text-align: right;\">\n      <th></th>\n      <th>missing_count</th>\n      <th>missing_pct</th>\n    </tr>\n  </thead>\n  <tbody>\n    <tr>\n      <th>Job_Type</th>\n      <td>2703</td>\n      <td>12.21</td>\n    </tr>\n    <tr>\n      <th>E</th>\n      <td>2624</td>\n      <td>11.85</td>\n    </tr>\n    <tr>\n      <th>Ethnicity</th>\n      <td>2255</td>\n      <td>10.19</td>\n    </tr>\n    <tr>\n      <th>Employment_Type</th>\n      <td>1425</td>\n      <td>6.44</td>\n    </tr>\n    <tr>\n      <th>Preferred_Communication_Method</th>\n      <td>690</td>\n      <td>3.12</td>\n    </tr>\n    <tr>\n      <th>Net_Investment</th>\n      <td>684</td>\n      <td>3.09</td>\n    </tr>\n    <tr>\n      <th>Log_Net_Investment</th>\n      <td>684</td>\n      <td>3.09</td>\n    </tr>\n    <tr>\n      <th>Investment_Gain</th>\n      <td>660</td>\n      <td>2.98</td>\n    </tr>\n    <tr>\n      <th>Years_of_Education</th>\n      <td>456</td>\n      <td>2.06</td>\n    </tr>\n    <tr>\n      <th>Country_of_Residence</th>\n      <td>413</td>\n      <td>1.87</td>\n    </tr>\n    <tr>\n      <th>Age</th>\n      <td>103</td>\n      <td>0.47</td>\n    </tr>\n    <tr>\n      <th>Investment_Loss</th>\n      <td>24</td>\n      <td>0.11</td>\n    </tr>\n  </tbody>\n</table>\n</div>"
     },
     "execution_count": 132,
     "metadata": {},
     "output_type": "execute_result"
    }
   ],
   "source": [
    "missing = X_train.isnull().sum()\n",
    "missing_pct = (missing / len(X_train) * 100).round(2)\n",
    "pd.DataFrame({\n",
    "    \"missing_count\": missing,\n",
    "    \"missing_pct\": missing_pct\n",
    "}).query(\"missing_count > 0\").sort_values(\"missing_count\", ascending=False)"
   ],
   "metadata": {
    "collapsed": false,
    "ExecuteTime": {
     "end_time": "2025-06-10T15:21:05.193146500Z",
     "start_time": "2025-06-10T15:21:05.072682500Z"
    }
   },
   "id": "3861f894916d95e6"
  },
  {
   "cell_type": "markdown",
   "id": "114b5f5a38536405",
   "metadata": {
    "collapsed": false
   },
   "source": [
    "_Changes based on the key insights:_"
   ]
  },
  {
   "cell_type": "code",
   "execution_count": 167,
   "id": "e60c0335a6987d0f",
   "metadata": {
    "collapsed": false,
    "ExecuteTime": {
     "end_time": "2025-06-10T15:42:30.825940100Z",
     "start_time": "2025-06-10T15:42:30.812230900Z"
    }
   },
   "outputs": [],
   "source": [
    "# 1. Removing columns B and C\n",
    "X_train = X_train.drop(['B', 'C'], axis=1)\n",
    "X_test = X_test.drop(['B', 'C'], axis=1)\n",
    "n_columns -= 2"
   ]
  },
  {
   "cell_type": "markdown",
   "id": "61e56d34960f4a1f",
   "metadata": {
    "collapsed": false
   },
   "source": [
    "**Outlier Removal:**\n"
   ]
  },
  {
   "cell_type": "markdown",
   "id": "302e29eb6ba85257",
   "metadata": {
    "collapsed": false
   },
   "source": [
    "Based on our initial EDA (where we plotted boxplots and histograms in Part 1), we selected seven features—`net_investment_log`, `Weekly_Work_Hours`, `Years_of_Education`, `Age`, `A`, `D`, and `E`—for outlier removal. First, we computed and displayed the five-number summary (Min, Q1, Median, Q3, Max) for each to see which values lay far outside the interquartile range. For `net_investment_log`, we calculated its mean and standard deviation and removed any rows whose values fell beyond ±4 σ; this eliminated about 800 observations (≈3 % of the data), preserving most valid high-net-worth cases. For feature D, which had a narrow IQR, we trimmed any values outside \\[0, 9], its own 1.5·IQR boundaries. Since `Age` and `Years_of_Education` all fell within reasonable IQR bounds, we left them intact. After many attempts with E, we found that removing its outliers caused us to lose too much data—plus we don’t actually know what E represents and its extreme values aren’t that severe—so we decided to leave E as is. For A, we applied a log transform first (to normalize its skew) and then standardized using a 3 σ cutoff to remove only the most extreme log-values. Finally, because some applicants legitimately work long weeks, we removed only those `Weekly_Work_Hours` entries above the 99th percentile, ensuring genuine 60–80-hour records remain while the most extreme cases are excluded.\n"
   ]
  },
  {
   "cell_type": "code",
   "execution_count": 168,
   "id": "4703a09506da61a2",
   "metadata": {
    "collapsed": false,
    "ExecuteTime": {
     "end_time": "2025-06-10T15:42:40.686477800Z",
     "start_time": "2025-06-10T15:42:39.943611800Z"
    }
   },
   "outputs": [
    {
     "data": {
      "text/plain": "<Figure size 640x480 with 1 Axes>",
      "image/png": "[encoded data removed]"
     },
     "metadata": {},
     "output_type": "display_data"
    },
    {
     "data": {
      "text/plain": "Text(0.5, 1.0, 'Distribution of net_investment_log')"
     },
     "execution_count": 168,
     "metadata": {},
     "output_type": "execute_result"
    },
    {
     "data": {
      "text/plain": "<Figure size 640x480 with 1 Axes>",
      "image/png": "[encoded data removed]"
     },
     "metadata": {},
     "output_type": "display_data"
    }
   ],
   "source": [
    "train['log_gain'] = np.log2(train['Investment_Gain'] + 1)\n",
    "train['log_loss'] = np.log2(train['Investment_Loss'] + 1)\n",
    "train['net_investment_log'] = train['log_gain'] - train['log_loss']\n",
    "\n",
    "plt.hist(train['net_investment_log'])\n",
    "plt.show()\n",
    "\n",
    "sns.histplot(train['net_investment_log'].dropna(), kde=True)\n",
    "plt.title(f\"Distribution of net_investment_log\")"
   ]
  },
  {
   "cell_type": "code",
   "execution_count": 169,
   "id": "550d0b64-fc73-45c1-b2a5-5bfa6604174d",
   "metadata": {
    "ExecuteTime": {
     "end_time": "2025-06-10T15:42:54.446377600Z",
     "start_time": "2025-06-10T15:42:54.406058100Z"
    }
   },
   "outputs": [],
   "source": [
    "train[\"A_log\"] = np.log1p(train[\"A\"])"
   ]
  },
  {
   "cell_type": "code",
   "execution_count": 170,
   "id": "8bbb24080a5602fd",
   "metadata": {
    "collapsed": false,
    "ExecuteTime": {
     "end_time": "2025-06-10T15:42:55.909143400Z",
     "start_time": "2025-06-10T15:42:55.833362800Z"
    }
   },
   "outputs": [
    {
     "name": "stdout",
     "output_type": "stream",
     "text": [
      "                    Min   Q1  Median   Q3    Max\n",
      "net_investment_log  -12    0       0    0     17\n",
      "Weekly_Work_Hours     1   40      40   45     99\n",
      "Years_of_Education    1    9      10   12     16\n",
      "Age                  17   28      37   48     90\n",
      "A_log                 9   12      12   12     14\n",
      "D                    -2    4       5    6     11\n",
      "E                    83  130     139  148    199\n",
      "Investment_Gain       0    0       0    0  99999\n",
      "Investment_Loss       0    0       0    0   4356\n"
     ]
    }
   ],
   "source": [
    "# List of numeric features we care about\n",
    "features = [\n",
    "    \"net_investment_log\",\n",
    "    \"Weekly_Work_Hours\",\n",
    "    \"Years_of_Education\",\n",
    "    \"Age\",\n",
    "    \"A_log\",\n",
    "    \"D\",\n",
    "    \"E\",\n",
    "    \"Investment_Gain\",\n",
    "    \"Investment_Loss\"\n",
    "]\n",
    "\n",
    "# Compute the five‐number summary (min, Q1, median, Q3, max) for each feature\n",
    "summary = train[features].quantile([0.00, 0.25, 0.50, 0.75, 1.00]).T\n",
    "summary.columns = [\"Min\", \"Q1\", \"Median\", \"Q3\", \"Max\"]\n",
    "summary_int = summary.round(0).astype(int)\n",
    "\n",
    "print(summary_int)"
   ]
  },
  {
   "cell_type": "code",
   "execution_count": 171,
   "id": "d6f9d06c7bc96da0",
   "metadata": {
    "collapsed": false,
    "ExecuteTime": {
     "end_time": "2025-06-10T15:42:57.015409900Z",
     "start_time": "2025-06-10T15:42:56.967639700Z"
    }
   },
   "outputs": [],
   "source": [
    "# Remove outliers from 'net_investment_log' using 3 standard deviations\n",
    "mean_log = train[\"net_investment_log\"].mean()\n",
    "std_log  = train[\"net_investment_log\"].std()\n",
    "lower  = mean_log - 4 * std_log\n",
    "upper  = mean_log + 4 * std_log\n",
    "train = train[(train[\"net_investment_log\"] >= lower) & (train[\"net_investment_log\"] <= upper)]\n",
    "\n",
    "\n",
    "mean_A = train[\"A_log\"].mean()\n",
    "std_A  = train[\"A_log\"].std()\n",
    "lower_A  = mean_A - 3 * std_A\n",
    "upper_A  = mean_A + 3 * std_A\n",
    "train = train[(train[\"A_log\"] >= lower_A) & (train[\"A_log\"] <= upper_A)]\n",
    "\n",
    "\n",
    "# Keep only values between 1 and 9 for column 'D'\n",
    "train = train[(train[\"D\"] >= 0) & (train[\"D\"] <= 9)]"
   ]
  },
  {
   "cell_type": "code",
   "execution_count": 172,
   "id": "1d1b2fc564532a5a",
   "metadata": {
    "collapsed": false,
    "ExecuteTime": {
     "end_time": "2025-06-10T15:43:01.031451300Z",
     "start_time": "2025-06-10T15:43:00.963714400Z"
    }
   },
   "outputs": [
    {
     "name": "stdout",
     "output_type": "stream",
     "text": [
      "New max after filtering: 80\n",
      "99th percentile used as threshold: 80.0\n"
     ]
    }
   ],
   "source": [
    "# Compute 99th percentile\n",
    "p99 = train[\"Weekly_Work_Hours\"].quantile(0.99)\n",
    "\n",
    "# Remove rows where Weekly_Work_Hours > 99th percentile\n",
    "train = train[train[\"Weekly_Work_Hours\"] <= p99]\n",
    "\n",
    "# print new max for verification\n",
    "print(\"New max after filtering:\", train[\"Weekly_Work_Hours\"].max())\n",
    "print(\"99th percentile used as threshold:\", p99)"
   ]
  },
  {
   "cell_type": "code",
   "execution_count": 173,
   "id": "b96dd0317dd13695",
   "metadata": {
    "collapsed": false,
    "ExecuteTime": {
     "end_time": "2025-06-10T15:43:02.507874Z",
     "start_time": "2025-06-10T15:43:02.478042Z"
    }
   },
   "outputs": [
    {
     "data": {
      "text/plain": "(26389, 25)"
     },
     "execution_count": 173,
     "metadata": {},
     "output_type": "execute_result"
    }
   ],
   "source": [
    "train.shape"
   ]
  },
  {
   "cell_type": "markdown",
   "id": "bc2d245d3623b8e9",
   "metadata": {
    "collapsed": false
   },
   "source": [
    "This cell defines helper functions to collapse rarely seen categories into broader groups, reducing cardinality for certain columns.\n",
    "These functions prepare us to reduce the number of dummy columns later on when we one-hot encode."
   ]
  },
  {
   "cell_type": "code",
   "execution_count": 174,
   "id": "ea59906540420095",
   "metadata": {
    "collapsed": false,
    "ExecuteTime": {
     "end_time": "2025-06-10T15:43:12.547840600Z",
     "start_time": "2025-06-10T15:43:12.500274400Z"
    }
   },
   "outputs": [],
   "source": [
    "# ------------ Grouping functions ------------\n",
    "\n",
    "# Grouping Preferred_Communication_Method\n",
    "def group_pref_com(pref):\n",
    "    if pref == \"Mail\" or pref == \"mail\":\n",
    "        return \"Mail\"\n",
    "    if pref == \"Email\" or pref == \"email\":\n",
    "        return \"EMail\"\n",
    "    if pref == \"Phone\" or pref == \"phone\" or pref == \"phone call\":\n",
    "        return \"Phone\"\n",
    "    else:\n",
    "        return \"Other\"\n",
    "\n",
    "# Grouping Country_of_Residence\n",
    "def group_country(country):\n",
    "    if country == \"United-States\":\n",
    "        return \"USA\"\n",
    "    elif country == \"Mexico\":\n",
    "        return \"Mexico\"\n",
    "    else:\n",
    "        return \"Other\"\n",
    "    \n",
    "# Grouping Education_Level\n",
    "def group_education(edu):\n",
    "    pre_school = ['Preschool']\n",
    "    school = ['1st-4th', '5th-6th', '9th', '10th', '11th', '12th', '7th-8th']\n",
    "    post_hs = ['HS-grad', 'Some-college']\n",
    "    assoc = ['Assoc-voc', 'Assoc-acdm']\n",
    "    higher = ['Masters', 'Bachelors']\n",
    "    postgraduate = ['Doctorate', 'Prof-school']\n",
    "    \n",
    "    if edu in pre_school:\n",
    "        return 'pre_school'\n",
    "    elif edu in school:\n",
    "        return 'school'\n",
    "    elif edu in post_hs:\n",
    "        return 'post_hs'\n",
    "    elif edu in assoc:\n",
    "        return 'assoc'\n",
    "    elif edu in higher:\n",
    "        return 'higher'\n",
    "    elif edu in postgraduate:\n",
    "        return 'postgraduate'\n",
    "    else:\n",
    "        return 'Other'\n",
    "    \n",
    "# Grouping Household_role\n",
    "def group_household_role(role):\n",
    "    if role in ['Husband', 'Wife']:\n",
    "        return 'Spouse'\n",
    "    else:\n",
    "        return 'Other'\n",
    "\n",
    "# Grouping Employment_Type\n",
    "def group_employment(emp):\n",
    "    if emp == 'Private':\n",
    "        return 'Private'\n",
    "    elif emp in ['Self-emp-not-inc', 'Self-emp-inc', 'Local-gov', 'State-gov', 'Federal-gov']:\n",
    "        return 'Not-Private'\n",
    "    elif emp in ['Without-pay', 'Never-worked']:\n",
    "        return 'Non-working'\n",
    "    else:\n",
    "        return 'Other'\n",
    "    \n",
    "# Grouping Ethnicity:\n",
    "def group_ethnicity(eth):\n",
    "    if eth == 'White':\n",
    "        return 'White'\n",
    "    elif eth == 'Black':\n",
    "        return 'Black'\n",
    "    else:\n",
    "        return 'Other'\n",
    "    \n",
    "# 1. Mapping dictionary for Years_of_Education\n",
    "edu_to_years = {\n",
    "    'Preschool'    : 0,\n",
    "    '1st-4th'      : (1 + 2 + 3 + 4) / 4,\n",
    "    '5th-6th'      : 5.5,\n",
    "    '7th-8th'      : 7.5,\n",
    "    '9th'          : 9,\n",
    "    '10th'         : 10,\n",
    "    '11th'         : 11,\n",
    "    '12th'         : 12,\n",
    "    'HS-grad'      : 12,\n",
    "    'Some-college' : (12 + 13 + 14 + 15) / 4,\n",
    "    'Assoc-voc'    : 14,\n",
    "    'Assoc-acdm'   : 14,\n",
    "    'Bachelors'    : 16,\n",
    "    'Masters'      : 18,\n",
    "    'Prof-school'  : 19,\n",
    "    'Doctorate'    : 20\n",
    "}\n",
    "\n",
    "\n",
    "def group_edu_years(X):\n",
    "    # Ensure X is treated as a 2D array\n",
    "    arr = X.to_numpy()\n",
    "    \n",
    "    if arr.ndim != 2 or arr.shape[1] != 2:\n",
    "        raise ValueError(\"group_edu_years expects exactly 2 columns: [Years_of_Education, Education_Level]\")\n",
    "    \n",
    "    # Now arr[:, 0] and arr[:, 1] work as intended\n",
    "    raw_years   = pd.Series(arr[:, 0])\n",
    "    raw_levels  = pd.Series(arr[:, 1])\n",
    "    \n",
    "    # Map Education_Level → numeric years\n",
    "    mapped_years = raw_levels.map(edu_to_years)\n",
    "    \n",
    "    # Fill NaN in raw_years with mapped_years\n",
    "    filled = raw_years.fillna(mapped_years)\n",
    "    \n",
    "    # Return a single-column DataFrame\n",
    "    return filled.to_frame(name=\"Years_of_Education\")\n",
    "\n",
    "def group_job_type(job):\n",
    "    # 1. White-collar\n",
    "    white = {\n",
    "        \"Exec-managerial\", \n",
    "        \"Prof-specialty\", \n",
    "        \"Adm-clerical\", \n",
    "        \"Sales\", \n",
    "        \"Tech-support\"\n",
    "    }\n",
    "    # 2. Blue-collar\n",
    "    blue = {\n",
    "        \"Craft-repair\",\n",
    "        \"Machine-op-inspct\",\n",
    "        \"Transport-moving\",\n",
    "        \"Handlers-cleaners\",\n",
    "        \"Farming-fishing\",\n",
    "        \"Protective-serv\"\n",
    "    }\n",
    "    # 3. Service\n",
    "    service = {\n",
    "        \"Other-service\",\n",
    "        \"Priv-house-serv\"\n",
    "    }\n",
    "    # 4. Military\n",
    "    military = {\"Armed-forces\"}\n",
    "\n",
    "    if job in white:\n",
    "        return \"White-collar\"\n",
    "    elif job in blue:\n",
    "        return \"Blue-collar\"\n",
    "    elif job in service:\n",
    "        return \"Service\"\n",
    "    elif job in military:\n",
    "        return \"Military\"\n",
    "    else:\n",
    "        return \"Other\""
   ]
  },
  {
   "cell_type": "markdown",
   "id": "8957b7e82eb52d05",
   "metadata": {
    "collapsed": false
   },
   "source": [
    "\n",
    "In this cell, we apply each grouping function to the raw columns and create new “_grouped” columns in both train and test."
   ]
  },
  {
   "cell_type": "code",
   "execution_count": 175,
   "id": "323cef953dcfe6f8",
   "metadata": {
    "collapsed": false,
    "ExecuteTime": {
     "end_time": "2025-06-10T15:43:14.397947500Z",
     "start_time": "2025-06-10T15:43:14.373893Z"
    }
   },
   "outputs": [],
   "source": [
    "from sklearn.preprocessing import FunctionTransformer\n",
    "import pandas as pd\n",
    "\n",
    "# 1. Single-column groupers: convert X (which may be a 1-col DataFrame or 2D array shape (n,1))\n",
    "#    into a flat 1D array via X.to_numpy().ravel(), then map the scalar function.\n",
    "\n",
    "pref_com_group = FunctionTransformer(\n",
    "    func=lambda X: pd.Series(\n",
    "        X.to_numpy().ravel()\n",
    "    ).map(group_pref_com).to_frame(\"Preferred_Communication_Method\"),\n",
    "    validate=False\n",
    ")\n",
    "\n",
    "country_group = FunctionTransformer(\n",
    "    func=lambda X: pd.Series(\n",
    "        X.to_numpy().ravel()\n",
    "    ).map(group_country).to_frame(\"Country_of_Residence\"),\n",
    "    validate=False\n",
    ")\n",
    "\n",
    "edu_level_group = FunctionTransformer(\n",
    "    func=lambda X: pd.Series(\n",
    "        X.to_numpy().ravel()\n",
    "    ).map(group_education).to_frame(\"Education_Level_Mapped\"),\n",
    "    validate=False\n",
    ")\n",
    "\n",
    "house_hold_group = FunctionTransformer(\n",
    "    func=lambda X: pd.Series(\n",
    "        X.to_numpy().ravel()\n",
    "    ).map(group_household_role).to_frame(\"Household_Role\"),\n",
    "    validate=False\n",
    ")\n",
    "\n",
    "emp_type_group = FunctionTransformer(\n",
    "    func=lambda X: pd.Series(\n",
    "        X.to_numpy().ravel()\n",
    "    ).map(group_employment).to_frame(\"Employment_Type\"),\n",
    "    validate=False\n",
    ")\n",
    "\n",
    "ethnicity_group = FunctionTransformer(\n",
    "    func=lambda X: pd.Series(\n",
    "        X.to_numpy().ravel()\n",
    "    ).map(group_ethnicity).to_frame(\"Ethnicity\"),\n",
    "    validate=False\n",
    ")\n",
    "\n",
    "job_type_group = FunctionTransformer(\n",
    "    func=lambda X: pd.Series(\n",
    "        X.to_numpy().ravel()\n",
    "    ).map(group_job_type).to_frame(\"job_type\"),\n",
    "    validate=False\n",
    ")\n",
    "\n",
    "# 2. Two-column grouper: \n",
    "#    X will be shape (n_samples, 2), where column 0 = Years_of_Education,\n",
    "#    column 1 = Education_Level. We need to call group_edu_years on each row.\n",
    "\n",
    "edu_years_group = FunctionTransformer(\n",
    "    func=lambda X: group_edu_years(X),\n",
    "    validate=False\n",
    ")"
   ]
  },
  {
   "cell_type": "code",
   "execution_count": 176,
   "outputs": [
    {
     "data": {
      "text/plain": "Index(['customer_id', 'Age', 'Employment_Type', 'A', 'Education_Level',\n       'Years_of_Education', 'Marital_Status', 'Job_Type', 'Household_Role',\n       'Ethnicity', 'Gender', 'Investment_Gain', 'Investment_Loss',\n       'Weekly_Work_Hours', 'Country_of_Residence',\n       'Preferred_Communication_Method', 'D', 'E'],\n      dtype='object')"
     },
     "execution_count": 176,
     "metadata": {},
     "output_type": "execute_result"
    }
   ],
   "source": [
    "X_train.columns"
   ],
   "metadata": {
    "collapsed": false,
    "ExecuteTime": {
     "end_time": "2025-06-10T15:43:16.264527200Z",
     "start_time": "2025-06-10T15:43:16.231138300Z"
    }
   },
   "id": "3428d08eb68daa8c"
  },
  {
   "cell_type": "code",
   "execution_count": 177,
   "id": "ba45e67358850d1a",
   "metadata": {
    "collapsed": false,
    "ExecuteTime": {
     "end_time": "2025-06-10T15:43:17.197703300Z",
     "start_time": "2025-06-10T15:43:17.119668700Z"
    }
   },
   "outputs": [],
   "source": [
    "# ------------ pipelines ------------\n",
    "\n",
    "# Preferred_Communication_Method pipeline\n",
    "pref_pipeline = Pipeline([\n",
    "    ('group', pref_com_group),  \n",
    "    ('impute', SimpleImputer(strategy='constant', fill_value='Missing')),\n",
    "    ('onehot', OneHotEncoder(handle_unknown='ignore'))\n",
    "])\n",
    "\n",
    "# Country_of_Residence pipeline\n",
    "country_pipeline = Pipeline([\n",
    "    ('group', country_group),\n",
    "    ('impute', SimpleImputer(strategy='most_frequent')),  # or 'constant' if you prefer\n",
    "    ('onehot', OneHotEncoder(handle_unknown='ignore'))\n",
    "])\n",
    "\n",
    "# Education_Level pipeline\n",
    "edu_pipeline = Pipeline([\n",
    "    ('group', edu_level_group),\n",
    "    ('impute', SimpleImputer(strategy='constant', fill_value='Missing')),\n",
    "    ('onehot', OneHotEncoder(handle_unknown='ignore'))\n",
    "])\n",
    "\n",
    "# Employment_Type pipeline\n",
    "employment_pipeline = Pipeline([\n",
    "    ('group', emp_type_group),\n",
    "    ('impute', SimpleImputer(strategy='most_frequent')),\n",
    "    ('onehot', OneHotEncoder(handle_unknown='ignore'))\n",
    "])\n",
    "\n",
    "# Ethnicity pipeline\n",
    "ethnicity_pipeline = Pipeline([\n",
    "    ('group', ethnicity_group),\n",
    "    ('impute', SimpleImputer(strategy='constant', fill_value='Missing')),\n",
    "    ('onehot', OneHotEncoder(handle_unknown='ignore'))\n",
    "])\n",
    "\n",
    "# Household pipeline\n",
    "Household_pipeline = Pipeline([\n",
    "    ('group', house_hold_group),\n",
    "    ('impute', SimpleImputer(strategy='constant', fill_value='Missing')),\n",
    "    ('onehot', OneHotEncoder(handle_unknown='ignore'))\n",
    "])\n",
    "\n",
    "# Household pipeline\n",
    "job_type_pipeline = Pipeline([\n",
    "    ('group', job_type_group),\n",
    "    ('impute', SimpleImputer(strategy='constant', fill_value='Missing')),\n",
    "    ('onehot', OneHotEncoder(handle_unknown='ignore'))\n",
    "])\n",
    "\n",
    "# Years of education pipeline\n",
    "edu_years_pipeline = Pipeline([\n",
    "    ('fill_years', edu_years_group),\n",
    "    ('impute_years', SimpleImputer(strategy='mean')),\n",
    "    (\"scaler\", StandardScaler()), \n",
    "])\n",
    "\n",
    "\n",
    "# columns without special adjustments:\n",
    "categorical_col = ['Gender', 'Marital_Status', 'Job_Type', 'Employment_Type']\n",
    "numerical_col = ['E']\n",
    "skw_numerical_col = ['Age', 'Investment_Gain', 'Investment_Loss']\n",
    "\n",
    "# Pipeline for categorical features\n",
    "cat_pipeline = Pipeline([\n",
    "    ('imputer', SimpleImputer(strategy='constant', fill_value='Missing')),\n",
    "    ('encoder', OneHotEncoder(handle_unknown='ignore'))\n",
    "])\n",
    "\n",
    "# Pipeline for numerical features (mean imputation)\n",
    "num_pipeline = Pipeline([\n",
    "    ('imputer', SimpleImputer(strategy='mean')),\n",
    "    (\"scaler\", StandardScaler()), \n",
    "\n",
    "])\n",
    "\n",
    "# Pipeline for numerical features (median imputation) - for skewed columns\n",
    "skw_numerical_pipeline = Pipeline([\n",
    "    ('imputer', SimpleImputer(strategy='median')),\n",
    "    (\"scaler\", StandardScaler()), \n",
    "])\n",
    "\n",
    "\n",
    "# Combine pipelines into a ColumnTransformer\n",
    "preprocessor = ColumnTransformer([\n",
    "    ('pref_communication',       pref_pipeline,         ['Preferred_Communication_Method']),\n",
    "    ('country',    country_pipeline,      ['Country_of_Residence']),\n",
    "    ('edu_level',  edu_pipeline,          ['Education_Level']),\n",
    "    ('edu_years',  edu_years_pipeline,    ['Years_of_Education', 'Education_Level']),\n",
    "    ('employment_type', employment_pipeline,   ['Employment_Type']),\n",
    "    ('ethnicity',  ethnicity_pipeline,    ['Ethnicity']),\n",
    "    ('job_type',  job_type_pipeline,    ['Job_Type']),\n",
    "    ('household_role',  Household_pipeline,    ['Household_Role']),\n",
    "    ('cat',  cat_pipeline,          ['Gender', 'Marital_Status']), # Other categorical columns\n",
    "    ('num',  num_pipeline,          ['E', 'Log_Net_Investment']),                                                       # Simple numeric column\n",
    "    ('skw_num',    skw_numerical_pipeline,['Age', 'Investment_Gain', 'Investment_Loss', 'Net_Investment'])                # Skewed numeric columns    \n",
    "    ],\n",
    "    remainder=\"passthrough\"\n",
    "    # All remaining columns that were not specified in transformer. These columns don't need any transformation. This subset of columns is concatenated with the output of the transformers.\n",
    ")"
   ]
  },
  {
   "cell_type": "markdown",
   "source": [
    "## Feature Selection"
   ],
   "metadata": {
    "collapsed": false
   },
   "id": "ed970a516c24cd26"
  },
  {
   "cell_type": "code",
   "execution_count": 157,
   "id": "3a823090cd3b383",
   "metadata": {
    "collapsed": false,
    "ExecuteTime": {
     "end_time": "2025-06-10T15:35:51.358447900Z",
     "start_time": "2025-06-10T15:35:50.996148600Z"
    }
   },
   "outputs": [
    {
     "data": {
      "text/plain": "       Preferred_Communication_Method_EMail  \\\n336                                     0.0   \n25716                                   0.0   \n21766                                   0.0   \n4614                                    0.0   \n9414                                    0.0   \n\n       Preferred_Communication_Method_Mail  \\\n336                                    1.0   \n25716                                  0.0   \n21766                                  1.0   \n4614                                   1.0   \n9414                                   0.0   \n\n       Preferred_Communication_Method_Other  \\\n336                                     0.0   \n25716                                   0.0   \n21766                                   0.0   \n4614                                    0.0   \n9414                                    1.0   \n\n       Preferred_Communication_Method_Phone  Country_of_Residence_Mexico  \\\n336                                     0.0                          0.0   \n25716                                   1.0                          0.0   \n21766                                   0.0                          0.0   \n4614                                    0.0                          0.0   \n9414                                    0.0                          0.0   \n\n       Country_of_Residence_Other  Country_of_Residence_USA  \\\n336                           0.0                       1.0   \n25716                         0.0                       1.0   \n21766                         0.0                       1.0   \n4614                          0.0                       1.0   \n9414                          0.0                       1.0   \n\n       Education_Level_assoc  Education_Level_higher  Education_Level_post_hs  \\\n336                      0.0                     1.0                      0.0   \n25716                    0.0                     0.0                      1.0   \n21766                    1.0                     0.0                      0.0   \n4614                     0.0                     0.0                      1.0   \n9414                     0.0                     1.0                      0.0   \n\n       ...             E       Age  Investment_Gain  Investment_Loss  \\\n336    ...  1.401146e+00 -0.338856        -0.142953         4.724848   \n25716  ...  1.238649e-01  0.322260        -0.142953        -0.213855   \n21766  ...  2.198324e-15  0.101888        -0.142953        -0.213855   \n4614   ...  2.259913e-01 -0.118484        -0.142953        -0.213855   \n9414   ... -6.898521e-01  1.497579        -0.142953        -0.213855   \n\n       customer_id         A  Weekly_Work_Hours         D  Net_Investment  \\\n336       116293.0  189759.0               45.0  3.901100         -1977.0   \n25716     146164.0  323713.0               40.0  7.323579             0.0   \n21766     141506.0  119225.0               40.0  3.653778             0.0   \n4614      121327.0  349116.0               44.0  4.263327             0.0   \n9414      126985.0   75867.0               60.0  3.914996             0.0   \n\n       Log_Net_Investment  \n336            -10.949827  \n25716            0.000000  \n21766            0.000000  \n4614             0.000000  \n9414             0.000000  \n\n[5 rows x 55 columns]",
      "text/html": "<div>\n<style scoped>\n    .dataframe tbody tr th:only-of-type {\n        vertical-align: middle;\n    }\n\n    .dataframe tbody tr th {\n        vertical-align: top;\n    }\n\n    .dataframe thead th {\n        text-align: right;\n    }\n</style>\n<table border=\"1\" class=\"dataframe\">\n  <thead>\n    <tr style=\"text-align: right;\">\n      <th></th>\n      <th>Preferred_Communication_Method_EMail</th>\n      <th>Preferred_Communication_Method_Mail</th>\n      <th>Preferred_Communication_Method_Other</th>\n      <th>Preferred_Communication_Method_Phone</th>\n      <th>Country_of_Residence_Mexico</th>\n      <th>Country_of_Residence_Other</th>\n      <th>Country_of_Residence_USA</th>\n      <th>Education_Level_assoc</th>\n      <th>Education_Level_higher</th>\n      <th>Education_Level_post_hs</th>\n      <th>...</th>\n      <th>E</th>\n      <th>Age</th>\n      <th>Investment_Gain</th>\n      <th>Investment_Loss</th>\n      <th>customer_id</th>\n      <th>A</th>\n      <th>Weekly_Work_Hours</th>\n      <th>D</th>\n      <th>Net_Investment</th>\n      <th>Log_Net_Investment</th>\n    </tr>\n  </thead>\n  <tbody>\n    <tr>\n      <th>336</th>\n      <td>0.0</td>\n      <td>1.0</td>\n      <td>0.0</td>\n      <td>0.0</td>\n      <td>0.0</td>\n      <td>0.0</td>\n      <td>1.0</td>\n      <td>0.0</td>\n      <td>1.0</td>\n      <td>0.0</td>\n      <td>...</td>\n      <td>1.401146e+00</td>\n      <td>-0.338856</td>\n      <td>-0.142953</td>\n      <td>4.724848</td>\n      <td>116293.0</td>\n      <td>189759.0</td>\n      <td>45.0</td>\n      <td>3.901100</td>\n      <td>-1977.0</td>\n      <td>-10.949827</td>\n    </tr>\n    <tr>\n      <th>25716</th>\n      <td>0.0</td>\n      <td>0.0</td>\n      <td>0.0</td>\n      <td>1.0</td>\n      <td>0.0</td>\n      <td>0.0</td>\n      <td>1.0</td>\n      <td>0.0</td>\n      <td>0.0</td>\n      <td>1.0</td>\n      <td>...</td>\n      <td>1.238649e-01</td>\n      <td>0.322260</td>\n      <td>-0.142953</td>\n      <td>-0.213855</td>\n      <td>146164.0</td>\n      <td>323713.0</td>\n      <td>40.0</td>\n      <td>7.323579</td>\n      <td>0.0</td>\n      <td>0.000000</td>\n    </tr>\n    <tr>\n      <th>21766</th>\n      <td>0.0</td>\n      <td>1.0</td>\n      <td>0.0</td>\n      <td>0.0</td>\n      <td>0.0</td>\n      <td>0.0</td>\n      <td>1.0</td>\n      <td>1.0</td>\n      <td>0.0</td>\n      <td>0.0</td>\n      <td>...</td>\n      <td>2.198324e-15</td>\n      <td>0.101888</td>\n      <td>-0.142953</td>\n      <td>-0.213855</td>\n      <td>141506.0</td>\n      <td>119225.0</td>\n      <td>40.0</td>\n      <td>3.653778</td>\n      <td>0.0</td>\n      <td>0.000000</td>\n    </tr>\n    <tr>\n      <th>4614</th>\n      <td>0.0</td>\n      <td>1.0</td>\n      <td>0.0</td>\n      <td>0.0</td>\n      <td>0.0</td>\n      <td>0.0</td>\n      <td>1.0</td>\n      <td>0.0</td>\n      <td>0.0</td>\n      <td>1.0</td>\n      <td>...</td>\n      <td>2.259913e-01</td>\n      <td>-0.118484</td>\n      <td>-0.142953</td>\n      <td>-0.213855</td>\n      <td>121327.0</td>\n      <td>349116.0</td>\n      <td>44.0</td>\n      <td>4.263327</td>\n      <td>0.0</td>\n      <td>0.000000</td>\n    </tr>\n    <tr>\n      <th>9414</th>\n      <td>0.0</td>\n      <td>0.0</td>\n      <td>1.0</td>\n      <td>0.0</td>\n      <td>0.0</td>\n      <td>0.0</td>\n      <td>1.0</td>\n      <td>0.0</td>\n      <td>1.0</td>\n      <td>0.0</td>\n      <td>...</td>\n      <td>-6.898521e-01</td>\n      <td>1.497579</td>\n      <td>-0.142953</td>\n      <td>-0.213855</td>\n      <td>126985.0</td>\n      <td>75867.0</td>\n      <td>60.0</td>\n      <td>3.914996</td>\n      <td>0.0</td>\n      <td>0.000000</td>\n    </tr>\n  </tbody>\n</table>\n<p>5 rows × 55 columns</p>\n</div>"
     },
     "execution_count": 157,
     "metadata": {},
     "output_type": "execute_result"
    }
   ],
   "source": [
    "\n",
    "df_raw = X_train.copy()\n",
    "\n",
    "# Transform the data to get a NumPy array of size (n_samples, n_total_features)\n",
    "preprocessor.fit(df_raw)\n",
    "X_transformed = preprocessor.transform(df_raw)\n",
    "\n",
    "# 2. Build a list of all columns explicitly listed in the transformer specs\n",
    "listed_columns = []\n",
    "for _, _, cols in preprocessor.transformers_:\n",
    "    # 'cols' can be a list of column names or a slice object\n",
    "    if isinstance(cols, (list, tuple, np.ndarray)):\n",
    "        listed_columns.extend(list(cols))\n",
    "    # If it were a slice or boolean mask, you’d handle that here.\n",
    "    # In most typical uses, it's a list of strings.\n",
    "\n",
    "listed_columns = set(listed_columns)  # deduplicate\n",
    "\n",
    "# 3. Iterate again to collect output names for each transformer block\n",
    "feature_names = []\n",
    "\n",
    "for name, transformer, cols in preprocessor.transformers_:\n",
    "    # a) If the transformer is explicitly \"drop\", skip it\n",
    "    if transformer == \"drop\":\n",
    "        continue\n",
    "\n",
    "    # b) If the transformer is \"passthrough\", we'll handle it in step 4\n",
    "    #    Actually, ColumnTransformer never lists \"passthrough\" here;\n",
    "    #    remainder=\"passthrough\" is handled separately.\n",
    "    #    So we can ignore that case in this loop.\n",
    "\n",
    "    # c) Figure out the “final” estimator within this transformer\n",
    "    if isinstance(transformer, Pipeline):\n",
    "        final_step = transformer.steps[-1][1]\n",
    "    else:\n",
    "        final_step = transformer\n",
    "\n",
    "    # d) If the final step has get_feature_names_out, call it\n",
    "    if hasattr(final_step, \"get_feature_names_out\"):\n",
    "        try:\n",
    "            names_out = final_step.get_feature_names_out(cols)\n",
    "        except Exception:\n",
    "            # If it errors (e.g. SimpleImputer in older sklearn), fallback:\n",
    "            names_out = list(cols)  # one‐to‐one with input column(s)\n",
    "    else:\n",
    "        # If no get_feature_names_out, assume it returned exactly one column per input\n",
    "        names_out = list(cols)\n",
    "\n",
    "    feature_names.extend(names_out)\n",
    "\n",
    "# The feature_names list contains integer indices for passthrough columns.\n",
    "# We need to replace those integers with the actual column names from df_raw.\n",
    "\n",
    "fixed_feature_names = []\n",
    "for name in feature_names:\n",
    "    if isinstance(name, int):\n",
    "        # look up the real column name by positional index\n",
    "        fixed_feature_names.append(df_raw.columns[name])\n",
    "    else:\n",
    "        fixed_feature_names.append(name)\n",
    "fixed_feature_names.remove(\"Education_Level\")       # Appears twice because of the education mapping\n",
    "        \n",
    "\n",
    "\n",
    "# 6. Build a DataFrame \n",
    "processed_df = pd.DataFrame(\n",
    "    X_transformed, \n",
    "    columns=fixed_feature_names, \n",
    "    index=df_raw.index\n",
    ")\n",
    "\n",
    "processed_df.head()"
   ]
  },
  {
   "cell_type": "code",
   "execution_count": 162,
   "id": "f527c37104e62c78",
   "metadata": {
    "collapsed": false,
    "ExecuteTime": {
     "end_time": "2025-06-10T15:39:31.135249100Z",
     "start_time": "2025-06-10T15:39:31.061765800Z"
    }
   },
   "outputs": [
    {
     "name": "stdout",
     "output_type": "stream",
     "text": [
      "<class 'pandas.core.frame.DataFrame'>\n",
      "Index: 22140 entries, 336 to 8261\n",
      "Data columns (total 55 columns):\n",
      " #   Column                                Non-Null Count  Dtype  \n",
      "---  ------                                --------------  -----  \n",
      " 0   Preferred_Communication_Method_EMail  22140 non-null  float64\n",
      " 1   Preferred_Communication_Method_Mail   22140 non-null  float64\n",
      " 2   Preferred_Communication_Method_Other  22140 non-null  float64\n",
      " 3   Preferred_Communication_Method_Phone  22140 non-null  float64\n",
      " 4   Country_of_Residence_Mexico           22140 non-null  float64\n",
      " 5   Country_of_Residence_Other            22140 non-null  float64\n",
      " 6   Country_of_Residence_USA              22140 non-null  float64\n",
      " 7   Education_Level_assoc                 22140 non-null  float64\n",
      " 8   Education_Level_higher                22140 non-null  float64\n",
      " 9   Education_Level_post_hs               22140 non-null  float64\n",
      " 10  Education_Level_postgraduate          22140 non-null  float64\n",
      " 11  Education_Level_pre_school            22140 non-null  float64\n",
      " 12  Education_Level_school                22140 non-null  float64\n",
      " 13  Years_of_Education                    22140 non-null  float64\n",
      " 14  Employment_Type_Non-working           22140 non-null  float64\n",
      " 15  Employment_Type_Not-Private           22140 non-null  float64\n",
      " 16  Employment_Type_Other                 22140 non-null  float64\n",
      " 17  Employment_Type_Private               22140 non-null  float64\n",
      " 18  Ethnicity_Black                       22140 non-null  float64\n",
      " 19  Ethnicity_Other                       22140 non-null  float64\n",
      " 20  Ethnicity_White                       22140 non-null  float64\n",
      " 21  Job_Type_Blue-collar                  22140 non-null  float64\n",
      " 22  Job_Type_Other                        22140 non-null  float64\n",
      " 23  Job_Type_Service                      22140 non-null  float64\n",
      " 24  Job_Type_White-collar                 22140 non-null  float64\n",
      " 25  Household_Role_Other                  22140 non-null  float64\n",
      " 26  Household_Role_Spouse                 22140 non-null  float64\n",
      " 27  Gender_Female                         22140 non-null  float64\n",
      " 28  Gender_Male                           22140 non-null  float64\n",
      " 29  Marital_Status_Divorced               22140 non-null  float64\n",
      " 30  Marital_Status_Married-AF-spouse      22140 non-null  float64\n",
      " 31  Marital_Status_Married-civ-spouse     22140 non-null  float64\n",
      " 32  Marital_Status_Married-spouse-absent  22140 non-null  float64\n",
      " 33  Marital_Status_Never-married          22140 non-null  float64\n",
      " 34  Marital_Status_Separated              22140 non-null  float64\n",
      " 35  Marital_Status_Widowed                22140 non-null  float64\n",
      " 36  Employment_Type_Federal-gov           22140 non-null  float64\n",
      " 37  Employment_Type_Local-gov             22140 non-null  float64\n",
      " 38  Employment_Type_Missing               22140 non-null  float64\n",
      " 39  Employment_Type_Never-worked          22140 non-null  float64\n",
      " 40  Employment_Type_Private               22140 non-null  float64\n",
      " 41  Employment_Type_Self-emp-inc          22140 non-null  float64\n",
      " 42  Employment_Type_Self-emp-not-inc      22140 non-null  float64\n",
      " 43  Employment_Type_State-gov             22140 non-null  float64\n",
      " 44  Employment_Type_Without-pay           22140 non-null  float64\n",
      " 45  E                                     22140 non-null  float64\n",
      " 46  Age                                   22140 non-null  float64\n",
      " 47  Investment_Gain                       22140 non-null  float64\n",
      " 48  Investment_Loss                       22140 non-null  float64\n",
      " 49  customer_id                           22140 non-null  float64\n",
      " 50  A                                     22140 non-null  float64\n",
      " 51  Weekly_Work_Hours                     22140 non-null  float64\n",
      " 52  D                                     22140 non-null  float64\n",
      " 53  Net_Investment                        21456 non-null  float64\n",
      " 54  Log_Net_Investment                    21456 non-null  float64\n",
      "dtypes: float64(55)\n",
      "memory usage: 9.5 MB\n"
     ]
    }
   ],
   "source": [
    "#processed_df.head()\n",
    "processed_df.info()"
   ]
  },
  {
   "cell_type": "code",
   "execution_count": null,
   "outputs": [],
   "source": [],
   "metadata": {
    "collapsed": false
   },
   "id": "7885212f5581e64f"
  },
  {
   "cell_type": "code",
   "execution_count": null,
   "id": "48f4c60bd8cde565",
   "metadata": {
    "collapsed": false
   },
   "outputs": [],
   "source": [
    "#AAAAAAAAAAAAAAAAAAAAAAAAAAAAAAAAAAAAAAAAAAAAAAAAAAAAAAAAAAAAAAAAAAAAAAAAAAAAAAAAAAAAAAAAAAAAAAAAAAAAAAAAAAAAAAAAAAAAAAAAAAAAAAAA"
   ]
  },
  {
   "cell_type": "code",
   "execution_count": 178,
   "id": "572f1caebdf1dfa5",
   "metadata": {
    "collapsed": false,
    "ExecuteTime": {
     "end_time": "2025-06-10T15:43:25.355351100Z",
     "start_time": "2025-06-10T15:43:24.064047500Z"
    }
   },
   "outputs": [
    {
     "data": {
      "text/plain": "<Figure size 1200x400 with 2 Axes>",
      "image/png": "[encoded data removed]"
     },
     "metadata": {},
     "output_type": "display_data"
    },
    {
     "data": {
      "text/plain": "<Figure size 1200x400 with 2 Axes>",
      "image/png": "[encoded data removed]"
     },
     "metadata": {},
     "output_type": "display_data"
    }
   ],
   "source": [
    "#Doing a log transformation while still distinguishing losses vs. gains.\n",
    "X_train['Net_Investment'] = X_train['Investment_Gain'] - X_train['Investment_Loss']\n",
    "X_test['Net_Investment'] = X_test['Investment_Gain'] - test['Investment_Loss']\n",
    "\n",
    "X_train['Log_Net_Investment'] = np.sign(X_train['Net_Investment']) * np.log2(abs(X_train['Net_Investment']) + 1)\n",
    "X_test['Log_Net_Investment'] = np.sign(X_test['Net_Investment']) * np.log2(abs(X_test['Net_Investment']) + 1)\n",
    "\n",
    "\n",
    "# Side-by-side boxplots \n",
    "fig, axes = plt.subplots(1, 2, figsize=(12, 4))\n",
    "sns.boxplot(x=X_train['Net_Investment'], ax=axes[0])\n",
    "axes[0].set_title('Original Net_Investment')\n",
    "axes[0].set_xlabel('Net_Investment')\n",
    "\n",
    "sns.boxplot(x=X_train['Log_Net_Investment'], ax=axes[1])\n",
    "axes[1].set_title('Log-Transformed Net_Investment')\n",
    "axes[1].set_xlabel('Log_Net_Investment')\n",
    "\n",
    "plt.tight_layout()\n",
    "plt.show()\n",
    "\n",
    "# Side-by-side histograms\n",
    "fig, axes = plt.subplots(1, 2, figsize=(12, 4))\n",
    "sns.histplot(X_train['Net_Investment'].dropna(), kde=True, ax=axes[0])\n",
    "axes[0].set_title('Distribution of Net_Investment')\n",
    "axes[0].set_xlabel('Net_Investment')\n",
    "\n",
    "sns.histplot(X_train['Log_Net_Investment'].dropna(), kde=True, ax=axes[1])\n",
    "axes[1].set_title('Distribution of Log-Transformed Net_Investment')\n",
    "axes[1].set_xlabel('Log_Net_Investment')\n",
    "\n",
    "plt.tight_layout()\n",
    "plt.show()"
   ]
  },
  {
   "cell_type": "markdown",
   "id": "dcc19d2573d9a90b",
   "metadata": {
    "collapsed": false
   },
   "source": [
    "We applied a log transformation to Net_Investment to reduce skew and compress extreme outliers.\n",
    "The resulting distribution is more symmetric, so we will keep it.\n"
   ]
  },
  {
   "cell_type": "markdown",
   "id": "dcaf1ff96686fb72",
   "metadata": {
    "collapsed": false
   },
   "source": [
    "We applied a log transformation to column A to reduce skew and potentially improve its relationship with the target.\n",
    "However, the correlation with Loan_Approval remained low, so we won't use it."
   ]
  },
  {
   "cell_type": "code",
   "execution_count": 104,
   "id": "1d1ac20a311400d4",
   "metadata": {
    "collapsed": false,
    "ExecuteTime": {
     "end_time": "2025-06-10T14:57:15.598628200Z",
     "start_time": "2025-06-10T14:57:15.545675500Z"
    }
   },
   "outputs": [
    {
     "data": {
      "text/plain": "'\\nnumeric_df = processed_df.select_dtypes(include=\"number\")\\n\\n# 2) Select all numeric columns (which now includes features + the target):\\nnumeric_df = processed_df.select_dtypes(include=\"number\")\\n\\n# 3) Compute Pearson correlations against Loan_Approval:\\ncorrs = numeric_df.corr()[\"Loan_Approval\"].sort_values(ascending=False)\\nprint(corrs)\\n'"
     },
     "execution_count": 104,
     "metadata": {},
     "output_type": "execute_result"
    }
   ],
   "source": [
    "#BRING BACK AFTER!!!! AFTER PIPELINES TO CHECK THE FEATURE SELECTION!!!\n",
    "\n",
    "\n",
    "'''\n",
    "numeric_df = processed_df.select_dtypes(include=\"number\")\n",
    "\n",
    "# 2) Select all numeric columns (which now includes features + the target):\n",
    "numeric_df = processed_df.select_dtypes(include=\"number\")\n",
    "\n",
    "# 3) Compute Pearson correlations against Loan_Approval:\n",
    "corrs = numeric_df.corr()[\"Loan_Approval\"].sort_values(ascending=False)\n",
    "print(corrs)\n",
    "'''"
   ]
  },
  {
   "cell_type": "markdown",
   "id": "bfde1cd4ed56b68c",
   "metadata": {
    "collapsed": false
   },
   "source": [
    "AAAAAAAAAAAAAAAAAAAAAAAAAAAAAAAAAAAAAAAAAAAAAAAAAAAAAAAAAAAAAAAAAAAAAAAAAAAAAAAAAAAAAAAAAAAAAAAAAAAAAAAAAAAAAAAAAAAAAAAAAAAAAAAAAAAAAAAAAAAAAAAAAAAAAAAAAAAAAAAAAAAAAAAAAAAAAAAAAAAAAAAAAAAAAAAAAAAAAAAAAAAAAAAAAAAAAAAAAAAAAAAAAAAAAAAAAAAAAAAAAAAAAAAAAAAAAAAAAAAAAAAAAAAAAAAAAAAAAAAAAAAAAAAAAAAAAAAAAAAAAAAAAAAAAAAAAAAAAAAAAAAAAAAAAAAAAAAAAAAA"
   ]
  },
  {
   "cell_type": "markdown",
   "id": "bf48a146eca499fc",
   "metadata": {
    "collapsed": false
   },
   "source": [
    "Creating boolean masks to understand if the data is missed randomly or not."
   ]
  },
  {
   "cell_type": "code",
   "execution_count": 105,
   "outputs": [],
   "source": [
    "#TAMAR - FIX AFTER\n",
    "# 1. Create a boolean mask for missingness - job type\n",
    "mask_Job_Type = X_train['Job_Type'].isna()            # True where missing\n",
    "train['MissingFlag_Job_Type'] = mask_Job_Type.map({True: 'Missing', False: 'Present'})\n",
    "\n",
    "# 2. Summary statistics for numeric vars\n",
    "numeric_cols = ['Log_Net_Investment']\n",
    "#numeric_cols = ['Age', 'Years_of_Education', 'Weekly_Work_Hours', 'Net_Investment', 'A', 'D', 'E']\n",
    "print(train.groupby('MissingFlag_Job_Type')[numeric_cols].describe().unstack(1))\n",
    "\n",
    "# bring back after - just sick of the big graphs.\n",
    "# 4. Frequencies for other categorical vars\n",
    "cat_cols = ['Marital_Status', 'Household_Role', ]\n",
    "for col in cat_cols:\n",
    "    freq = pd.crosstab(train['MissingFlag_Job_Type'], train[col], normalize='index')\n",
    "    print(f'\\nRelative frequency of {col}:\\n', freq)\n",
    "    freq.plot.bar(stacked=True)\n",
    "    plt.title(f'{col} by missingness')\n",
    "    plt.ylabel('Proportion')\n",
    "    plt.show()"
   ],
   "metadata": {
    "collapsed": false
   },
   "id": "90178773caacf0f3"
  },
  {
   "cell_type": "code",
   "execution_count": 108,
   "outputs": [],
   "source": [
    "\n",
    "\n",
    "\n",
    "# 1. Create a boolean mask for missingness with Investment_Gain to see if we can delete it to use YJ\n",
    "mask_Investment_Gain = X_train['Investment_Gain'].isna()            # True where missing\n",
    "X_train['MissingFlag_Investment_Gain'] = mask_Investment_Gain.map({True: 'Missing', False: 'Present'})\n",
    "\n",
    "# 2. Summary statistics for numeric vars\n",
    "numeric_cols = ['E']\n",
    "#numeric_cols = ['Age', 'Years_of_Education', 'Weekly_Work_Hours', 'A', 'D', 'E']\n",
    "print(train.groupby('MissingFlag_Investment_Gain')[numeric_cols].describe().unstack(1))\n",
    "\n",
    "\n",
    "''' bring back after - just sick of the big graphs.\n",
    "\n",
    "# 4. Frequencies for other categorical vars\n",
    "cat_cols = ['Marital_Status', 'Household_Role', ]\n",
    "for col in cat_cols:\n",
    "    freq = pd.crosstab(train['MissingFlag_Investment_Gain'], train[col], normalize='index')\n",
    "    print(f'\\nRelative frequency of {col}:\\n', freq)\n",
    "    freq.plot.bar(stacked=True)\n",
    "    plt.title(f'{col} by missingness')\n",
    "    plt.ylabel('Proportion')\n",
    "    plt.show()\n",
    "'''"
   ],
   "metadata": {
    "collapsed": false
   },
   "id": "4ec05495035e859f"
  },
  {
   "cell_type": "code",
   "execution_count": null,
   "outputs": [],
   "source": [
    "# 1. Create a boolean mask for missingness with Ethnicity\n",
    "mask_Ethnicity = train['Ethnicity'].isna()            # True where missing\n",
    "train['MissingFlag_Ethnicity'] = mask_Ethnicity.map({True: 'Missing', False: 'Present'})\n",
    "\n",
    "# 2. Summary statistics for numeric vars\n",
    "numeric_cols = ['D']\n",
    "#numeric_cols = ['Age', 'Years_of_Education', 'Weekly_Work_Hours', 'A', 'D', 'E']\n",
    "print(train.groupby('MissingFlag_Ethnicity')[numeric_cols].describe().unstack(1))\n",
    "\n",
    "'''\n",
    "#bring back after - just sick of the big graphs.\n",
    "\n",
    "# 4. Frequencies for other categorical vars\n",
    "cat_cols = ['Marital_Status', 'Household_Role', 'Employment_Type', 'Job_Type', 'Gender', 'Country_of_Residence', 'Preferred_Communication_Method']\n",
    "for col in cat_cols:\n",
    "    freq = pd.crosstab(train['MissingFlag_Ethnicity'], train[col], normalize='index')\n",
    "    print(f'\\nRelative frequency of {col}:\\n', freq)\n",
    "    freq.plot.bar(stacked=True)\n",
    "    plt.title(f'{col} by missingness')\n",
    "    plt.ylabel('Proportion')\n",
    "    plt.show()\n",
    "'''"
   ],
   "metadata": {
    "collapsed": false
   },
   "id": "8bffe75d52c78054"
  },
  {
   "cell_type": "code",
   "execution_count": null,
   "outputs": [],
   "source": [
    "# 1. Create a boolean mask for missingness with Ethnicity\n",
    "mask_Ethnicity = train['Preferred_Communication_Method'].isna()            # True where missing\n",
    "train['MissingFlag_Ethnicity'] = mask_Ethnicity.map({True: 'Missing', False: 'Present'})\n",
    "\n",
    "# 2. Summary statistics for numeric vars\n",
    "numeric_cols = ['Weekly_Work_Hours']\n",
    "#numeric_cols = ['Age', 'Years_of_Education', 'Weekly_Work_Hours', 'A', 'D', 'E']\n",
    "print(train.groupby('MissingFlag_Ethnicity')[numeric_cols].describe().unstack(1))\n",
    "\n",
    "'''\n",
    "#bring back after - just sick of the big graphs.\n",
    "\n",
    "# 4. Frequencies for other categorical vars\n",
    "cat_cols = ['Marital_Status', 'Household_Role', 'Employment_Type', 'Job_Type', 'Gender', 'Country_of_Residence', 'Preferred_Communication_Method']\n",
    "for col in cat_cols:\n",
    "    freq = pd.crosstab(train['MissingFlag_Ethnicity'], train[col], normalize='index')\n",
    "    print(f'\\nRelative frequency of {col}:\\n', freq)\n",
    "    freq.plot.bar(stacked=True)\n",
    "    plt.title(f'{col} by missingness')\n",
    "    plt.ylabel('Proportion')\n",
    "    plt.show()\n",
    "'''"
   ],
   "metadata": {
    "collapsed": false
   },
   "id": "ebcdeacd8c6f8288"
  },
  {
   "cell_type": "code",
   "execution_count": null,
   "outputs": [],
   "source": [
    "# 1. Create a boolean mask for Job type with Ethnicity\n",
    "mask_Ethnicity = train['Job_Type'].isna()            # True where missing\n",
    "train['MissingFlag_Ethnicity'] = mask_Ethnicity.map({True: 'Missing', False: 'Present'})\n",
    "\n",
    "# 2. Summary statistics for numeric vars\n",
    "numeric_cols = ['Weekly_Work_Hours']\n",
    "#numeric_cols = ['Age', 'Years_of_Education', 'Weekly_Work_Hours', 'A', 'D', 'E']\n",
    "print(train.groupby('MissingFlag_Ethnicity')[numeric_cols].describe().unstack(1))\n",
    "\n",
    "'''\n",
    "#bring back after - just sick of the big graphs.\n",
    "\n",
    "# 4. Frequencies for other categorical vars\n",
    "cat_cols = ['Marital_Status', 'Household_Role', 'Employment_Type', 'Job_Type', 'Gender', 'Country_of_Residence', 'Preferred_Communication_Method']\n",
    "for col in cat_cols:\n",
    "    freq = pd.crosstab(train['MissingFlag_Ethnicity'], train[col], normalize='index')\n",
    "    print(f'\\nRelative frequency of {col}:\\n', freq)\n",
    "    freq.plot.bar(stacked=True)\n",
    "    plt.title(f'{col} by missingness')\n",
    "    plt.ylabel('Proportion')\n",
    "    plt.show()\n",
    "'''"
   ],
   "metadata": {
    "collapsed": false
   },
   "id": "dc682854a7545428"
  },
  {
   "cell_type": "code",
   "execution_count": null,
   "outputs": [],
   "source": [
    "# 1. Create a boolean mask for missingness with Ethnicity\n",
    "mask_Ethnicity = train['Employment_Type'].isna()            # True where missing\n",
    "train['MissingFlag_Ethnicity'] = mask_Ethnicity.map({True: 'Missing', False: 'Present'})\n",
    "\n",
    "# 2. Summary statistics for numeric vars\n",
    "numeric_cols = ['Weekly_Work_Hours']\n",
    "#numeric_cols = ['Age', 'Years_of_Education', 'Weekly_Work_Hours', 'A', 'D', 'E']\n",
    "print(train.groupby('MissingFlag_Ethnicity')[numeric_cols].describe().unstack(1))\n",
    "\n",
    "'''\n",
    "#bring back after - just sick of the big graphs.\n",
    "\n",
    "# 4. Frequencies for other categorical vars\n",
    "cat_cols = ['Marital_Status', 'Household_Role', 'Employment_Type', 'Job_Type', 'Gender', 'Country_of_Residence', 'Preferred_Communication_Method']\n",
    "for col in cat_cols:\n",
    "    freq = pd.crosstab(train['MissingFlag_Ethnicity'], train[col], normalize='index')\n",
    "    print(f'\\nRelative frequency of {col}:\\n', freq)\n",
    "    freq.plot.bar(stacked=True)\n",
    "    plt.title(f'{col} by missingness')\n",
    "    plt.ylabel('Proportion')\n",
    "    plt.show()\n",
    "'''"
   ],
   "metadata": {
    "collapsed": false
   },
   "id": "2f9d561e22c26d01"
  },
  {
   "cell_type": "markdown",
   "id": "edac95e97289ad40",
   "metadata": {
    "collapsed": false
   },
   "source": [
    "Based on our initial EDA (where we plotted boxplots and histograms in Part 1), we selected seven features—`net_investment_log`, `Weekly_Work_Hours`, `Years_of_Education`, `Age`, `A`, `D`, and `E`—for outlier removal. First, we computed and displayed the five-number summary (Min, Q1, Median, Q3, Max) for each to see which values lay far outside the interquartile range. For `net_investment_log`, we then calculated its mean and standard deviation and removed any rows whose values fell beyond ± 4 σ; this eliminates only about 800 observations (≈ 3 % of the data), preserving most valid high-net-worth cases. For the anonymous columns A and E, we used the IQR rule and deleted any rows outside \\[Q1 − 1.5·IQR, Q3 + 1.5·IQR]. Feature D  which had a narrow IQR was trimmed for any value outside \\[1, 9] (its 1.5·IQR boundaries) was removed. Since `Age` and `Years_of_Education` fell entirely within reasonable IQR bounds, we left them intact. Finally, because some applicants truly work long hours, we decided to remove (rather than cap) only those `Weekly_Work_Hours` values above the 99th percentile, ensuring that genuine 60–80-hour workweeks remain in the data while the most extreme outliers are excluded."
   ]
  },
  {
   "cell_type": "markdown",
   "source": [
    "## 4. Feature Selection\n"
   ],
   "metadata": {
    "collapsed": false
   },
   "id": "49351592f8676b32"
  },
  {
   "cell_type": "code",
   "execution_count": 151,
   "outputs": [
    {
     "ename": "KeyboardInterrupt",
     "evalue": "",
     "output_type": "error",
     "traceback": [
      "\u001B[1;31m---------------------------------------------------------------------------\u001B[0m",
      "\u001B[1;31mKeyboardInterrupt\u001B[0m                         Traceback (most recent call last)",
      "Cell \u001B[1;32mIn[151], line 28\u001B[0m\n\u001B[0;32m     17\u001B[0m pipeline \u001B[38;5;241m=\u001B[39m Pipeline([\n\u001B[0;32m     18\u001B[0m     (\u001B[38;5;124m'\u001B[39m\u001B[38;5;124mfeature_sel\u001B[39m\u001B[38;5;124m'\u001B[39m, rfecv),\n\u001B[0;32m     19\u001B[0m     (\u001B[38;5;124m'\u001B[39m\u001B[38;5;124mclf\u001B[39m\u001B[38;5;124m'\u001B[39m,             LogisticRegression(\n\u001B[1;32m   (...)\u001B[0m\n\u001B[0;32m     24\u001B[0m     ))\n\u001B[0;32m     25\u001B[0m ])\n\u001B[0;32m     27\u001B[0m \u001B[38;5;66;03m# Fit it\u001B[39;00m\n\u001B[1;32m---> 28\u001B[0m \u001B[43mpipeline\u001B[49m\u001B[38;5;241;43m.\u001B[39;49m\u001B[43mfit\u001B[49m\u001B[43m(\u001B[49m\u001B[43mX1\u001B[49m\u001B[43m,\u001B[49m\u001B[43m \u001B[49m\u001B[43my1\u001B[49m\u001B[43m)\u001B[49m\n\u001B[0;32m     30\u001B[0m mask \u001B[38;5;241m=\u001B[39m pipeline\u001B[38;5;241m.\u001B[39mnamed_steps[\u001B[38;5;124m'\u001B[39m\u001B[38;5;124mfeature_sel\u001B[39m\u001B[38;5;124m'\u001B[39m]\u001B[38;5;241m.\u001B[39msupport_\n\u001B[0;32m     31\u001B[0m selected_columns \u001B[38;5;241m=\u001B[39m X1\u001B[38;5;241m.\u001B[39mcolumns[mask]\n",
      "File \u001B[1;32mc:\\users\\na270\\appdata\\local\\programs\\python\\python38\\lib\\site-packages\\sklearn\\base.py:1152\u001B[0m, in \u001B[0;36m_fit_context.<locals>.decorator.<locals>.wrapper\u001B[1;34m(estimator, *args, **kwargs)\u001B[0m\n\u001B[0;32m   1145\u001B[0m     estimator\u001B[38;5;241m.\u001B[39m_validate_params()\n\u001B[0;32m   1147\u001B[0m \u001B[38;5;28;01mwith\u001B[39;00m config_context(\n\u001B[0;32m   1148\u001B[0m     skip_parameter_validation\u001B[38;5;241m=\u001B[39m(\n\u001B[0;32m   1149\u001B[0m         prefer_skip_nested_validation \u001B[38;5;129;01mor\u001B[39;00m global_skip_validation\n\u001B[0;32m   1150\u001B[0m     )\n\u001B[0;32m   1151\u001B[0m ):\n\u001B[1;32m-> 1152\u001B[0m     \u001B[38;5;28;01mreturn\u001B[39;00m \u001B[43mfit_method\u001B[49m\u001B[43m(\u001B[49m\u001B[43mestimator\u001B[49m\u001B[43m,\u001B[49m\u001B[43m \u001B[49m\u001B[38;5;241;43m*\u001B[39;49m\u001B[43margs\u001B[49m\u001B[43m,\u001B[49m\u001B[43m \u001B[49m\u001B[38;5;241;43m*\u001B[39;49m\u001B[38;5;241;43m*\u001B[39;49m\u001B[43mkwargs\u001B[49m\u001B[43m)\u001B[49m\n",
      "File \u001B[1;32mc:\\users\\na270\\appdata\\local\\programs\\python\\python38\\lib\\site-packages\\sklearn\\pipeline.py:423\u001B[0m, in \u001B[0;36mPipeline.fit\u001B[1;34m(self, X, y, **fit_params)\u001B[0m\n\u001B[0;32m    397\u001B[0m \u001B[38;5;250m\u001B[39m\u001B[38;5;124;03m\"\"\"Fit the model.\u001B[39;00m\n\u001B[0;32m    398\u001B[0m \n\u001B[0;32m    399\u001B[0m \u001B[38;5;124;03mFit all the transformers one after the other and transform the\u001B[39;00m\n\u001B[1;32m   (...)\u001B[0m\n\u001B[0;32m    420\u001B[0m \u001B[38;5;124;03m    Pipeline with fitted steps.\u001B[39;00m\n\u001B[0;32m    421\u001B[0m \u001B[38;5;124;03m\"\"\"\u001B[39;00m\n\u001B[0;32m    422\u001B[0m fit_params_steps \u001B[38;5;241m=\u001B[39m \u001B[38;5;28mself\u001B[39m\u001B[38;5;241m.\u001B[39m_check_fit_params(\u001B[38;5;241m*\u001B[39m\u001B[38;5;241m*\u001B[39mfit_params)\n\u001B[1;32m--> 423\u001B[0m Xt \u001B[38;5;241m=\u001B[39m \u001B[38;5;28;43mself\u001B[39;49m\u001B[38;5;241;43m.\u001B[39;49m\u001B[43m_fit\u001B[49m\u001B[43m(\u001B[49m\u001B[43mX\u001B[49m\u001B[43m,\u001B[49m\u001B[43m \u001B[49m\u001B[43my\u001B[49m\u001B[43m,\u001B[49m\u001B[43m \u001B[49m\u001B[38;5;241;43m*\u001B[39;49m\u001B[38;5;241;43m*\u001B[39;49m\u001B[43mfit_params_steps\u001B[49m\u001B[43m)\u001B[49m\n\u001B[0;32m    424\u001B[0m \u001B[38;5;28;01mwith\u001B[39;00m _print_elapsed_time(\u001B[38;5;124m\"\u001B[39m\u001B[38;5;124mPipeline\u001B[39m\u001B[38;5;124m\"\u001B[39m, \u001B[38;5;28mself\u001B[39m\u001B[38;5;241m.\u001B[39m_log_message(\u001B[38;5;28mlen\u001B[39m(\u001B[38;5;28mself\u001B[39m\u001B[38;5;241m.\u001B[39msteps) \u001B[38;5;241m-\u001B[39m \u001B[38;5;241m1\u001B[39m)):\n\u001B[0;32m    425\u001B[0m     \u001B[38;5;28;01mif\u001B[39;00m \u001B[38;5;28mself\u001B[39m\u001B[38;5;241m.\u001B[39m_final_estimator \u001B[38;5;241m!=\u001B[39m \u001B[38;5;124m\"\u001B[39m\u001B[38;5;124mpassthrough\u001B[39m\u001B[38;5;124m\"\u001B[39m:\n",
      "File \u001B[1;32mc:\\users\\na270\\appdata\\local\\programs\\python\\python38\\lib\\site-packages\\sklearn\\pipeline.py:377\u001B[0m, in \u001B[0;36mPipeline._fit\u001B[1;34m(self, X, y, **fit_params_steps)\u001B[0m\n\u001B[0;32m    375\u001B[0m     cloned_transformer \u001B[38;5;241m=\u001B[39m clone(transformer)\n\u001B[0;32m    376\u001B[0m \u001B[38;5;66;03m# Fit or load from cache the current transformer\u001B[39;00m\n\u001B[1;32m--> 377\u001B[0m X, fitted_transformer \u001B[38;5;241m=\u001B[39m \u001B[43mfit_transform_one_cached\u001B[49m\u001B[43m(\u001B[49m\n\u001B[0;32m    378\u001B[0m \u001B[43m    \u001B[49m\u001B[43mcloned_transformer\u001B[49m\u001B[43m,\u001B[49m\n\u001B[0;32m    379\u001B[0m \u001B[43m    \u001B[49m\u001B[43mX\u001B[49m\u001B[43m,\u001B[49m\n\u001B[0;32m    380\u001B[0m \u001B[43m    \u001B[49m\u001B[43my\u001B[49m\u001B[43m,\u001B[49m\n\u001B[0;32m    381\u001B[0m \u001B[43m    \u001B[49m\u001B[38;5;28;43;01mNone\u001B[39;49;00m\u001B[43m,\u001B[49m\n\u001B[0;32m    382\u001B[0m \u001B[43m    \u001B[49m\u001B[43mmessage_clsname\u001B[49m\u001B[38;5;241;43m=\u001B[39;49m\u001B[38;5;124;43m\"\u001B[39;49m\u001B[38;5;124;43mPipeline\u001B[39;49m\u001B[38;5;124;43m\"\u001B[39;49m\u001B[43m,\u001B[49m\n\u001B[0;32m    383\u001B[0m \u001B[43m    \u001B[49m\u001B[43mmessage\u001B[49m\u001B[38;5;241;43m=\u001B[39;49m\u001B[38;5;28;43mself\u001B[39;49m\u001B[38;5;241;43m.\u001B[39;49m\u001B[43m_log_message\u001B[49m\u001B[43m(\u001B[49m\u001B[43mstep_idx\u001B[49m\u001B[43m)\u001B[49m\u001B[43m,\u001B[49m\n\u001B[0;32m    384\u001B[0m \u001B[43m    \u001B[49m\u001B[38;5;241;43m*\u001B[39;49m\u001B[38;5;241;43m*\u001B[39;49m\u001B[43mfit_params_steps\u001B[49m\u001B[43m[\u001B[49m\u001B[43mname\u001B[49m\u001B[43m]\u001B[49m\u001B[43m,\u001B[49m\n\u001B[0;32m    385\u001B[0m \u001B[43m\u001B[49m\u001B[43m)\u001B[49m\n\u001B[0;32m    386\u001B[0m \u001B[38;5;66;03m# Replace the transformer of the step with the fitted\u001B[39;00m\n\u001B[0;32m    387\u001B[0m \u001B[38;5;66;03m# transformer. This is necessary when loading the transformer\u001B[39;00m\n\u001B[0;32m    388\u001B[0m \u001B[38;5;66;03m# from the cache.\u001B[39;00m\n\u001B[0;32m    389\u001B[0m \u001B[38;5;28mself\u001B[39m\u001B[38;5;241m.\u001B[39msteps[step_idx] \u001B[38;5;241m=\u001B[39m (name, fitted_transformer)\n",
      "File \u001B[1;32mc:\\users\\na270\\appdata\\local\\programs\\python\\python38\\lib\\site-packages\\joblib\\memory.py:353\u001B[0m, in \u001B[0;36mNotMemorizedFunc.__call__\u001B[1;34m(self, *args, **kwargs)\u001B[0m\n\u001B[0;32m    352\u001B[0m \u001B[38;5;28;01mdef\u001B[39;00m \u001B[38;5;21m__call__\u001B[39m(\u001B[38;5;28mself\u001B[39m, \u001B[38;5;241m*\u001B[39margs, \u001B[38;5;241m*\u001B[39m\u001B[38;5;241m*\u001B[39mkwargs):\n\u001B[1;32m--> 353\u001B[0m     \u001B[38;5;28;01mreturn\u001B[39;00m \u001B[38;5;28;43mself\u001B[39;49m\u001B[38;5;241;43m.\u001B[39;49m\u001B[43mfunc\u001B[49m\u001B[43m(\u001B[49m\u001B[38;5;241;43m*\u001B[39;49m\u001B[43margs\u001B[49m\u001B[43m,\u001B[49m\u001B[43m \u001B[49m\u001B[38;5;241;43m*\u001B[39;49m\u001B[38;5;241;43m*\u001B[39;49m\u001B[43mkwargs\u001B[49m\u001B[43m)\u001B[49m\n",
      "File \u001B[1;32mc:\\users\\na270\\appdata\\local\\programs\\python\\python38\\lib\\site-packages\\sklearn\\pipeline.py:957\u001B[0m, in \u001B[0;36m_fit_transform_one\u001B[1;34m(transformer, X, y, weight, message_clsname, message, **fit_params)\u001B[0m\n\u001B[0;32m    955\u001B[0m \u001B[38;5;28;01mwith\u001B[39;00m _print_elapsed_time(message_clsname, message):\n\u001B[0;32m    956\u001B[0m     \u001B[38;5;28;01mif\u001B[39;00m \u001B[38;5;28mhasattr\u001B[39m(transformer, \u001B[38;5;124m\"\u001B[39m\u001B[38;5;124mfit_transform\u001B[39m\u001B[38;5;124m\"\u001B[39m):\n\u001B[1;32m--> 957\u001B[0m         res \u001B[38;5;241m=\u001B[39m \u001B[43mtransformer\u001B[49m\u001B[38;5;241;43m.\u001B[39;49m\u001B[43mfit_transform\u001B[49m\u001B[43m(\u001B[49m\u001B[43mX\u001B[49m\u001B[43m,\u001B[49m\u001B[43m \u001B[49m\u001B[43my\u001B[49m\u001B[43m,\u001B[49m\u001B[43m \u001B[49m\u001B[38;5;241;43m*\u001B[39;49m\u001B[38;5;241;43m*\u001B[39;49m\u001B[43mfit_params\u001B[49m\u001B[43m)\u001B[49m\n\u001B[0;32m    958\u001B[0m     \u001B[38;5;28;01melse\u001B[39;00m:\n\u001B[0;32m    959\u001B[0m         res \u001B[38;5;241m=\u001B[39m transformer\u001B[38;5;241m.\u001B[39mfit(X, y, \u001B[38;5;241m*\u001B[39m\u001B[38;5;241m*\u001B[39mfit_params)\u001B[38;5;241m.\u001B[39mtransform(X)\n",
      "File \u001B[1;32mc:\\users\\na270\\appdata\\local\\programs\\python\\python38\\lib\\site-packages\\sklearn\\utils\\_set_output.py:157\u001B[0m, in \u001B[0;36m_wrap_method_output.<locals>.wrapped\u001B[1;34m(self, X, *args, **kwargs)\u001B[0m\n\u001B[0;32m    155\u001B[0m \u001B[38;5;129m@wraps\u001B[39m(f)\n\u001B[0;32m    156\u001B[0m \u001B[38;5;28;01mdef\u001B[39;00m \u001B[38;5;21mwrapped\u001B[39m(\u001B[38;5;28mself\u001B[39m, X, \u001B[38;5;241m*\u001B[39margs, \u001B[38;5;241m*\u001B[39m\u001B[38;5;241m*\u001B[39mkwargs):\n\u001B[1;32m--> 157\u001B[0m     data_to_wrap \u001B[38;5;241m=\u001B[39m \u001B[43mf\u001B[49m\u001B[43m(\u001B[49m\u001B[38;5;28;43mself\u001B[39;49m\u001B[43m,\u001B[49m\u001B[43m \u001B[49m\u001B[43mX\u001B[49m\u001B[43m,\u001B[49m\u001B[43m \u001B[49m\u001B[38;5;241;43m*\u001B[39;49m\u001B[43margs\u001B[49m\u001B[43m,\u001B[49m\u001B[43m \u001B[49m\u001B[38;5;241;43m*\u001B[39;49m\u001B[38;5;241;43m*\u001B[39;49m\u001B[43mkwargs\u001B[49m\u001B[43m)\u001B[49m\n\u001B[0;32m    158\u001B[0m     \u001B[38;5;28;01mif\u001B[39;00m \u001B[38;5;28misinstance\u001B[39m(data_to_wrap, \u001B[38;5;28mtuple\u001B[39m):\n\u001B[0;32m    159\u001B[0m         \u001B[38;5;66;03m# only wrap the first output for cross decomposition\u001B[39;00m\n\u001B[0;32m    160\u001B[0m         return_tuple \u001B[38;5;241m=\u001B[39m (\n\u001B[0;32m    161\u001B[0m             _wrap_data_with_container(method, data_to_wrap[\u001B[38;5;241m0\u001B[39m], X, \u001B[38;5;28mself\u001B[39m),\n\u001B[0;32m    162\u001B[0m             \u001B[38;5;241m*\u001B[39mdata_to_wrap[\u001B[38;5;241m1\u001B[39m:],\n\u001B[0;32m    163\u001B[0m         )\n",
      "File \u001B[1;32mc:\\users\\na270\\appdata\\local\\programs\\python\\python38\\lib\\site-packages\\sklearn\\base.py:919\u001B[0m, in \u001B[0;36mTransformerMixin.fit_transform\u001B[1;34m(self, X, y, **fit_params)\u001B[0m\n\u001B[0;32m    916\u001B[0m     \u001B[38;5;28;01mreturn\u001B[39;00m \u001B[38;5;28mself\u001B[39m\u001B[38;5;241m.\u001B[39mfit(X, \u001B[38;5;241m*\u001B[39m\u001B[38;5;241m*\u001B[39mfit_params)\u001B[38;5;241m.\u001B[39mtransform(X)\n\u001B[0;32m    917\u001B[0m \u001B[38;5;28;01melse\u001B[39;00m:\n\u001B[0;32m    918\u001B[0m     \u001B[38;5;66;03m# fit method of arity 2 (supervised transformation)\u001B[39;00m\n\u001B[1;32m--> 919\u001B[0m     \u001B[38;5;28;01mreturn\u001B[39;00m \u001B[38;5;28;43mself\u001B[39;49m\u001B[38;5;241;43m.\u001B[39;49m\u001B[43mfit\u001B[49m\u001B[43m(\u001B[49m\u001B[43mX\u001B[49m\u001B[43m,\u001B[49m\u001B[43m \u001B[49m\u001B[43my\u001B[49m\u001B[43m,\u001B[49m\u001B[43m \u001B[49m\u001B[38;5;241;43m*\u001B[39;49m\u001B[38;5;241;43m*\u001B[39;49m\u001B[43mfit_params\u001B[49m\u001B[43m)\u001B[49m\u001B[38;5;241m.\u001B[39mtransform(X)\n",
      "File \u001B[1;32mc:\\users\\na270\\appdata\\local\\programs\\python\\python38\\lib\\site-packages\\sklearn\\base.py:1152\u001B[0m, in \u001B[0;36m_fit_context.<locals>.decorator.<locals>.wrapper\u001B[1;34m(estimator, *args, **kwargs)\u001B[0m\n\u001B[0;32m   1145\u001B[0m     estimator\u001B[38;5;241m.\u001B[39m_validate_params()\n\u001B[0;32m   1147\u001B[0m \u001B[38;5;28;01mwith\u001B[39;00m config_context(\n\u001B[0;32m   1148\u001B[0m     skip_parameter_validation\u001B[38;5;241m=\u001B[39m(\n\u001B[0;32m   1149\u001B[0m         prefer_skip_nested_validation \u001B[38;5;129;01mor\u001B[39;00m global_skip_validation\n\u001B[0;32m   1150\u001B[0m     )\n\u001B[0;32m   1151\u001B[0m ):\n\u001B[1;32m-> 1152\u001B[0m     \u001B[38;5;28;01mreturn\u001B[39;00m \u001B[43mfit_method\u001B[49m\u001B[43m(\u001B[49m\u001B[43mestimator\u001B[49m\u001B[43m,\u001B[49m\u001B[43m \u001B[49m\u001B[38;5;241;43m*\u001B[39;49m\u001B[43margs\u001B[49m\u001B[43m,\u001B[49m\u001B[43m \u001B[49m\u001B[38;5;241;43m*\u001B[39;49m\u001B[38;5;241;43m*\u001B[39;49m\u001B[43mkwargs\u001B[49m\u001B[43m)\u001B[49m\n",
      "File \u001B[1;32mc:\\users\\na270\\appdata\\local\\programs\\python\\python38\\lib\\site-packages\\sklearn\\feature_selection\\_rfe.py:726\u001B[0m, in \u001B[0;36mRFECV.fit\u001B[1;34m(self, X, y, groups)\u001B[0m\n\u001B[0;32m    723\u001B[0m     parallel \u001B[38;5;241m=\u001B[39m Parallel(n_jobs\u001B[38;5;241m=\u001B[39m\u001B[38;5;28mself\u001B[39m\u001B[38;5;241m.\u001B[39mn_jobs)\n\u001B[0;32m    724\u001B[0m     func \u001B[38;5;241m=\u001B[39m delayed(_rfe_single_fit)\n\u001B[1;32m--> 726\u001B[0m scores \u001B[38;5;241m=\u001B[39m \u001B[43mparallel\u001B[49m\u001B[43m(\u001B[49m\n\u001B[0;32m    727\u001B[0m \u001B[43m    \u001B[49m\u001B[43mfunc\u001B[49m\u001B[43m(\u001B[49m\u001B[43mrfe\u001B[49m\u001B[43m,\u001B[49m\u001B[43m \u001B[49m\u001B[38;5;28;43mself\u001B[39;49m\u001B[38;5;241;43m.\u001B[39;49m\u001B[43mestimator\u001B[49m\u001B[43m,\u001B[49m\u001B[43m \u001B[49m\u001B[43mX\u001B[49m\u001B[43m,\u001B[49m\u001B[43m \u001B[49m\u001B[43my\u001B[49m\u001B[43m,\u001B[49m\u001B[43m \u001B[49m\u001B[43mtrain\u001B[49m\u001B[43m,\u001B[49m\u001B[43m \u001B[49m\u001B[43mtest\u001B[49m\u001B[43m,\u001B[49m\u001B[43m \u001B[49m\u001B[43mscorer\u001B[49m\u001B[43m)\u001B[49m\n\u001B[0;32m    728\u001B[0m \u001B[43m    \u001B[49m\u001B[38;5;28;43;01mfor\u001B[39;49;00m\u001B[43m \u001B[49m\u001B[43mtrain\u001B[49m\u001B[43m,\u001B[49m\u001B[43m \u001B[49m\u001B[43mtest\u001B[49m\u001B[43m \u001B[49m\u001B[38;5;129;43;01min\u001B[39;49;00m\u001B[43m \u001B[49m\u001B[43mcv\u001B[49m\u001B[38;5;241;43m.\u001B[39;49m\u001B[43msplit\u001B[49m\u001B[43m(\u001B[49m\u001B[43mX\u001B[49m\u001B[43m,\u001B[49m\u001B[43m \u001B[49m\u001B[43my\u001B[49m\u001B[43m,\u001B[49m\u001B[43m \u001B[49m\u001B[43mgroups\u001B[49m\u001B[43m)\u001B[49m\n\u001B[0;32m    729\u001B[0m \u001B[43m\u001B[49m\u001B[43m)\u001B[49m\n\u001B[0;32m    731\u001B[0m scores \u001B[38;5;241m=\u001B[39m np\u001B[38;5;241m.\u001B[39marray(scores)\n\u001B[0;32m    732\u001B[0m scores_sum \u001B[38;5;241m=\u001B[39m np\u001B[38;5;241m.\u001B[39msum(scores, axis\u001B[38;5;241m=\u001B[39m\u001B[38;5;241m0\u001B[39m)\n",
      "File \u001B[1;32mc:\\users\\na270\\appdata\\local\\programs\\python\\python38\\lib\\site-packages\\sklearn\\utils\\parallel.py:65\u001B[0m, in \u001B[0;36mParallel.__call__\u001B[1;34m(self, iterable)\u001B[0m\n\u001B[0;32m     60\u001B[0m config \u001B[38;5;241m=\u001B[39m get_config()\n\u001B[0;32m     61\u001B[0m iterable_with_config \u001B[38;5;241m=\u001B[39m (\n\u001B[0;32m     62\u001B[0m     (_with_config(delayed_func, config), args, kwargs)\n\u001B[0;32m     63\u001B[0m     \u001B[38;5;28;01mfor\u001B[39;00m delayed_func, args, kwargs \u001B[38;5;129;01min\u001B[39;00m iterable\n\u001B[0;32m     64\u001B[0m )\n\u001B[1;32m---> 65\u001B[0m \u001B[38;5;28;01mreturn\u001B[39;00m \u001B[38;5;28;43msuper\u001B[39;49m\u001B[43m(\u001B[49m\u001B[43m)\u001B[49m\u001B[38;5;241;43m.\u001B[39;49m\u001B[38;5;21;43m__call__\u001B[39;49m\u001B[43m(\u001B[49m\u001B[43miterable_with_config\u001B[49m\u001B[43m)\u001B[49m\n",
      "File \u001B[1;32mc:\\users\\na270\\appdata\\local\\programs\\python\\python38\\lib\\site-packages\\joblib\\parallel.py:1952\u001B[0m, in \u001B[0;36mParallel.__call__\u001B[1;34m(self, iterable)\u001B[0m\n\u001B[0;32m   1946\u001B[0m \u001B[38;5;66;03m# The first item from the output is blank, but it makes the interpreter\u001B[39;00m\n\u001B[0;32m   1947\u001B[0m \u001B[38;5;66;03m# progress until it enters the Try/Except block of the generator and\u001B[39;00m\n\u001B[0;32m   1948\u001B[0m \u001B[38;5;66;03m# reach the first `yield` statement. This starts the aynchronous\u001B[39;00m\n\u001B[0;32m   1949\u001B[0m \u001B[38;5;66;03m# dispatch of the tasks to the workers.\u001B[39;00m\n\u001B[0;32m   1950\u001B[0m \u001B[38;5;28mnext\u001B[39m(output)\n\u001B[1;32m-> 1952\u001B[0m \u001B[38;5;28;01mreturn\u001B[39;00m output \u001B[38;5;28;01mif\u001B[39;00m \u001B[38;5;28mself\u001B[39m\u001B[38;5;241m.\u001B[39mreturn_generator \u001B[38;5;28;01melse\u001B[39;00m \u001B[38;5;28;43mlist\u001B[39;49m\u001B[43m(\u001B[49m\u001B[43moutput\u001B[49m\u001B[43m)\u001B[49m\n",
      "File \u001B[1;32mc:\\users\\na270\\appdata\\local\\programs\\python\\python38\\lib\\site-packages\\joblib\\parallel.py:1595\u001B[0m, in \u001B[0;36mParallel._get_outputs\u001B[1;34m(self, iterator, pre_dispatch)\u001B[0m\n\u001B[0;32m   1592\u001B[0m     \u001B[38;5;28;01myield\u001B[39;00m\n\u001B[0;32m   1594\u001B[0m     \u001B[38;5;28;01mwith\u001B[39;00m \u001B[38;5;28mself\u001B[39m\u001B[38;5;241m.\u001B[39m_backend\u001B[38;5;241m.\u001B[39mretrieval_context():\n\u001B[1;32m-> 1595\u001B[0m         \u001B[38;5;28;01myield from\u001B[39;00m \u001B[38;5;28mself\u001B[39m\u001B[38;5;241m.\u001B[39m_retrieve()\n\u001B[0;32m   1597\u001B[0m \u001B[38;5;28;01mexcept\u001B[39;00m \u001B[38;5;167;01mGeneratorExit\u001B[39;00m:\n\u001B[0;32m   1598\u001B[0m     \u001B[38;5;66;03m# The generator has been garbage collected before being fully\u001B[39;00m\n\u001B[0;32m   1599\u001B[0m     \u001B[38;5;66;03m# consumed. This aborts the remaining tasks if possible and warn\u001B[39;00m\n\u001B[0;32m   1600\u001B[0m     \u001B[38;5;66;03m# the user if necessary.\u001B[39;00m\n\u001B[0;32m   1601\u001B[0m     \u001B[38;5;28mself\u001B[39m\u001B[38;5;241m.\u001B[39m_exception \u001B[38;5;241m=\u001B[39m \u001B[38;5;28;01mTrue\u001B[39;00m\n",
      "File \u001B[1;32mc:\\users\\na270\\appdata\\local\\programs\\python\\python38\\lib\\site-packages\\joblib\\parallel.py:1707\u001B[0m, in \u001B[0;36mParallel._retrieve\u001B[1;34m(self)\u001B[0m\n\u001B[0;32m   1702\u001B[0m \u001B[38;5;66;03m# If the next job is not ready for retrieval yet, we just wait for\u001B[39;00m\n\u001B[0;32m   1703\u001B[0m \u001B[38;5;66;03m# async callbacks to progress.\u001B[39;00m\n\u001B[0;32m   1704\u001B[0m \u001B[38;5;28;01mif\u001B[39;00m ((\u001B[38;5;28mlen\u001B[39m(\u001B[38;5;28mself\u001B[39m\u001B[38;5;241m.\u001B[39m_jobs) \u001B[38;5;241m==\u001B[39m \u001B[38;5;241m0\u001B[39m) \u001B[38;5;129;01mor\u001B[39;00m\n\u001B[0;32m   1705\u001B[0m     (\u001B[38;5;28mself\u001B[39m\u001B[38;5;241m.\u001B[39m_jobs[\u001B[38;5;241m0\u001B[39m]\u001B[38;5;241m.\u001B[39mget_status(\n\u001B[0;32m   1706\u001B[0m         timeout\u001B[38;5;241m=\u001B[39m\u001B[38;5;28mself\u001B[39m\u001B[38;5;241m.\u001B[39mtimeout) \u001B[38;5;241m==\u001B[39m TASK_PENDING)):\n\u001B[1;32m-> 1707\u001B[0m     \u001B[43mtime\u001B[49m\u001B[38;5;241;43m.\u001B[39;49m\u001B[43msleep\u001B[49m\u001B[43m(\u001B[49m\u001B[38;5;241;43m0.01\u001B[39;49m\u001B[43m)\u001B[49m\n\u001B[0;32m   1708\u001B[0m     \u001B[38;5;28;01mcontinue\u001B[39;00m\n\u001B[0;32m   1710\u001B[0m \u001B[38;5;66;03m# We need to be careful: the job list can be filling up as\u001B[39;00m\n\u001B[0;32m   1711\u001B[0m \u001B[38;5;66;03m# we empty it and Python list are not thread-safe by\u001B[39;00m\n\u001B[0;32m   1712\u001B[0m \u001B[38;5;66;03m# default hence the use of the lock\u001B[39;00m\n",
      "\u001B[1;31mKeyboardInterrupt\u001B[0m: "
     ]
    }
   ],
   "source": [
    "# Using RFECV to check the optimal number of explanatory variables\n",
    "rfecv = RFECV(\n",
    "        estimator=LogisticRegression(\n",
    "        penalty='l2',    # ridge penalty\n",
    "        C=1,           # try 0.1 (you can grid‐search this)\n",
    "        solver='liblinear',\n",
    "        max_iter=2000\n",
    "    ),\n",
    "    step=1,\n",
    "    cv=StratifiedKFold(5),\n",
    "    scoring='roc_auc',\n",
    "    min_features_to_select=5,\n",
    "    n_jobs=-1\n",
    ")\n",
    "\n",
    "# Build the feature selection pipeline\n",
    "pipeline = Pipeline([\n",
    "    ('feature_sel', rfecv),\n",
    "    ('clf',             LogisticRegression(\n",
    "        penalty='l2',    # ridge penalty\n",
    "        C=0.1,           # try 0.1 (you can grid‐search this)\n",
    "        solver='liblinear',\n",
    "        max_iter=2000\n",
    "    ))\n",
    "])\n",
    "\n",
    "# Fit it\n",
    "pipeline.fit(X1, y1)\n",
    "\n",
    "mask = pipeline.named_steps['feature_sel'].support_\n",
    "selected_columns = X1.columns[mask]\n",
    "print(\"Selected features:\", list(selected_columns))\n",
    "\n"
   ],
   "metadata": {
    "collapsed": false,
    "ExecuteTime": {
     "end_time": "2025-06-10T15:27:13.758249900Z",
     "start_time": "2025-06-10T15:26:56.786127800Z"
    }
   },
   "id": "c85037a810bf9936"
  },
  {
   "cell_type": "code",
   "execution_count": 65,
   "outputs": [
    {
     "name": "stdout",
     "output_type": "stream",
     "text": [
      "Selected features: ['Education_Level_higher', 'Education_Level_post_hs', 'Education_Level_school', 'Years_of_Education', 'Job_Type_Blue-collar', 'Job_Type_Service', 'Job_Type_White-collar', 'Household_Role_Other', 'Household_Role_Spouse', 'Gender_Female', 'Gender_Male', 'Marital_Status_Divorced', 'Marital_Status_Married-civ-spouse', 'Marital_Status_Never-married', 'E', 'Age', 'Investment_Gain', 'Investment_Loss', 'D', 'log_gain', 'log_loss', 'A_log']\n"
     ]
    }
   ],
   "source": [
    "# Using RFECV to check the optimal number of explanatory variables\n",
    "rfecv = RFECV(\n",
    "        estimator=LogisticRegression(\n",
    "        penalty='l2',    # ridge penalty\n",
    "        C=0.0001,           # try 0.1 (you can grid‐search this)\n",
    "        solver='liblinear',\n",
    "        max_iter=2000\n",
    "    ),\n",
    "    step=1,\n",
    "    cv=StratifiedKFold(5),\n",
    "    scoring='roc_auc',\n",
    "    min_features_to_select=5,\n",
    "    n_jobs=-1\n",
    ")\n",
    "\n",
    "# Build the feature selection pipeline\n",
    "pipeline = Pipeline([\n",
    "    ('feature_sel', rfecv),\n",
    "    ('clf',             LogisticRegression(\n",
    "        penalty='l2',    # ridge penalty\n",
    "        C=0.0001,           # try 0.1 (you can grid‐search this)\n",
    "        solver='liblinear',\n",
    "        max_iter=2000\n",
    "    ))\n",
    "])\n",
    "\n",
    "# Fit it\n",
    "pipeline.fit(X1, y1)\n",
    "\n",
    "mask = pipeline.named_steps['feature_sel'].support_\n",
    "selected_columns = X1.columns[mask]\n",
    "print(\"Selected features:\", list(selected_columns))\n"
   ],
   "metadata": {
    "collapsed": false,
    "ExecuteTime": {
     "end_time": "2025-06-10T13:45:34.529695600Z",
     "start_time": "2025-06-10T13:45:12.894870300Z"
    }
   },
   "id": "d52e796d08adbd62"
  },
  {
   "cell_type": "code",
   "execution_count": 179,
   "outputs": [
    {
     "data": {
      "text/plain": "'\\n# Build the feature selection pipeline\\npipeline = Pipeline([\\n    (\\'feature_sel\\', rfecv),\\n    (\\'clf\\',             LogisticRegression(\\n        penalty=\\'l2\\',    # ridge penalty\\n        C=0.001,           # try 0.1 (you can grid‐search this)\\n        solver=\\'liblinear\\',\\n        max_iter=2000\\n    ))\\n])\\n\\n# Fit it\\npipeline.fit(X1, y1)\\n\\nmask = pipeline.named_steps[\\'feature_sel\\'].support_\\nselected_columns = X1.columns[mask]\\nprint(\"Selected features:\", list(selected_columns))\\n'"
     },
     "execution_count": 179,
     "metadata": {},
     "output_type": "execute_result"
    }
   ],
   "source": [
    "# Using RFECV to check the optimal number of explanatory variables\n",
    "rfecv = RFECV(\n",
    "        estimator=LogisticRegression(\n",
    "        penalty='l2',    # ridge penalty\n",
    "        C=0.001,           \n",
    "        solver='liblinear',\n",
    "        max_iter=2000\n",
    "    ),\n",
    "    step=1,\n",
    "    cv=StratifiedKFold(5),\n",
    "    scoring='roc_auc',\n",
    "    min_features_to_select=5,\n",
    "    n_jobs=-1\n",
    ")\n",
    "\n",
    "'''\n",
    "# Build the feature selection pipeline\n",
    "pipeline = Pipeline([\n",
    "    ('feature_sel', rfecv),\n",
    "    ('clf',             LogisticRegression(\n",
    "        penalty='l2',    # ridge penalty\n",
    "        C=0.001,           # try 0.1 (you can grid‐search this)\n",
    "        solver='liblinear',\n",
    "        max_iter=2000\n",
    "    ))\n",
    "])\n",
    "\n",
    "# Fit it\n",
    "pipeline.fit(X1, y1)\n",
    "\n",
    "mask = pipeline.named_steps['feature_sel'].support_\n",
    "selected_columns = X1.columns[mask]\n",
    "print(\"Selected features:\", list(selected_columns))\n",
    "'''"
   ],
   "metadata": {
    "collapsed": false,
    "ExecuteTime": {
     "end_time": "2025-06-10T15:43:58.687689600Z",
     "start_time": "2025-06-10T15:43:58.642404Z"
    }
   },
   "id": "37a900d5ca725d85"
  },
  {
   "cell_type": "code",
   "execution_count": 31,
   "outputs": [
    {
     "data": {
      "text/plain": "   Country_of_Residence_Mexico  Years_of_Education  Household_Role_Other  \\\n0                          0.0           -0.440049                   1.0   \n1                          0.0           -0.440049                   1.0   \n2                          0.0           -2.362161                   1.0   \n3                          0.0           -0.055626                   1.0   \n5                          0.0           -1.593316                   1.0   \n\n   Marital_Status_Divorced  Marital_Status_Married-spouse-absent  \\\n0                      0.0                                   0.0   \n1                      0.0                                   0.0   \n2                      1.0                                   0.0   \n3                      0.0                                   0.0   \n5                      0.0                                   0.0   \n\n   Marital_Status_Never-married  Marital_Status_Separated  \\\n0                           0.0                       0.0   \n1                           0.0                       0.0   \n2                           0.0                       0.0   \n3                           0.0                       1.0   \n5                           0.0                       1.0   \n\n   Marital_Status_Widowed  Job_Type_Exec-managerial  Job_Type_Farming-fishing  \\\n0                     1.0                       0.0                       0.0   \n1                     1.0                       1.0                       0.0   \n2                     0.0                       0.0                       0.0   \n3                     0.0                       0.0                       0.0   \n5                     0.0                       0.0                       0.0   \n\n   Job_Type_Handlers-cleaners  Job_Type_Machine-op-inspct  \\\n0                         0.0                         0.0   \n1                         0.0                         0.0   \n2                         0.0                         1.0   \n3                         0.0                         0.0   \n5                         0.0                         0.0   \n\n   Job_Type_Other-service  Job_Type_Priv-house-serv  Job_Type_Prof-specialty  \\\n0                     0.0                       0.0                      0.0   \n1                     0.0                       0.0                      0.0   \n2                     0.0                       0.0                      0.0   \n3                     0.0                       0.0                      1.0   \n5                     0.0                       0.0                      0.0   \n\n   Job_Type_Protective-serv  Job_Type_Tech-support  \\\n0                       0.0                    0.0   \n1                       0.0                    0.0   \n2                       0.0                    0.0   \n3                       0.0                    0.0   \n5                       0.0                    0.0   \n\n   Employment_Type_Federal-gov  Employment_Type_Self-emp-inc  Investment_Gain  \n0                          0.0                           0.0        -0.145838  \n1                          0.0                           0.0        -0.145838  \n2                          0.0                           0.0        -0.145838  \n3                          0.0                           0.0        -0.145838  \n5                          0.0                           0.0        -0.145838  ",
      "text/html": "<div>\n<style scoped>\n    .dataframe tbody tr th:only-of-type {\n        vertical-align: middle;\n    }\n\n    .dataframe tbody tr th {\n        vertical-align: top;\n    }\n\n    .dataframe thead th {\n        text-align: right;\n    }\n</style>\n<table border=\"1\" class=\"dataframe\">\n  <thead>\n    <tr style=\"text-align: right;\">\n      <th></th>\n      <th>Country_of_Residence_Mexico</th>\n      <th>Years_of_Education</th>\n      <th>Household_Role_Other</th>\n      <th>Marital_Status_Divorced</th>\n      <th>Marital_Status_Married-spouse-absent</th>\n      <th>Marital_Status_Never-married</th>\n      <th>Marital_Status_Separated</th>\n      <th>Marital_Status_Widowed</th>\n      <th>Job_Type_Exec-managerial</th>\n      <th>Job_Type_Farming-fishing</th>\n      <th>Job_Type_Handlers-cleaners</th>\n      <th>Job_Type_Machine-op-inspct</th>\n      <th>Job_Type_Other-service</th>\n      <th>Job_Type_Priv-house-serv</th>\n      <th>Job_Type_Prof-specialty</th>\n      <th>Job_Type_Protective-serv</th>\n      <th>Job_Type_Tech-support</th>\n      <th>Employment_Type_Federal-gov</th>\n      <th>Employment_Type_Self-emp-inc</th>\n      <th>Investment_Gain</th>\n    </tr>\n  </thead>\n  <tbody>\n    <tr>\n      <th>0</th>\n      <td>0.0</td>\n      <td>-0.440049</td>\n      <td>1.0</td>\n      <td>0.0</td>\n      <td>0.0</td>\n      <td>0.0</td>\n      <td>0.0</td>\n      <td>1.0</td>\n      <td>0.0</td>\n      <td>0.0</td>\n      <td>0.0</td>\n      <td>0.0</td>\n      <td>0.0</td>\n      <td>0.0</td>\n      <td>0.0</td>\n      <td>0.0</td>\n      <td>0.0</td>\n      <td>0.0</td>\n      <td>0.0</td>\n      <td>-0.145838</td>\n    </tr>\n    <tr>\n      <th>1</th>\n      <td>0.0</td>\n      <td>-0.440049</td>\n      <td>1.0</td>\n      <td>0.0</td>\n      <td>0.0</td>\n      <td>0.0</td>\n      <td>0.0</td>\n      <td>1.0</td>\n      <td>1.0</td>\n      <td>0.0</td>\n      <td>0.0</td>\n      <td>0.0</td>\n      <td>0.0</td>\n      <td>0.0</td>\n      <td>0.0</td>\n      <td>0.0</td>\n      <td>0.0</td>\n      <td>0.0</td>\n      <td>0.0</td>\n      <td>-0.145838</td>\n    </tr>\n    <tr>\n      <th>2</th>\n      <td>0.0</td>\n      <td>-2.362161</td>\n      <td>1.0</td>\n      <td>1.0</td>\n      <td>0.0</td>\n      <td>0.0</td>\n      <td>0.0</td>\n      <td>0.0</td>\n      <td>0.0</td>\n      <td>0.0</td>\n      <td>0.0</td>\n      <td>1.0</td>\n      <td>0.0</td>\n      <td>0.0</td>\n      <td>0.0</td>\n      <td>0.0</td>\n      <td>0.0</td>\n      <td>0.0</td>\n      <td>0.0</td>\n      <td>-0.145838</td>\n    </tr>\n    <tr>\n      <th>3</th>\n      <td>0.0</td>\n      <td>-0.055626</td>\n      <td>1.0</td>\n      <td>0.0</td>\n      <td>0.0</td>\n      <td>0.0</td>\n      <td>1.0</td>\n      <td>0.0</td>\n      <td>0.0</td>\n      <td>0.0</td>\n      <td>0.0</td>\n      <td>0.0</td>\n      <td>0.0</td>\n      <td>0.0</td>\n      <td>1.0</td>\n      <td>0.0</td>\n      <td>0.0</td>\n      <td>0.0</td>\n      <td>0.0</td>\n      <td>-0.145838</td>\n    </tr>\n    <tr>\n      <th>5</th>\n      <td>0.0</td>\n      <td>-1.593316</td>\n      <td>1.0</td>\n      <td>0.0</td>\n      <td>0.0</td>\n      <td>0.0</td>\n      <td>1.0</td>\n      <td>0.0</td>\n      <td>0.0</td>\n      <td>0.0</td>\n      <td>0.0</td>\n      <td>0.0</td>\n      <td>0.0</td>\n      <td>0.0</td>\n      <td>0.0</td>\n      <td>0.0</td>\n      <td>0.0</td>\n      <td>0.0</td>\n      <td>0.0</td>\n      <td>-0.145838</td>\n    </tr>\n  </tbody>\n</table>\n</div>"
     },
     "execution_count": 31,
     "metadata": {},
     "output_type": "execute_result"
    }
   ],
   "source": [
    "# Subset your DataFrame to the selected columns:\n",
    "X_selected = X1[selected_features]\n",
    "\n",
    "X_selected.head()\n",
    "\n",
    "\n",
    "train_selected = train[selected_features]\n",
    "test_selected = test[selected_features]"
   ],
   "metadata": {
    "collapsed": false,
    "ExecuteTime": {
     "end_time": "2025-06-10T08:38:17.570655Z",
     "start_time": "2025-06-10T08:38:17.524332200Z"
    }
   },
   "id": "8be36bfb53574bdc"
  },
  {
   "cell_type": "markdown",
   "id": "85618933fc93ce16",
   "metadata": {},
   "source": [
    "## 4. Model Training – Basic Models\n",
    "_Start simple. Train Logistic Regression or KNN._"
   ]
  },
  {
   "cell_type": "code",
   "execution_count": 110,
   "outputs": [
    {
     "data": {
      "text/plain": "       customer_id   Age Employment_Type       A Education_Level  \\\n336         116293  34.0         Private  189759       Bachelors   \n25716       146164  43.0         Private  323713         HS-grad   \n21766       141506  40.0         Private  119225       Assoc-voc   \n4614        121327  37.0         Private  349116         HS-grad   \n9414        126985  59.0         Private   75867         Masters   \n\n       Years_of_Education      Marital_Status           Job_Type  \\\n336                  13.0  Married-civ-spouse    Exec-managerial   \n25716                 9.0  Married-civ-spouse  Machine-op-inspct   \n21766                11.0  Married-civ-spouse     Prof-specialty   \n4614                  9.0       Never-married              Sales   \n9414                 14.0  Married-civ-spouse     Prof-specialty   \n\n      Household_Role Ethnicity  ... Weekly_Work_Hours  Country_of_Residence  \\\n336          Husband     White  ...                45         United-States   \n25716        Husband     White  ...                40         United-States   \n21766        Husband     White  ...                40         United-States   \n4614   Not-in-family     Black  ...                44         United-States   \n9414         Husband     White  ...                60         United-States   \n\n                C  Preferred_Communication_Method         D   B           E  \\\n336    116.950503                            mail  3.901100 NaN  157.340604   \n25716   99.439067                           Phone  7.323579 NaN  140.826881   \n21766   88.475484                            Mail  3.653778 NaN         NaN   \n4614   103.039378                            Mail  4.263327 NaN  142.147254   \n9414    84.005408                      Phone_Call  3.914996 NaN  130.306489   \n\n       Net_Investment  Log_Net_Investment  MissingFlag_Investment_Gain  \n336           -1977.0          -10.949827                      Present  \n25716             0.0            0.000000                      Present  \n21766             0.0            0.000000                      Present  \n4614              0.0            0.000000                      Present  \n9414              0.0            0.000000                      Present  \n\n[5 rows x 23 columns]",
      "text/html": "<div>\n<style scoped>\n    .dataframe tbody tr th:only-of-type {\n        vertical-align: middle;\n    }\n\n    .dataframe tbody tr th {\n        vertical-align: top;\n    }\n\n    .dataframe thead th {\n        text-align: right;\n    }\n</style>\n<table border=\"1\" class=\"dataframe\">\n  <thead>\n    <tr style=\"text-align: right;\">\n      <th></th>\n      <th>customer_id</th>\n      <th>Age</th>\n      <th>Employment_Type</th>\n      <th>A</th>\n      <th>Education_Level</th>\n      <th>Years_of_Education</th>\n      <th>Marital_Status</th>\n      <th>Job_Type</th>\n      <th>Household_Role</th>\n      <th>Ethnicity</th>\n      <th>...</th>\n      <th>Weekly_Work_Hours</th>\n      <th>Country_of_Residence</th>\n      <th>C</th>\n      <th>Preferred_Communication_Method</th>\n      <th>D</th>\n      <th>B</th>\n      <th>E</th>\n      <th>Net_Investment</th>\n      <th>Log_Net_Investment</th>\n      <th>MissingFlag_Investment_Gain</th>\n    </tr>\n  </thead>\n  <tbody>\n    <tr>\n      <th>336</th>\n      <td>116293</td>\n      <td>34.0</td>\n      <td>Private</td>\n      <td>189759</td>\n      <td>Bachelors</td>\n      <td>13.0</td>\n      <td>Married-civ-spouse</td>\n      <td>Exec-managerial</td>\n      <td>Husband</td>\n      <td>White</td>\n      <td>...</td>\n      <td>45</td>\n      <td>United-States</td>\n      <td>116.950503</td>\n      <td>mail</td>\n      <td>3.901100</td>\n      <td>NaN</td>\n      <td>157.340604</td>\n      <td>-1977.0</td>\n      <td>-10.949827</td>\n      <td>Present</td>\n    </tr>\n    <tr>\n      <th>25716</th>\n      <td>146164</td>\n      <td>43.0</td>\n      <td>Private</td>\n      <td>323713</td>\n      <td>HS-grad</td>\n      <td>9.0</td>\n      <td>Married-civ-spouse</td>\n      <td>Machine-op-inspct</td>\n      <td>Husband</td>\n      <td>White</td>\n      <td>...</td>\n      <td>40</td>\n      <td>United-States</td>\n      <td>99.439067</td>\n      <td>Phone</td>\n      <td>7.323579</td>\n      <td>NaN</td>\n      <td>140.826881</td>\n      <td>0.0</td>\n      <td>0.000000</td>\n      <td>Present</td>\n    </tr>\n    <tr>\n      <th>21766</th>\n      <td>141506</td>\n      <td>40.0</td>\n      <td>Private</td>\n      <td>119225</td>\n      <td>Assoc-voc</td>\n      <td>11.0</td>\n      <td>Married-civ-spouse</td>\n      <td>Prof-specialty</td>\n      <td>Husband</td>\n      <td>White</td>\n      <td>...</td>\n      <td>40</td>\n      <td>United-States</td>\n      <td>88.475484</td>\n      <td>Mail</td>\n      <td>3.653778</td>\n      <td>NaN</td>\n      <td>NaN</td>\n      <td>0.0</td>\n      <td>0.000000</td>\n      <td>Present</td>\n    </tr>\n    <tr>\n      <th>4614</th>\n      <td>121327</td>\n      <td>37.0</td>\n      <td>Private</td>\n      <td>349116</td>\n      <td>HS-grad</td>\n      <td>9.0</td>\n      <td>Never-married</td>\n      <td>Sales</td>\n      <td>Not-in-family</td>\n      <td>Black</td>\n      <td>...</td>\n      <td>44</td>\n      <td>United-States</td>\n      <td>103.039378</td>\n      <td>Mail</td>\n      <td>4.263327</td>\n      <td>NaN</td>\n      <td>142.147254</td>\n      <td>0.0</td>\n      <td>0.000000</td>\n      <td>Present</td>\n    </tr>\n    <tr>\n      <th>9414</th>\n      <td>126985</td>\n      <td>59.0</td>\n      <td>Private</td>\n      <td>75867</td>\n      <td>Masters</td>\n      <td>14.0</td>\n      <td>Married-civ-spouse</td>\n      <td>Prof-specialty</td>\n      <td>Husband</td>\n      <td>White</td>\n      <td>...</td>\n      <td>60</td>\n      <td>United-States</td>\n      <td>84.005408</td>\n      <td>Phone_Call</td>\n      <td>3.914996</td>\n      <td>NaN</td>\n      <td>130.306489</td>\n      <td>0.0</td>\n      <td>0.000000</td>\n      <td>Present</td>\n    </tr>\n  </tbody>\n</table>\n<p>5 rows × 23 columns</p>\n</div>"
     },
     "execution_count": 110,
     "metadata": {},
     "output_type": "execute_result"
    }
   ],
   "source": [
    "X_train.head()"
   ],
   "metadata": {
    "collapsed": false,
    "ExecuteTime": {
     "end_time": "2025-06-10T15:08:40.480876800Z",
     "start_time": "2025-06-10T15:08:40.401305400Z"
    }
   },
   "id": "e0d5e4437b14a13"
  },
  {
   "cell_type": "code",
   "execution_count": 130,
   "outputs": [
    {
     "data": {
      "text/plain": "Index(['customer_id', 'Age', 'Employment_Type', 'A', 'Education_Level',\n       'Years_of_Education', 'Marital_Status', 'Job_Type', 'Household_Role',\n       'Ethnicity', 'Gender', 'Investment_Gain', 'Investment_Loss',\n       'Weekly_Work_Hours', 'Country_of_Residence',\n       'Preferred_Communication_Method', 'D', 'E', 'Net_Investment',\n       'Log_Net_Investment'],\n      dtype='object')"
     },
     "execution_count": 130,
     "metadata": {},
     "output_type": "execute_result"
    }
   ],
   "source": [
    "X_train.columns"
   ],
   "metadata": {
    "collapsed": false,
    "ExecuteTime": {
     "end_time": "2025-06-10T15:16:58.596775300Z",
     "start_time": "2025-06-10T15:16:58.557469700Z"
    }
   },
   "id": "9012c16220ac5529"
  },
  {
   "cell_type": "code",
   "execution_count": 181,
   "outputs": [
    {
     "ename": "AttributeError",
     "evalue": "'LogisticRegression' object has no attribute 'classes_'",
     "output_type": "error",
     "traceback": [
      "\u001B[1;31m---------------------------------------------------------------------------\u001B[0m",
      "\u001B[1;31m_RemoteTraceback\u001B[0m                          Traceback (most recent call last)",
      "\u001B[1;31m_RemoteTraceback\u001B[0m: \n\"\"\"\njoblib.externals.loky.process_executor._RemoteTraceback: \n\"\"\"\nTraceback (most recent call last):\n  File \"c:\\users\\na270\\appdata\\local\\programs\\python\\python38\\lib\\site-packages\\sklearn\\metrics\\_scorer.py\", line 459, in _score\n    y_pred = method_caller(clf, \"decision_function\", X, pos_label=pos_label)\n  File \"c:\\users\\na270\\appdata\\local\\programs\\python\\python38\\lib\\site-packages\\sklearn\\metrics\\_scorer.py\", line 86, in _cached_call\n    result, _ = _get_response_values(\n  File \"c:\\users\\na270\\appdata\\local\\programs\\python\\python38\\lib\\site-packages\\sklearn\\utils\\_response.py\", line 182, in _get_response_values\n    classes = estimator.classes_\nAttributeError: 'LogisticRegression' object has no attribute 'classes_'\n\nDuring handling of the above exception, another exception occurred:\n\nTraceback (most recent call last):\n  File \"c:\\users\\na270\\appdata\\local\\programs\\python\\python38\\lib\\site-packages\\joblib\\_parallel_backends.py\", line 273, in _wrap_func_call\n    return func()\n  File \"c:\\users\\na270\\appdata\\local\\programs\\python\\python38\\lib\\site-packages\\joblib\\parallel.py\", line 589, in __call__\n    return [func(*args, **kwargs)\n  File \"c:\\users\\na270\\appdata\\local\\programs\\python\\python38\\lib\\site-packages\\joblib\\parallel.py\", line 589, in <listcomp>\n    return [func(*args, **kwargs)\n  File \"c:\\users\\na270\\appdata\\local\\programs\\python\\python38\\lib\\site-packages\\sklearn\\utils\\parallel.py\", line 127, in __call__\n    return self.function(*args, **kwargs)\n  File \"c:\\users\\na270\\appdata\\local\\programs\\python\\python38\\lib\\site-packages\\sklearn\\feature_selection\\_rfe.py\", line 32, in _rfe_single_fit\n    return rfe._fit(\n  File \"c:\\users\\na270\\appdata\\local\\programs\\python\\python38\\lib\\site-packages\\sklearn\\feature_selection\\_rfe.py\", line 328, in _fit\n    self.scores_.append(step_score(self.estimator_, features))\n  File \"c:\\users\\na270\\appdata\\local\\programs\\python\\python38\\lib\\site-packages\\sklearn\\feature_selection\\_rfe.py\", line 35, in <lambda>\n    lambda estimator, features: _score(\n  File \"c:\\users\\na270\\appdata\\local\\programs\\python\\python38\\lib\\site-packages\\sklearn\\model_selection\\_validation.py\", line 810, in _score\n    scores = scorer(estimator, X_test, y_test)\n  File \"c:\\users\\na270\\appdata\\local\\programs\\python\\python38\\lib\\site-packages\\sklearn\\metrics\\_scorer.py\", line 266, in __call__\n    return self._score(partial(_cached_call, None), estimator, X, y_true, **_kwargs)\n  File \"c:\\users\\na270\\appdata\\local\\programs\\python\\python38\\lib\\site-packages\\sklearn\\metrics\\_scorer.py\", line 466, in _score\n    y_pred = method_caller(clf, \"predict_proba\", X, pos_label=pos_label)\n  File \"c:\\users\\na270\\appdata\\local\\programs\\python\\python38\\lib\\site-packages\\sklearn\\metrics\\_scorer.py\", line 86, in _cached_call\n    result, _ = _get_response_values(\n  File \"c:\\users\\na270\\appdata\\local\\programs\\python\\python38\\lib\\site-packages\\sklearn\\utils\\_response.py\", line 182, in _get_response_values\n    classes = estimator.classes_\nAttributeError: 'LogisticRegression' object has no attribute 'classes_'\n\"\"\"\n\nThe above exception was the direct cause of the following exception:\n\nTraceback (most recent call last):\n  File \"c:\\users\\na270\\appdata\\local\\programs\\python\\python38\\lib\\site-packages\\joblib\\externals\\loky\\process_executor.py\", line 463, in _process_worker\n    r = call_item()\n  File \"c:\\users\\na270\\appdata\\local\\programs\\python\\python38\\lib\\site-packages\\joblib\\externals\\loky\\process_executor.py\", line 291, in __call__\n    return self.fn(*self.args, **self.kwargs)\n  File \"c:\\users\\na270\\appdata\\local\\programs\\python\\python38\\lib\\site-packages\\joblib\\parallel.py\", line 589, in __call__\n    return [func(*args, **kwargs)\n  File \"c:\\users\\na270\\appdata\\local\\programs\\python\\python38\\lib\\site-packages\\joblib\\parallel.py\", line 589, in <listcomp>\n    return [func(*args, **kwargs)\n  File \"c:\\users\\na270\\appdata\\local\\programs\\python\\python38\\lib\\site-packages\\sklearn\\utils\\parallel.py\", line 127, in __call__\n    return self.function(*args, **kwargs)\n  File \"c:\\users\\na270\\appdata\\local\\programs\\python\\python38\\lib\\site-packages\\sklearn\\model_selection\\_validation.py\", line 729, in _fit_and_score\n    estimator.fit(X_train, y_train, **fit_params)\n  File \"c:\\users\\na270\\appdata\\local\\programs\\python\\python38\\lib\\site-packages\\sklearn\\base.py\", line 1152, in wrapper\n    return fit_method(estimator, *args, **kwargs)\n  File \"c:\\users\\na270\\appdata\\local\\programs\\python\\python38\\lib\\site-packages\\sklearn\\pipeline.py\", line 423, in fit\n    Xt = self._fit(X, y, **fit_params_steps)\n  File \"c:\\users\\na270\\appdata\\local\\programs\\python\\python38\\lib\\site-packages\\sklearn\\pipeline.py\", line 377, in _fit\n    X, fitted_transformer = fit_transform_one_cached(\n  File \"c:\\users\\na270\\appdata\\local\\programs\\python\\python38\\lib\\site-packages\\joblib\\memory.py\", line 353, in __call__\n    return self.func(*args, **kwargs)\n  File \"c:\\users\\na270\\appdata\\local\\programs\\python\\python38\\lib\\site-packages\\sklearn\\pipeline.py\", line 957, in _fit_transform_one\n    res = transformer.fit_transform(X, y, **fit_params)\n  File \"c:\\users\\na270\\appdata\\local\\programs\\python\\python38\\lib\\site-packages\\sklearn\\utils\\_set_output.py\", line 157, in wrapped\n    data_to_wrap = f(self, X, *args, **kwargs)\n  File \"c:\\users\\na270\\appdata\\local\\programs\\python\\python38\\lib\\site-packages\\sklearn\\base.py\", line 919, in fit_transform\n    return self.fit(X, y, **fit_params).transform(X)\n  File \"c:\\users\\na270\\appdata\\local\\programs\\python\\python38\\lib\\site-packages\\sklearn\\base.py\", line 1152, in wrapper\n    return fit_method(estimator, *args, **kwargs)\n  File \"c:\\users\\na270\\appdata\\local\\programs\\python\\python38\\lib\\site-packages\\sklearn\\feature_selection\\_rfe.py\", line 726, in fit\n    scores = parallel(\n  File \"c:\\users\\na270\\appdata\\local\\programs\\python\\python38\\lib\\site-packages\\sklearn\\utils\\parallel.py\", line 65, in __call__\n    return super().__call__(iterable_with_config)\n  File \"c:\\users\\na270\\appdata\\local\\programs\\python\\python38\\lib\\site-packages\\joblib\\parallel.py\", line 1952, in __call__\n    return output if self.return_generator else list(output)\n  File \"c:\\users\\na270\\appdata\\local\\programs\\python\\python38\\lib\\site-packages\\joblib\\parallel.py\", line 1595, in _get_outputs\n    yield from self._retrieve()\n  File \"c:\\users\\na270\\appdata\\local\\programs\\python\\python38\\lib\\site-packages\\joblib\\parallel.py\", line 1699, in _retrieve\n    self._raise_error_fast()\n  File \"c:\\users\\na270\\appdata\\local\\programs\\python\\python38\\lib\\site-packages\\joblib\\parallel.py\", line 1734, in _raise_error_fast\n    error_job.get_result(self.timeout)\n  File \"c:\\users\\na270\\appdata\\local\\programs\\python\\python38\\lib\\site-packages\\joblib\\parallel.py\", line 736, in get_result\n    return self._return_or_raise()\n  File \"c:\\users\\na270\\appdata\\local\\programs\\python\\python38\\lib\\site-packages\\joblib\\parallel.py\", line 754, in _return_or_raise\n    raise self._result\nAttributeError: 'LogisticRegression' object has no attribute 'classes_'\n\"\"\"",
      "\nThe above exception was the direct cause of the following exception:\n",
      "\u001B[1;31mAttributeError\u001B[0m                            Traceback (most recent call last)",
      "Cell \u001B[1;32mIn[181], line 13\u001B[0m\n\u001B[0;32m      1\u001B[0m pipeline \u001B[38;5;241m=\u001B[39m Pipeline([\n\u001B[0;32m      2\u001B[0m     (\u001B[38;5;124m'\u001B[39m\u001B[38;5;124mpreproc\u001B[39m\u001B[38;5;124m'\u001B[39m,     preprocessor),    \u001B[38;5;66;03m# 1. Impute, encode, scale, etc.\u001B[39;00m\n\u001B[0;32m      3\u001B[0m     (\u001B[38;5;124m'\u001B[39m\u001B[38;5;124mfeature_sel\u001B[39m\u001B[38;5;124m'\u001B[39m, rfecv),           \u001B[38;5;66;03m# 2. RFECV (or any selector)\u001B[39;00m\n\u001B[1;32m   (...)\u001B[0m\n\u001B[0;32m      8\u001B[0m                     ))             \u001B[38;5;66;03m# 3. Your final model\u001B[39;00m\n\u001B[0;32m      9\u001B[0m ])\n\u001B[0;32m     11\u001B[0m \u001B[38;5;66;03m# 3. Cross‐validate on the TRAINING set\u001B[39;00m\n\u001B[0;32m     12\u001B[0m \u001B[38;5;66;03m#    (CV will fit a fresh copy of `pipeline` on each fold)\u001B[39;00m\n\u001B[1;32m---> 13\u001B[0m cv_scores \u001B[38;5;241m=\u001B[39m \u001B[43mcross_val_score\u001B[49m\u001B[43m(\u001B[49m\n\u001B[0;32m     14\u001B[0m \u001B[43m    \u001B[49m\u001B[43mpipeline\u001B[49m\u001B[43m,\u001B[49m\n\u001B[0;32m     15\u001B[0m \u001B[43m    \u001B[49m\u001B[43mX_train\u001B[49m\u001B[43m,\u001B[49m\u001B[43m \u001B[49m\u001B[43my_train\u001B[49m\u001B[43m,\u001B[49m\n\u001B[0;32m     16\u001B[0m \u001B[43m    \u001B[49m\u001B[43mcv\u001B[49m\u001B[38;5;241;43m=\u001B[39;49m\u001B[38;5;241;43m5\u001B[39;49m\u001B[43m,\u001B[49m\n\u001B[0;32m     17\u001B[0m \u001B[43m    \u001B[49m\u001B[43mscoring\u001B[49m\u001B[38;5;241;43m=\u001B[39;49m\u001B[38;5;124;43m'\u001B[39;49m\u001B[38;5;124;43mroc_auc\u001B[39;49m\u001B[38;5;124;43m'\u001B[39;49m\u001B[43m,\u001B[49m\n\u001B[0;32m     18\u001B[0m \u001B[43m    \u001B[49m\u001B[43mn_jobs\u001B[49m\u001B[38;5;241;43m=\u001B[39;49m\u001B[38;5;241;43m-\u001B[39;49m\u001B[38;5;241;43m1\u001B[39;49m\u001B[43m,\u001B[49m\n\u001B[0;32m     19\u001B[0m \u001B[43m    \u001B[49m\u001B[43merror_score\u001B[49m\u001B[38;5;241;43m=\u001B[39;49m\u001B[38;5;124;43m'\u001B[39;49m\u001B[38;5;124;43mraise\u001B[39;49m\u001B[38;5;124;43m'\u001B[39;49m\u001B[43m       \u001B[49m\u001B[38;5;66;43;03m# ← will re-raise the first error it sees\u001B[39;49;00m\n\u001B[0;32m     20\u001B[0m \u001B[43m)\u001B[49m\n\u001B[0;32m     21\u001B[0m \u001B[38;5;28mprint\u001B[39m(\u001B[38;5;124mf\u001B[39m\u001B[38;5;124m\"\u001B[39m\u001B[38;5;124mCV ROC-AUC: \u001B[39m\u001B[38;5;132;01m{\u001B[39;00mcv_scores\u001B[38;5;241m.\u001B[39mmean()\u001B[38;5;132;01m:\u001B[39;00m\u001B[38;5;124m.3f\u001B[39m\u001B[38;5;132;01m}\u001B[39;00m\u001B[38;5;124m ± \u001B[39m\u001B[38;5;132;01m{\u001B[39;00mcv_scores\u001B[38;5;241m.\u001B[39mstd()\u001B[38;5;132;01m:\u001B[39;00m\u001B[38;5;124m.3f\u001B[39m\u001B[38;5;132;01m}\u001B[39;00m\u001B[38;5;124m\"\u001B[39m)\n\u001B[0;32m     29\u001B[0m \u001B[38;5;66;03m# 4. Fit the pipeline on ALL the training data\u001B[39;00m\n",
      "File \u001B[1;32mc:\\users\\na270\\appdata\\local\\programs\\python\\python38\\lib\\site-packages\\sklearn\\model_selection\\_validation.py:562\u001B[0m, in \u001B[0;36mcross_val_score\u001B[1;34m(estimator, X, y, groups, scoring, cv, n_jobs, verbose, fit_params, pre_dispatch, error_score)\u001B[0m\n\u001B[0;32m    559\u001B[0m \u001B[38;5;66;03m# To ensure multimetric format is not supported\u001B[39;00m\n\u001B[0;32m    560\u001B[0m scorer \u001B[38;5;241m=\u001B[39m check_scoring(estimator, scoring\u001B[38;5;241m=\u001B[39mscoring)\n\u001B[1;32m--> 562\u001B[0m cv_results \u001B[38;5;241m=\u001B[39m \u001B[43mcross_validate\u001B[49m\u001B[43m(\u001B[49m\n\u001B[0;32m    563\u001B[0m \u001B[43m    \u001B[49m\u001B[43mestimator\u001B[49m\u001B[38;5;241;43m=\u001B[39;49m\u001B[43mestimator\u001B[49m\u001B[43m,\u001B[49m\n\u001B[0;32m    564\u001B[0m \u001B[43m    \u001B[49m\u001B[43mX\u001B[49m\u001B[38;5;241;43m=\u001B[39;49m\u001B[43mX\u001B[49m\u001B[43m,\u001B[49m\n\u001B[0;32m    565\u001B[0m \u001B[43m    \u001B[49m\u001B[43my\u001B[49m\u001B[38;5;241;43m=\u001B[39;49m\u001B[43my\u001B[49m\u001B[43m,\u001B[49m\n\u001B[0;32m    566\u001B[0m \u001B[43m    \u001B[49m\u001B[43mgroups\u001B[49m\u001B[38;5;241;43m=\u001B[39;49m\u001B[43mgroups\u001B[49m\u001B[43m,\u001B[49m\n\u001B[0;32m    567\u001B[0m \u001B[43m    \u001B[49m\u001B[43mscoring\u001B[49m\u001B[38;5;241;43m=\u001B[39;49m\u001B[43m{\u001B[49m\u001B[38;5;124;43m\"\u001B[39;49m\u001B[38;5;124;43mscore\u001B[39;49m\u001B[38;5;124;43m\"\u001B[39;49m\u001B[43m:\u001B[49m\u001B[43m \u001B[49m\u001B[43mscorer\u001B[49m\u001B[43m}\u001B[49m\u001B[43m,\u001B[49m\n\u001B[0;32m    568\u001B[0m \u001B[43m    \u001B[49m\u001B[43mcv\u001B[49m\u001B[38;5;241;43m=\u001B[39;49m\u001B[43mcv\u001B[49m\u001B[43m,\u001B[49m\n\u001B[0;32m    569\u001B[0m \u001B[43m    \u001B[49m\u001B[43mn_jobs\u001B[49m\u001B[38;5;241;43m=\u001B[39;49m\u001B[43mn_jobs\u001B[49m\u001B[43m,\u001B[49m\n\u001B[0;32m    570\u001B[0m \u001B[43m    \u001B[49m\u001B[43mverbose\u001B[49m\u001B[38;5;241;43m=\u001B[39;49m\u001B[43mverbose\u001B[49m\u001B[43m,\u001B[49m\n\u001B[0;32m    571\u001B[0m \u001B[43m    \u001B[49m\u001B[43mfit_params\u001B[49m\u001B[38;5;241;43m=\u001B[39;49m\u001B[43mfit_params\u001B[49m\u001B[43m,\u001B[49m\n\u001B[0;32m    572\u001B[0m \u001B[43m    \u001B[49m\u001B[43mpre_dispatch\u001B[49m\u001B[38;5;241;43m=\u001B[39;49m\u001B[43mpre_dispatch\u001B[49m\u001B[43m,\u001B[49m\n\u001B[0;32m    573\u001B[0m \u001B[43m    \u001B[49m\u001B[43merror_score\u001B[49m\u001B[38;5;241;43m=\u001B[39;49m\u001B[43merror_score\u001B[49m\u001B[43m,\u001B[49m\n\u001B[0;32m    574\u001B[0m \u001B[43m\u001B[49m\u001B[43m)\u001B[49m\n\u001B[0;32m    575\u001B[0m \u001B[38;5;28;01mreturn\u001B[39;00m cv_results[\u001B[38;5;124m\"\u001B[39m\u001B[38;5;124mtest_score\u001B[39m\u001B[38;5;124m\"\u001B[39m]\n",
      "File \u001B[1;32mc:\\users\\na270\\appdata\\local\\programs\\python\\python38\\lib\\site-packages\\sklearn\\utils\\_param_validation.py:214\u001B[0m, in \u001B[0;36mvalidate_params.<locals>.decorator.<locals>.wrapper\u001B[1;34m(*args, **kwargs)\u001B[0m\n\u001B[0;32m    208\u001B[0m \u001B[38;5;28;01mtry\u001B[39;00m:\n\u001B[0;32m    209\u001B[0m     \u001B[38;5;28;01mwith\u001B[39;00m config_context(\n\u001B[0;32m    210\u001B[0m         skip_parameter_validation\u001B[38;5;241m=\u001B[39m(\n\u001B[0;32m    211\u001B[0m             prefer_skip_nested_validation \u001B[38;5;129;01mor\u001B[39;00m global_skip_validation\n\u001B[0;32m    212\u001B[0m         )\n\u001B[0;32m    213\u001B[0m     ):\n\u001B[1;32m--> 214\u001B[0m         \u001B[38;5;28;01mreturn\u001B[39;00m \u001B[43mfunc\u001B[49m\u001B[43m(\u001B[49m\u001B[38;5;241;43m*\u001B[39;49m\u001B[43margs\u001B[49m\u001B[43m,\u001B[49m\u001B[43m \u001B[49m\u001B[38;5;241;43m*\u001B[39;49m\u001B[38;5;241;43m*\u001B[39;49m\u001B[43mkwargs\u001B[49m\u001B[43m)\u001B[49m\n\u001B[0;32m    215\u001B[0m \u001B[38;5;28;01mexcept\u001B[39;00m InvalidParameterError \u001B[38;5;28;01mas\u001B[39;00m e:\n\u001B[0;32m    216\u001B[0m     \u001B[38;5;66;03m# When the function is just a wrapper around an estimator, we allow\u001B[39;00m\n\u001B[0;32m    217\u001B[0m     \u001B[38;5;66;03m# the function to delegate validation to the estimator, but we replace\u001B[39;00m\n\u001B[0;32m    218\u001B[0m     \u001B[38;5;66;03m# the name of the estimator by the name of the function in the error\u001B[39;00m\n\u001B[0;32m    219\u001B[0m     \u001B[38;5;66;03m# message to avoid confusion.\u001B[39;00m\n\u001B[0;32m    220\u001B[0m     msg \u001B[38;5;241m=\u001B[39m re\u001B[38;5;241m.\u001B[39msub(\n\u001B[0;32m    221\u001B[0m         \u001B[38;5;124mr\u001B[39m\u001B[38;5;124m\"\u001B[39m\u001B[38;5;124mparameter of \u001B[39m\u001B[38;5;124m\\\u001B[39m\u001B[38;5;124mw+ must be\u001B[39m\u001B[38;5;124m\"\u001B[39m,\n\u001B[0;32m    222\u001B[0m         \u001B[38;5;124mf\u001B[39m\u001B[38;5;124m\"\u001B[39m\u001B[38;5;124mparameter of \u001B[39m\u001B[38;5;132;01m{\u001B[39;00mfunc\u001B[38;5;241m.\u001B[39m\u001B[38;5;18m__qualname__\u001B[39m\u001B[38;5;132;01m}\u001B[39;00m\u001B[38;5;124m must be\u001B[39m\u001B[38;5;124m\"\u001B[39m,\n\u001B[0;32m    223\u001B[0m         \u001B[38;5;28mstr\u001B[39m(e),\n\u001B[0;32m    224\u001B[0m     )\n",
      "File \u001B[1;32mc:\\users\\na270\\appdata\\local\\programs\\python\\python38\\lib\\site-packages\\sklearn\\model_selection\\_validation.py:309\u001B[0m, in \u001B[0;36mcross_validate\u001B[1;34m(estimator, X, y, groups, scoring, cv, n_jobs, verbose, fit_params, pre_dispatch, return_train_score, return_estimator, return_indices, error_score)\u001B[0m\n\u001B[0;32m    306\u001B[0m \u001B[38;5;66;03m# We clone the estimator to make sure that all the folds are\u001B[39;00m\n\u001B[0;32m    307\u001B[0m \u001B[38;5;66;03m# independent, and that it is pickle-able.\u001B[39;00m\n\u001B[0;32m    308\u001B[0m parallel \u001B[38;5;241m=\u001B[39m Parallel(n_jobs\u001B[38;5;241m=\u001B[39mn_jobs, verbose\u001B[38;5;241m=\u001B[39mverbose, pre_dispatch\u001B[38;5;241m=\u001B[39mpre_dispatch)\n\u001B[1;32m--> 309\u001B[0m results \u001B[38;5;241m=\u001B[39m \u001B[43mparallel\u001B[49m\u001B[43m(\u001B[49m\n\u001B[0;32m    310\u001B[0m \u001B[43m    \u001B[49m\u001B[43mdelayed\u001B[49m\u001B[43m(\u001B[49m\u001B[43m_fit_and_score\u001B[49m\u001B[43m)\u001B[49m\u001B[43m(\u001B[49m\n\u001B[0;32m    311\u001B[0m \u001B[43m        \u001B[49m\u001B[43mclone\u001B[49m\u001B[43m(\u001B[49m\u001B[43mestimator\u001B[49m\u001B[43m)\u001B[49m\u001B[43m,\u001B[49m\n\u001B[0;32m    312\u001B[0m \u001B[43m        \u001B[49m\u001B[43mX\u001B[49m\u001B[43m,\u001B[49m\n\u001B[0;32m    313\u001B[0m \u001B[43m        \u001B[49m\u001B[43my\u001B[49m\u001B[43m,\u001B[49m\n\u001B[0;32m    314\u001B[0m \u001B[43m        \u001B[49m\u001B[43mscorers\u001B[49m\u001B[43m,\u001B[49m\n\u001B[0;32m    315\u001B[0m \u001B[43m        \u001B[49m\u001B[43mtrain\u001B[49m\u001B[43m,\u001B[49m\n\u001B[0;32m    316\u001B[0m \u001B[43m        \u001B[49m\u001B[43mtest\u001B[49m\u001B[43m,\u001B[49m\n\u001B[0;32m    317\u001B[0m \u001B[43m        \u001B[49m\u001B[43mverbose\u001B[49m\u001B[43m,\u001B[49m\n\u001B[0;32m    318\u001B[0m \u001B[43m        \u001B[49m\u001B[38;5;28;43;01mNone\u001B[39;49;00m\u001B[43m,\u001B[49m\n\u001B[0;32m    319\u001B[0m \u001B[43m        \u001B[49m\u001B[43mfit_params\u001B[49m\u001B[43m,\u001B[49m\n\u001B[0;32m    320\u001B[0m \u001B[43m        \u001B[49m\u001B[43mreturn_train_score\u001B[49m\u001B[38;5;241;43m=\u001B[39;49m\u001B[43mreturn_train_score\u001B[49m\u001B[43m,\u001B[49m\n\u001B[0;32m    321\u001B[0m \u001B[43m        \u001B[49m\u001B[43mreturn_times\u001B[49m\u001B[38;5;241;43m=\u001B[39;49m\u001B[38;5;28;43;01mTrue\u001B[39;49;00m\u001B[43m,\u001B[49m\n\u001B[0;32m    322\u001B[0m \u001B[43m        \u001B[49m\u001B[43mreturn_estimator\u001B[49m\u001B[38;5;241;43m=\u001B[39;49m\u001B[43mreturn_estimator\u001B[49m\u001B[43m,\u001B[49m\n\u001B[0;32m    323\u001B[0m \u001B[43m        \u001B[49m\u001B[43merror_score\u001B[49m\u001B[38;5;241;43m=\u001B[39;49m\u001B[43merror_score\u001B[49m\u001B[43m,\u001B[49m\n\u001B[0;32m    324\u001B[0m \u001B[43m    \u001B[49m\u001B[43m)\u001B[49m\n\u001B[0;32m    325\u001B[0m \u001B[43m    \u001B[49m\u001B[38;5;28;43;01mfor\u001B[39;49;00m\u001B[43m \u001B[49m\u001B[43mtrain\u001B[49m\u001B[43m,\u001B[49m\u001B[43m \u001B[49m\u001B[43mtest\u001B[49m\u001B[43m \u001B[49m\u001B[38;5;129;43;01min\u001B[39;49;00m\u001B[43m \u001B[49m\u001B[43mindices\u001B[49m\n\u001B[0;32m    326\u001B[0m \u001B[43m\u001B[49m\u001B[43m)\u001B[49m\n\u001B[0;32m    328\u001B[0m _warn_or_raise_about_fit_failures(results, error_score)\n\u001B[0;32m    330\u001B[0m \u001B[38;5;66;03m# For callable scoring, the return type is only know after calling. If the\u001B[39;00m\n\u001B[0;32m    331\u001B[0m \u001B[38;5;66;03m# return type is a dictionary, the error scores can now be inserted with\u001B[39;00m\n\u001B[0;32m    332\u001B[0m \u001B[38;5;66;03m# the correct key.\u001B[39;00m\n",
      "File \u001B[1;32mc:\\users\\na270\\appdata\\local\\programs\\python\\python38\\lib\\site-packages\\sklearn\\utils\\parallel.py:65\u001B[0m, in \u001B[0;36mParallel.__call__\u001B[1;34m(self, iterable)\u001B[0m\n\u001B[0;32m     60\u001B[0m config \u001B[38;5;241m=\u001B[39m get_config()\n\u001B[0;32m     61\u001B[0m iterable_with_config \u001B[38;5;241m=\u001B[39m (\n\u001B[0;32m     62\u001B[0m     (_with_config(delayed_func, config), args, kwargs)\n\u001B[0;32m     63\u001B[0m     \u001B[38;5;28;01mfor\u001B[39;00m delayed_func, args, kwargs \u001B[38;5;129;01min\u001B[39;00m iterable\n\u001B[0;32m     64\u001B[0m )\n\u001B[1;32m---> 65\u001B[0m \u001B[38;5;28;01mreturn\u001B[39;00m \u001B[38;5;28;43msuper\u001B[39;49m\u001B[43m(\u001B[49m\u001B[43m)\u001B[49m\u001B[38;5;241;43m.\u001B[39;49m\u001B[38;5;21;43m__call__\u001B[39;49m\u001B[43m(\u001B[49m\u001B[43miterable_with_config\u001B[49m\u001B[43m)\u001B[49m\n",
      "File \u001B[1;32mc:\\users\\na270\\appdata\\local\\programs\\python\\python38\\lib\\site-packages\\joblib\\parallel.py:1952\u001B[0m, in \u001B[0;36mParallel.__call__\u001B[1;34m(self, iterable)\u001B[0m\n\u001B[0;32m   1946\u001B[0m \u001B[38;5;66;03m# The first item from the output is blank, but it makes the interpreter\u001B[39;00m\n\u001B[0;32m   1947\u001B[0m \u001B[38;5;66;03m# progress until it enters the Try/Except block of the generator and\u001B[39;00m\n\u001B[0;32m   1948\u001B[0m \u001B[38;5;66;03m# reach the first `yield` statement. This starts the aynchronous\u001B[39;00m\n\u001B[0;32m   1949\u001B[0m \u001B[38;5;66;03m# dispatch of the tasks to the workers.\u001B[39;00m\n\u001B[0;32m   1950\u001B[0m \u001B[38;5;28mnext\u001B[39m(output)\n\u001B[1;32m-> 1952\u001B[0m \u001B[38;5;28;01mreturn\u001B[39;00m output \u001B[38;5;28;01mif\u001B[39;00m \u001B[38;5;28mself\u001B[39m\u001B[38;5;241m.\u001B[39mreturn_generator \u001B[38;5;28;01melse\u001B[39;00m \u001B[38;5;28;43mlist\u001B[39;49m\u001B[43m(\u001B[49m\u001B[43moutput\u001B[49m\u001B[43m)\u001B[49m\n",
      "File \u001B[1;32mc:\\users\\na270\\appdata\\local\\programs\\python\\python38\\lib\\site-packages\\joblib\\parallel.py:1595\u001B[0m, in \u001B[0;36mParallel._get_outputs\u001B[1;34m(self, iterator, pre_dispatch)\u001B[0m\n\u001B[0;32m   1592\u001B[0m     \u001B[38;5;28;01myield\u001B[39;00m\n\u001B[0;32m   1594\u001B[0m     \u001B[38;5;28;01mwith\u001B[39;00m \u001B[38;5;28mself\u001B[39m\u001B[38;5;241m.\u001B[39m_backend\u001B[38;5;241m.\u001B[39mretrieval_context():\n\u001B[1;32m-> 1595\u001B[0m         \u001B[38;5;28;01myield from\u001B[39;00m \u001B[38;5;28mself\u001B[39m\u001B[38;5;241m.\u001B[39m_retrieve()\n\u001B[0;32m   1597\u001B[0m \u001B[38;5;28;01mexcept\u001B[39;00m \u001B[38;5;167;01mGeneratorExit\u001B[39;00m:\n\u001B[0;32m   1598\u001B[0m     \u001B[38;5;66;03m# The generator has been garbage collected before being fully\u001B[39;00m\n\u001B[0;32m   1599\u001B[0m     \u001B[38;5;66;03m# consumed. This aborts the remaining tasks if possible and warn\u001B[39;00m\n\u001B[0;32m   1600\u001B[0m     \u001B[38;5;66;03m# the user if necessary.\u001B[39;00m\n\u001B[0;32m   1601\u001B[0m     \u001B[38;5;28mself\u001B[39m\u001B[38;5;241m.\u001B[39m_exception \u001B[38;5;241m=\u001B[39m \u001B[38;5;28;01mTrue\u001B[39;00m\n",
      "File \u001B[1;32mc:\\users\\na270\\appdata\\local\\programs\\python\\python38\\lib\\site-packages\\joblib\\parallel.py:1699\u001B[0m, in \u001B[0;36mParallel._retrieve\u001B[1;34m(self)\u001B[0m\n\u001B[0;32m   1692\u001B[0m \u001B[38;5;28;01mwhile\u001B[39;00m \u001B[38;5;28mself\u001B[39m\u001B[38;5;241m.\u001B[39m_wait_retrieval():\n\u001B[0;32m   1693\u001B[0m \n\u001B[0;32m   1694\u001B[0m     \u001B[38;5;66;03m# If the callback thread of a worker has signaled that its task\u001B[39;00m\n\u001B[0;32m   1695\u001B[0m     \u001B[38;5;66;03m# triggered an exception, or if the retrieval loop has raised an\u001B[39;00m\n\u001B[0;32m   1696\u001B[0m     \u001B[38;5;66;03m# exception (e.g. `GeneratorExit`), exit the loop and surface the\u001B[39;00m\n\u001B[0;32m   1697\u001B[0m     \u001B[38;5;66;03m# worker traceback.\u001B[39;00m\n\u001B[0;32m   1698\u001B[0m     \u001B[38;5;28;01mif\u001B[39;00m \u001B[38;5;28mself\u001B[39m\u001B[38;5;241m.\u001B[39m_aborting:\n\u001B[1;32m-> 1699\u001B[0m         \u001B[38;5;28;43mself\u001B[39;49m\u001B[38;5;241;43m.\u001B[39;49m\u001B[43m_raise_error_fast\u001B[49m\u001B[43m(\u001B[49m\u001B[43m)\u001B[49m\n\u001B[0;32m   1700\u001B[0m         \u001B[38;5;28;01mbreak\u001B[39;00m\n\u001B[0;32m   1702\u001B[0m     \u001B[38;5;66;03m# If the next job is not ready for retrieval yet, we just wait for\u001B[39;00m\n\u001B[0;32m   1703\u001B[0m     \u001B[38;5;66;03m# async callbacks to progress.\u001B[39;00m\n",
      "File \u001B[1;32mc:\\users\\na270\\appdata\\local\\programs\\python\\python38\\lib\\site-packages\\joblib\\parallel.py:1734\u001B[0m, in \u001B[0;36mParallel._raise_error_fast\u001B[1;34m(self)\u001B[0m\n\u001B[0;32m   1730\u001B[0m \u001B[38;5;66;03m# If this error job exists, immediatly raise the error by\u001B[39;00m\n\u001B[0;32m   1731\u001B[0m \u001B[38;5;66;03m# calling get_result. This job might not exists if abort has been\u001B[39;00m\n\u001B[0;32m   1732\u001B[0m \u001B[38;5;66;03m# called directly or if the generator is gc'ed.\u001B[39;00m\n\u001B[0;32m   1733\u001B[0m \u001B[38;5;28;01mif\u001B[39;00m error_job \u001B[38;5;129;01mis\u001B[39;00m \u001B[38;5;129;01mnot\u001B[39;00m \u001B[38;5;28;01mNone\u001B[39;00m:\n\u001B[1;32m-> 1734\u001B[0m     \u001B[43merror_job\u001B[49m\u001B[38;5;241;43m.\u001B[39;49m\u001B[43mget_result\u001B[49m\u001B[43m(\u001B[49m\u001B[38;5;28;43mself\u001B[39;49m\u001B[38;5;241;43m.\u001B[39;49m\u001B[43mtimeout\u001B[49m\u001B[43m)\u001B[49m\n",
      "File \u001B[1;32mc:\\users\\na270\\appdata\\local\\programs\\python\\python38\\lib\\site-packages\\joblib\\parallel.py:736\u001B[0m, in \u001B[0;36mBatchCompletionCallBack.get_result\u001B[1;34m(self, timeout)\u001B[0m\n\u001B[0;32m    730\u001B[0m backend \u001B[38;5;241m=\u001B[39m \u001B[38;5;28mself\u001B[39m\u001B[38;5;241m.\u001B[39mparallel\u001B[38;5;241m.\u001B[39m_backend\n\u001B[0;32m    732\u001B[0m \u001B[38;5;28;01mif\u001B[39;00m backend\u001B[38;5;241m.\u001B[39msupports_retrieve_callback:\n\u001B[0;32m    733\u001B[0m     \u001B[38;5;66;03m# We assume that the result has already been retrieved by the\u001B[39;00m\n\u001B[0;32m    734\u001B[0m     \u001B[38;5;66;03m# callback thread, and is stored internally. It's just waiting to\u001B[39;00m\n\u001B[0;32m    735\u001B[0m     \u001B[38;5;66;03m# be returned.\u001B[39;00m\n\u001B[1;32m--> 736\u001B[0m     \u001B[38;5;28;01mreturn\u001B[39;00m \u001B[38;5;28;43mself\u001B[39;49m\u001B[38;5;241;43m.\u001B[39;49m\u001B[43m_return_or_raise\u001B[49m\u001B[43m(\u001B[49m\u001B[43m)\u001B[49m\n\u001B[0;32m    738\u001B[0m \u001B[38;5;66;03m# For other backends, the main thread needs to run the retrieval step.\u001B[39;00m\n\u001B[0;32m    739\u001B[0m \u001B[38;5;28;01mtry\u001B[39;00m:\n",
      "File \u001B[1;32mc:\\users\\na270\\appdata\\local\\programs\\python\\python38\\lib\\site-packages\\joblib\\parallel.py:754\u001B[0m, in \u001B[0;36mBatchCompletionCallBack._return_or_raise\u001B[1;34m(self)\u001B[0m\n\u001B[0;32m    752\u001B[0m \u001B[38;5;28;01mtry\u001B[39;00m:\n\u001B[0;32m    753\u001B[0m     \u001B[38;5;28;01mif\u001B[39;00m \u001B[38;5;28mself\u001B[39m\u001B[38;5;241m.\u001B[39mstatus \u001B[38;5;241m==\u001B[39m TASK_ERROR:\n\u001B[1;32m--> 754\u001B[0m         \u001B[38;5;28;01mraise\u001B[39;00m \u001B[38;5;28mself\u001B[39m\u001B[38;5;241m.\u001B[39m_result\n\u001B[0;32m    755\u001B[0m     \u001B[38;5;28;01mreturn\u001B[39;00m \u001B[38;5;28mself\u001B[39m\u001B[38;5;241m.\u001B[39m_result\n\u001B[0;32m    756\u001B[0m \u001B[38;5;28;01mfinally\u001B[39;00m:\n",
      "\u001B[1;31mAttributeError\u001B[0m: 'LogisticRegression' object has no attribute 'classes_'"
     ]
    }
   ],
   "source": [
    "pipeline = Pipeline([\n",
    "    ('preproc',     preprocessor),    # 1. Impute, encode, scale, etc.\n",
    "    ('feature_sel', rfecv),           # 2. RFECV (or any selector)\n",
    "    ('clf',         LogisticRegression(\n",
    "                        penalty='l2',\n",
    "                        solver='liblinear',\n",
    "                        max_iter=1000\n",
    "                    ))             # 3. Your final model\n",
    "])\n",
    "\n",
    "# 3. Cross‐validate on the TRAINING set\n",
    "#    (CV will fit a fresh copy of `pipeline` on each fold)\n",
    "cv_scores = cross_val_score(\n",
    "    pipeline,\n",
    "    X_train, y_train,\n",
    "    cv=5,\n",
    "    scoring='roc_auc',\n",
    "    n_jobs=-1,\n",
    "    error_score='raise'       # ← will re-raise the first error it sees\n",
    ")\n",
    "print(f\"CV ROC-AUC: {cv_scores.mean():.3f} ± {cv_scores.std():.3f}\")\n",
    "\n",
    "\n",
    "\n",
    "\n",
    "\n",
    "\n",
    "\n",
    "# 4. Fit the pipeline on ALL the training data\n",
    "pipeline.fit(X_train, y_train)\n",
    "\n",
    "# 5. Evaluate on your hold-out TEST set\n",
    "y_pred  = pipeline.predict(X_test)\n",
    "y_proba = pipeline.predict_proba(X_test)[:, 1]\n",
    "\n",
    "print(classification_report(y_test, y_pred))\n",
    "print(\"Test   ROC-AUC:\", round(roc_auc_score(y_test, y_proba), 3))\n"
   ],
   "metadata": {
    "collapsed": false,
    "ExecuteTime": {
     "end_time": "2025-06-10T15:49:10.671040400Z",
     "start_time": "2025-06-10T15:48:54.707265300Z"
    }
   },
   "id": "4303a83c208d4286"
  },
  {
   "cell_type": "code",
   "execution_count": 182,
   "outputs": [
    {
     "name": "stderr",
     "output_type": "stream",
     "text": [
      "c:\\users\\na270\\appdata\\local\\programs\\python\\python38\\lib\\site-packages\\sklearn\\model_selection\\_validation.py:425: FitFailedWarning: \n",
      "2 fits failed out of a total of 5.\n",
      "The score on these train-test partitions for these parameters will be set to nan.\n",
      "If these failures are not expected, you can try to debug them by setting error_score='raise'.\n",
      "\n",
      "Below are more details about the failures:\n",
      "--------------------------------------------------------------------------------\n",
      "1 fits failed with the following error:\n",
      "joblib.externals.loky.process_executor._RemoteTraceback: \n",
      "\"\"\"\n",
      "Traceback (most recent call last):\n",
      "  File \"c:\\users\\na270\\appdata\\local\\programs\\python\\python38\\lib\\site-packages\\sklearn\\metrics\\_scorer.py\", line 459, in _score\n",
      "    y_pred = method_caller(clf, \"decision_function\", X, pos_label=pos_label)\n",
      "  File \"c:\\users\\na270\\appdata\\local\\programs\\python\\python38\\lib\\site-packages\\sklearn\\metrics\\_scorer.py\", line 86, in _cached_call\n",
      "    result, _ = _get_response_values(\n",
      "  File \"c:\\users\\na270\\appdata\\local\\programs\\python\\python38\\lib\\site-packages\\sklearn\\utils\\_response.py\", line 194, in _get_response_values\n",
      "    y_pred = prediction_method(X)\n",
      "  File \"c:\\users\\na270\\appdata\\local\\programs\\python\\python38\\lib\\site-packages\\sklearn\\linear_model\\_base.py\", line 433, in decision_function\n",
      "    scores = safe_sparse_dot(X, self.coef_.T, dense_output=True) + self.intercept_\n",
      "AttributeError: 'LogisticRegression' object has no attribute 'coef_'\n",
      "\n",
      "During handling of the above exception, another exception occurred:\n",
      "\n",
      "Traceback (most recent call last):\n",
      "  File \"c:\\users\\na270\\appdata\\local\\programs\\python\\python38\\lib\\site-packages\\joblib\\_parallel_backends.py\", line 273, in _wrap_func_call\n",
      "    return func()\n",
      "  File \"c:\\users\\na270\\appdata\\local\\programs\\python\\python38\\lib\\site-packages\\joblib\\parallel.py\", line 589, in __call__\n",
      "    return [func(*args, **kwargs)\n",
      "  File \"c:\\users\\na270\\appdata\\local\\programs\\python\\python38\\lib\\site-packages\\joblib\\parallel.py\", line 589, in <listcomp>\n",
      "    return [func(*args, **kwargs)\n",
      "  File \"c:\\users\\na270\\appdata\\local\\programs\\python\\python38\\lib\\site-packages\\sklearn\\utils\\parallel.py\", line 127, in __call__\n",
      "    return self.function(*args, **kwargs)\n",
      "  File \"c:\\users\\na270\\appdata\\local\\programs\\python\\python38\\lib\\site-packages\\sklearn\\feature_selection\\_rfe.py\", line 32, in _rfe_single_fit\n",
      "    return rfe._fit(\n",
      "  File \"c:\\users\\na270\\appdata\\local\\programs\\python\\python38\\lib\\site-packages\\sklearn\\feature_selection\\_rfe.py\", line 328, in _fit\n",
      "    self.scores_.append(step_score(self.estimator_, features))\n",
      "  File \"c:\\users\\na270\\appdata\\local\\programs\\python\\python38\\lib\\site-packages\\sklearn\\feature_selection\\_rfe.py\", line 35, in <lambda>\n",
      "    lambda estimator, features: _score(\n",
      "  File \"c:\\users\\na270\\appdata\\local\\programs\\python\\python38\\lib\\site-packages\\sklearn\\model_selection\\_validation.py\", line 810, in _score\n",
      "    scores = scorer(estimator, X_test, y_test)\n",
      "  File \"c:\\users\\na270\\appdata\\local\\programs\\python\\python38\\lib\\site-packages\\sklearn\\metrics\\_scorer.py\", line 266, in __call__\n",
      "    return self._score(partial(_cached_call, None), estimator, X, y_true, **_kwargs)\n",
      "  File \"c:\\users\\na270\\appdata\\local\\programs\\python\\python38\\lib\\site-packages\\sklearn\\metrics\\_scorer.py\", line 466, in _score\n",
      "    y_pred = method_caller(clf, \"predict_proba\", X, pos_label=pos_label)\n",
      "  File \"c:\\users\\na270\\appdata\\local\\programs\\python\\python38\\lib\\site-packages\\sklearn\\metrics\\_scorer.py\", line 86, in _cached_call\n",
      "    result, _ = _get_response_values(\n",
      "  File \"c:\\users\\na270\\appdata\\local\\programs\\python\\python38\\lib\\site-packages\\sklearn\\utils\\_response.py\", line 194, in _get_response_values\n",
      "    y_pred = prediction_method(X)\n",
      "  File \"c:\\users\\na270\\appdata\\local\\programs\\python\\python38\\lib\\site-packages\\sklearn\\linear_model\\_logistic.py\", line 1384, in predict_proba\n",
      "    return super()._predict_proba_lr(X)\n",
      "  File \"c:\\users\\na270\\appdata\\local\\programs\\python\\python38\\lib\\site-packages\\sklearn\\linear_model\\_base.py\", line 466, in _predict_proba_lr\n",
      "    prob = self.decision_function(X)\n",
      "  File \"c:\\users\\na270\\appdata\\local\\programs\\python\\python38\\lib\\site-packages\\sklearn\\linear_model\\_base.py\", line 433, in decision_function\n",
      "    scores = safe_sparse_dot(X, self.coef_.T, dense_output=True) + self.intercept_\n",
      "AttributeError: 'LogisticRegression' object has no attribute 'coef_'\n",
      "\"\"\"\n",
      "\n",
      "The above exception was the direct cause of the following exception:\n",
      "\n",
      "Traceback (most recent call last):\n",
      "  File \"c:\\users\\na270\\appdata\\local\\programs\\python\\python38\\lib\\site-packages\\sklearn\\model_selection\\_validation.py\", line 729, in _fit_and_score\n",
      "    estimator.fit(X_train, y_train, **fit_params)\n",
      "  File \"c:\\users\\na270\\appdata\\local\\programs\\python\\python38\\lib\\site-packages\\sklearn\\base.py\", line 1152, in wrapper\n",
      "    return fit_method(estimator, *args, **kwargs)\n",
      "  File \"c:\\users\\na270\\appdata\\local\\programs\\python\\python38\\lib\\site-packages\\sklearn\\pipeline.py\", line 423, in fit\n",
      "    Xt = self._fit(X, y, **fit_params_steps)\n",
      "  File \"c:\\users\\na270\\appdata\\local\\programs\\python\\python38\\lib\\site-packages\\sklearn\\pipeline.py\", line 377, in _fit\n",
      "    X, fitted_transformer = fit_transform_one_cached(\n",
      "  File \"c:\\users\\na270\\appdata\\local\\programs\\python\\python38\\lib\\site-packages\\joblib\\memory.py\", line 353, in __call__\n",
      "    return self.func(*args, **kwargs)\n",
      "  File \"c:\\users\\na270\\appdata\\local\\programs\\python\\python38\\lib\\site-packages\\sklearn\\pipeline.py\", line 957, in _fit_transform_one\n",
      "    res = transformer.fit_transform(X, y, **fit_params)\n",
      "  File \"c:\\users\\na270\\appdata\\local\\programs\\python\\python38\\lib\\site-packages\\sklearn\\utils\\_set_output.py\", line 157, in wrapped\n",
      "    data_to_wrap = f(self, X, *args, **kwargs)\n",
      "  File \"c:\\users\\na270\\appdata\\local\\programs\\python\\python38\\lib\\site-packages\\sklearn\\base.py\", line 919, in fit_transform\n",
      "    return self.fit(X, y, **fit_params).transform(X)\n",
      "  File \"c:\\users\\na270\\appdata\\local\\programs\\python\\python38\\lib\\site-packages\\sklearn\\base.py\", line 1152, in wrapper\n",
      "    return fit_method(estimator, *args, **kwargs)\n",
      "  File \"c:\\users\\na270\\appdata\\local\\programs\\python\\python38\\lib\\site-packages\\sklearn\\feature_selection\\_rfe.py\", line 726, in fit\n",
      "    scores = parallel(\n",
      "  File \"c:\\users\\na270\\appdata\\local\\programs\\python\\python38\\lib\\site-packages\\sklearn\\utils\\parallel.py\", line 65, in __call__\n",
      "    return super().__call__(iterable_with_config)\n",
      "  File \"c:\\users\\na270\\appdata\\local\\programs\\python\\python38\\lib\\site-packages\\joblib\\parallel.py\", line 1952, in __call__\n",
      "    return output if self.return_generator else list(output)\n",
      "  File \"c:\\users\\na270\\appdata\\local\\programs\\python\\python38\\lib\\site-packages\\joblib\\parallel.py\", line 1595, in _get_outputs\n",
      "    yield from self._retrieve()\n",
      "  File \"c:\\users\\na270\\appdata\\local\\programs\\python\\python38\\lib\\site-packages\\joblib\\parallel.py\", line 1699, in _retrieve\n",
      "    self._raise_error_fast()\n",
      "  File \"c:\\users\\na270\\appdata\\local\\programs\\python\\python38\\lib\\site-packages\\joblib\\parallel.py\", line 1734, in _raise_error_fast\n",
      "    error_job.get_result(self.timeout)\n",
      "  File \"c:\\users\\na270\\appdata\\local\\programs\\python\\python38\\lib\\site-packages\\joblib\\parallel.py\", line 736, in get_result\n",
      "    return self._return_or_raise()\n",
      "  File \"c:\\users\\na270\\appdata\\local\\programs\\python\\python38\\lib\\site-packages\\joblib\\parallel.py\", line 754, in _return_or_raise\n",
      "    raise self._result\n",
      "AttributeError: 'LogisticRegression' object has no attribute 'coef_'\n",
      "\n",
      "--------------------------------------------------------------------------------\n",
      "1 fits failed with the following error:\n",
      "joblib.externals.loky.process_executor._RemoteTraceback: \n",
      "\"\"\"\n",
      "Traceback (most recent call last):\n",
      "  File \"c:\\users\\na270\\appdata\\local\\programs\\python\\python38\\lib\\site-packages\\sklearn\\metrics\\_scorer.py\", line 459, in _score\n",
      "    y_pred = method_caller(clf, \"decision_function\", X, pos_label=pos_label)\n",
      "  File \"c:\\users\\na270\\appdata\\local\\programs\\python\\python38\\lib\\site-packages\\sklearn\\metrics\\_scorer.py\", line 86, in _cached_call\n",
      "    result, _ = _get_response_values(\n",
      "  File \"c:\\users\\na270\\appdata\\local\\programs\\python\\python38\\lib\\site-packages\\sklearn\\utils\\_response.py\", line 182, in _get_response_values\n",
      "    classes = estimator.classes_\n",
      "AttributeError: 'LogisticRegression' object has no attribute 'classes_'\n",
      "\n",
      "During handling of the above exception, another exception occurred:\n",
      "\n",
      "Traceback (most recent call last):\n",
      "  File \"c:\\users\\na270\\appdata\\local\\programs\\python\\python38\\lib\\site-packages\\joblib\\_parallel_backends.py\", line 273, in _wrap_func_call\n",
      "    return func()\n",
      "  File \"c:\\users\\na270\\appdata\\local\\programs\\python\\python38\\lib\\site-packages\\joblib\\parallel.py\", line 589, in __call__\n",
      "    return [func(*args, **kwargs)\n",
      "  File \"c:\\users\\na270\\appdata\\local\\programs\\python\\python38\\lib\\site-packages\\joblib\\parallel.py\", line 589, in <listcomp>\n",
      "    return [func(*args, **kwargs)\n",
      "  File \"c:\\users\\na270\\appdata\\local\\programs\\python\\python38\\lib\\site-packages\\sklearn\\utils\\parallel.py\", line 127, in __call__\n",
      "    return self.function(*args, **kwargs)\n",
      "  File \"c:\\users\\na270\\appdata\\local\\programs\\python\\python38\\lib\\site-packages\\sklearn\\feature_selection\\_rfe.py\", line 32, in _rfe_single_fit\n",
      "    return rfe._fit(\n",
      "  File \"c:\\users\\na270\\appdata\\local\\programs\\python\\python38\\lib\\site-packages\\sklearn\\feature_selection\\_rfe.py\", line 328, in _fit\n",
      "    self.scores_.append(step_score(self.estimator_, features))\n",
      "  File \"c:\\users\\na270\\appdata\\local\\programs\\python\\python38\\lib\\site-packages\\sklearn\\feature_selection\\_rfe.py\", line 35, in <lambda>\n",
      "    lambda estimator, features: _score(\n",
      "  File \"c:\\users\\na270\\appdata\\local\\programs\\python\\python38\\lib\\site-packages\\sklearn\\model_selection\\_validation.py\", line 810, in _score\n",
      "    scores = scorer(estimator, X_test, y_test)\n",
      "  File \"c:\\users\\na270\\appdata\\local\\programs\\python\\python38\\lib\\site-packages\\sklearn\\metrics\\_scorer.py\", line 266, in __call__\n",
      "    return self._score(partial(_cached_call, None), estimator, X, y_true, **_kwargs)\n",
      "  File \"c:\\users\\na270\\appdata\\local\\programs\\python\\python38\\lib\\site-packages\\sklearn\\metrics\\_scorer.py\", line 466, in _score\n",
      "    y_pred = method_caller(clf, \"predict_proba\", X, pos_label=pos_label)\n",
      "  File \"c:\\users\\na270\\appdata\\local\\programs\\python\\python38\\lib\\site-packages\\sklearn\\metrics\\_scorer.py\", line 86, in _cached_call\n",
      "    result, _ = _get_response_values(\n",
      "  File \"c:\\users\\na270\\appdata\\local\\programs\\python\\python38\\lib\\site-packages\\sklearn\\utils\\_response.py\", line 182, in _get_response_values\n",
      "    classes = estimator.classes_\n",
      "AttributeError: 'LogisticRegression' object has no attribute 'classes_'\n",
      "\"\"\"\n",
      "\n",
      "The above exception was the direct cause of the following exception:\n",
      "\n",
      "Traceback (most recent call last):\n",
      "  File \"c:\\users\\na270\\appdata\\local\\programs\\python\\python38\\lib\\site-packages\\sklearn\\model_selection\\_validation.py\", line 729, in _fit_and_score\n",
      "    estimator.fit(X_train, y_train, **fit_params)\n",
      "  File \"c:\\users\\na270\\appdata\\local\\programs\\python\\python38\\lib\\site-packages\\sklearn\\base.py\", line 1152, in wrapper\n",
      "    return fit_method(estimator, *args, **kwargs)\n",
      "  File \"c:\\users\\na270\\appdata\\local\\programs\\python\\python38\\lib\\site-packages\\sklearn\\pipeline.py\", line 423, in fit\n",
      "    Xt = self._fit(X, y, **fit_params_steps)\n",
      "  File \"c:\\users\\na270\\appdata\\local\\programs\\python\\python38\\lib\\site-packages\\sklearn\\pipeline.py\", line 377, in _fit\n",
      "    X, fitted_transformer = fit_transform_one_cached(\n",
      "  File \"c:\\users\\na270\\appdata\\local\\programs\\python\\python38\\lib\\site-packages\\joblib\\memory.py\", line 353, in __call__\n",
      "    return self.func(*args, **kwargs)\n",
      "  File \"c:\\users\\na270\\appdata\\local\\programs\\python\\python38\\lib\\site-packages\\sklearn\\pipeline.py\", line 957, in _fit_transform_one\n",
      "    res = transformer.fit_transform(X, y, **fit_params)\n",
      "  File \"c:\\users\\na270\\appdata\\local\\programs\\python\\python38\\lib\\site-packages\\sklearn\\utils\\_set_output.py\", line 157, in wrapped\n",
      "    data_to_wrap = f(self, X, *args, **kwargs)\n",
      "  File \"c:\\users\\na270\\appdata\\local\\programs\\python\\python38\\lib\\site-packages\\sklearn\\base.py\", line 919, in fit_transform\n",
      "    return self.fit(X, y, **fit_params).transform(X)\n",
      "  File \"c:\\users\\na270\\appdata\\local\\programs\\python\\python38\\lib\\site-packages\\sklearn\\base.py\", line 1152, in wrapper\n",
      "    return fit_method(estimator, *args, **kwargs)\n",
      "  File \"c:\\users\\na270\\appdata\\local\\programs\\python\\python38\\lib\\site-packages\\sklearn\\feature_selection\\_rfe.py\", line 726, in fit\n",
      "    scores = parallel(\n",
      "  File \"c:\\users\\na270\\appdata\\local\\programs\\python\\python38\\lib\\site-packages\\sklearn\\utils\\parallel.py\", line 65, in __call__\n",
      "    return super().__call__(iterable_with_config)\n",
      "  File \"c:\\users\\na270\\appdata\\local\\programs\\python\\python38\\lib\\site-packages\\joblib\\parallel.py\", line 1952, in __call__\n",
      "    return output if self.return_generator else list(output)\n",
      "  File \"c:\\users\\na270\\appdata\\local\\programs\\python\\python38\\lib\\site-packages\\joblib\\parallel.py\", line 1595, in _get_outputs\n",
      "    yield from self._retrieve()\n",
      "  File \"c:\\users\\na270\\appdata\\local\\programs\\python\\python38\\lib\\site-packages\\joblib\\parallel.py\", line 1699, in _retrieve\n",
      "    self._raise_error_fast()\n",
      "  File \"c:\\users\\na270\\appdata\\local\\programs\\python\\python38\\lib\\site-packages\\joblib\\parallel.py\", line 1734, in _raise_error_fast\n",
      "    error_job.get_result(self.timeout)\n",
      "  File \"c:\\users\\na270\\appdata\\local\\programs\\python\\python38\\lib\\site-packages\\joblib\\parallel.py\", line 736, in get_result\n",
      "    return self._return_or_raise()\n",
      "  File \"c:\\users\\na270\\appdata\\local\\programs\\python\\python38\\lib\\site-packages\\joblib\\parallel.py\", line 754, in _return_or_raise\n",
      "    raise self._result\n",
      "AttributeError: 'LogisticRegression' object has no attribute 'classes_'\n",
      "\n",
      "  warnings.warn(some_fits_failed_message, FitFailedWarning)\n"
     ]
    },
    {
     "name": "stdout",
     "output_type": "stream",
     "text": [
      "CV ROC-AUC: nan ± nan\n",
      "Classes seen in training: [0 1]\n"
     ]
    }
   ],
   "source": [
    "# 1) Cross-validate (this does *not* mutate `pipeline`)\n",
    "from sklearn.model_selection import cross_val_score\n",
    "cv_scores = cross_val_score(\n",
    "    pipeline,\n",
    "    X_train, y_train,\n",
    "    cv=5,\n",
    "    scoring='roc_auc',\n",
    "    n_jobs=-1\n",
    ")\n",
    "print(f\"CV ROC-AUC: {cv_scores.mean():.3f} ± {cv_scores.std():.3f}\")\n",
    "\n",
    "# 2) Now *fit* your original pipeline on all the training data\n",
    "pipeline.fit(X_train, y_train)\n",
    "\n",
    "# 3) You can now predict, get probabilities, or inspect .classes_\n",
    "y_pred  = pipeline.predict(X_test)\n",
    "y_proba = pipeline.predict_proba(X_test)[:, 1]\n",
    "print(\"Classes seen in training:\", pipeline.named_steps['clf'].classes_)\n"
   ],
   "metadata": {
    "collapsed": false,
    "ExecuteTime": {
     "end_time": "2025-06-10T15:52:27.605981600Z",
     "start_time": "2025-06-10T15:51:54.420416400Z"
    }
   },
   "id": "cb22a06320fa8c2b"
  },
  {
   "cell_type": "markdown",
   "id": "ecc8b1eefecc948c",
   "metadata": {},
   "source": [
    "## 5. Model Training – Advanced Models\n",
    "Choose 3 models from:\n",
    "- Decision Tree\n",
    "- Random Forest or AdaBoost\n",
    "- Support Vector Machine\n",
    "- Multi-Layer Perceptron (Neural Net)\n",
    "\n",
    "_Include basic hyperparameter tuning or explain defaults._"
   ]
  },
  {
   "cell_type": "markdown",
   "id": "65b470cc0d11e7b7",
   "metadata": {},
   "source": [
    "## 6. Evaluation\n",
    "- Build confusion matrix for at least one model\n",
    "- Generate ROC curves (using K-Fold CV)\n",
    "- Report AUC\n",
    "\n",
    "**✏️ Answer in markdown:**\n",
    "- Does any model overfit?\n",
    "- Which model generalizes best?\n",
    "- Final choice justification"
   ]
  },
  {
   "cell_type": "markdown",
   "id": "1f21f590332511f3",
   "metadata": {},
   "source": [
    "## 7. Final Prediction on Test Set\n",
    "_Predict probabilities (not binary labels!) and create submission file._"
   ]
  },
  {
   "cell_type": "code",
   "execution_count": null,
   "id": "625f5bbc3680f72a",
   "metadata": {
    "ExecuteTime": {
     "start_time": "2025-06-01T12:48:38.121072800Z"
    }
   },
   "outputs": [],
   "source": [
    "# Example:\n",
    "# final_model.predict_proba(test)[:, 1]  # ← probability of 'approved'\n",
    "# submission = pd.DataFrame({\n",
    "#     'customer_id': test['customer_id'],\n",
    "#     'loan_approval': predictions\n",
    "# })\n",
    "# submission.to_csv('Submission_group_32.csv', index=False)"
   ]
  },
  {
   "cell_type": "markdown",
   "id": "ae46b3996890ae43",
   "metadata": {},
   "source": [
    "## 8. Appendix / Extra Notes\n",
    "_Use this area for extra analysis, failed attempts, or ideas you explored._"
   ]
  },
  {
   "cell_type": "markdown",
   "id": "8b3da6484a12cc8c",
   "metadata": {
    "collapsed": false
   },
   "source": [
    "We tried to handle the missing values with linear regression, but R^2 was 0.02, so we just impute with the median.\n",
    "Trying:"
   ]
  },
  {
   "cell_type": "code",
   "execution_count": 94,
   "id": "8e75b68a2dc9f39c",
   "metadata": {
    "ExecuteTime": {
     "end_time": "2025-06-02T21:35:30.011583600Z",
     "start_time": "2025-06-02T21:35:29.916745300Z"
    },
    "collapsed": false
   },
   "outputs": [
    {
     "data": {
      "text/plain": [
       "'\\nfrom sklearn.linear_model import LinearRegression\\nfrom sklearn.model_selection import train_test_split\\nfrom sklearn.metrics import r2_score, mean_absolute_error\\n\\ndf = train  \\n\\n# 1. Define features & split known vs missing\\nfeatures = [\\'Weekly_Work_Hours\\', \\'Years_of_Education\\', \\'Age\\']\\nknown   = df[df[\\'Investment_Gain\\'].notnull() ].copy()\\nmissing = df[df[\\'Investment_Gain\\'].isnull()].copy()\\n\\nX_known = known[features]\\ny_known = known[\\'Investment_Gain\\']\\n\\n# 2. Hold out 20% for validation\\nX_tr, X_val, y_tr, y_val = train_test_split(\\n    X_known, y_known,\\n    test_size=0.2,\\n    random_state=42\\n)\\n\\n# 3. Train on the 80%\\nlr = LinearRegression()\\nlr.fit(X_tr, y_tr)\\n\\n# 4. Predict on the hold‐out and evaluate\\ny_pred = lr.predict(X_val)\\nprint(f\"R² on hold-out: {r2_score(y_val, y_pred):.3f}\")\\nprint(f\"MAE on hold-out: {mean_absolute_error(y_val, y_pred):.3f}\")\\n\\n# 5. (Optional) Retrain on ALL known data and impute missings\\nlr_full = LinearRegression()\\nlr_full.fit(X_known, y_known)\\n\\nX_missing = missing[features]\\ndf.loc[df[\\'Investment_Gain\\'].isnull(), \\'Investment_Gain\\'] = lr_full.predict(X_missing)\\n'"
      ]
     },
     "execution_count": 94,
     "metadata": {},
     "output_type": "execute_result"
    }
   ],
   "source": [
    "######## TRY AGAIN AFTER ADDING AGE\n",
    "'''\n",
    "from sklearn.linear_model import LinearRegression\n",
    "from sklearn.model_selection import train_test_split\n",
    "from sklearn.metrics import r2_score, mean_absolute_error\n",
    "\n",
    "df = train  \n",
    "\n",
    "# 1. Define features & split known vs missing\n",
    "features = ['Weekly_Work_Hours', 'Years_of_Education', 'Age']\n",
    "known   = df[df['Investment_Gain'].notnull() ].copy()\n",
    "missing = df[df['Investment_Gain'].isnull()].copy()\n",
    "\n",
    "X_known = known[features]\n",
    "y_known = known['Investment_Gain']\n",
    "\n",
    "# 2. Hold out 20% for validation\n",
    "X_tr, X_val, y_tr, y_val = train_test_split(\n",
    "    X_known, y_known,\n",
    "    test_size=0.2,\n",
    "    random_state=42\n",
    ")\n",
    "\n",
    "# 3. Train on the 80%\n",
    "lr = LinearRegression()\n",
    "lr.fit(X_tr, y_tr)\n",
    "\n",
    "# 4. Predict on the hold‐out and evaluate\n",
    "y_pred = lr.predict(X_val)\n",
    "print(f\"R² on hold-out: {r2_score(y_val, y_pred):.3f}\")\n",
    "print(f\"MAE on hold-out: {mean_absolute_error(y_val, y_pred):.3f}\")\n",
    "\n",
    "# 5. (Optional) Retrain on ALL known data and impute missings\n",
    "lr_full = LinearRegression()\n",
    "lr_full.fit(X_known, y_known)\n",
    "\n",
    "X_missing = missing[features]\n",
    "df.loc[df['Investment_Gain'].isnull(), 'Investment_Gain'] = lr_full.predict(X_missing)\n",
    "'''\n"
   ]
  },
  {
   "cell_type": "code",
   "execution_count": null,
   "id": "7e1f16d2fd1e558",
   "metadata": {
    "collapsed": false
   },
   "outputs": [],
   "source": []
  }
 ],
 "metadata": {
  "kernelspec": {
   "display_name": "Python 3 (ipykernel)",
   "language": "python",
   "name": "python3"
  },
  "language_info": {
   "codemirror_mode": {
    "name": "ipython",
    "version": 3
   },
   "file_extension": ".py",
   "mimetype": "text/x-python",
   "name": "python",
   "nbconvert_exporter": "python",
   "pygments_lexer": "ipython3",
   "version": "3.12.7"
  }
 },
 "nbformat": 4,
 "nbformat_minor": 5
}
