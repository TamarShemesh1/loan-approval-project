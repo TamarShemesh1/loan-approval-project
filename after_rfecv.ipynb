{
 "cells": [
  {
   "cell_type": "markdown",
   "id": "382a8f2ce576c407",
   "metadata": {},
   "source": [
    "# Final Project – Introduction to Machine Learning (Group 32)\n",
    "## Loan Approval Prediction – Binary Classification\n",
    "**Tamar & Tala – Spring 2025**\n",
    "\n",
    "This notebook walks through our end-to-end machine learning project:\n",
    "- Data exploration \n",
    "- Feature processing \n",
    "- Model training \n",
    "- Evaluation \n",
    "- Final prediction submission "
   ]
  },
  {
   "cell_type": "markdown",
   "id": "809af347f383058e",
   "metadata": {},
   "source": [
    "## 1. Load Libraries and Data\n",
    "_We’ll start by loading the data and setting up useful libraries._"
   ]
  },
  {
   "cell_type": "code",
   "execution_count": 6,
   "id": "306e676c18666e27",
   "metadata": {
    "ExecuteTime": {
     "end_time": "2025-06-10T08:25:43.313644200Z",
     "start_time": "2025-06-10T08:25:41.807967200Z"
    }
   },
   "outputs": [
    {
     "data": {
      "text/plain": "   customer_id   Age Employment_Type       A Education_Level  \\\n0       115892  90.0             NaN   77053         HS-grad   \n1       115893  82.0         Private  132870         HS-grad   \n2       115895  54.0         Private  140359         7th-8th   \n3       115896  41.0         Private  264663    Some-college   \n4       115897  34.0         Private  216864         HS-grad   \n\n   Years_of_Education Marital_Status           Job_Type Household_Role  \\\n0                 9.0        Widowed                NaN  Not-in-family   \n1                 9.0        Widowed    Exec-managerial  Not-in-family   \n2                 4.0       Divorced  Machine-op-inspct      Unmarried   \n3                10.0      Separated     Prof-specialty      Own-child   \n4                 9.0       Divorced      Other-service      Unmarried   \n\n  Ethnicity  ... Investment_Gain  Investment_Loss  Weekly_Work_Hours  \\\n0     White  ...             0.0           4356.0                 40   \n1     White  ...             0.0           4356.0                 18   \n2     White  ...             0.0           3900.0                 40   \n3     White  ...             0.0           3900.0                 40   \n4     White  ...             NaN           3770.0                 45   \n\n   Country_of_Residence           C  Preferred_Communication_Method         D  \\\n0         United-States  104.906221                      Phone_Call  2.865629   \n1         United-States   96.358501                            mail  5.528583   \n2         United-States  115.529631                            mail  3.816915   \n3         United-States   85.732506                             NaN  5.416363   \n4         United-States  115.218443                            Mail  6.453932   \n\n    B           E  Loan_Approval  \n0 NaN  170.887465              0  \n1 NaN  156.630201              0  \n2 NaN  165.635557              0  \n3 NaN  123.379007              0  \n4 NaN  155.262131              0  \n\n[5 rows x 21 columns]",
      "text/html": "<div>\n<style scoped>\n    .dataframe tbody tr th:only-of-type {\n        vertical-align: middle;\n    }\n\n    .dataframe tbody tr th {\n        vertical-align: top;\n    }\n\n    .dataframe thead th {\n        text-align: right;\n    }\n</style>\n<table border=\"1\" class=\"dataframe\">\n  <thead>\n    <tr style=\"text-align: right;\">\n      <th></th>\n      <th>customer_id</th>\n      <th>Age</th>\n      <th>Employment_Type</th>\n      <th>A</th>\n      <th>Education_Level</th>\n      <th>Years_of_Education</th>\n      <th>Marital_Status</th>\n      <th>Job_Type</th>\n      <th>Household_Role</th>\n      <th>Ethnicity</th>\n      <th>...</th>\n      <th>Investment_Gain</th>\n      <th>Investment_Loss</th>\n      <th>Weekly_Work_Hours</th>\n      <th>Country_of_Residence</th>\n      <th>C</th>\n      <th>Preferred_Communication_Method</th>\n      <th>D</th>\n      <th>B</th>\n      <th>E</th>\n      <th>Loan_Approval</th>\n    </tr>\n  </thead>\n  <tbody>\n    <tr>\n      <th>0</th>\n      <td>115892</td>\n      <td>90.0</td>\n      <td>NaN</td>\n      <td>77053</td>\n      <td>HS-grad</td>\n      <td>9.0</td>\n      <td>Widowed</td>\n      <td>NaN</td>\n      <td>Not-in-family</td>\n      <td>White</td>\n      <td>...</td>\n      <td>0.0</td>\n      <td>4356.0</td>\n      <td>40</td>\n      <td>United-States</td>\n      <td>104.906221</td>\n      <td>Phone_Call</td>\n      <td>2.865629</td>\n      <td>NaN</td>\n      <td>170.887465</td>\n      <td>0</td>\n    </tr>\n    <tr>\n      <th>1</th>\n      <td>115893</td>\n      <td>82.0</td>\n      <td>Private</td>\n      <td>132870</td>\n      <td>HS-grad</td>\n      <td>9.0</td>\n      <td>Widowed</td>\n      <td>Exec-managerial</td>\n      <td>Not-in-family</td>\n      <td>White</td>\n      <td>...</td>\n      <td>0.0</td>\n      <td>4356.0</td>\n      <td>18</td>\n      <td>United-States</td>\n      <td>96.358501</td>\n      <td>mail</td>\n      <td>5.528583</td>\n      <td>NaN</td>\n      <td>156.630201</td>\n      <td>0</td>\n    </tr>\n    <tr>\n      <th>2</th>\n      <td>115895</td>\n      <td>54.0</td>\n      <td>Private</td>\n      <td>140359</td>\n      <td>7th-8th</td>\n      <td>4.0</td>\n      <td>Divorced</td>\n      <td>Machine-op-inspct</td>\n      <td>Unmarried</td>\n      <td>White</td>\n      <td>...</td>\n      <td>0.0</td>\n      <td>3900.0</td>\n      <td>40</td>\n      <td>United-States</td>\n      <td>115.529631</td>\n      <td>mail</td>\n      <td>3.816915</td>\n      <td>NaN</td>\n      <td>165.635557</td>\n      <td>0</td>\n    </tr>\n    <tr>\n      <th>3</th>\n      <td>115896</td>\n      <td>41.0</td>\n      <td>Private</td>\n      <td>264663</td>\n      <td>Some-college</td>\n      <td>10.0</td>\n      <td>Separated</td>\n      <td>Prof-specialty</td>\n      <td>Own-child</td>\n      <td>White</td>\n      <td>...</td>\n      <td>0.0</td>\n      <td>3900.0</td>\n      <td>40</td>\n      <td>United-States</td>\n      <td>85.732506</td>\n      <td>NaN</td>\n      <td>5.416363</td>\n      <td>NaN</td>\n      <td>123.379007</td>\n      <td>0</td>\n    </tr>\n    <tr>\n      <th>4</th>\n      <td>115897</td>\n      <td>34.0</td>\n      <td>Private</td>\n      <td>216864</td>\n      <td>HS-grad</td>\n      <td>9.0</td>\n      <td>Divorced</td>\n      <td>Other-service</td>\n      <td>Unmarried</td>\n      <td>White</td>\n      <td>...</td>\n      <td>NaN</td>\n      <td>3770.0</td>\n      <td>45</td>\n      <td>United-States</td>\n      <td>115.218443</td>\n      <td>Mail</td>\n      <td>6.453932</td>\n      <td>NaN</td>\n      <td>155.262131</td>\n      <td>0</td>\n    </tr>\n  </tbody>\n</table>\n<p>5 rows × 21 columns</p>\n</div>"
     },
     "execution_count": 6,
     "metadata": {},
     "output_type": "execute_result"
    }
   ],
   "source": [
    "import pandas as pd\n",
    "import numpy as np\n",
    "import matplotlib.pyplot as plt\n",
    "import seaborn as sns\n",
    "from sklearn.model_selection import train_test_split, KFold, cross_val_score\n",
    "from sklearn.metrics import confusion_matrix, roc_auc_score, roc_curve, classification_report\n",
    "import missingno as msno\n",
    "from sklearn.ensemble import RandomForestClassifier\n",
    "from sklearn.impute import SimpleImputer, KNNImputer\n",
    "from sklearn.preprocessing import OneHotEncoder, StandardScaler\n",
    "from sklearn.pipeline import Pipeline\n",
    "from sklearn.compose import ColumnTransformer\n",
    "from sklearn.pipeline import Pipeline\n",
    "from sklearn.pipeline          import Pipeline\n",
    "from sklearn.feature_selection import RFECV\n",
    "from sklearn.ensemble         import RandomForestClassifier\n",
    "from sklearn.model_selection   import StratifiedKFold\n",
    "from sklearn.feature_selection import RFE\n",
    "from sklearn.linear_model import LogisticRegression\n",
    "\n",
    "\n",
    "# Load the data\n",
    "train = pd.read_csv('train.csv', na_values=[\"?\"])\n",
    "test = pd.read_csv('test.csv', na_values=[\"?\"])\n",
    "train.head()"
   ]
  },
  {
   "cell_type": "markdown",
   "id": "1fafd0a08e17e5a7",
   "metadata": {},
   "source": [
    "## 2. Exploratory Data Analysis (EDA)\n",
    "_Let's understand the data structure, spot missing values, and explore correlations._\n",
    "\n"
   ]
  },
  {
   "cell_type": "code",
   "execution_count": 7,
   "id": "511a2b2c7c2410bf",
   "metadata": {
    "collapsed": false,
    "ExecuteTime": {
     "end_time": "2025-06-10T08:25:46.277783100Z",
     "start_time": "2025-06-10T08:25:46.200760300Z"
    }
   },
   "outputs": [
    {
     "name": "stdout",
     "output_type": "stream",
     "text": [
      "Training set dimensions: 27676 rows × 21 columns\n"
     ]
    }
   ],
   "source": [
    "n_rows,n_columns = train.shape\n",
    "print(f\"Training set dimensions: {n_rows} rows × {n_columns} columns\")"
   ]
  },
  {
   "cell_type": "code",
   "execution_count": 3,
   "id": "92e56be4784cad8a",
   "metadata": {
    "collapsed": false,
    "ExecuteTime": {
     "end_time": "2025-06-09T08:20:07.587785400Z",
     "start_time": "2025-06-09T08:20:07.527727200Z"
    }
   },
   "outputs": [
    {
     "data": {
      "text/plain": "         customer_id           Age             A  Years_of_Education  \\\ncount   27676.000000  27541.000000  2.767600e+04        27122.000000   \nmean   132196.289854     38.597727  1.898849e+05           10.079972   \nstd      9399.839425     13.636965  1.053593e+05            2.575332   \nmin    115892.000000     17.000000  1.228500e+04            1.000000   \n25%    124043.750000     28.000000  1.177652e+05            9.000000   \n50%    132222.500000     37.000000  1.785870e+05           10.000000   \n75%    140322.500000     48.000000  2.376340e+05           12.000000   \nmax    148452.000000     90.000000  1.484705e+06           16.000000   \n\n       Investment_Gain  Investment_Loss  Weekly_Work_Hours             C  \\\ncount     26846.000000     27647.000000       27676.000000  26561.000000   \nmean       1091.680101        86.084458          40.482151     99.957601   \nstd        7482.292675       400.504134          12.371156      9.911054   \nmin           0.000000         0.000000           1.000000     58.136513   \n25%           0.000000         0.000000          40.000000     93.273986   \n50%           0.000000         0.000000          40.000000     99.903569   \n75%           0.000000         0.000000          45.000000    106.636563   \nmax       99999.000000      4356.000000          99.000000    144.309842   \n\n                  D    B             E  Loan_Approval  \ncount  27676.000000  0.0  24389.000000   27676.000000  \nmean       4.987450  NaN    139.251615       0.240786  \nstd        1.511751  NaN     13.708225       0.427569  \nmin       -1.711896  NaN     82.675954       0.000000  \n25%        3.968762  NaN    129.783073       0.000000  \n50%        4.994815  NaN    139.078247       0.000000  \n75%        5.999440  NaN    148.488675       0.000000  \nmax       10.876204  NaN    199.134411       1.000000  ",
      "text/html": "<div>\n<style scoped>\n    .dataframe tbody tr th:only-of-type {\n        vertical-align: middle;\n    }\n\n    .dataframe tbody tr th {\n        vertical-align: top;\n    }\n\n    .dataframe thead th {\n        text-align: right;\n    }\n</style>\n<table border=\"1\" class=\"dataframe\">\n  <thead>\n    <tr style=\"text-align: right;\">\n      <th></th>\n      <th>customer_id</th>\n      <th>Age</th>\n      <th>A</th>\n      <th>Years_of_Education</th>\n      <th>Investment_Gain</th>\n      <th>Investment_Loss</th>\n      <th>Weekly_Work_Hours</th>\n      <th>C</th>\n      <th>D</th>\n      <th>B</th>\n      <th>E</th>\n      <th>Loan_Approval</th>\n    </tr>\n  </thead>\n  <tbody>\n    <tr>\n      <th>count</th>\n      <td>27676.000000</td>\n      <td>27541.000000</td>\n      <td>2.767600e+04</td>\n      <td>27122.000000</td>\n      <td>26846.000000</td>\n      <td>27647.000000</td>\n      <td>27676.000000</td>\n      <td>26561.000000</td>\n      <td>27676.000000</td>\n      <td>0.0</td>\n      <td>24389.000000</td>\n      <td>27676.000000</td>\n    </tr>\n    <tr>\n      <th>mean</th>\n      <td>132196.289854</td>\n      <td>38.597727</td>\n      <td>1.898849e+05</td>\n      <td>10.079972</td>\n      <td>1091.680101</td>\n      <td>86.084458</td>\n      <td>40.482151</td>\n      <td>99.957601</td>\n      <td>4.987450</td>\n      <td>NaN</td>\n      <td>139.251615</td>\n      <td>0.240786</td>\n    </tr>\n    <tr>\n      <th>std</th>\n      <td>9399.839425</td>\n      <td>13.636965</td>\n      <td>1.053593e+05</td>\n      <td>2.575332</td>\n      <td>7482.292675</td>\n      <td>400.504134</td>\n      <td>12.371156</td>\n      <td>9.911054</td>\n      <td>1.511751</td>\n      <td>NaN</td>\n      <td>13.708225</td>\n      <td>0.427569</td>\n    </tr>\n    <tr>\n      <th>min</th>\n      <td>115892.000000</td>\n      <td>17.000000</td>\n      <td>1.228500e+04</td>\n      <td>1.000000</td>\n      <td>0.000000</td>\n      <td>0.000000</td>\n      <td>1.000000</td>\n      <td>58.136513</td>\n      <td>-1.711896</td>\n      <td>NaN</td>\n      <td>82.675954</td>\n      <td>0.000000</td>\n    </tr>\n    <tr>\n      <th>25%</th>\n      <td>124043.750000</td>\n      <td>28.000000</td>\n      <td>1.177652e+05</td>\n      <td>9.000000</td>\n      <td>0.000000</td>\n      <td>0.000000</td>\n      <td>40.000000</td>\n      <td>93.273986</td>\n      <td>3.968762</td>\n      <td>NaN</td>\n      <td>129.783073</td>\n      <td>0.000000</td>\n    </tr>\n    <tr>\n      <th>50%</th>\n      <td>132222.500000</td>\n      <td>37.000000</td>\n      <td>1.785870e+05</td>\n      <td>10.000000</td>\n      <td>0.000000</td>\n      <td>0.000000</td>\n      <td>40.000000</td>\n      <td>99.903569</td>\n      <td>4.994815</td>\n      <td>NaN</td>\n      <td>139.078247</td>\n      <td>0.000000</td>\n    </tr>\n    <tr>\n      <th>75%</th>\n      <td>140322.500000</td>\n      <td>48.000000</td>\n      <td>2.376340e+05</td>\n      <td>12.000000</td>\n      <td>0.000000</td>\n      <td>0.000000</td>\n      <td>45.000000</td>\n      <td>106.636563</td>\n      <td>5.999440</td>\n      <td>NaN</td>\n      <td>148.488675</td>\n      <td>0.000000</td>\n    </tr>\n    <tr>\n      <th>max</th>\n      <td>148452.000000</td>\n      <td>90.000000</td>\n      <td>1.484705e+06</td>\n      <td>16.000000</td>\n      <td>99999.000000</td>\n      <td>4356.000000</td>\n      <td>99.000000</td>\n      <td>144.309842</td>\n      <td>10.876204</td>\n      <td>NaN</td>\n      <td>199.134411</td>\n      <td>1.000000</td>\n    </tr>\n  </tbody>\n</table>\n</div>"
     },
     "execution_count": 3,
     "metadata": {},
     "output_type": "execute_result"
    }
   ],
   "source": [
    "train.describe()"
   ]
  },
  {
   "cell_type": "code",
   "execution_count": 4,
   "id": "6bd74af3cb16574",
   "metadata": {
    "collapsed": false,
    "ExecuteTime": {
     "end_time": "2025-06-09T08:20:08.619334800Z",
     "start_time": "2025-06-09T08:20:08.501058900Z"
    }
   },
   "outputs": [
    {
     "name": "stdout",
     "output_type": "stream",
     "text": [
      "<class 'pandas.core.frame.DataFrame'>\n",
      "RangeIndex: 27676 entries, 0 to 27675\n",
      "Data columns (total 21 columns):\n",
      " #   Column                          Non-Null Count  Dtype  \n",
      "---  ------                          --------------  -----  \n",
      " 0   customer_id                     27676 non-null  int64  \n",
      " 1   Age                             27541 non-null  float64\n",
      " 2   Employment_Type                 25865 non-null  object \n",
      " 3   A                               27676 non-null  int64  \n",
      " 4   Education_Level                 27676 non-null  object \n",
      " 5   Years_of_Education              27122 non-null  float64\n",
      " 6   Marital_Status                  27676 non-null  object \n",
      " 7   Job_Type                        24305 non-null  object \n",
      " 8   Household_Role                  27676 non-null  object \n",
      " 9   Ethnicity                       24912 non-null  object \n",
      " 10  Gender                          27676 non-null  object \n",
      " 11  Investment_Gain                 26846 non-null  float64\n",
      " 12  Investment_Loss                 27647 non-null  float64\n",
      " 13  Weekly_Work_Hours               27676 non-null  int64  \n",
      " 14  Country_of_Residence            27180 non-null  object \n",
      " 15  C                               26561 non-null  float64\n",
      " 16  Preferred_Communication_Method  26812 non-null  object \n",
      " 17  D                               27676 non-null  float64\n",
      " 18  B                               0 non-null      float64\n",
      " 19  E                               24389 non-null  float64\n",
      " 20  Loan_Approval                   27676 non-null  int64  \n",
      "dtypes: float64(8), int64(4), object(9)\n",
      "memory usage: 4.4+ MB\n"
     ]
    }
   ],
   "source": [
    "train.info()"
   ]
  },
  {
   "cell_type": "markdown",
   "id": "9f58dd8d06540027",
   "metadata": {
    "collapsed": false
   },
   "source": [
    "Column B is completely empty (100% missing), so we will remove it from the dataset.\n",
    "Several columns, such as Employment_Type, Job_Type and Ethnicity have a high percentage of missing values.\n",
    "We'll need to decide whether to fill them or drop them."
   ]
  },
  {
   "cell_type": "markdown",
   "id": "49bbe0e7870b3c7e",
   "metadata": {
    "collapsed": false
   },
   "source": [
    "_Visualizing the variables to check their distributions:_"
   ]
  },
  {
   "cell_type": "code",
   "execution_count": null,
   "id": "2f8d6bf1fc5b57f0",
   "metadata": {
    "collapsed": false
   },
   "outputs": [],
   "source": [
    "# Histograms and count plots of each explanatory variable\n",
    "\n",
    "for col in train.columns:\n",
    "    plt.figure(figsize=(15, 4))\n",
    "    \n",
    "    # For numeric variables\n",
    "    if pd.api.types.is_numeric_dtype(train[col]):\n",
    "        sns.histplot(train[col].dropna(), kde=True)\n",
    "        plt.title(f\"Distribution of {col}\")\n",
    "    \n",
    "    # For categorical variables \n",
    "    else:\n",
    "        sns.countplot(x=col, data=train, order=train[col].value_counts().index)\n",
    "        plt.xticks(rotation=45)\n",
    "        plt.title(f\"Countplot of {col}\")\n",
    "    \n",
    "    plt.tight_layout()\n",
    "    plt.show()"
   ]
  },
  {
   "cell_type": "code",
   "execution_count": null,
   "id": "42a31bcdb5f5d849",
   "metadata": {
    "collapsed": false
   },
   "outputs": [],
   "source": [
    "# Bar plots of approval rates for categorical variables\n",
    "\n",
    "categorical_vars = [\n",
    "    'Employment_Type', 'Education_Level', 'Marital_Status', 'Job_Type',\n",
    "    'Household_Role', 'Ethnicity', 'Gender', 'Country_of_Residence',\n",
    "    'Preferred_Communication_Method'\n",
    "]\n",
    "\n",
    "for col in categorical_vars:\n",
    "    plt.figure(figsize=(15, 4))\n",
    "    sns.barplot(x=col, y='Loan_Approval', data=train, estimator='mean', order=train[col].value_counts().index)\n",
    "    plt.xticks(rotation=45)\n",
    "    plt.title(f'Approval Rate by {col}')\n",
    "    plt.ylabel('Approval Rate (Mean of Loan_approval)')\n",
    "    plt.tight_layout()\n",
    "    plt.show()"
   ]
  },
  {
   "cell_type": "code",
   "execution_count": null,
   "id": "343249a9cee851ed",
   "metadata": {
    "ExecuteTime": {
     "end_time": "2025-06-03T14:12:12.820296800Z",
     "start_time": "2025-06-03T14:12:10.582051700Z"
    },
    "collapsed": false
   },
   "outputs": [],
   "source": [
    "#Box plots of approved vs. rejected for numerical variables\n",
    "train['Loan_Approval_str'] = train['Loan_Approval'].map({0: 'Rejected', 1: 'Approved'})\n",
    "\n",
    "# Remove columns that shouldn't be plotted\n",
    "numeric_cols = [col for col in train.select_dtypes(include='number').columns if col not in ['customer_id', 'Loan_Approval']]\n",
    "\n",
    "# Create one boxplot per feature vs Loan Approval\n",
    "for col in numeric_cols:\n",
    "    plt.figure(figsize=(6, 4))\n",
    "    sns.boxplot(x='Loan_Approval_str', y=col, data=train)\n",
    "    plt.title(f'{col} by Loan Approval')\n",
    "    plt.xlabel('Loan Approval')\n",
    "    plt.ylabel(col)\n",
    "    plt.tight_layout()\n",
    "    plt.show()"
   ]
  },
  {
   "cell_type": "markdown",
   "id": "3d570bc5e7054499",
   "metadata": {
    "collapsed": false
   },
   "source": [
    "## Part 2 - Data Processing\n",
    "\n",
    "1. **Normalize** all numeric features (e.g., StandardScaler).  \n",
    "2. **Handle outliers** (clip or winsorize based on IQR/Z‐score).  \n",
    "3. **Impute missing values** (median for numeric, “Unknown” for categorical).  \n",
    "4. **Encode categoricals** (one‐hot, frequency/target encoding, group rare).  \n",
    "5. **Select or reduce features** (feature importance, PCA, etc.).  \n",
    "6. **Generate any new features** (e.g., interaction terms, flags).  \n",
    "7. **Apply identical transforms to the test set**.  \n"
   ]
  },
  {
   "cell_type": "markdown",
   "id": "9e012bc51fce0e55",
   "metadata": {
    "collapsed": false
   },
   "source": [
    "**Key Insights from Feature Distributions**\n",
    "1. Employment_Type, Country_of_Residence and Ethnicity are highly imbalanced.\n",
    "To reduce sparsity and improve generalization, we will group the less frequent categories into broader, more meaningful groups.\n",
    "2. A is right-skewed, so a log transformation may help normalize its distribution.\n",
    "3. Investment_Gain and Investment_Loss are extremely skewed with large outliers, so a log transformation might help, and merging them into a single Net_Investment feature may provide a clearer signal.\n",
    "4. Preferred_Communication_Method has inconsistent values due to variations in capitalization and wording (e.g., \"Email\" vs \"email\"), so we unified similar values.\n",
    "5. Based on the approval rate bar plot for Household_Role, we observed clear patterns across the categories.\n",
    "We grouped them into three broader categories with similar approval behavior to simplify the feature and improve model stability.\n",
    "6. Column B is completely empty, so we decided to remove it.\n",
    "7.  We simplified the Country_of_Residence feature by grouping it into three categories: USA, Mexico, and Other. The vast majority of people were from the United States, and the approval rate among other countries wasn't very different.\n",
    "8.  We simplified the Employment_Type feature by grouping it into four categories: Private, not private and, and non-working.  The vast majority of people were private, and the noticeable difference in the approval rate was between non-private to non-working.\n",
    "\n"
   ]
  },
  {
   "cell_type": "code",
   "execution_count": null,
   "id": "4198104465d53ee8",
   "metadata": {
    "ExecuteTime": {
     "end_time": "2025-06-03T14:12:17.287022800Z",
     "start_time": "2025-06-03T14:12:15.531231Z"
    },
    "collapsed": false
   },
   "outputs": [],
   "source": [
    "#Creating a heatmap\n",
    "\n",
    "# Select only numeric columns\n",
    "numeric_df = train.select_dtypes(include='number')\n",
    "\n",
    "# Compute the correlation matrix\n",
    "correlation_matrix = numeric_df.corr()\n",
    "\n",
    "# Plot the heatmap\n",
    "plt.figure(figsize=(10, 8))\n",
    "sns.heatmap(correlation_matrix, annot=True, fmt=\".2f\", cmap=\"coolwarm\", square=True)\n",
    "plt.title(\"Correlation Heatmap\")\n",
    "plt.tight_layout()\n",
    "plt.show()"
   ]
  },
  {
   "cell_type": "code",
   "execution_count": 42,
   "id": "dd0e681b69d85555",
   "metadata": {
    "collapsed": false,
    "ExecuteTime": {
     "end_time": "2025-06-09T07:38:43.000189400Z",
     "start_time": "2025-06-09T07:38:42.936884Z"
    }
   },
   "outputs": [
    {
     "name": "stdout",
     "output_type": "stream",
     "text": [
      "Loan_Approval         1.000000\n",
      "Years_of_Education    0.335097\n",
      "Age                   0.234235\n",
      "Weekly_Work_Hours     0.226344\n",
      "Investment_Gain       0.223620\n",
      "Investment_Loss       0.152074\n",
      "E                     0.124523\n",
      "C                     0.010044\n",
      "D                     0.000003\n",
      "A                    -0.011856\n",
      "customer_id          -0.179697\n",
      "B                          NaN\n",
      "Name: Loan_Approval, dtype: float64\n"
     ]
    }
   ],
   "source": [
    "# Checking which variables are most correlated with Loan_approval (only linear) - this is the Loan_Approval row in the heatmap\n",
    "numeric_df = train.select_dtypes(include='number')\n",
    "correlations = numeric_df.corr()['Loan_Approval'].sort_values(ascending=False)\n",
    "print(correlations)"
   ]
  },
  {
   "cell_type": "markdown",
   "id": "18833f3e4451f9f",
   "metadata": {
    "collapsed": false
   },
   "source": [
    "**Key Insights from the heat map**\n",
    "C and E are highly correlated (r = 0.87), indicating redundancy.\n",
    "Neither has a strong linear correlation with the target, but E shows a slightly stronger signal (r = 0.125). Even though E has more missing values (as we will see later on), it’s still more useful, so we’ll keep E and drop C. "
   ]
  },
  {
   "cell_type": "markdown",
   "id": "dbba21d75f846898",
   "metadata": {
    "collapsed": false
   },
   "source": [
    "We checked for overlap between Employment_Type and Job_Type using a cross-tabulation heatmap.\n",
    "The results show no strong or consistent relationship between the two — most employment types are associated with a wide variety of job types.\n",
    "Therefore, we concluded that the two features capture distinct information and chose to keep both."
   ]
  },
  {
   "cell_type": "code",
   "execution_count": null,
   "id": "2c2ad593ba0cad71",
   "metadata": {
    "ExecuteTime": {
     "end_time": "2025-06-03T14:12:22.906157900Z",
     "start_time": "2025-06-03T14:12:21.749415700Z"
    },
    "collapsed": false
   },
   "outputs": [],
   "source": [
    "crosstab = pd.crosstab(train['Employment_Type'], train['Job_Type'], normalize='index')\n",
    "plt.figure(figsize=(14, 7))\n",
    "sns.heatmap(crosstab, cmap=\"Blues\", annot=True, fmt=\".2f\")\n",
    "plt.title(\"Employment Type vs Job Type\")\n",
    "plt.show()"
   ]
  },
  {
   "cell_type": "markdown",
   "id": "9018822c306ecfd1",
   "metadata": {
    "collapsed": false
   },
   "source": [
    "## 3. Data Preprocessing\n",
    "_Handle missing values, encode categorical features, normalize, etc._\n",
    "\n"
   ]
  },
  {
   "cell_type": "markdown",
   "id": "114b5f5a38536405",
   "metadata": {
    "collapsed": false
   },
   "source": [
    "_Changes based on the key insights:_"
   ]
  },
  {
   "cell_type": "code",
   "execution_count": 8,
   "id": "e60c0335a6987d0f",
   "metadata": {
    "collapsed": false,
    "ExecuteTime": {
     "end_time": "2025-06-10T08:25:57.891752100Z",
     "start_time": "2025-06-10T08:25:57.833094300Z"
    }
   },
   "outputs": [],
   "source": [
    "# 1. Removing columns B and C\n",
    "train = train.drop(['B', 'C'], axis=1)\n",
    "test = test.drop(['B', 'C'], axis=1)\n",
    "n_columns -= 2"
   ]
  },
  {
   "cell_type": "markdown",
   "id": "61e56d34960f4a1f",
   "metadata": {
    "collapsed": false
   },
   "source": [
    "**Outlier Removal:**\n"
   ]
  },
  {
   "cell_type": "markdown",
   "id": "302e29eb6ba85257",
   "metadata": {
    "collapsed": false
   },
   "source": [
    "Based on our initial EDA (where we plotted boxplots and histograms in Part 1), we selected seven features—`net_investment_log`, `Weekly_Work_Hours`, `Years_of_Education`, `Age`, `A`, `D`, and `E`—for outlier removal. First, we computed and displayed the five-number summary (Min, Q1, Median, Q3, Max) for each to see which values lay far outside the interquartile range. For `net_investment_log`, we calculated its mean and standard deviation and removed any rows whose values fell beyond ±4 σ; this eliminated about 800 observations (≈3 % of the data), preserving most valid high-net-worth cases. For feature D, which had a narrow IQR, we trimmed any values outside \\[0, 9], its own 1.5·IQR boundaries. Since `Age` and `Years_of_Education` all fell within reasonable IQR bounds, we left them intact. After many attempts with E, we found that removing its outliers caused us to lose too much data—plus we don’t actually know what E represents and its extreme values aren’t that severe—so we decided to leave E as is. For A, we applied a log transform first (to normalize its skew) and then standardized using a 3 σ cutoff to remove only the most extreme log-values. Finally, because some applicants legitimately work long weeks, we removed only those `Weekly_Work_Hours` entries above the 99th percentile, ensuring genuine 60–80-hour records remain while the most extreme cases are excluded.\n"
   ]
  },
  {
   "cell_type": "code",
   "execution_count": 9,
   "id": "4703a09506da61a2",
   "metadata": {
    "collapsed": false,
    "ExecuteTime": {
     "end_time": "2025-06-10T08:26:02.295911200Z",
     "start_time": "2025-06-10T08:26:01.473865800Z"
    }
   },
   "outputs": [
    {
     "data": {
      "text/plain": "<Figure size 640x480 with 1 Axes>",
      "image/png": "[encoded data removed]"
     },
     "metadata": {},
     "output_type": "display_data"
    },
    {
     "data": {
      "text/plain": "Text(0.5, 1.0, 'Distribution of net_investment_log')"
     },
     "execution_count": 9,
     "metadata": {},
     "output_type": "execute_result"
    },
    {
     "data": {
      "text/plain": "<Figure size 640x480 with 1 Axes>",
      "image/png": "[encoded data removed]"
     },
     "metadata": {},
     "output_type": "display_data"
    }
   ],
   "source": [
    "train['log_gain'] = np.log2(train['Investment_Gain'] + 1)\n",
    "train['log_loss'] = np.log2(train['Investment_Loss'] + 1)\n",
    "train['net_investment_log'] = train['log_gain'] - train['log_loss']\n",
    "\n",
    "plt.hist(train['net_investment_log'])\n",
    "plt.show()\n",
    "\n",
    "sns.histplot(train['net_investment_log'].dropna(), kde=True)\n",
    "plt.title(f\"Distribution of net_investment_log\")"
   ]
  },
  {
   "cell_type": "code",
   "execution_count": 10,
   "id": "550d0b64-fc73-45c1-b2a5-5bfa6604174d",
   "metadata": {
    "ExecuteTime": {
     "end_time": "2025-06-10T08:26:05.381808Z",
     "start_time": "2025-06-10T08:26:05.358489200Z"
    }
   },
   "outputs": [],
   "source": [
    "train[\"A_log\"] = np.log1p(train[\"A\"])"
   ]
  },
  {
   "cell_type": "code",
   "execution_count": 11,
   "id": "8bbb24080a5602fd",
   "metadata": {
    "collapsed": false,
    "ExecuteTime": {
     "end_time": "2025-06-10T08:26:06.805824100Z",
     "start_time": "2025-06-10T08:26:06.739374600Z"
    }
   },
   "outputs": [
    {
     "name": "stdout",
     "output_type": "stream",
     "text": [
      "                    Min   Q1  Median   Q3    Max\n",
      "net_investment_log  -12    0       0    0     17\n",
      "Weekly_Work_Hours     1   40      40   45     99\n",
      "Years_of_Education    1    9      10   12     16\n",
      "Age                  17   28      37   48     90\n",
      "A_log                 9   12      12   12     14\n",
      "D                    -2    4       5    6     11\n",
      "E                    83  130     139  148    199\n",
      "Investment_Gain       0    0       0    0  99999\n",
      "Investment_Loss       0    0       0    0   4356\n"
     ]
    }
   ],
   "source": [
    "# List of numeric features we care about\n",
    "features = [\n",
    "    \"net_investment_log\",\n",
    "    \"Weekly_Work_Hours\",\n",
    "    \"Years_of_Education\",\n",
    "    \"Age\",\n",
    "    \"A_log\",\n",
    "    \"D\",\n",
    "    \"E\",\n",
    "    \"Investment_Gain\",\n",
    "    \"Investment_Loss\"\n",
    "]\n",
    "\n",
    "# Compute the five‐number summary (min, Q1, median, Q3, max) for each feature\n",
    "summary = train[features].quantile([0.00, 0.25, 0.50, 0.75, 1.00]).T\n",
    "summary.columns = [\"Min\", \"Q1\", \"Median\", \"Q3\", \"Max\"]\n",
    "summary_int = summary.round(0).astype(int)\n",
    "\n",
    "print(summary_int)"
   ]
  },
  {
   "cell_type": "code",
   "execution_count": 12,
   "id": "d6f9d06c7bc96da0",
   "metadata": {
    "collapsed": false,
    "ExecuteTime": {
     "end_time": "2025-06-10T08:26:07.701346300Z",
     "start_time": "2025-06-10T08:26:07.668322600Z"
    }
   },
   "outputs": [],
   "source": [
    "# Remove outliers from 'net_investment_log' using 3 standard deviations\n",
    "mean_log = train[\"net_investment_log\"].mean()\n",
    "std_log  = train[\"net_investment_log\"].std()\n",
    "lower  = mean_log - 4 * std_log\n",
    "upper  = mean_log + 4 * std_log\n",
    "train = train[(train[\"net_investment_log\"] >= lower) & (train[\"net_investment_log\"] <= upper)]\n",
    "\n",
    "\n",
    "mean_A = train[\"A_log\"].mean()\n",
    "std_A  = train[\"A_log\"].std()\n",
    "lower_A  = mean_A - 3 * std_A\n",
    "upper_A  = mean_A + 3 * std_A\n",
    "train = train[(train[\"A_log\"] >= lower_A) & (train[\"A_log\"] <= upper_A)]\n",
    "\n",
    "\n",
    "# Keep only values between 1 and 9 for column 'D'\n",
    "train = train[(train[\"D\"] >= 0) & (train[\"D\"] <= 9)]"
   ]
  },
  {
   "cell_type": "code",
   "execution_count": 13,
   "id": "1d1b2fc564532a5a",
   "metadata": {
    "collapsed": false,
    "ExecuteTime": {
     "end_time": "2025-06-10T08:26:08.592599800Z",
     "start_time": "2025-06-10T08:26:08.539083200Z"
    }
   },
   "outputs": [
    {
     "name": "stdout",
     "output_type": "stream",
     "text": [
      "New max after filtering: 80\n",
      "99th percentile used as threshold: 80.0\n"
     ]
    }
   ],
   "source": [
    "# Compute 99th percentile\n",
    "p99 = train[\"Weekly_Work_Hours\"].quantile(0.99)\n",
    "\n",
    "# Remove rows where Weekly_Work_Hours > 99th percentile\n",
    "train = train[train[\"Weekly_Work_Hours\"] <= p99]\n",
    "\n",
    "# print new max for verification\n",
    "print(\"New max after filtering:\", train[\"Weekly_Work_Hours\"].max())\n",
    "print(\"99th percentile used as threshold:\", p99)"
   ]
  },
  {
   "cell_type": "code",
   "execution_count": 14,
   "id": "b96dd0317dd13695",
   "metadata": {
    "collapsed": false,
    "ExecuteTime": {
     "end_time": "2025-06-10T08:26:09.289955400Z",
     "start_time": "2025-06-10T08:26:09.209417700Z"
    }
   },
   "outputs": [
    {
     "data": {
      "text/plain": "(26389, 23)"
     },
     "execution_count": 14,
     "metadata": {},
     "output_type": "execute_result"
    }
   ],
   "source": [
    "train.shape"
   ]
  },
  {
   "cell_type": "markdown",
   "id": "bc2d245d3623b8e9",
   "metadata": {
    "collapsed": false
   },
   "source": [
    "This cell defines helper functions to collapse rarely seen categories into broader groups, reducing cardinality for certain columns.\n",
    "These functions prepare us to reduce the number of dummy columns later on when we one-hot encode."
   ]
  },
  {
   "cell_type": "code",
   "execution_count": 15,
   "id": "ea59906540420095",
   "metadata": {
    "collapsed": false,
    "ExecuteTime": {
     "end_time": "2025-06-10T08:26:12.289417900Z",
     "start_time": "2025-06-10T08:26:12.243723400Z"
    }
   },
   "outputs": [],
   "source": [
    "# ------------ Grouping functions ------------\n",
    "\n",
    "# Grouping Preferred_Communication_Method\n",
    "def group_pref_com(pref):\n",
    "    if pref == \"Mail\" or pref == \"mail\":\n",
    "        return \"Mail\"\n",
    "    if pref == \"Email\" or pref == \"email\":\n",
    "        return \"EMail\"\n",
    "    if pref == \"Phone\" or pref == \"phone\" or pref == \"phone call\":\n",
    "        return \"Phone\"\n",
    "    else:\n",
    "        return \"Other\"\n",
    "\n",
    "# Grouping Country_of_Residence\n",
    "def group_country(country):\n",
    "    if country == \"United-States\":\n",
    "        return \"USA\"\n",
    "    elif country == \"Mexico\":\n",
    "        return \"Mexico\"\n",
    "    else:\n",
    "        return \"Other\"\n",
    "    \n",
    "# Grouping Education_Level\n",
    "def group_education(edu):\n",
    "    pre_school = ['Preschool']\n",
    "    school = ['1st-4th', '5th-6th', '9th', '10th', '11th', '12th', '7th-8th']\n",
    "    post_hs = ['HS-grad', 'Some-college']\n",
    "    assoc = ['Assoc-voc', 'Assoc-acdm']\n",
    "    higher = ['Masters', 'Bachelors']\n",
    "    postgraduate = ['Doctorate', 'Prof-school']\n",
    "    \n",
    "    if edu in pre_school:\n",
    "        return 'pre_school'\n",
    "    elif edu in school:\n",
    "        return 'school'\n",
    "    elif edu in post_hs:\n",
    "        return 'post_hs'\n",
    "    elif edu in assoc:\n",
    "        return 'assoc'\n",
    "    elif edu in higher:\n",
    "        return 'higher'\n",
    "    elif edu in postgraduate:\n",
    "        return 'postgraduate'\n",
    "    else:\n",
    "        return 'Other'\n",
    "    \n",
    "# Grouping Household_role\n",
    "def group_household_role(role):\n",
    "    if role in ['Husband', 'Wife']:\n",
    "        return 'Spouse'\n",
    "    else:\n",
    "        return 'Other'\n",
    "\n",
    "# Grouping Employment_Type\n",
    "def group_employment(emp):\n",
    "    if emp == 'Private':\n",
    "        return 'Private'\n",
    "    elif emp in ['Self-emp-not-inc', 'Self-emp-inc', 'Local-gov', 'State-gov', 'Federal-gov']:\n",
    "        return 'Not-Private'\n",
    "    elif emp in ['Without-pay', 'Never-worked']:\n",
    "        return 'Non-working'\n",
    "    else:\n",
    "        return 'Other'\n",
    "    \n",
    "# Grouping Ethnicity:\n",
    "def group_ethnicity(eth):\n",
    "    if eth == 'White':\n",
    "        return 'White'\n",
    "    elif eth == 'Black':\n",
    "        return 'Black'\n",
    "    else:\n",
    "        return 'Other'\n",
    "    \n",
    "# 1. Mapping dictionary for Years_of_Education\n",
    "edu_to_years = {\n",
    "    'Preschool'    : 0,\n",
    "    '1st-4th'      : (1 + 2 + 3 + 4) / 4,\n",
    "    '5th-6th'      : 5.5,\n",
    "    '7th-8th'      : 7.5,\n",
    "    '9th'          : 9,\n",
    "    '10th'         : 10,\n",
    "    '11th'         : 11,\n",
    "    '12th'         : 12,\n",
    "    'HS-grad'      : 12,\n",
    "    'Some-college' : (12 + 13 + 14 + 15) / 4,\n",
    "    'Assoc-voc'    : 14,\n",
    "    'Assoc-acdm'   : 14,\n",
    "    'Bachelors'    : 16,\n",
    "    'Masters'      : 18,\n",
    "    'Prof-school'  : 19,\n",
    "    'Doctorate'    : 20\n",
    "}\n",
    "\n",
    "\n",
    "def group_edu_years(X):\n",
    "    # Ensure X is treated as a 2D array\n",
    "    arr = X.to_numpy()\n",
    "    \n",
    "    if arr.ndim != 2 or arr.shape[1] != 2:\n",
    "        raise ValueError(\"group_edu_years expects exactly 2 columns: [Years_of_Education, Education_Level]\")\n",
    "    \n",
    "    # Now arr[:, 0] and arr[:, 1] work as intended\n",
    "    raw_years   = pd.Series(arr[:, 0])\n",
    "    raw_levels  = pd.Series(arr[:, 1])\n",
    "    \n",
    "    # Map Education_Level → numeric years\n",
    "    mapped_years = raw_levels.map(edu_to_years)\n",
    "    \n",
    "    # Fill NaN in raw_years with mapped_years\n",
    "    filled = raw_years.fillna(mapped_years)\n",
    "    \n",
    "    # Return a single-column DataFrame\n",
    "    return filled.to_frame(name=\"Years_of_Education\")\n"
   ]
  },
  {
   "cell_type": "markdown",
   "id": "8957b7e82eb52d05",
   "metadata": {
    "collapsed": false
   },
   "source": [
    "\n",
    "In this cell, we apply each grouping function to the raw columns and create new “_grouped” columns in both train and test."
   ]
  },
  {
   "cell_type": "code",
   "execution_count": 16,
   "id": "323cef953dcfe6f8",
   "metadata": {
    "collapsed": false,
    "ExecuteTime": {
     "end_time": "2025-06-10T08:26:13.987890700Z",
     "start_time": "2025-06-10T08:26:13.970055400Z"
    }
   },
   "outputs": [],
   "source": [
    "from sklearn.preprocessing import FunctionTransformer\n",
    "import pandas as pd\n",
    "\n",
    "# 1. Single-column groupers: convert X (which may be a 1-col DataFrame or 2D array shape (n,1))\n",
    "#    into a flat 1D array via X.to_numpy().ravel(), then map the scalar function.\n",
    "\n",
    "pref_com_group = FunctionTransformer(\n",
    "    func=lambda X: pd.Series(\n",
    "        X.to_numpy().ravel()\n",
    "    ).map(group_pref_com).to_frame(\"Preferred_Communication_Method\"),\n",
    "    validate=False\n",
    ")\n",
    "\n",
    "country_group = FunctionTransformer(\n",
    "    func=lambda X: pd.Series(\n",
    "        X.to_numpy().ravel()\n",
    "    ).map(group_country).to_frame(\"Country_of_Residence\"),\n",
    "    validate=False\n",
    ")\n",
    "\n",
    "edu_level_group = FunctionTransformer(\n",
    "    func=lambda X: pd.Series(\n",
    "        X.to_numpy().ravel()\n",
    "    ).map(group_education).to_frame(\"Education_Level_Mapped\"),\n",
    "    validate=False\n",
    ")\n",
    "\n",
    "house_hold_group = FunctionTransformer(\n",
    "    func=lambda X: pd.Series(\n",
    "        X.to_numpy().ravel()\n",
    "    ).map(group_household_role).to_frame(\"Household_Role\"),\n",
    "    validate=False\n",
    ")\n",
    "\n",
    "emp_type_group = FunctionTransformer(\n",
    "    func=lambda X: pd.Series(\n",
    "        X.to_numpy().ravel()\n",
    "    ).map(group_employment).to_frame(\"Employment_Type\"),\n",
    "    validate=False\n",
    ")\n",
    "\n",
    "ethnicity_group = FunctionTransformer(\n",
    "    func=lambda X: pd.Series(\n",
    "        X.to_numpy().ravel()\n",
    "    ).map(group_ethnicity).to_frame(\"Ethnicity\"),\n",
    "    validate=False\n",
    ")\n",
    "\n",
    "\n",
    "# 2. Two-column grouper: \n",
    "#    X will be shape (n_samples, 2), where column 0 = Years_of_Education,\n",
    "#    column 1 = Education_Level. We need to call group_edu_years on each row.\n",
    "\n",
    "edu_years_group = FunctionTransformer(\n",
    "    func=lambda X: group_edu_years(X),\n",
    "    validate=False\n",
    ")\n",
    "\n"
   ]
  },
  {
   "cell_type": "code",
   "execution_count": 17,
   "id": "ba45e67358850d1a",
   "metadata": {
    "collapsed": false,
    "ExecuteTime": {
     "end_time": "2025-06-10T08:26:15.442384900Z",
     "start_time": "2025-06-10T08:26:15.373154700Z"
    }
   },
   "outputs": [],
   "source": [
    "# ------------ pipelines ------------\n",
    "\n",
    "# Preferred_Communication_Method pipeline\n",
    "pref_pipeline = Pipeline([\n",
    "    ('group', pref_com_group),  \n",
    "    ('impute', SimpleImputer(strategy='constant', fill_value='Missing')),\n",
    "    ('onehot', OneHotEncoder(handle_unknown='ignore'))\n",
    "])\n",
    "\n",
    "# Country_of_Residence pipeline\n",
    "country_pipeline = Pipeline([\n",
    "    ('group', country_group),\n",
    "    ('impute', SimpleImputer(strategy='most_frequent')),  # or 'constant' if you prefer\n",
    "    ('onehot', OneHotEncoder(handle_unknown='ignore'))\n",
    "])\n",
    "\n",
    "# Education_Level pipeline\n",
    "edu_pipeline = Pipeline([\n",
    "    ('group', edu_level_group),\n",
    "    ('impute', SimpleImputer(strategy='constant', fill_value='Missing')),\n",
    "    ('onehot', OneHotEncoder(handle_unknown='ignore'))\n",
    "])\n",
    "\n",
    "# Employment_Type pipeline\n",
    "employment_pipeline = Pipeline([\n",
    "    ('group', emp_type_group),\n",
    "    ('impute', SimpleImputer(strategy='most_frequent')),\n",
    "    ('onehot', OneHotEncoder(handle_unknown='ignore'))\n",
    "])\n",
    "\n",
    "# Ethnicity pipeline\n",
    "ethnicity_pipeline = Pipeline([\n",
    "    ('group', ethnicity_group),\n",
    "    ('impute', SimpleImputer(strategy='constant', fill_value='Missing')),\n",
    "    ('onehot', OneHotEncoder(handle_unknown='ignore'))\n",
    "])\n",
    "\n",
    "# Household pipeline\n",
    "Household_pipeline = Pipeline([\n",
    "    ('group', house_hold_group),\n",
    "    ('impute', SimpleImputer(strategy='constant', fill_value='Missing')),\n",
    "    ('onehot', OneHotEncoder(handle_unknown='ignore'))\n",
    "])\n",
    "\n",
    "# Years of education pipeline\n",
    "edu_years_pipeline = Pipeline([\n",
    "    ('fill_years', edu_years_group),\n",
    "    ('impute_years', SimpleImputer(strategy='mean')),\n",
    "    (\"scaler\", StandardScaler()), \n",
    "])\n",
    "\n",
    "\n",
    "# columns without special adjustments:\n",
    "categorical_col = ['Gender', 'Marital_Status', 'Job_Type', 'Employment_Type']\n",
    "numerical_col = ['E']\n",
    "skw_numerical_col = ['Age', 'Investment_Gain', 'Investment_Loss']\n",
    "\n",
    "# Pipeline for categorical features\n",
    "cat_pipeline = Pipeline([\n",
    "    ('imputer', SimpleImputer(strategy='constant', fill_value='Missing')),\n",
    "    ('encoder', OneHotEncoder(handle_unknown='ignore'))\n",
    "])\n",
    "\n",
    "# Pipeline for numerical features (mean imputation)\n",
    "num_pipeline = Pipeline([\n",
    "    ('imputer', SimpleImputer(strategy='mean')),\n",
    "    (\"scaler\", StandardScaler()), \n",
    "\n",
    "])\n",
    "\n",
    "# Pipeline for numerical features (median imputation) - for skewed columns\n",
    "skw_numerical_pipeline = Pipeline([\n",
    "    ('imputer', SimpleImputer(strategy='median')),\n",
    "    (\"scaler\", StandardScaler()), \n",
    "])\n",
    "\n",
    "\n",
    "# Combine pipelines into a ColumnTransformer\n",
    "preprocessor = ColumnTransformer([\n",
    "    ('pref_communication',       pref_pipeline,         ['Preferred_Communication_Method']),\n",
    "    ('country',    country_pipeline,      ['Country_of_Residence']),\n",
    "    ('edu_level',  edu_pipeline,          ['Education_Level']),\n",
    "    ('edu_years',  edu_years_pipeline,    ['Years_of_Education', 'Education_Level']),\n",
    "    ('employment_type', employment_pipeline,   ['Employment_Type']),\n",
    "    ('ethnicity',  ethnicity_pipeline,    ['Ethnicity']),\n",
    "    ('household_role',  Household_pipeline,    ['Household_Role']),\n",
    "    ('cat',  cat_pipeline,          ['Gender', 'Marital_Status', 'Job_Type', 'Employment_Type']), # Other categorical columns\n",
    "    ('num',  num_pipeline,          ['E']),                                                       # Simple numeric column\n",
    "    ('skw_num',    skw_numerical_pipeline,['Age', 'Investment_Gain', 'Investment_Loss'])                # Skewed numeric columns    \n",
    "    ],\n",
    "    remainder=\"passthrough\"\n",
    "    # All remaining columns that were not specified in transformer. These columns don't need any transformation. This subset of columns is concatenated with the output of the transformers.\n",
    ")"
   ]
  },
  {
   "cell_type": "markdown",
   "source": [
    "## Feature Selection"
   ],
   "metadata": {
    "collapsed": false
   },
   "id": "ed970a516c24cd26"
  },
  {
   "cell_type": "code",
   "execution_count": 18,
   "id": "3a823090cd3b383",
   "metadata": {
    "collapsed": false,
    "ExecuteTime": {
     "end_time": "2025-06-10T08:26:33.220261100Z",
     "start_time": "2025-06-10T08:26:32.876142100Z"
    }
   },
   "outputs": [],
   "source": [
    "df_raw = train.copy()\n",
    "\n",
    "# Transform the data to get a NumPy array of size (n_samples, n_total_features)\n",
    "preprocessor.fit(df_raw)\n",
    "X_transformed = preprocessor.transform(df_raw)\n",
    "\n",
    "# 2. Build a list of all columns explicitly listed in the transformer specs\n",
    "listed_columns = []\n",
    "for _, _, cols in preprocessor.transformers_:\n",
    "    # 'cols' can be a list of column names or a slice object\n",
    "    if isinstance(cols, (list, tuple, np.ndarray)):\n",
    "        listed_columns.extend(list(cols))\n",
    "    # If it were a slice or boolean mask, you’d handle that here.\n",
    "    # In most typical uses, it's a list of strings.\n",
    "\n",
    "listed_columns = set(listed_columns)  # deduplicate\n",
    "\n",
    "# 3. Iterate again to collect output names for each transformer block\n",
    "feature_names = []\n",
    "\n",
    "for name, transformer, cols in preprocessor.transformers_:\n",
    "    # a) If the transformer is explicitly \"drop\", skip it\n",
    "    if transformer == \"drop\":\n",
    "        continue\n",
    "\n",
    "    # b) If the transformer is \"passthrough\", we'll handle it in step 4\n",
    "    #    Actually, ColumnTransformer never lists \"passthrough\" here;\n",
    "    #    remainder=\"passthrough\" is handled separately.\n",
    "    #    So we can ignore that case in this loop.\n",
    "\n",
    "    # c) Figure out the “final” estimator within this transformer\n",
    "    if isinstance(transformer, Pipeline):\n",
    "        final_step = transformer.steps[-1][1]\n",
    "    else:\n",
    "        final_step = transformer\n",
    "\n",
    "    # d) If the final step has get_feature_names_out, call it\n",
    "    if hasattr(final_step, \"get_feature_names_out\"):\n",
    "        try:\n",
    "            names_out = final_step.get_feature_names_out(cols)\n",
    "        except Exception:\n",
    "            # If it errors (e.g. SimpleImputer in older sklearn), fallback:\n",
    "            names_out = list(cols)  # one‐to‐one with input column(s)\n",
    "    else:\n",
    "        # If no get_feature_names_out, assume it returned exactly one column per input\n",
    "        names_out = list(cols)\n",
    "\n",
    "    feature_names.extend(names_out)\n",
    "\n",
    "# The feature_names list contains integer indices for passthrough columns.\n",
    "# We need to replace those integers with the actual column names from df_raw.\n",
    "\n",
    "fixed_feature_names = []\n",
    "for name in feature_names:\n",
    "    if isinstance(name, int):\n",
    "        # look up the real column name by positional index\n",
    "        fixed_feature_names.append(df_raw.columns[name])\n",
    "    else:\n",
    "        fixed_feature_names.append(name)\n",
    "fixed_feature_names.remove(\"Education_Level\")       # Appears twice because of the education mapping\n",
    "        \n",
    "\n",
    "\n",
    "# 6. Build a DataFrame \n",
    "processed_df = pd.DataFrame(\n",
    "    X_transformed, \n",
    "    columns=fixed_feature_names, \n",
    "    index=df_raw.index\n",
    ")"
   ]
  },
  {
   "cell_type": "code",
   "execution_count": 19,
   "id": "f527c37104e62c78",
   "metadata": {
    "collapsed": false,
    "ExecuteTime": {
     "end_time": "2025-06-10T08:26:34.757657300Z",
     "start_time": "2025-06-10T08:26:34.683152200Z"
    }
   },
   "outputs": [
    {
     "data": {
      "text/plain": "   Preferred_Communication_Method_EMail  Preferred_Communication_Method_Mail  \\\n0                                   0.0                                  0.0   \n1                                   0.0                                  1.0   \n2                                   0.0                                  1.0   \n3                                   0.0                                  0.0   \n5                                   1.0                                  0.0   \n\n   Preferred_Communication_Method_Other  Preferred_Communication_Method_Phone  \\\n0                                   1.0                                   0.0   \n1                                   0.0                                   0.0   \n2                                   0.0                                   0.0   \n3                                   1.0                                   0.0   \n5                                   0.0                                   0.0   \n\n   Country_of_Residence_Mexico  Country_of_Residence_Other  \\\n0                          0.0                         0.0   \n1                          0.0                         0.0   \n2                          0.0                         0.0   \n3                          0.0                         0.0   \n5                          0.0                         0.0   \n\n   Country_of_Residence_USA  Education_Level_assoc  Education_Level_higher  \\\n0                       1.0                    0.0                     0.0   \n1                       1.0                    0.0                     0.0   \n2                       1.0                    0.0                     0.0   \n3                       1.0                    0.0                     0.0   \n5                       1.0                    0.0                     0.0   \n\n   Education_Level_post_hs  ...  Investment_Loss  customer_id         A  \\\n0                      1.0  ...        10.731185     115892.0   77053.0   \n1                      1.0  ...        10.731185     115893.0  132870.0   \n2                      0.0  ...         9.585436     115895.0  140359.0   \n3                      1.0  ...         9.585436     115896.0  264663.0   \n5                      0.0  ...         9.258797     115898.0  150601.0   \n\n   Weekly_Work_Hours         D  Loan_Approval  log_gain   log_loss  \\\n0               40.0  2.865629            0.0       0.0  12.089119   \n1               18.0  5.528583            0.0       0.0  12.089119   \n2               40.0  3.816915            0.0       0.0  11.929628   \n3               40.0  5.416363            0.0       0.0  11.929628   \n5               40.0  4.884319            0.0       0.0  11.880731   \n\n   net_investment_log      A_log  \n0          -12.089119  11.252262  \n1          -12.089119  11.797134  \n2          -11.929628  11.851966  \n3          -11.929628  12.486216  \n5          -11.880731  11.922396  \n\n[5 rows x 69 columns]",
      "text/html": "<div>\n<style scoped>\n    .dataframe tbody tr th:only-of-type {\n        vertical-align: middle;\n    }\n\n    .dataframe tbody tr th {\n        vertical-align: top;\n    }\n\n    .dataframe thead th {\n        text-align: right;\n    }\n</style>\n<table border=\"1\" class=\"dataframe\">\n  <thead>\n    <tr style=\"text-align: right;\">\n      <th></th>\n      <th>Preferred_Communication_Method_EMail</th>\n      <th>Preferred_Communication_Method_Mail</th>\n      <th>Preferred_Communication_Method_Other</th>\n      <th>Preferred_Communication_Method_Phone</th>\n      <th>Country_of_Residence_Mexico</th>\n      <th>Country_of_Residence_Other</th>\n      <th>Country_of_Residence_USA</th>\n      <th>Education_Level_assoc</th>\n      <th>Education_Level_higher</th>\n      <th>Education_Level_post_hs</th>\n      <th>...</th>\n      <th>Investment_Loss</th>\n      <th>customer_id</th>\n      <th>A</th>\n      <th>Weekly_Work_Hours</th>\n      <th>D</th>\n      <th>Loan_Approval</th>\n      <th>log_gain</th>\n      <th>log_loss</th>\n      <th>net_investment_log</th>\n      <th>A_log</th>\n    </tr>\n  </thead>\n  <tbody>\n    <tr>\n      <th>0</th>\n      <td>0.0</td>\n      <td>0.0</td>\n      <td>1.0</td>\n      <td>0.0</td>\n      <td>0.0</td>\n      <td>0.0</td>\n      <td>1.0</td>\n      <td>0.0</td>\n      <td>0.0</td>\n      <td>1.0</td>\n      <td>...</td>\n      <td>10.731185</td>\n      <td>115892.0</td>\n      <td>77053.0</td>\n      <td>40.0</td>\n      <td>2.865629</td>\n      <td>0.0</td>\n      <td>0.0</td>\n      <td>12.089119</td>\n      <td>-12.089119</td>\n      <td>11.252262</td>\n    </tr>\n    <tr>\n      <th>1</th>\n      <td>0.0</td>\n      <td>1.0</td>\n      <td>0.0</td>\n      <td>0.0</td>\n      <td>0.0</td>\n      <td>0.0</td>\n      <td>1.0</td>\n      <td>0.0</td>\n      <td>0.0</td>\n      <td>1.0</td>\n      <td>...</td>\n      <td>10.731185</td>\n      <td>115893.0</td>\n      <td>132870.0</td>\n      <td>18.0</td>\n      <td>5.528583</td>\n      <td>0.0</td>\n      <td>0.0</td>\n      <td>12.089119</td>\n      <td>-12.089119</td>\n      <td>11.797134</td>\n    </tr>\n    <tr>\n      <th>2</th>\n      <td>0.0</td>\n      <td>1.0</td>\n      <td>0.0</td>\n      <td>0.0</td>\n      <td>0.0</td>\n      <td>0.0</td>\n      <td>1.0</td>\n      <td>0.0</td>\n      <td>0.0</td>\n      <td>0.0</td>\n      <td>...</td>\n      <td>9.585436</td>\n      <td>115895.0</td>\n      <td>140359.0</td>\n      <td>40.0</td>\n      <td>3.816915</td>\n      <td>0.0</td>\n      <td>0.0</td>\n      <td>11.929628</td>\n      <td>-11.929628</td>\n      <td>11.851966</td>\n    </tr>\n    <tr>\n      <th>3</th>\n      <td>0.0</td>\n      <td>0.0</td>\n      <td>1.0</td>\n      <td>0.0</td>\n      <td>0.0</td>\n      <td>0.0</td>\n      <td>1.0</td>\n      <td>0.0</td>\n      <td>0.0</td>\n      <td>1.0</td>\n      <td>...</td>\n      <td>9.585436</td>\n      <td>115896.0</td>\n      <td>264663.0</td>\n      <td>40.0</td>\n      <td>5.416363</td>\n      <td>0.0</td>\n      <td>0.0</td>\n      <td>11.929628</td>\n      <td>-11.929628</td>\n      <td>12.486216</td>\n    </tr>\n    <tr>\n      <th>5</th>\n      <td>1.0</td>\n      <td>0.0</td>\n      <td>0.0</td>\n      <td>0.0</td>\n      <td>0.0</td>\n      <td>0.0</td>\n      <td>1.0</td>\n      <td>0.0</td>\n      <td>0.0</td>\n      <td>0.0</td>\n      <td>...</td>\n      <td>9.258797</td>\n      <td>115898.0</td>\n      <td>150601.0</td>\n      <td>40.0</td>\n      <td>4.884319</td>\n      <td>0.0</td>\n      <td>0.0</td>\n      <td>11.880731</td>\n      <td>-11.880731</td>\n      <td>11.922396</td>\n    </tr>\n  </tbody>\n</table>\n<p>5 rows × 69 columns</p>\n</div>"
     },
     "execution_count": 19,
     "metadata": {},
     "output_type": "execute_result"
    }
   ],
   "source": [
    "processed_df.head()"
   ]
  },
  {
   "cell_type": "code",
   "execution_count": null,
   "outputs": [],
   "source": [],
   "metadata": {
    "collapsed": false
   },
   "id": "7885212f5581e64f"
  },
  {
   "cell_type": "code",
   "execution_count": 25,
   "outputs": [
    {
     "data": {
      "text/plain": "   Preferred_Communication_Method_EMail  Preferred_Communication_Method_Mail  \\\n0                                   0.0                                  0.0   \n1                                   0.0                                  1.0   \n2                                   0.0                                  1.0   \n3                                   0.0                                  0.0   \n5                                   1.0                                  0.0   \n\n   Preferred_Communication_Method_Other  Preferred_Communication_Method_Phone  \\\n0                                   1.0                                   0.0   \n1                                   0.0                                   0.0   \n2                                   0.0                                   0.0   \n3                                   1.0                                   0.0   \n5                                   0.0                                   0.0   \n\n   Country_of_Residence_Mexico  Country_of_Residence_Other  \\\n0                          0.0                         0.0   \n1                          0.0                         0.0   \n2                          0.0                         0.0   \n3                          0.0                         0.0   \n5                          0.0                         0.0   \n\n   Country_of_Residence_USA  Education_Level_assoc  Education_Level_higher  \\\n0                       1.0                    0.0                     0.0   \n1                       1.0                    0.0                     0.0   \n2                       1.0                    0.0                     0.0   \n3                       1.0                    0.0                     0.0   \n5                       1.0                    0.0                     0.0   \n\n   Education_Level_post_hs  ...       Age  Investment_Gain  Investment_Loss  \\\n0                      1.0  ...  3.779561        -0.145838        10.731185   \n1                      1.0  ...  3.191651        -0.145838        10.731185   \n2                      0.0  ...  1.133965        -0.145838         9.585436   \n3                      1.0  ...  0.178610        -0.145838         9.585436   \n5                      0.0  ... -0.041856        -0.145838         9.258797   \n\n          A  Weekly_Work_Hours         D  log_gain   log_loss  \\\n0   77053.0               40.0  2.865629       0.0  12.089119   \n1  132870.0               18.0  5.528583       0.0  12.089119   \n2  140359.0               40.0  3.816915       0.0  11.929628   \n3  264663.0               40.0  5.416363       0.0  11.929628   \n5  150601.0               40.0  4.884319       0.0  11.880731   \n\n   net_investment_log      A_log  \n0          -12.089119  11.252262  \n1          -12.089119  11.797134  \n2          -11.929628  11.851966  \n3          -11.929628  12.486216  \n5          -11.880731  11.922396  \n\n[5 rows x 67 columns]",
      "text/html": "<div>\n<style scoped>\n    .dataframe tbody tr th:only-of-type {\n        vertical-align: middle;\n    }\n\n    .dataframe tbody tr th {\n        vertical-align: top;\n    }\n\n    .dataframe thead th {\n        text-align: right;\n    }\n</style>\n<table border=\"1\" class=\"dataframe\">\n  <thead>\n    <tr style=\"text-align: right;\">\n      <th></th>\n      <th>Preferred_Communication_Method_EMail</th>\n      <th>Preferred_Communication_Method_Mail</th>\n      <th>Preferred_Communication_Method_Other</th>\n      <th>Preferred_Communication_Method_Phone</th>\n      <th>Country_of_Residence_Mexico</th>\n      <th>Country_of_Residence_Other</th>\n      <th>Country_of_Residence_USA</th>\n      <th>Education_Level_assoc</th>\n      <th>Education_Level_higher</th>\n      <th>Education_Level_post_hs</th>\n      <th>...</th>\n      <th>Age</th>\n      <th>Investment_Gain</th>\n      <th>Investment_Loss</th>\n      <th>A</th>\n      <th>Weekly_Work_Hours</th>\n      <th>D</th>\n      <th>log_gain</th>\n      <th>log_loss</th>\n      <th>net_investment_log</th>\n      <th>A_log</th>\n    </tr>\n  </thead>\n  <tbody>\n    <tr>\n      <th>0</th>\n      <td>0.0</td>\n      <td>0.0</td>\n      <td>1.0</td>\n      <td>0.0</td>\n      <td>0.0</td>\n      <td>0.0</td>\n      <td>1.0</td>\n      <td>0.0</td>\n      <td>0.0</td>\n      <td>1.0</td>\n      <td>...</td>\n      <td>3.779561</td>\n      <td>-0.145838</td>\n      <td>10.731185</td>\n      <td>77053.0</td>\n      <td>40.0</td>\n      <td>2.865629</td>\n      <td>0.0</td>\n      <td>12.089119</td>\n      <td>-12.089119</td>\n      <td>11.252262</td>\n    </tr>\n    <tr>\n      <th>1</th>\n      <td>0.0</td>\n      <td>1.0</td>\n      <td>0.0</td>\n      <td>0.0</td>\n      <td>0.0</td>\n      <td>0.0</td>\n      <td>1.0</td>\n      <td>0.0</td>\n      <td>0.0</td>\n      <td>1.0</td>\n      <td>...</td>\n      <td>3.191651</td>\n      <td>-0.145838</td>\n      <td>10.731185</td>\n      <td>132870.0</td>\n      <td>18.0</td>\n      <td>5.528583</td>\n      <td>0.0</td>\n      <td>12.089119</td>\n      <td>-12.089119</td>\n      <td>11.797134</td>\n    </tr>\n    <tr>\n      <th>2</th>\n      <td>0.0</td>\n      <td>1.0</td>\n      <td>0.0</td>\n      <td>0.0</td>\n      <td>0.0</td>\n      <td>0.0</td>\n      <td>1.0</td>\n      <td>0.0</td>\n      <td>0.0</td>\n      <td>0.0</td>\n      <td>...</td>\n      <td>1.133965</td>\n      <td>-0.145838</td>\n      <td>9.585436</td>\n      <td>140359.0</td>\n      <td>40.0</td>\n      <td>3.816915</td>\n      <td>0.0</td>\n      <td>11.929628</td>\n      <td>-11.929628</td>\n      <td>11.851966</td>\n    </tr>\n    <tr>\n      <th>3</th>\n      <td>0.0</td>\n      <td>0.0</td>\n      <td>1.0</td>\n      <td>0.0</td>\n      <td>0.0</td>\n      <td>0.0</td>\n      <td>1.0</td>\n      <td>0.0</td>\n      <td>0.0</td>\n      <td>1.0</td>\n      <td>...</td>\n      <td>0.178610</td>\n      <td>-0.145838</td>\n      <td>9.585436</td>\n      <td>264663.0</td>\n      <td>40.0</td>\n      <td>5.416363</td>\n      <td>0.0</td>\n      <td>11.929628</td>\n      <td>-11.929628</td>\n      <td>12.486216</td>\n    </tr>\n    <tr>\n      <th>5</th>\n      <td>1.0</td>\n      <td>0.0</td>\n      <td>0.0</td>\n      <td>0.0</td>\n      <td>0.0</td>\n      <td>0.0</td>\n      <td>1.0</td>\n      <td>0.0</td>\n      <td>0.0</td>\n      <td>0.0</td>\n      <td>...</td>\n      <td>-0.041856</td>\n      <td>-0.145838</td>\n      <td>9.258797</td>\n      <td>150601.0</td>\n      <td>40.0</td>\n      <td>4.884319</td>\n      <td>0.0</td>\n      <td>11.880731</td>\n      <td>-11.880731</td>\n      <td>11.922396</td>\n    </tr>\n  </tbody>\n</table>\n<p>5 rows × 67 columns</p>\n</div>"
     },
     "execution_count": 25,
     "metadata": {},
     "output_type": "execute_result"
    }
   ],
   "source": [
    "X1.head()"
   ],
   "metadata": {
    "collapsed": false,
    "ExecuteTime": {
     "end_time": "2025-06-10T08:32:39.457492100Z",
     "start_time": "2025-06-10T08:32:39.411556500Z"
    }
   },
   "id": "e38233a799255aa7"
  },
  {
   "cell_type": "code",
   "execution_count": null,
   "id": "48f4c60bd8cde565",
   "metadata": {
    "collapsed": false
   },
   "outputs": [],
   "source": [
    "#AAAAAAAAAAAAAAAAAAAAAAAAAAAAAAAAAAAAAAAAAAAAAAAAAAAAAAAAAAAAAAAAAAAAAAAAAAAAAAAAAAAAAAAAAAAAAAAAAAAAAAAAAAAAAAAAAAAAAAAAAAAAAAAA"
   ]
  },
  {
   "cell_type": "code",
   "execution_count": 13,
   "id": "572f1caebdf1dfa5",
   "metadata": {
    "ExecuteTime": {
     "end_time": "2025-06-03T13:00:00.342895Z",
     "start_time": "2025-06-03T12:59:57.073898300Z"
    },
    "collapsed": false
   },
   "outputs": [
    {
     "data": {
      "image/png": "[encoded data removed]",
      "text/plain": [
       "<Figure size 1200x400 with 2 Axes>"
      ]
     },
     "metadata": {},
     "output_type": "display_data"
    },
    {
     "ename": "KeyError",
     "evalue": "'Net_Investment'",
     "output_type": "error",
     "traceback": [
      "\u001B[1;31m---------------------------------------------------------------------------\u001B[0m",
      "\u001B[1;31mKeyError\u001B[0m                                  Traceback (most recent call last)",
      "File \u001B[1;32mc:\\users\\na270\\appdata\\local\\programs\\python\\python38\\lib\\site-packages\\pandas\\core\\indexes\\base.py:3653\u001B[0m, in \u001B[0;36mIndex.get_loc\u001B[1;34m(self, key)\u001B[0m\n\u001B[0;32m   3652\u001B[0m \u001B[38;5;28;01mtry\u001B[39;00m:\n\u001B[1;32m-> 3653\u001B[0m     \u001B[38;5;28;01mreturn\u001B[39;00m \u001B[38;5;28;43mself\u001B[39;49m\u001B[38;5;241;43m.\u001B[39;49m\u001B[43m_engine\u001B[49m\u001B[38;5;241;43m.\u001B[39;49m\u001B[43mget_loc\u001B[49m\u001B[43m(\u001B[49m\u001B[43mcasted_key\u001B[49m\u001B[43m)\u001B[49m\n\u001B[0;32m   3654\u001B[0m \u001B[38;5;28;01mexcept\u001B[39;00m \u001B[38;5;167;01mKeyError\u001B[39;00m \u001B[38;5;28;01mas\u001B[39;00m err:\n",
      "File \u001B[1;32mc:\\users\\na270\\appdata\\local\\programs\\python\\python38\\lib\\site-packages\\pandas\\_libs\\index.pyx:147\u001B[0m, in \u001B[0;36mpandas._libs.index.IndexEngine.get_loc\u001B[1;34m()\u001B[0m\n",
      "File \u001B[1;32mc:\\users\\na270\\appdata\\local\\programs\\python\\python38\\lib\\site-packages\\pandas\\_libs\\index.pyx:176\u001B[0m, in \u001B[0;36mpandas._libs.index.IndexEngine.get_loc\u001B[1;34m()\u001B[0m\n",
      "File \u001B[1;32mpandas\\_libs\\hashtable_class_helper.pxi:7080\u001B[0m, in \u001B[0;36mpandas._libs.hashtable.PyObjectHashTable.get_item\u001B[1;34m()\u001B[0m\n",
      "File \u001B[1;32mpandas\\_libs\\hashtable_class_helper.pxi:7088\u001B[0m, in \u001B[0;36mpandas._libs.hashtable.PyObjectHashTable.get_item\u001B[1;34m()\u001B[0m\n",
      "\u001B[1;31mKeyError\u001B[0m: 'Net_Investment'",
      "\nThe above exception was the direct cause of the following exception:\n",
      "\u001B[1;31mKeyError\u001B[0m                                  Traceback (most recent call last)",
      "Cell \u001B[1;32mIn[13], line 24\u001B[0m\n\u001B[0;32m     22\u001B[0m \u001B[38;5;66;03m# Side-by-side histograms\u001B[39;00m\n\u001B[0;32m     23\u001B[0m fig, axes \u001B[38;5;241m=\u001B[39m plt\u001B[38;5;241m.\u001B[39msubplots(\u001B[38;5;241m1\u001B[39m, \u001B[38;5;241m2\u001B[39m, figsize\u001B[38;5;241m=\u001B[39m(\u001B[38;5;241m12\u001B[39m, \u001B[38;5;241m4\u001B[39m))\n\u001B[1;32m---> 24\u001B[0m sns\u001B[38;5;241m.\u001B[39mhistplot(\u001B[43mtrain\u001B[49m\u001B[43m[\u001B[49m\u001B[38;5;124;43m'\u001B[39;49m\u001B[38;5;124;43mNet_Investment\u001B[39;49m\u001B[38;5;124;43m'\u001B[39;49m\u001B[43m]\u001B[49m\u001B[38;5;241m.\u001B[39mdropna(), kde\u001B[38;5;241m=\u001B[39m\u001B[38;5;28;01mTrue\u001B[39;00m, ax\u001B[38;5;241m=\u001B[39maxes[\u001B[38;5;241m0\u001B[39m])\n\u001B[0;32m     25\u001B[0m axes[\u001B[38;5;241m0\u001B[39m]\u001B[38;5;241m.\u001B[39mset_title(\u001B[38;5;124m'\u001B[39m\u001B[38;5;124mDistribution of Net_Investment\u001B[39m\u001B[38;5;124m'\u001B[39m)\n\u001B[0;32m     26\u001B[0m axes[\u001B[38;5;241m0\u001B[39m]\u001B[38;5;241m.\u001B[39mset_xlabel(\u001B[38;5;124m'\u001B[39m\u001B[38;5;124mNet_Investment\u001B[39m\u001B[38;5;124m'\u001B[39m)\n",
      "File \u001B[1;32mc:\\users\\na270\\appdata\\local\\programs\\python\\python38\\lib\\site-packages\\pandas\\core\\frame.py:3761\u001B[0m, in \u001B[0;36mDataFrame.__getitem__\u001B[1;34m(self, key)\u001B[0m\n\u001B[0;32m   3759\u001B[0m \u001B[38;5;28;01mif\u001B[39;00m \u001B[38;5;28mself\u001B[39m\u001B[38;5;241m.\u001B[39mcolumns\u001B[38;5;241m.\u001B[39mnlevels \u001B[38;5;241m>\u001B[39m \u001B[38;5;241m1\u001B[39m:\n\u001B[0;32m   3760\u001B[0m     \u001B[38;5;28;01mreturn\u001B[39;00m \u001B[38;5;28mself\u001B[39m\u001B[38;5;241m.\u001B[39m_getitem_multilevel(key)\n\u001B[1;32m-> 3761\u001B[0m indexer \u001B[38;5;241m=\u001B[39m \u001B[38;5;28;43mself\u001B[39;49m\u001B[38;5;241;43m.\u001B[39;49m\u001B[43mcolumns\u001B[49m\u001B[38;5;241;43m.\u001B[39;49m\u001B[43mget_loc\u001B[49m\u001B[43m(\u001B[49m\u001B[43mkey\u001B[49m\u001B[43m)\u001B[49m\n\u001B[0;32m   3762\u001B[0m \u001B[38;5;28;01mif\u001B[39;00m is_integer(indexer):\n\u001B[0;32m   3763\u001B[0m     indexer \u001B[38;5;241m=\u001B[39m [indexer]\n",
      "File \u001B[1;32mc:\\users\\na270\\appdata\\local\\programs\\python\\python38\\lib\\site-packages\\pandas\\core\\indexes\\base.py:3655\u001B[0m, in \u001B[0;36mIndex.get_loc\u001B[1;34m(self, key)\u001B[0m\n\u001B[0;32m   3653\u001B[0m     \u001B[38;5;28;01mreturn\u001B[39;00m \u001B[38;5;28mself\u001B[39m\u001B[38;5;241m.\u001B[39m_engine\u001B[38;5;241m.\u001B[39mget_loc(casted_key)\n\u001B[0;32m   3654\u001B[0m \u001B[38;5;28;01mexcept\u001B[39;00m \u001B[38;5;167;01mKeyError\u001B[39;00m \u001B[38;5;28;01mas\u001B[39;00m err:\n\u001B[1;32m-> 3655\u001B[0m     \u001B[38;5;28;01mraise\u001B[39;00m \u001B[38;5;167;01mKeyError\u001B[39;00m(key) \u001B[38;5;28;01mfrom\u001B[39;00m \u001B[38;5;21;01merr\u001B[39;00m\n\u001B[0;32m   3656\u001B[0m \u001B[38;5;28;01mexcept\u001B[39;00m \u001B[38;5;167;01mTypeError\u001B[39;00m:\n\u001B[0;32m   3657\u001B[0m     \u001B[38;5;66;03m# If we have a listlike key, _check_indexing_error will raise\u001B[39;00m\n\u001B[0;32m   3658\u001B[0m     \u001B[38;5;66;03m#  InvalidIndexError. Otherwise we fall through and re-raise\u001B[39;00m\n\u001B[0;32m   3659\u001B[0m     \u001B[38;5;66;03m#  the TypeError.\u001B[39;00m\n\u001B[0;32m   3660\u001B[0m     \u001B[38;5;28mself\u001B[39m\u001B[38;5;241m.\u001B[39m_check_indexing_error(key)\n",
      "\u001B[1;31mKeyError\u001B[0m: 'Net_Investment'"
     ]
    },
    {
     "data": {
      "image/png": "[encoded data removed]",
      "text/plain": [
       "<Figure size 1200x400 with 2 Axes>"
      ]
     },
     "metadata": {},
     "output_type": "display_data"
    }
   ],
   "source": [
    "#Doing a log transformation while still distinguishing losses vs. gains.\n",
    "processed_df['Net_Investment'] = processed_df['Investment_Gain'] - processed_df['Investment_Loss']\n",
    "test['Net_Investment'] = test['Investment_Gain'] - test['Investment_Loss']\n",
    "\n",
    "processed_df['Log_Net_Investment'] = np.sign(processed_df['Net_Investment']) * np.log2(abs(processed_df['Net_Investment']) + 1)\n",
    "test['Log_Net_Investment'] = np.sign(test['Net_Investment']) * np.log2(abs(test['Net_Investment']) + 1)\n",
    "\n",
    "\n",
    "# Side-by-side boxplots \n",
    "fig, axes = plt.subplots(1, 2, figsize=(12, 4))\n",
    "sns.boxplot(x=processed_df['Net_Investment'], ax=axes[0])\n",
    "axes[0].set_title('Original Net_Investment')\n",
    "axes[0].set_xlabel('Net_Investment')\n",
    "\n",
    "sns.boxplot(x=processed_df['Log_Net_Investment'], ax=axes[1])\n",
    "axes[1].set_title('Log-Transformed Net_Investment')\n",
    "axes[1].set_xlabel('Log_Net_Investment')\n",
    "\n",
    "plt.tight_layout()\n",
    "plt.show()\n",
    "\n",
    "# Side-by-side histograms\n",
    "fig, axes = plt.subplots(1, 2, figsize=(12, 4))\n",
    "sns.histplot(train['Net_Investment'].dropna(), kde=True, ax=axes[0])\n",
    "axes[0].set_title('Distribution of Net_Investment')\n",
    "axes[0].set_xlabel('Net_Investment')\n",
    "\n",
    "sns.histplot(train['Log_Net_Investment'].dropna(), kde=True, ax=axes[1])\n",
    "axes[1].set_title('Distribution of Log-Transformed Net_Investment')\n",
    "axes[1].set_xlabel('Log_Net_Investment')\n",
    "\n",
    "plt.tight_layout()\n",
    "plt.show()\n"
   ]
  },
  {
   "cell_type": "markdown",
   "id": "dcc19d2573d9a90b",
   "metadata": {
    "collapsed": false
   },
   "source": [
    "We applied a log transformation to Net_Investment to reduce skew and compress extreme outliers.\n",
    "The resulting distribution is more symmetric, so we will keep it.\n"
   ]
  },
  {
   "cell_type": "markdown",
   "id": "dcaf1ff96686fb72",
   "metadata": {
    "collapsed": false
   },
   "source": [
    "We applied a log transformation to column A to reduce skew and potentially improve its relationship with the target.\n",
    "However, the correlation with Loan_Approval remained low, so we won't use it."
   ]
  },
  {
   "cell_type": "code",
   "execution_count": 14,
   "id": "1d1ac20a311400d4",
   "metadata": {
    "ExecuteTime": {
     "end_time": "2025-06-03T13:00:12.440214800Z",
     "start_time": "2025-06-03T13:00:12.081796500Z"
    },
    "collapsed": false
   },
   "outputs": [
    {
     "name": "stdout",
     "output_type": "stream",
     "text": [
      "Loan_Approval                        1.000000\n",
      "Household_Role_Spouse                0.446926\n",
      "Marital_Status_Married-civ-spouse    0.443064\n",
      "Years_of_Education                   0.329367\n",
      "Education_Level_higher               0.256696\n",
      "                                       ...   \n",
      "Education_Level_post_hs             -0.177284\n",
      "customer_id                         -0.179697\n",
      "Gender_Female                       -0.214018\n",
      "Marital_Status_Never-married        -0.318068\n",
      "Household_Role_Other                -0.446926\n",
      "Name: Loan_Approval, Length: 67, dtype: float64\n"
     ]
    }
   ],
   "source": [
    "numeric_df = processed_df.select_dtypes(include=\"number\")\n",
    "\n",
    "# 2) Select all numeric columns (which now includes features + the target):\n",
    "numeric_df = processed_df.select_dtypes(include=\"number\")\n",
    "\n",
    "# 3) Compute Pearson correlations against Loan_Approval:\n",
    "corrs = numeric_df.corr()[\"Loan_Approval\"].sort_values(ascending=False)\n",
    "print(corrs)"
   ]
  },
  {
   "cell_type": "markdown",
   "id": "bfde1cd4ed56b68c",
   "metadata": {
    "collapsed": false
   },
   "source": [
    "AAAAAAAAAAAAAAAAAAAAAAAAAAAAAAAAAAAAAAAAAAAAAAAAAAAAAAAAAAAAAAAAAAAAAAAAAAAAAAAAAAAAAAAAAAAAAAAAAAAAAAAAAAAAAAAAAAAAAAAAAAAAAAAAAAAAAAAAAAAAAAAAAAAAAAAAAAAAAAAAAAAAAAAAAAAAAAAAAAAAAAAAAAAAAAAAAAAAAAAAAAAAAAAAAAAAAAAAAAAAAAAAAAAAAAAAAAAAAAAAAAAAAAAAAAAAAAAAAAAAAAAAAAAAAAAAAAAAAAAAAAAAAAAAAAAAAAAAAAAAAAAAAAAAAAAAAAAAAAAAAAAAAAAAAAAAAAAAAAAA"
   ]
  },
  {
   "cell_type": "markdown",
   "id": "bf48a146eca499fc",
   "metadata": {
    "collapsed": false
   },
   "source": [
    "Creating boolean masks to understand if the data is missed randomly or not."
   ]
  },
  {
   "cell_type": "code",
   "execution_count": null,
   "id": "90178773caacf0f3",
   "metadata": {
    "ExecuteTime": {
     "start_time": "2025-06-01T12:48:38.107918Z"
    },
    "collapsed": false
   },
   "outputs": [],
   "source": [
    "# 1. Create a boolean mask for missingness - job type\n",
    "mask_Job_Type = train['Job_Type'].isna()            # True where missing\n",
    "train['MissingFlag_Job_Type'] = mask_Job_Type.map({True: 'Missing', False: 'Present'})\n",
    "\n",
    "# 2. Summary statistics for numeric vars\n",
    "numeric_cols = ['Log_Net_Investment']\n",
    "#numeric_cols = ['Age', 'Years_of_Education', 'Weekly_Work_Hours', 'Net_Investment', 'A', 'D', 'E']\n",
    "print(train.groupby('MissingFlag_Job_Type')[numeric_cols].describe().unstack(1))\n",
    "\n",
    "''' bring back after - just sick of the big graphs.\n",
    "# 4. Frequencies for other categorical vars\n",
    "cat_cols = ['Marital_Status', 'Household_Role', ]\n",
    "for col in cat_cols:\n",
    "    freq = pd.crosstab(train['MissingFlag_Job_Type'], train[col], normalize='index')\n",
    "    print(f'\\nRelative frequency of {col}:\\n', freq)\n",
    "    freq.plot.bar(stacked=True)\n",
    "    plt.title(f'{col} by missingness')\n",
    "    plt.ylabel('Proportion')\n",
    "    plt.show()\n",
    "\n",
    "'''"
   ]
  },
  {
   "cell_type": "code",
   "execution_count": null,
   "id": "4ec05495035e859f",
   "metadata": {
    "ExecuteTime": {
     "start_time": "2025-06-01T12:48:38.109077800Z"
    },
    "collapsed": false
   },
   "outputs": [],
   "source": [
    "# 1. Create a boolean mask for missingness with Investment_Gain to see if we can delete it to use YJ\n",
    "mask_Investment_Gain = train['Investment_Gain'].isna()            # True where missing\n",
    "train['MissingFlag_Investment_Gain'] = mask_Investment_Gain.map({True: 'Missing', False: 'Present'})\n",
    "\n",
    "# 2. Summary statistics for numeric vars\n",
    "numeric_cols = ['E']\n",
    "#numeric_cols = ['Age', 'Years_of_Education', 'Weekly_Work_Hours', 'A', 'D', 'E']\n",
    "print(train.groupby('MissingFlag_Investment_Gain')[numeric_cols].describe().unstack(1))\n",
    "\n",
    "\n",
    "''' bring back after - just sick of the big graphs.\n",
    "\n",
    "# 4. Frequencies for other categorical vars\n",
    "cat_cols = ['Marital_Status', 'Household_Role', ]\n",
    "for col in cat_cols:\n",
    "    freq = pd.crosstab(train['MissingFlag_Investment_Gain'], train[col], normalize='index')\n",
    "    print(f'\\nRelative frequency of {col}:\\n', freq)\n",
    "    freq.plot.bar(stacked=True)\n",
    "    plt.title(f'{col} by missingness')\n",
    "    plt.ylabel('Proportion')\n",
    "    plt.show()\n",
    "'''"
   ]
  },
  {
   "cell_type": "code",
   "execution_count": null,
   "id": "8bffe75d52c78054",
   "metadata": {
    "ExecuteTime": {
     "start_time": "2025-06-01T12:48:38.111104800Z"
    },
    "collapsed": false
   },
   "outputs": [],
   "source": [
    "# 1. Create a boolean mask for missingness with Ethnicity\n",
    "mask_Ethnicity = train['Ethnicity'].isna()            # True where missing\n",
    "train['MissingFlag_Ethnicity'] = mask_Ethnicity.map({True: 'Missing', False: 'Present'})\n",
    "\n",
    "# 2. Summary statistics for numeric vars\n",
    "numeric_cols = ['D']\n",
    "#numeric_cols = ['Age', 'Years_of_Education', 'Weekly_Work_Hours', 'A', 'D', 'E']\n",
    "print(train.groupby('MissingFlag_Ethnicity')[numeric_cols].describe().unstack(1))\n",
    "\n",
    "'''\n",
    "#bring back after - just sick of the big graphs.\n",
    "\n",
    "# 4. Frequencies for other categorical vars\n",
    "cat_cols = ['Marital_Status', 'Household_Role', 'Employment_Type', 'Job_Type', 'Gender', 'Country_of_Residence', 'Preferred_Communication_Method']\n",
    "for col in cat_cols:\n",
    "    freq = pd.crosstab(train['MissingFlag_Ethnicity'], train[col], normalize='index')\n",
    "    print(f'\\nRelative frequency of {col}:\\n', freq)\n",
    "    freq.plot.bar(stacked=True)\n",
    "    plt.title(f'{col} by missingness')\n",
    "    plt.ylabel('Proportion')\n",
    "    plt.show()\n",
    "'''"
   ]
  },
  {
   "cell_type": "code",
   "execution_count": null,
   "id": "ebcdeacd8c6f8288",
   "metadata": {
    "ExecuteTime": {
     "start_time": "2025-06-01T12:48:38.112109400Z"
    },
    "collapsed": false
   },
   "outputs": [],
   "source": [
    "# 1. Create a boolean mask for missingness with Ethnicity\n",
    "mask_Ethnicity = train['Preferred_Communication_Method'].isna()            # True where missing\n",
    "train['MissingFlag_Ethnicity'] = mask_Ethnicity.map({True: 'Missing', False: 'Present'})\n",
    "\n",
    "# 2. Summary statistics for numeric vars\n",
    "numeric_cols = ['Weekly_Work_Hours']\n",
    "#numeric_cols = ['Age', 'Years_of_Education', 'Weekly_Work_Hours', 'A', 'D', 'E']\n",
    "print(train.groupby('MissingFlag_Ethnicity')[numeric_cols].describe().unstack(1))\n",
    "\n",
    "'''\n",
    "#bring back after - just sick of the big graphs.\n",
    "\n",
    "# 4. Frequencies for other categorical vars\n",
    "cat_cols = ['Marital_Status', 'Household_Role', 'Employment_Type', 'Job_Type', 'Gender', 'Country_of_Residence', 'Preferred_Communication_Method']\n",
    "for col in cat_cols:\n",
    "    freq = pd.crosstab(train['MissingFlag_Ethnicity'], train[col], normalize='index')\n",
    "    print(f'\\nRelative frequency of {col}:\\n', freq)\n",
    "    freq.plot.bar(stacked=True)\n",
    "    plt.title(f'{col} by missingness')\n",
    "    plt.ylabel('Proportion')\n",
    "    plt.show()\n",
    "'''"
   ]
  },
  {
   "cell_type": "code",
   "execution_count": null,
   "id": "dc682854a7545428",
   "metadata": {
    "collapsed": false
   },
   "outputs": [],
   "source": [
    "# 1. Create a boolean mask for Job type with Ethnicity\n",
    "mask_Ethnicity = train['Job_Type'].isna()            # True where missing\n",
    "train['MissingFlag_Ethnicity'] = mask_Ethnicity.map({True: 'Missing', False: 'Present'})\n",
    "\n",
    "# 2. Summary statistics for numeric vars\n",
    "numeric_cols = ['Weekly_Work_Hours']\n",
    "#numeric_cols = ['Age', 'Years_of_Education', 'Weekly_Work_Hours', 'A', 'D', 'E']\n",
    "print(train.groupby('MissingFlag_Ethnicity')[numeric_cols].describe().unstack(1))\n",
    "\n",
    "'''\n",
    "#bring back after - just sick of the big graphs.\n",
    "\n",
    "# 4. Frequencies for other categorical vars\n",
    "cat_cols = ['Marital_Status', 'Household_Role', 'Employment_Type', 'Job_Type', 'Gender', 'Country_of_Residence', 'Preferred_Communication_Method']\n",
    "for col in cat_cols:\n",
    "    freq = pd.crosstab(train['MissingFlag_Ethnicity'], train[col], normalize='index')\n",
    "    print(f'\\nRelative frequency of {col}:\\n', freq)\n",
    "    freq.plot.bar(stacked=True)\n",
    "    plt.title(f'{col} by missingness')\n",
    "    plt.ylabel('Proportion')\n",
    "    plt.show()\n",
    "'''"
   ]
  },
  {
   "cell_type": "code",
   "execution_count": null,
   "id": "2f9d561e22c26d01",
   "metadata": {
    "ExecuteTime": {
     "start_time": "2025-06-01T12:48:38.115570900Z"
    },
    "collapsed": false
   },
   "outputs": [],
   "source": [
    "# 1. Create a boolean mask for missingness with Ethnicity\n",
    "mask_Ethnicity = train['Employment_Type'].isna()            # True where missing\n",
    "train['MissingFlag_Ethnicity'] = mask_Ethnicity.map({True: 'Missing', False: 'Present'})\n",
    "\n",
    "# 2. Summary statistics for numeric vars\n",
    "numeric_cols = ['Weekly_Work_Hours']\n",
    "#numeric_cols = ['Age', 'Years_of_Education', 'Weekly_Work_Hours', 'A', 'D', 'E']\n",
    "print(train.groupby('MissingFlag_Ethnicity')[numeric_cols].describe().unstack(1))\n",
    "\n",
    "'''\n",
    "#bring back after - just sick of the big graphs.\n",
    "\n",
    "# 4. Frequencies for other categorical vars\n",
    "cat_cols = ['Marital_Status', 'Household_Role', 'Employment_Type', 'Job_Type', 'Gender', 'Country_of_Residence', 'Preferred_Communication_Method']\n",
    "for col in cat_cols:\n",
    "    freq = pd.crosstab(train['MissingFlag_Ethnicity'], train[col], normalize='index')\n",
    "    print(f'\\nRelative frequency of {col}:\\n', freq)\n",
    "    freq.plot.bar(stacked=True)\n",
    "    plt.title(f'{col} by missingness')\n",
    "    plt.ylabel('Proportion')\n",
    "    plt.show()\n",
    "'''"
   ]
  },
  {
   "cell_type": "markdown",
   "id": "edac95e97289ad40",
   "metadata": {
    "collapsed": false
   },
   "source": [
    "Based on our initial EDA (where we plotted boxplots and histograms in Part 1), we selected seven features—`net_investment_log`, `Weekly_Work_Hours`, `Years_of_Education`, `Age`, `A`, `D`, and `E`—for outlier removal. First, we computed and displayed the five-number summary (Min, Q1, Median, Q3, Max) for each to see which values lay far outside the interquartile range. For `net_investment_log`, we then calculated its mean and standard deviation and removed any rows whose values fell beyond ± 4 σ; this eliminates only about 800 observations (≈ 3 % of the data), preserving most valid high-net-worth cases. For the anonymous columns A and E, we used the IQR rule and deleted any rows outside \\[Q1 − 1.5·IQR, Q3 + 1.5·IQR]. Feature D  which had a narrow IQR was trimmed for any value outside \\[1, 9] (its 1.5·IQR boundaries) was removed. Since `Age` and `Years_of_Education` fell entirely within reasonable IQR bounds, we left them intact. Finally, because some applicants truly work long hours, we decided to remove (rather than cap) only those `Weekly_Work_Hours` values above the 99th percentile, ensuring that genuine 60–80-hour workweeks remain in the data while the most extreme outliers are excluded."
   ]
  },
  {
   "cell_type": "markdown",
   "source": [
    "## 4. Feature Selection\n"
   ],
   "metadata": {
    "collapsed": false
   },
   "id": "49351592f8676b32"
  },
  {
   "cell_type": "code",
   "execution_count": null,
   "outputs": [],
   "source": [
    "df = processed_df\n",
    "X1 = df.drop(columns=['Loan_Approval', 'customer_id'])\n",
    "y1 = (train['Loan_Approval'])\n"
   ],
   "metadata": {
    "collapsed": false
   },
   "id": "43158da2217e06a1"
  },
  {
   "cell_type": "code",
   "execution_count": 33,
   "outputs": [
    {
     "name": "stdout",
     "output_type": "stream",
     "text": [
      "Selected features: ['Country_of_Residence_Mexico', 'Education_Level_postgraduate', 'Education_Level_school', 'Years_of_Education', 'Employment_Type_Other', 'Household_Role_Other', 'Marital_Status_Married-civ-spouse', 'Marital_Status_Never-married', 'Job_Type_Exec-managerial', 'Job_Type_Farming-fishing', 'Job_Type_Handlers-cleaners', 'Job_Type_Machine-op-inspct', 'Job_Type_Other-service', 'Job_Type_Priv-house-serv', 'Job_Type_Prof-specialty', 'Job_Type_Tech-support', 'Employment_Type_Federal-gov', 'Employment_Type_Self-emp-inc', 'Investment_Gain']\n"
     ]
    }
   ],
   "source": [
    "# Using RFECV to check the optimal number of explanatory variables\n",
    "rfecv = RFECV(\n",
    "        estimator=LogisticRegression(\n",
    "        penalty='l2',    # ridge penalty\n",
    "        C=0.1,           # try 0.1 (you can grid‐search this)\n",
    "        solver='liblinear',\n",
    "        max_iter=2000\n",
    "    ),\n",
    "    step=1,\n",
    "    cv=StratifiedKFold(5),\n",
    "    scoring='roc_auc',\n",
    "    min_features_to_select=5,\n",
    "    n_jobs=-1\n",
    ")\n",
    "\n",
    "# Build the feature selection pipeline\n",
    "pipeline = Pipeline([\n",
    "    ('feature_sel', rfecv),\n",
    "    ('clf',             LogisticRegression(\n",
    "        penalty='l2',    # ridge penalty\n",
    "        C=0.1,           # try 0.1 (you can grid‐search this)\n",
    "        solver='liblinear',\n",
    "        max_iter=2000\n",
    "    ))\n",
    "])\n",
    "\n",
    "# Fit it\n",
    "pipeline.fit(X1, y1)\n",
    "\n",
    "mask = pipeline.named_steps['feature_sel'].support_\n",
    "selected_columns = X1.columns[mask]\n",
    "print(\"Selected features:\", list(selected_columns))"
   ],
   "metadata": {
    "collapsed": false,
    "ExecuteTime": {
     "end_time": "2025-06-10T08:42:42.960306Z",
     "start_time": "2025-06-10T08:42:17.285789300Z"
    }
   },
   "id": "c85037a810bf9936"
  },
  {
   "cell_type": "code",
   "execution_count": 31,
   "outputs": [
    {
     "data": {
      "text/plain": "   Country_of_Residence_Mexico  Years_of_Education  Household_Role_Other  \\\n0                          0.0           -0.440049                   1.0   \n1                          0.0           -0.440049                   1.0   \n2                          0.0           -2.362161                   1.0   \n3                          0.0           -0.055626                   1.0   \n5                          0.0           -1.593316                   1.0   \n\n   Marital_Status_Divorced  Marital_Status_Married-spouse-absent  \\\n0                      0.0                                   0.0   \n1                      0.0                                   0.0   \n2                      1.0                                   0.0   \n3                      0.0                                   0.0   \n5                      0.0                                   0.0   \n\n   Marital_Status_Never-married  Marital_Status_Separated  \\\n0                           0.0                       0.0   \n1                           0.0                       0.0   \n2                           0.0                       0.0   \n3                           0.0                       1.0   \n5                           0.0                       1.0   \n\n   Marital_Status_Widowed  Job_Type_Exec-managerial  Job_Type_Farming-fishing  \\\n0                     1.0                       0.0                       0.0   \n1                     1.0                       1.0                       0.0   \n2                     0.0                       0.0                       0.0   \n3                     0.0                       0.0                       0.0   \n5                     0.0                       0.0                       0.0   \n\n   Job_Type_Handlers-cleaners  Job_Type_Machine-op-inspct  \\\n0                         0.0                         0.0   \n1                         0.0                         0.0   \n2                         0.0                         1.0   \n3                         0.0                         0.0   \n5                         0.0                         0.0   \n\n   Job_Type_Other-service  Job_Type_Priv-house-serv  Job_Type_Prof-specialty  \\\n0                     0.0                       0.0                      0.0   \n1                     0.0                       0.0                      0.0   \n2                     0.0                       0.0                      0.0   \n3                     0.0                       0.0                      1.0   \n5                     0.0                       0.0                      0.0   \n\n   Job_Type_Protective-serv  Job_Type_Tech-support  \\\n0                       0.0                    0.0   \n1                       0.0                    0.0   \n2                       0.0                    0.0   \n3                       0.0                    0.0   \n5                       0.0                    0.0   \n\n   Employment_Type_Federal-gov  Employment_Type_Self-emp-inc  Investment_Gain  \n0                          0.0                           0.0        -0.145838  \n1                          0.0                           0.0        -0.145838  \n2                          0.0                           0.0        -0.145838  \n3                          0.0                           0.0        -0.145838  \n5                          0.0                           0.0        -0.145838  ",
      "text/html": "<div>\n<style scoped>\n    .dataframe tbody tr th:only-of-type {\n        vertical-align: middle;\n    }\n\n    .dataframe tbody tr th {\n        vertical-align: top;\n    }\n\n    .dataframe thead th {\n        text-align: right;\n    }\n</style>\n<table border=\"1\" class=\"dataframe\">\n  <thead>\n    <tr style=\"text-align: right;\">\n      <th></th>\n      <th>Country_of_Residence_Mexico</th>\n      <th>Years_of_Education</th>\n      <th>Household_Role_Other</th>\n      <th>Marital_Status_Divorced</th>\n      <th>Marital_Status_Married-spouse-absent</th>\n      <th>Marital_Status_Never-married</th>\n      <th>Marital_Status_Separated</th>\n      <th>Marital_Status_Widowed</th>\n      <th>Job_Type_Exec-managerial</th>\n      <th>Job_Type_Farming-fishing</th>\n      <th>Job_Type_Handlers-cleaners</th>\n      <th>Job_Type_Machine-op-inspct</th>\n      <th>Job_Type_Other-service</th>\n      <th>Job_Type_Priv-house-serv</th>\n      <th>Job_Type_Prof-specialty</th>\n      <th>Job_Type_Protective-serv</th>\n      <th>Job_Type_Tech-support</th>\n      <th>Employment_Type_Federal-gov</th>\n      <th>Employment_Type_Self-emp-inc</th>\n      <th>Investment_Gain</th>\n    </tr>\n  </thead>\n  <tbody>\n    <tr>\n      <th>0</th>\n      <td>0.0</td>\n      <td>-0.440049</td>\n      <td>1.0</td>\n      <td>0.0</td>\n      <td>0.0</td>\n      <td>0.0</td>\n      <td>0.0</td>\n      <td>1.0</td>\n      <td>0.0</td>\n      <td>0.0</td>\n      <td>0.0</td>\n      <td>0.0</td>\n      <td>0.0</td>\n      <td>0.0</td>\n      <td>0.0</td>\n      <td>0.0</td>\n      <td>0.0</td>\n      <td>0.0</td>\n      <td>0.0</td>\n      <td>-0.145838</td>\n    </tr>\n    <tr>\n      <th>1</th>\n      <td>0.0</td>\n      <td>-0.440049</td>\n      <td>1.0</td>\n      <td>0.0</td>\n      <td>0.0</td>\n      <td>0.0</td>\n      <td>0.0</td>\n      <td>1.0</td>\n      <td>1.0</td>\n      <td>0.0</td>\n      <td>0.0</td>\n      <td>0.0</td>\n      <td>0.0</td>\n      <td>0.0</td>\n      <td>0.0</td>\n      <td>0.0</td>\n      <td>0.0</td>\n      <td>0.0</td>\n      <td>0.0</td>\n      <td>-0.145838</td>\n    </tr>\n    <tr>\n      <th>2</th>\n      <td>0.0</td>\n      <td>-2.362161</td>\n      <td>1.0</td>\n      <td>1.0</td>\n      <td>0.0</td>\n      <td>0.0</td>\n      <td>0.0</td>\n      <td>0.0</td>\n      <td>0.0</td>\n      <td>0.0</td>\n      <td>0.0</td>\n      <td>1.0</td>\n      <td>0.0</td>\n      <td>0.0</td>\n      <td>0.0</td>\n      <td>0.0</td>\n      <td>0.0</td>\n      <td>0.0</td>\n      <td>0.0</td>\n      <td>-0.145838</td>\n    </tr>\n    <tr>\n      <th>3</th>\n      <td>0.0</td>\n      <td>-0.055626</td>\n      <td>1.0</td>\n      <td>0.0</td>\n      <td>0.0</td>\n      <td>0.0</td>\n      <td>1.0</td>\n      <td>0.0</td>\n      <td>0.0</td>\n      <td>0.0</td>\n      <td>0.0</td>\n      <td>0.0</td>\n      <td>0.0</td>\n      <td>0.0</td>\n      <td>1.0</td>\n      <td>0.0</td>\n      <td>0.0</td>\n      <td>0.0</td>\n      <td>0.0</td>\n      <td>-0.145838</td>\n    </tr>\n    <tr>\n      <th>5</th>\n      <td>0.0</td>\n      <td>-1.593316</td>\n      <td>1.0</td>\n      <td>0.0</td>\n      <td>0.0</td>\n      <td>0.0</td>\n      <td>1.0</td>\n      <td>0.0</td>\n      <td>0.0</td>\n      <td>0.0</td>\n      <td>0.0</td>\n      <td>0.0</td>\n      <td>0.0</td>\n      <td>0.0</td>\n      <td>0.0</td>\n      <td>0.0</td>\n      <td>0.0</td>\n      <td>0.0</td>\n      <td>0.0</td>\n      <td>-0.145838</td>\n    </tr>\n  </tbody>\n</table>\n</div>"
     },
     "execution_count": 31,
     "metadata": {},
     "output_type": "execute_result"
    }
   ],
   "source": [
    "# Subset your DataFrame to the selected columns:\n",
    "X_selected = X1[selected_features]\n",
    "\n",
    "X_selected.head()"
   ],
   "metadata": {
    "collapsed": false,
    "ExecuteTime": {
     "end_time": "2025-06-10T08:38:17.570655Z",
     "start_time": "2025-06-10T08:38:17.524332200Z"
    }
   },
   "id": "8be36bfb53574bdc"
  },
  {
   "cell_type": "markdown",
   "id": "85618933fc93ce16",
   "metadata": {},
   "source": [
    "## 4. Model Training – Basic Models\n",
    "_Start simple. Train Logistic Regression or KNN._"
   ]
  },
  {
   "cell_type": "markdown",
   "id": "ecc8b1eefecc948c",
   "metadata": {},
   "source": [
    "## 5. Model Training – Advanced Models\n",
    "Choose 3 models from:\n",
    "- Decision Tree\n",
    "- Random Forest or AdaBoost\n",
    "- Support Vector Machine\n",
    "- Multi-Layer Perceptron (Neural Net)\n",
    "\n",
    "_Include basic hyperparameter tuning or explain defaults._"
   ]
  },
  {
   "cell_type": "markdown",
   "id": "65b470cc0d11e7b7",
   "metadata": {},
   "source": [
    "## 6. Evaluation\n",
    "- Build confusion matrix for at least one model\n",
    "- Generate ROC curves (using K-Fold CV)\n",
    "- Report AUC\n",
    "\n",
    "**✏️ Answer in markdown:**\n",
    "- Does any model overfit?\n",
    "- Which model generalizes best?\n",
    "- Final choice justification"
   ]
  },
  {
   "cell_type": "markdown",
   "id": "1f21f590332511f3",
   "metadata": {},
   "source": [
    "## 7. Final Prediction on Test Set\n",
    "_Predict probabilities (not binary labels!) and create submission file._"
   ]
  },
  {
   "cell_type": "code",
   "execution_count": null,
   "id": "625f5bbc3680f72a",
   "metadata": {
    "ExecuteTime": {
     "start_time": "2025-06-01T12:48:38.121072800Z"
    }
   },
   "outputs": [],
   "source": [
    "# Example:\n",
    "# final_model.predict_proba(test)[:, 1]  # ← probability of 'approved'\n",
    "# submission = pd.DataFrame({\n",
    "#     'customer_id': test['customer_id'],\n",
    "#     'loan_approval': predictions\n",
    "# })\n",
    "# submission.to_csv('Submission_group_32.csv', index=False)"
   ]
  },
  {
   "cell_type": "markdown",
   "id": "ae46b3996890ae43",
   "metadata": {},
   "source": [
    "## 8. Appendix / Extra Notes\n",
    "_Use this area for extra analysis, failed attempts, or ideas you explored._"
   ]
  },
  {
   "cell_type": "markdown",
   "id": "8b3da6484a12cc8c",
   "metadata": {
    "collapsed": false
   },
   "source": [
    "We tried to handle the missing values with linear regression, but R^2 was 0.02, so we just impute with the median.\n",
    "Trying:"
   ]
  },
  {
   "cell_type": "code",
   "execution_count": 94,
   "id": "8e75b68a2dc9f39c",
   "metadata": {
    "ExecuteTime": {
     "end_time": "2025-06-02T21:35:30.011583600Z",
     "start_time": "2025-06-02T21:35:29.916745300Z"
    },
    "collapsed": false
   },
   "outputs": [
    {
     "data": {
      "text/plain": [
       "'\\nfrom sklearn.linear_model import LinearRegression\\nfrom sklearn.model_selection import train_test_split\\nfrom sklearn.metrics import r2_score, mean_absolute_error\\n\\ndf = train  \\n\\n# 1. Define features & split known vs missing\\nfeatures = [\\'Weekly_Work_Hours\\', \\'Years_of_Education\\', \\'Age\\']\\nknown   = df[df[\\'Investment_Gain\\'].notnull() ].copy()\\nmissing = df[df[\\'Investment_Gain\\'].isnull()].copy()\\n\\nX_known = known[features]\\ny_known = known[\\'Investment_Gain\\']\\n\\n# 2. Hold out 20% for validation\\nX_tr, X_val, y_tr, y_val = train_test_split(\\n    X_known, y_known,\\n    test_size=0.2,\\n    random_state=42\\n)\\n\\n# 3. Train on the 80%\\nlr = LinearRegression()\\nlr.fit(X_tr, y_tr)\\n\\n# 4. Predict on the hold‐out and evaluate\\ny_pred = lr.predict(X_val)\\nprint(f\"R² on hold-out: {r2_score(y_val, y_pred):.3f}\")\\nprint(f\"MAE on hold-out: {mean_absolute_error(y_val, y_pred):.3f}\")\\n\\n# 5. (Optional) Retrain on ALL known data and impute missings\\nlr_full = LinearRegression()\\nlr_full.fit(X_known, y_known)\\n\\nX_missing = missing[features]\\ndf.loc[df[\\'Investment_Gain\\'].isnull(), \\'Investment_Gain\\'] = lr_full.predict(X_missing)\\n'"
      ]
     },
     "execution_count": 94,
     "metadata": {},
     "output_type": "execute_result"
    }
   ],
   "source": [
    "######## TRY AGAIN AFTER ADDING AGE\n",
    "'''\n",
    "from sklearn.linear_model import LinearRegression\n",
    "from sklearn.model_selection import train_test_split\n",
    "from sklearn.metrics import r2_score, mean_absolute_error\n",
    "\n",
    "df = train  \n",
    "\n",
    "# 1. Define features & split known vs missing\n",
    "features = ['Weekly_Work_Hours', 'Years_of_Education', 'Age']\n",
    "known   = df[df['Investment_Gain'].notnull() ].copy()\n",
    "missing = df[df['Investment_Gain'].isnull()].copy()\n",
    "\n",
    "X_known = known[features]\n",
    "y_known = known['Investment_Gain']\n",
    "\n",
    "# 2. Hold out 20% for validation\n",
    "X_tr, X_val, y_tr, y_val = train_test_split(\n",
    "    X_known, y_known,\n",
    "    test_size=0.2,\n",
    "    random_state=42\n",
    ")\n",
    "\n",
    "# 3. Train on the 80%\n",
    "lr = LinearRegression()\n",
    "lr.fit(X_tr, y_tr)\n",
    "\n",
    "# 4. Predict on the hold‐out and evaluate\n",
    "y_pred = lr.predict(X_val)\n",
    "print(f\"R² on hold-out: {r2_score(y_val, y_pred):.3f}\")\n",
    "print(f\"MAE on hold-out: {mean_absolute_error(y_val, y_pred):.3f}\")\n",
    "\n",
    "# 5. (Optional) Retrain on ALL known data and impute missings\n",
    "lr_full = LinearRegression()\n",
    "lr_full.fit(X_known, y_known)\n",
    "\n",
    "X_missing = missing[features]\n",
    "df.loc[df['Investment_Gain'].isnull(), 'Investment_Gain'] = lr_full.predict(X_missing)\n",
    "'''\n"
   ]
  },
  {
   "cell_type": "code",
   "execution_count": null,
   "id": "7e1f16d2fd1e558",
   "metadata": {
    "collapsed": false
   },
   "outputs": [],
   "source": []
  }
 ],
 "metadata": {
  "kernelspec": {
   "display_name": "Python 3 (ipykernel)",
   "language": "python",
   "name": "python3"
  },
  "language_info": {
   "codemirror_mode": {
    "name": "ipython",
    "version": 3
   },
   "file_extension": ".py",
   "mimetype": "text/x-python",
   "name": "python",
   "nbconvert_exporter": "python",
   "pygments_lexer": "ipython3",
   "version": "3.12.7"
  }
 },
 "nbformat": 4,
 "nbformat_minor": 5
}
