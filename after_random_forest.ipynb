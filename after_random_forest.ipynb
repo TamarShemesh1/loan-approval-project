{
 "cells": [
  {
   "cell_type": "markdown",
   "id": "382a8f2ce576c407",
   "metadata": {},
   "source": [
    "# Final Project – Introduction to Machine Learning (Group 32)\n",
    "## Loan Approval Prediction – Binary Classification\n",
    "**Tamar & Tala – Spring 2025**\n",
    "\n",
    "This notebook walks through our end-to-end machine learning project:\n",
    "- Data exploration \n",
    "- Feature processing \n",
    "- Model training \n",
    "- Evaluation \n",
    "- Final prediction submission "
   ]
  },
  {
   "cell_type": "markdown",
   "id": "809af347f383058e",
   "metadata": {},
   "source": [
    "## 1. Load Libraries and Data"
   ]
  },
  {
   "cell_type": "code",
   "execution_count": 1,
   "id": "306e676c18666e27",
   "metadata": {
    "ExecuteTime": {
     "end_time": "2025-06-22T12:35:04.473897100Z",
     "start_time": "2025-06-22T12:35:03.867463300Z"
    }
   },
   "outputs": [
    {
     "data": {
      "text/plain": "   customer_id   Age Employment_Type       A Education_Level  \\\n0       115892  90.0             NaN   77053         HS-grad   \n1       115893  82.0         Private  132870         HS-grad   \n2       115895  54.0         Private  140359         7th-8th   \n3       115896  41.0         Private  264663    Some-college   \n4       115897  34.0         Private  216864         HS-grad   \n\n   Years_of_Education Marital_Status           Job_Type Household_Role  \\\n0                 9.0        Widowed                NaN  Not-in-family   \n1                 9.0        Widowed    Exec-managerial  Not-in-family   \n2                 4.0       Divorced  Machine-op-inspct      Unmarried   \n3                10.0      Separated     Prof-specialty      Own-child   \n4                 9.0       Divorced      Other-service      Unmarried   \n\n  Ethnicity  ... Investment_Gain  Investment_Loss  Weekly_Work_Hours  \\\n0     White  ...             0.0           4356.0                 40   \n1     White  ...             0.0           4356.0                 18   \n2     White  ...             0.0           3900.0                 40   \n3     White  ...             0.0           3900.0                 40   \n4     White  ...             NaN           3770.0                 45   \n\n   Country_of_Residence           C  Preferred_Communication_Method         D  \\\n0         United-States  104.906221                      Phone_Call  2.865629   \n1         United-States   96.358501                            mail  5.528583   \n2         United-States  115.529631                            mail  3.816915   \n3         United-States   85.732506                             NaN  5.416363   \n4         United-States  115.218443                            Mail  6.453932   \n\n    B           E  Loan_Approval  \n0 NaN  170.887465              0  \n1 NaN  156.630201              0  \n2 NaN  165.635557              0  \n3 NaN  123.379007              0  \n4 NaN  155.262131              0  \n\n[5 rows x 21 columns]",
      "text/html": "<div>\n<style scoped>\n    .dataframe tbody tr th:only-of-type {\n        vertical-align: middle;\n    }\n\n    .dataframe tbody tr th {\n        vertical-align: top;\n    }\n\n    .dataframe thead th {\n        text-align: right;\n    }\n</style>\n<table border=\"1\" class=\"dataframe\">\n  <thead>\n    <tr style=\"text-align: right;\">\n      <th></th>\n      <th>customer_id</th>\n      <th>Age</th>\n      <th>Employment_Type</th>\n      <th>A</th>\n      <th>Education_Level</th>\n      <th>Years_of_Education</th>\n      <th>Marital_Status</th>\n      <th>Job_Type</th>\n      <th>Household_Role</th>\n      <th>Ethnicity</th>\n      <th>...</th>\n      <th>Investment_Gain</th>\n      <th>Investment_Loss</th>\n      <th>Weekly_Work_Hours</th>\n      <th>Country_of_Residence</th>\n      <th>C</th>\n      <th>Preferred_Communication_Method</th>\n      <th>D</th>\n      <th>B</th>\n      <th>E</th>\n      <th>Loan_Approval</th>\n    </tr>\n  </thead>\n  <tbody>\n    <tr>\n      <th>0</th>\n      <td>115892</td>\n      <td>90.0</td>\n      <td>NaN</td>\n      <td>77053</td>\n      <td>HS-grad</td>\n      <td>9.0</td>\n      <td>Widowed</td>\n      <td>NaN</td>\n      <td>Not-in-family</td>\n      <td>White</td>\n      <td>...</td>\n      <td>0.0</td>\n      <td>4356.0</td>\n      <td>40</td>\n      <td>United-States</td>\n      <td>104.906221</td>\n      <td>Phone_Call</td>\n      <td>2.865629</td>\n      <td>NaN</td>\n      <td>170.887465</td>\n      <td>0</td>\n    </tr>\n    <tr>\n      <th>1</th>\n      <td>115893</td>\n      <td>82.0</td>\n      <td>Private</td>\n      <td>132870</td>\n      <td>HS-grad</td>\n      <td>9.0</td>\n      <td>Widowed</td>\n      <td>Exec-managerial</td>\n      <td>Not-in-family</td>\n      <td>White</td>\n      <td>...</td>\n      <td>0.0</td>\n      <td>4356.0</td>\n      <td>18</td>\n      <td>United-States</td>\n      <td>96.358501</td>\n      <td>mail</td>\n      <td>5.528583</td>\n      <td>NaN</td>\n      <td>156.630201</td>\n      <td>0</td>\n    </tr>\n    <tr>\n      <th>2</th>\n      <td>115895</td>\n      <td>54.0</td>\n      <td>Private</td>\n      <td>140359</td>\n      <td>7th-8th</td>\n      <td>4.0</td>\n      <td>Divorced</td>\n      <td>Machine-op-inspct</td>\n      <td>Unmarried</td>\n      <td>White</td>\n      <td>...</td>\n      <td>0.0</td>\n      <td>3900.0</td>\n      <td>40</td>\n      <td>United-States</td>\n      <td>115.529631</td>\n      <td>mail</td>\n      <td>3.816915</td>\n      <td>NaN</td>\n      <td>165.635557</td>\n      <td>0</td>\n    </tr>\n    <tr>\n      <th>3</th>\n      <td>115896</td>\n      <td>41.0</td>\n      <td>Private</td>\n      <td>264663</td>\n      <td>Some-college</td>\n      <td>10.0</td>\n      <td>Separated</td>\n      <td>Prof-specialty</td>\n      <td>Own-child</td>\n      <td>White</td>\n      <td>...</td>\n      <td>0.0</td>\n      <td>3900.0</td>\n      <td>40</td>\n      <td>United-States</td>\n      <td>85.732506</td>\n      <td>NaN</td>\n      <td>5.416363</td>\n      <td>NaN</td>\n      <td>123.379007</td>\n      <td>0</td>\n    </tr>\n    <tr>\n      <th>4</th>\n      <td>115897</td>\n      <td>34.0</td>\n      <td>Private</td>\n      <td>216864</td>\n      <td>HS-grad</td>\n      <td>9.0</td>\n      <td>Divorced</td>\n      <td>Other-service</td>\n      <td>Unmarried</td>\n      <td>White</td>\n      <td>...</td>\n      <td>NaN</td>\n      <td>3770.0</td>\n      <td>45</td>\n      <td>United-States</td>\n      <td>115.218443</td>\n      <td>Mail</td>\n      <td>6.453932</td>\n      <td>NaN</td>\n      <td>155.262131</td>\n      <td>0</td>\n    </tr>\n  </tbody>\n</table>\n<p>5 rows × 21 columns</p>\n</div>"
     },
     "execution_count": 1,
     "metadata": {},
     "output_type": "execute_result"
    }
   ],
   "source": [
    "import pandas as pd\n",
    "import numpy as np\n",
    "import matplotlib.pyplot as plt\n",
    "import seaborn as sns\n",
    "import missingno as msno\n",
    "from sklearn.impute import SimpleImputer\n",
    "from sklearn.preprocessing import OneHotEncoder, StandardScaler\n",
    "from sklearn.compose import ColumnTransformer\n",
    "from sklearn.ensemble         import RandomForestClassifier\n",
    "from sklearn.pipeline     import Pipeline\n",
    "from sklearn.linear_model import LogisticRegression\n",
    "from sklearn.model_selection import train_test_split, cross_val_score\n",
    "from sklearn.metrics      import classification_report, roc_auc_score\n",
    "from sklearn.feature_selection import RFECV\n",
    "from sklearn.neural_network   import MLPClassifier\n",
    "from sklearn.model_selection  import StratifiedKFold\n",
    "from sklearn.model_selection import GridSearchCV\n",
    "from sklearn.feature_selection import RFECV\n",
    "from sklearn.svm               import LinearSVC\n",
    "from sklearn.model_selection   import StratifiedKFold\n",
    "\n",
    "\n",
    "\n",
    "# Load the data\n",
    "train = pd.read_csv('train.csv', na_values=[\"?\"])\n",
    "test = pd.read_csv('test.csv', na_values=[\"?\"])\n",
    "train.head()"
   ]
  },
  {
   "cell_type": "code",
   "execution_count": 2,
   "id": "80fe3c036c90554c",
   "metadata": {
    "collapsed": false,
    "ExecuteTime": {
     "end_time": "2025-06-22T12:35:06.398893800Z",
     "start_time": "2025-06-22T12:35:06.129575500Z"
    }
   },
   "outputs": [],
   "source": [
    "# using the train test split function\n",
    "y = (train['Loan_Approval'])\n",
    "X = train.drop(columns=['Loan_Approval'])\n",
    "\n",
    "X_train, X_test, y_train, y_test = train_test_split(\n",
    "  X,y , random_state=104,test_size=0.2, shuffle=True)"
   ]
  },
  {
   "cell_type": "markdown",
   "id": "1fafd0a08e17e5a7",
   "metadata": {},
   "source": [
    "## 2. Exploratory Data Analysis (EDA)\n",
    "\n"
   ]
  },
  {
   "cell_type": "code",
   "execution_count": 3,
   "id": "511a2b2c7c2410bf",
   "metadata": {
    "collapsed": false,
    "ExecuteTime": {
     "end_time": "2025-06-22T12:35:09.306118900Z",
     "start_time": "2025-06-22T12:35:09.173230300Z"
    }
   },
   "outputs": [
    {
     "name": "stdout",
     "output_type": "stream",
     "text": [
      "Training set dimensions: 22140 rows × 20 columns\n"
     ]
    }
   ],
   "source": [
    "n_rows,n_columns = X_train.shape\n",
    "print(f\"Training set dimensions: {n_rows} rows × {n_columns} columns\")"
   ]
  },
  {
   "cell_type": "code",
   "execution_count": 4,
   "id": "92e56be4784cad8a",
   "metadata": {
    "collapsed": false,
    "ExecuteTime": {
     "end_time": "2025-06-22T12:35:10.540351800Z",
     "start_time": "2025-06-22T12:35:10.432767700Z"
    }
   },
   "outputs": [
    {
     "data": {
      "text/plain": "         customer_id           Age             A  Years_of_Education  \\\ncount   22140.000000  22037.000000  2.214000e+04        21684.000000   \nmean   132218.508943     38.620502  1.897733e+05           10.067008   \nstd      9385.860241     13.644967  1.049739e+05            2.581366   \nmin    115892.000000     17.000000  1.376900e+04            1.000000   \n25%    124068.750000     28.000000  1.176830e+05            9.000000   \n50%    132273.500000     37.000000  1.786150e+05           10.000000   \n75%    140330.250000     48.000000  2.372398e+05           12.000000   \nmax    148452.000000     90.000000  1.366120e+06           16.000000   \n\n       Investment_Gain  Investment_Loss  Weekly_Work_Hours             C  \\\ncount     21480.000000     22116.000000       22140.000000  21256.000000   \nmean       1053.568948        85.700534          40.500407     99.933137   \nstd        7257.245757       400.523834          12.352449      9.973109   \nmin           0.000000         0.000000           1.000000     58.136513   \n25%           0.000000         0.000000          40.000000     93.197922   \n50%           0.000000         0.000000          40.000000     99.924856   \n75%           0.000000         0.000000          45.000000    106.660368   \nmax       99999.000000      4356.000000          99.000000    144.309842   \n\n                  D    B             E  \ncount  22140.000000  0.0  19516.000000  \nmean       4.982305  NaN    139.225455  \nstd        1.510376  NaN     13.770922  \nmin       -1.711896  NaN     82.675954  \n25%        3.966705  NaN    129.705568  \n50%        4.990908  NaN    139.083265  \n75%        5.995161  NaN    148.527468  \nmax       10.876204  NaN    199.134411  ",
      "text/html": "<div>\n<style scoped>\n    .dataframe tbody tr th:only-of-type {\n        vertical-align: middle;\n    }\n\n    .dataframe tbody tr th {\n        vertical-align: top;\n    }\n\n    .dataframe thead th {\n        text-align: right;\n    }\n</style>\n<table border=\"1\" class=\"dataframe\">\n  <thead>\n    <tr style=\"text-align: right;\">\n      <th></th>\n      <th>customer_id</th>\n      <th>Age</th>\n      <th>A</th>\n      <th>Years_of_Education</th>\n      <th>Investment_Gain</th>\n      <th>Investment_Loss</th>\n      <th>Weekly_Work_Hours</th>\n      <th>C</th>\n      <th>D</th>\n      <th>B</th>\n      <th>E</th>\n    </tr>\n  </thead>\n  <tbody>\n    <tr>\n      <th>count</th>\n      <td>22140.000000</td>\n      <td>22037.000000</td>\n      <td>2.214000e+04</td>\n      <td>21684.000000</td>\n      <td>21480.000000</td>\n      <td>22116.000000</td>\n      <td>22140.000000</td>\n      <td>21256.000000</td>\n      <td>22140.000000</td>\n      <td>0.0</td>\n      <td>19516.000000</td>\n    </tr>\n    <tr>\n      <th>mean</th>\n      <td>132218.508943</td>\n      <td>38.620502</td>\n      <td>1.897733e+05</td>\n      <td>10.067008</td>\n      <td>1053.568948</td>\n      <td>85.700534</td>\n      <td>40.500407</td>\n      <td>99.933137</td>\n      <td>4.982305</td>\n      <td>NaN</td>\n      <td>139.225455</td>\n    </tr>\n    <tr>\n      <th>std</th>\n      <td>9385.860241</td>\n      <td>13.644967</td>\n      <td>1.049739e+05</td>\n      <td>2.581366</td>\n      <td>7257.245757</td>\n      <td>400.523834</td>\n      <td>12.352449</td>\n      <td>9.973109</td>\n      <td>1.510376</td>\n      <td>NaN</td>\n      <td>13.770922</td>\n    </tr>\n    <tr>\n      <th>min</th>\n      <td>115892.000000</td>\n      <td>17.000000</td>\n      <td>1.376900e+04</td>\n      <td>1.000000</td>\n      <td>0.000000</td>\n      <td>0.000000</td>\n      <td>1.000000</td>\n      <td>58.136513</td>\n      <td>-1.711896</td>\n      <td>NaN</td>\n      <td>82.675954</td>\n    </tr>\n    <tr>\n      <th>25%</th>\n      <td>124068.750000</td>\n      <td>28.000000</td>\n      <td>1.176830e+05</td>\n      <td>9.000000</td>\n      <td>0.000000</td>\n      <td>0.000000</td>\n      <td>40.000000</td>\n      <td>93.197922</td>\n      <td>3.966705</td>\n      <td>NaN</td>\n      <td>129.705568</td>\n    </tr>\n    <tr>\n      <th>50%</th>\n      <td>132273.500000</td>\n      <td>37.000000</td>\n      <td>1.786150e+05</td>\n      <td>10.000000</td>\n      <td>0.000000</td>\n      <td>0.000000</td>\n      <td>40.000000</td>\n      <td>99.924856</td>\n      <td>4.990908</td>\n      <td>NaN</td>\n      <td>139.083265</td>\n    </tr>\n    <tr>\n      <th>75%</th>\n      <td>140330.250000</td>\n      <td>48.000000</td>\n      <td>2.372398e+05</td>\n      <td>12.000000</td>\n      <td>0.000000</td>\n      <td>0.000000</td>\n      <td>45.000000</td>\n      <td>106.660368</td>\n      <td>5.995161</td>\n      <td>NaN</td>\n      <td>148.527468</td>\n    </tr>\n    <tr>\n      <th>max</th>\n      <td>148452.000000</td>\n      <td>90.000000</td>\n      <td>1.366120e+06</td>\n      <td>16.000000</td>\n      <td>99999.000000</td>\n      <td>4356.000000</td>\n      <td>99.000000</td>\n      <td>144.309842</td>\n      <td>10.876204</td>\n      <td>NaN</td>\n      <td>199.134411</td>\n    </tr>\n  </tbody>\n</table>\n</div>"
     },
     "execution_count": 4,
     "metadata": {},
     "output_type": "execute_result"
    }
   ],
   "source": [
    "X_train.describe()"
   ]
  },
  {
   "cell_type": "code",
   "execution_count": 5,
   "id": "6bd74af3cb16574",
   "metadata": {
    "collapsed": false,
    "ExecuteTime": {
     "end_time": "2025-06-22T12:35:11.041427700Z",
     "start_time": "2025-06-22T12:35:10.840031100Z"
    }
   },
   "outputs": [
    {
     "name": "stdout",
     "output_type": "stream",
     "text": [
      "<class 'pandas.core.frame.DataFrame'>\n",
      "Index: 22140 entries, 336 to 8261\n",
      "Data columns (total 20 columns):\n",
      " #   Column                          Non-Null Count  Dtype  \n",
      "---  ------                          --------------  -----  \n",
      " 0   customer_id                     22140 non-null  int64  \n",
      " 1   Age                             22037 non-null  float64\n",
      " 2   Employment_Type                 20715 non-null  object \n",
      " 3   A                               22140 non-null  int64  \n",
      " 4   Education_Level                 22140 non-null  object \n",
      " 5   Years_of_Education              21684 non-null  float64\n",
      " 6   Marital_Status                  22140 non-null  object \n",
      " 7   Job_Type                        19437 non-null  object \n",
      " 8   Household_Role                  22140 non-null  object \n",
      " 9   Ethnicity                       19885 non-null  object \n",
      " 10  Gender                          22140 non-null  object \n",
      " 11  Investment_Gain                 21480 non-null  float64\n",
      " 12  Investment_Loss                 22116 non-null  float64\n",
      " 13  Weekly_Work_Hours               22140 non-null  int64  \n",
      " 14  Country_of_Residence            21727 non-null  object \n",
      " 15  C                               21256 non-null  float64\n",
      " 16  Preferred_Communication_Method  21450 non-null  object \n",
      " 17  D                               22140 non-null  float64\n",
      " 18  B                               0 non-null      float64\n",
      " 19  E                               19516 non-null  float64\n",
      "dtypes: float64(8), int64(3), object(9)\n",
      "memory usage: 3.5+ MB\n"
     ]
    }
   ],
   "source": [
    "X_train.info()"
   ]
  },
  {
   "cell_type": "markdown",
   "id": "9f58dd8d06540027",
   "metadata": {
    "collapsed": false
   },
   "source": [
    "Column B is completely empty (100% missing), so we will remove it from the dataset.\n",
    "Several columns, such as Employment_Type, Job_Type and Ethnicity have a high percentage of missing values.\n",
    "We'll need to decide whether to fill them or drop them."
   ]
  },
  {
   "cell_type": "markdown",
   "id": "49bbe0e7870b3c7e",
   "metadata": {
    "collapsed": false
   },
   "source": [
    "_Visualizing the variables to check their distributions:_"
   ]
  },
  {
   "cell_type": "code",
   "execution_count": null,
   "id": "2f8d6bf1fc5b57f0",
   "metadata": {
    "collapsed": false
   },
   "outputs": [],
   "source": [
    "# Histograms and count plots of each explanatory variable\n",
    "\n",
    "for col in X_train.columns:\n",
    "    plt.figure(figsize=(15, 4))\n",
    "    \n",
    "    # For numeric variables\n",
    "    if pd.api.types.is_numeric_dtype(X_train[col]):\n",
    "        sns.histplot(X_train[col].dropna(), kde=True)\n",
    "        plt.title(f\"Distribution of {col}\")\n",
    "    \n",
    "    # For categorical variables \n",
    "    else:\n",
    "        sns.countplot(x=col, data=X_train, order=X_train[col].value_counts().index)\n",
    "        plt.xticks(rotation=45)\n",
    "        plt.title(f\"Countplot of {col}\")\n",
    "    \n",
    "    plt.tight_layout()\n",
    "    plt.show()"
   ]
  },
  {
   "cell_type": "code",
   "execution_count": null,
   "id": "42a31bcdb5f5d849",
   "metadata": {
    "collapsed": false
   },
   "outputs": [],
   "source": [
    "# Bar plots of approval rates for categorical variables\n",
    "\n",
    "categorical_vars = [\n",
    "    'Employment_Type', 'Education_Level', 'Marital_Status', 'Job_Type',\n",
    "    'Household_Role', 'Ethnicity', 'Gender', 'Country_of_Residence',\n",
    "    'Preferred_Communication_Method'\n",
    "]\n",
    "\n",
    "for col in categorical_vars:\n",
    "    plt.figure(figsize=(15, 4))\n",
    "    sns.barplot(x=col, y=y_train, data=X_train, estimator='mean', order=X_train[col].value_counts().index)\n",
    "    plt.xticks(rotation=45)\n",
    "    plt.title(f'Approval Rate by {col}')\n",
    "    plt.ylabel('Approval Rate (Mean of Loan_approval)')\n",
    "    plt.tight_layout()\n",
    "    plt.show()"
   ]
  },
  {
   "cell_type": "code",
   "execution_count": null,
   "id": "343249a9cee851ed",
   "metadata": {
    "collapsed": false
   },
   "outputs": [],
   "source": [
    "#Box plots of approved vs. rejected for numerical variables\n",
    "X_train['Loan_Approval_str'] = y_train.map({0: 'Rejected', 1: 'Approved'})\n",
    "\n",
    "# Remove columns that shouldn't be plotted\n",
    "numeric_cols = [col for col in X_train.select_dtypes(include='number').columns if col not in ['customer_id']]\n",
    "\n",
    "# Create one boxplot per feature vs Loan Approval\n",
    "for col in numeric_cols:\n",
    "    plt.figure(figsize=(6, 4))\n",
    "    sns.boxplot(x='Loan_Approval_str', y=col, data=X_train)\n",
    "    plt.title(f'{col} by Loan Approval')\n",
    "    plt.xlabel('Loan Approval')\n",
    "    plt.ylabel(col)\n",
    "    plt.tight_layout()\n",
    "    plt.show()"
   ]
  },
  {
   "cell_type": "markdown",
   "id": "3d570bc5e7054499",
   "metadata": {
    "collapsed": false
   },
   "source": [
    "## Part 2 - Data Processing\n",
    "\n"
   ]
  },
  {
   "cell_type": "markdown",
   "id": "9e012bc51fce0e55",
   "metadata": {
    "collapsed": false
   },
   "source": [
    "**Key Insights from Feature Distributions**\n",
    "1. Employment_Type, Country_of_Residence and Ethnicity are highly imbalanced.\n",
    "To reduce sparsity and improve generalization, we will group the less frequent categories into broader, more meaningful groups.\n",
    "2. A is right-skewed, so a log transformation may help normalize its distribution.\n",
    "3. Investment_Gain and Investment_Loss are extremely skewed with large outliers, so a log transformation might help, and merging them into a single Net_Investment feature may provide a clearer signal.\n",
    "4. Preferred_Communication_Method has inconsistent values due to variations in capitalization and wording (e.g., \"Email\" vs \"email\"), so we unified similar values.\n",
    "5. Based on the approval rate bar plot for Household_Role, we observed clear patterns across the categories.\n",
    "We grouped them into three broader categories with similar approval behavior to simplify the feature and improve model stability.\n",
    "6. Column B is completely empty, so we decided to remove it.\n",
    "7.  We simplified the Country_of_Residence feature by grouping it into three categories: USA, Mexico, and Other. The vast majority of people were from the United States, and the approval rate among other countries wasn't very different.\n",
    "8.  We simplified the Employment_Type feature by grouping it into four categories: Private, not private and, and non-working.  The vast majority of people were private, and the noticeable difference in the approval rate was between non-private to non-working.\n",
    "\n"
   ]
  },
  {
   "cell_type": "code",
   "execution_count": null,
   "id": "4198104465d53ee8",
   "metadata": {
    "collapsed": false
   },
   "outputs": [],
   "source": [
    "#Creating a heatmap\n",
    "\n",
    "# Select only numeric columns\n",
    "numeric_df = X_train.select_dtypes(include='number')\n",
    "\n",
    "# Compute the correlation matrix\n",
    "correlation_matrix = numeric_df.corr()\n",
    "\n",
    "# Plot the heatmap\n",
    "plt.figure(figsize=(10, 8))\n",
    "sns.heatmap(correlation_matrix, annot=True, fmt=\".2f\", cmap=\"coolwarm\", square=True)\n",
    "plt.title(\"Correlation Heatmap\")\n",
    "plt.tight_layout()\n",
    "plt.show()"
   ]
  },
  {
   "cell_type": "code",
   "execution_count": null,
   "id": "dd0e681b69d85555",
   "metadata": {
    "collapsed": false
   },
   "outputs": [],
   "source": [
    "# Checking which variables are most correlated with Loan_approval (only linear) - this is the Loan_Approval row in the heatmap\n",
    "\n",
    "# Select only numeric features from X_train\n",
    "numeric_X_train = X_train.select_dtypes(include='number')\n",
    "\n",
    "# Combine X_train with y_train to allow correlation computation\n",
    "temp_df = numeric_X_train.copy()\n",
    "temp_df['Loan_Approval'] = y_train\n",
    "\n",
    "# Compute correlations with Loan_Approval\n",
    "correlations = temp_df.corr()['Loan_Approval'].sort_values(ascending=False)\n",
    "\n",
    "print(correlations)"
   ]
  },
  {
   "cell_type": "markdown",
   "id": "18833f3e4451f9f",
   "metadata": {
    "collapsed": false
   },
   "source": [
    "**Key Insights from the heat map**\n",
    "C and E are highly correlated (r = 0.87), indicating redundancy.\n",
    "Neither has a strong linear correlation with the target, but E shows a slightly stronger signal (r = 0.125). Even though E has more missing values (as we will see later on), it’s still more useful, so we’ll keep E and drop C. "
   ]
  },
  {
   "cell_type": "markdown",
   "id": "dbba21d75f846898",
   "metadata": {
    "collapsed": false
   },
   "source": [
    "We checked for overlap between Employment_Type and Job_Type using a cross-tabulation heatmap.\n",
    "The results show no strong or consistent relationship between the two — most employment types are associated with a wide variety of job types.\n",
    "Therefore, we concluded that the two features capture distinct information and chose to keep both."
   ]
  },
  {
   "cell_type": "code",
   "execution_count": null,
   "id": "2c2ad593ba0cad71",
   "metadata": {
    "collapsed": false
   },
   "outputs": [],
   "source": [
    "crosstab = pd.crosstab(X_train['Employment_Type'], X_train['Job_Type'], normalize='index')\n",
    "plt.figure(figsize=(14, 7))\n",
    "sns.heatmap(crosstab, cmap=\"Blues\", annot=True, fmt=\".2f\")\n",
    "plt.title(\"Employment Type vs Job Type\")\n",
    "plt.show()"
   ]
  },
  {
   "cell_type": "markdown",
   "id": "9018822c306ecfd1",
   "metadata": {
    "collapsed": false
   },
   "source": [
    "## 3. Data Preprocessing\n",
    "\n"
   ]
  },
  {
   "cell_type": "code",
   "execution_count": null,
   "id": "3861f894916d95e6",
   "metadata": {
    "collapsed": false
   },
   "outputs": [],
   "source": [
    "missing = X_train.isnull().sum()\n",
    "missing_pct = (missing / len(X_train) * 100).round(2)\n",
    "pd.DataFrame({\n",
    "    \"missing_count\": missing,\n",
    "    \"missing_pct\": missing_pct\n",
    "}).query(\"missing_count > 0\").sort_values(\"missing_count\", ascending=False)"
   ]
  },
  {
   "cell_type": "code",
   "execution_count": 6,
   "id": "e60c0335a6987d0f",
   "metadata": {
    "collapsed": false,
    "ExecuteTime": {
     "end_time": "2025-06-22T12:35:23.469811700Z",
     "start_time": "2025-06-22T12:35:23.358814600Z"
    }
   },
   "outputs": [],
   "source": [
    "# 1. Removing columns B and C\n",
    "X_train = X_train.drop(['B', 'C'], axis=1)\n",
    "X_test = X_test.drop(['B', 'C'], axis=1)\n",
    "n_columns -= 2"
   ]
  },
  {
   "cell_type": "markdown",
   "id": "61e56d34960f4a1f",
   "metadata": {
    "collapsed": false
   },
   "source": [
    "**Outlier Removal:**\n"
   ]
  },
  {
   "cell_type": "markdown",
   "id": "302e29eb6ba85257",
   "metadata": {
    "collapsed": false
   },
   "source": [
    "Based on our initial EDA (where we plotted boxplots and histograms in Part 1), we selected seven features—`net_investment_log`, `Weekly_Work_Hours`, `Years_of_Education`, `Age`, `A`, `D`, and `E`—for outlier removal. First, we computed and displayed the five-number summary (Min, Q1, Median, Q3, Max) for each to see which values lay far outside the interquartile range. For `net_investment_log`, we calculated its mean and standard deviation and removed any rows whose values fell beyond ±4 σ; this eliminated about 800 observations (≈3 % of the data), preserving most valid high-net-worth cases. For feature D, which had a narrow IQR, we trimmed any values outside \\[0, 9], its own 1.5·IQR boundaries. Since `Age` and `Years_of_Education` all fell within reasonable IQR bounds, we left them intact. After many attempts with E, we found that removing its outliers caused us to lose too much data—plus we don’t actually know what E represents and its extreme values aren’t that severe—so we decided to leave E as is. For A, we applied a log transform first (to normalize its skew) and then standardized using a 3 σ cutoff to remove only the most extreme log-values. Finally, because some applicants legitimately work long weeks, we removed only those `Weekly_Work_Hours` entries above the 99th percentile, ensuring genuine 60–80-hour records remain while the most extreme cases are excluded.\n",
    "\n"
   ]
  },
  {
   "cell_type": "code",
   "execution_count": 7,
   "id": "4703a09506da61a2",
   "metadata": {
    "collapsed": false,
    "ExecuteTime": {
     "end_time": "2025-06-22T12:35:29.836937300Z",
     "start_time": "2025-06-22T12:35:26.107719500Z"
    }
   },
   "outputs": [
    {
     "data": {
      "text/plain": "<Figure size 640x480 with 1 Axes>",
      "image/png": "[encoded data removed]"
     },
     "metadata": {},
     "output_type": "display_data"
    },
    {
     "data": {
      "text/plain": "Text(0.5, 1.0, 'Distribution of net_investment_log')"
     },
     "execution_count": 7,
     "metadata": {},
     "output_type": "execute_result"
    },
    {
     "data": {
      "text/plain": "<Figure size 640x480 with 1 Axes>",
      "image/png": "[encoded data removed]"
     },
     "metadata": {},
     "output_type": "display_data"
    }
   ],
   "source": [
    "X_train['log_gain'] = np.log2(X_train['Investment_Gain'] + 1)\n",
    "X_train['log_loss'] = np.log2(X_train['Investment_Loss'] + 1)\n",
    "X_train['net_investment_log'] = X_train['log_gain'] - X_train['log_loss']\n",
    "\n",
    "plt.hist(X_train['net_investment_log'])\n",
    "plt.show()\n",
    "\n",
    "sns.histplot(X_train['net_investment_log'].dropna(), kde=True)\n",
    "plt.title(f\"Distribution of net_investment_log\")"
   ]
  },
  {
   "cell_type": "code",
   "execution_count": 8,
   "outputs": [],
   "source": [
    "X_test['log_gain'] = np.log2(X_test['Investment_Gain'] + 1)\n",
    "X_test['log_loss'] = np.log2(X_test['Investment_Loss'] + 1)\n",
    "X_test['net_investment_log'] = X_test['log_gain'] - X_test['log_loss']"
   ],
   "metadata": {
    "collapsed": false,
    "ExecuteTime": {
     "end_time": "2025-06-22T12:35:29.931096600Z",
     "start_time": "2025-06-22T12:35:29.811067500Z"
    }
   },
   "id": "a220a68717923f1b"
  },
  {
   "cell_type": "code",
   "execution_count": 9,
   "id": "550d0b64-fc73-45c1-b2a5-5bfa6604174d",
   "metadata": {
    "ExecuteTime": {
     "end_time": "2025-06-22T12:35:30.108057300Z",
     "start_time": "2025-06-22T12:35:29.852279600Z"
    }
   },
   "outputs": [],
   "source": [
    "X_train[\"A_log\"] = np.log1p(X_train[\"A\"])\n",
    "X_test[\"A_log\"] = np.log1p(X_test[\"A\"])\n"
   ]
  },
  {
   "cell_type": "code",
   "execution_count": 10,
   "id": "8bbb24080a5602fd",
   "metadata": {
    "collapsed": false,
    "ExecuteTime": {
     "end_time": "2025-06-22T12:35:30.150933500Z",
     "start_time": "2025-06-22T12:35:29.899689200Z"
    }
   },
   "outputs": [
    {
     "name": "stdout",
     "output_type": "stream",
     "text": [
      "                    Min   Q1  Median   Q3    Max\n",
      "net_investment_log  -12    0       0    0     17\n",
      "Weekly_Work_Hours     1   40      40   45     99\n",
      "Years_of_Education    1    9      10   12     16\n",
      "Age                  17   28      37   48     90\n",
      "A_log                10   12      12   12     14\n",
      "D                    -2    4       5    6     11\n",
      "E                    83  130     139  149    199\n",
      "Investment_Gain       0    0       0    0  99999\n",
      "Investment_Loss       0    0       0    0   4356\n"
     ]
    }
   ],
   "source": [
    "# List of numeric features we care about\n",
    "features = [\n",
    "    \"net_investment_log\",\n",
    "    \"Weekly_Work_Hours\",\n",
    "    \"Years_of_Education\",\n",
    "    \"Age\",\n",
    "    \"A_log\",\n",
    "    \"D\",\n",
    "    \"E\",\n",
    "    \"Investment_Gain\",\n",
    "    \"Investment_Loss\"\n",
    "]\n",
    "\n",
    "# Compute the five‐number summary (min, Q1, median, Q3, max) for each feature\n",
    "summary = X_train[features].quantile([0.00, 0.25, 0.50, 0.75, 1.00]).T\n",
    "summary.columns = [\"Min\", \"Q1\", \"Median\", \"Q3\", \"Max\"]\n",
    "summary_int = summary.round(0).astype(int)\n",
    "\n",
    "print(summary_int)"
   ]
  },
  {
   "cell_type": "code",
   "execution_count": 11,
   "id": "d6f9d06c7bc96da0",
   "metadata": {
    "collapsed": false,
    "ExecuteTime": {
     "end_time": "2025-06-22T12:35:30.151625100Z",
     "start_time": "2025-06-22T12:35:29.940643400Z"
    }
   },
   "outputs": [],
   "source": [
    "# Remove outliers from 'net_investment_log' using 3 standard deviations\n",
    "mean_log = X_train[\"net_investment_log\"].mean()\n",
    "std_log  = X_train[\"net_investment_log\"].std()\n",
    "lower  = mean_log - 4 * std_log\n",
    "upper  = mean_log + 4 * std_log\n",
    "X_train = X_train[(X_train[\"net_investment_log\"] >= lower) & (X_train[\"net_investment_log\"] <= upper)]\n",
    "\n",
    "\n",
    "mean_A = X_train[\"A_log\"].mean()\n",
    "std_A  = X_train[\"A_log\"].std()\n",
    "lower_A  = mean_A - 3 * std_A\n",
    "upper_A  = mean_A + 3 * std_A\n",
    "X_train = X_train[(X_train[\"A_log\"] >= lower_A) & (X_train[\"A_log\"] <= upper_A)]\n",
    "\n",
    "\n",
    "# Keep only values between 1 and 9 for column 'D'\n",
    "X_train = X_train[(X_train[\"D\"] >= 0) & (X_train[\"D\"] <= 9)]"
   ]
  },
  {
   "cell_type": "code",
   "execution_count": 12,
   "id": "1d1b2fc564532a5a",
   "metadata": {
    "collapsed": false,
    "ExecuteTime": {
     "end_time": "2025-06-22T12:35:30.151625100Z",
     "start_time": "2025-06-22T12:35:30.021627600Z"
    }
   },
   "outputs": [
    {
     "name": "stdout",
     "output_type": "stream",
     "text": [
      "New max after filtering: 80\n",
      "99th percentile used as threshold: 80.0\n"
     ]
    }
   ],
   "source": [
    "# Compute 99th percentile\n",
    "p99 = X_train[\"Weekly_Work_Hours\"].quantile(0.99)\n",
    "\n",
    "# Remove rows where Weekly_Work_Hours > 99th percentile\n",
    "X_train = X_train[X_train[\"Weekly_Work_Hours\"] <= p99]\n",
    "\n",
    "# print new max for verification\n",
    "print(\"New max after filtering:\", X_train[\"Weekly_Work_Hours\"].max())\n",
    "print(\"99th percentile used as threshold:\", p99)"
   ]
  },
  {
   "cell_type": "code",
   "execution_count": 13,
   "id": "b96dd0317dd13695",
   "metadata": {
    "collapsed": false,
    "ExecuteTime": {
     "end_time": "2025-06-22T12:35:30.151625100Z",
     "start_time": "2025-06-22T12:35:30.052635400Z"
    }
   },
   "outputs": [
    {
     "data": {
      "text/plain": "(21103, 22)"
     },
     "execution_count": 13,
     "metadata": {},
     "output_type": "execute_result"
    }
   ],
   "source": [
    "X_train.shape"
   ]
  },
  {
   "cell_type": "markdown",
   "source": [
    "We created a new feature, Net_Investment, by subtracting investment losses from gains, to capture the overall investment outcome.\n",
    "We applied a log transformation to Net_Investment to reduce skew and compress extreme outliers.\n"
   ],
   "metadata": {
    "collapsed": false
   },
   "id": "189121c3ce92fa85"
  },
  {
   "cell_type": "code",
   "execution_count": 14,
   "outputs": [
    {
     "data": {
      "text/plain": "<Figure size 1200x400 with 2 Axes>",
      "image/png": "[encoded data removed]"
     },
     "metadata": {},
     "output_type": "display_data"
    },
    {
     "data": {
      "text/plain": "<Figure size 1200x400 with 2 Axes>",
      "image/png": "[encoded data removed]"
     },
     "metadata": {},
     "output_type": "display_data"
    }
   ],
   "source": [
    "#Doing a log transformation while still distinguishing losses vs. gains.\n",
    "X_train['Net_Investment'] = X_train['Investment_Gain'] - X_train['Investment_Loss']\n",
    "X_test['Net_Investment'] = X_test['Investment_Gain'] - test['Investment_Loss']\n",
    "\n",
    "\n",
    "X_train['Log_Net_Investment'] = np.sign(X_train['Net_Investment']) * np.log2(abs(X_train['Net_Investment']) + 1)\n",
    "X_test['Log_Net_Investment'] = np.sign(X_test['Net_Investment']) * np.log2(abs(X_test['Net_Investment']) + 1)\n",
    "\n",
    "\n",
    "# Side-by-side boxplots \n",
    "fig, axes = plt.subplots(1, 2, figsize=(12, 4))\n",
    "sns.boxplot(x=X_train['Net_Investment'], ax=axes[0])\n",
    "axes[0].set_title('Original Net_Investment')\n",
    "axes[0].set_xlabel('Net_Investment')\n",
    "\n",
    "sns.boxplot(x=X_train['Log_Net_Investment'], ax=axes[1])\n",
    "axes[1].set_title('Log-Transformed Net_Investment')\n",
    "axes[1].set_xlabel('Log_Net_Investment')\n",
    "\n",
    "plt.tight_layout()\n",
    "plt.show()\n",
    "\n",
    "# Side-by-side histograms\n",
    "fig, axes = plt.subplots(1, 2, figsize=(12, 4))\n",
    "sns.histplot(X_train['Net_Investment'].dropna(), kde=True, ax=axes[0])\n",
    "axes[0].set_title('Distribution of Net_Investment')\n",
    "axes[0].set_xlabel('Net_Investment')\n",
    "\n",
    "sns.histplot(X_train['Log_Net_Investment'].dropna(), kde=True, ax=axes[1])\n",
    "axes[1].set_title('Distribution of Log-Transformed Net_Investment')\n",
    "axes[1].set_xlabel('Log_Net_Investment')\n",
    "\n",
    "plt.tight_layout()\n",
    "plt.show()"
   ],
   "metadata": {
    "collapsed": false,
    "ExecuteTime": {
     "end_time": "2025-06-22T12:35:46.286660Z",
     "start_time": "2025-06-22T12:35:38.012361200Z"
    }
   },
   "id": "98ebe557dbbf8208"
  },
  {
   "cell_type": "markdown",
   "id": "bc2d245d3623b8e9",
   "metadata": {
    "collapsed": false
   },
   "source": [
    "This cell defines helper functions to collapse rarely seen categories into broader groups, reducing cardinality for certain columns.\n",
    "These functions prepare us to reduce the number of dummy columns later on when we one-hot encode."
   ]
  },
  {
   "cell_type": "code",
   "execution_count": 15,
   "id": "ea59906540420095",
   "metadata": {
    "collapsed": false,
    "ExecuteTime": {
     "end_time": "2025-06-22T12:35:46.502059700Z",
     "start_time": "2025-06-22T12:35:46.311432900Z"
    }
   },
   "outputs": [],
   "source": [
    "# ------------ Grouping functions ------------\n",
    "\n",
    "# Grouping Preferred_Communication_Method\n",
    "def group_pref_com(pref):\n",
    "    if pref == \"Mail\" or pref == \"mail\":\n",
    "        return \"Mail\"\n",
    "    if pref == \"Email\" or pref == \"email\":\n",
    "        return \"EMail\"\n",
    "    if pref == \"Phone\" or pref == \"phone\" or pref == \"phone call\":\n",
    "        return \"Phone\"\n",
    "    else:\n",
    "        return \"Other\"\n",
    "\n",
    "# Grouping Country_of_Residence\n",
    "def group_country(country):\n",
    "    if country == \"United-States\":\n",
    "        return \"USA\"\n",
    "    elif country == \"Mexico\":\n",
    "        return \"Mexico\"\n",
    "    else:\n",
    "        return \"Other\"\n",
    "    \n",
    "# Grouping Education_Level\n",
    "def group_education(edu):\n",
    "    pre_school = ['Preschool']\n",
    "    school = ['1st-4th', '5th-6th', '9th', '10th', '11th', '12th', '7th-8th']\n",
    "    post_hs = ['HS-grad', 'Some-college']\n",
    "    assoc = ['Assoc-voc', 'Assoc-acdm']\n",
    "    higher = ['Masters', 'Bachelors']\n",
    "    postgraduate = ['Doctorate', 'Prof-school']\n",
    "    \n",
    "    if edu in pre_school:\n",
    "        return 'pre_school'\n",
    "    elif edu in school:\n",
    "        return 'school'\n",
    "    elif edu in post_hs:\n",
    "        return 'post_hs'\n",
    "    elif edu in assoc:\n",
    "        return 'assoc'\n",
    "    elif edu in higher:\n",
    "        return 'higher'\n",
    "    elif edu in postgraduate:\n",
    "        return 'postgraduate'\n",
    "    else:\n",
    "        return 'Other'\n",
    "    \n",
    "# Grouping Household_role\n",
    "def group_household_role(role):\n",
    "    if role in ['Husband', 'Wife']:\n",
    "        return 'Spouse'\n",
    "    else:\n",
    "        return 'Other'\n",
    "\n",
    "# Grouping Employment_Type\n",
    "def group_employment(emp):\n",
    "    if emp == 'Private':\n",
    "        return 'Private'\n",
    "    elif emp in ['Self-emp-not-inc', 'Self-emp-inc', 'Local-gov', 'State-gov', 'Federal-gov']:\n",
    "        return 'Not-Private'\n",
    "    elif emp in ['Without-pay', 'Never-worked']:\n",
    "        return 'Non-working'\n",
    "    else:\n",
    "        return 'Other'\n",
    "    \n",
    "# Grouping Ethnicity:\n",
    "def group_ethnicity(eth):\n",
    "    if eth == 'White':\n",
    "        return 'White'\n",
    "    elif eth == 'Black':\n",
    "        return 'Black'\n",
    "    else:\n",
    "        return 'Other'\n",
    "    \n",
    "# 1. Mapping dictionary for Years_of_Education\n",
    "edu_to_years = {\n",
    "    'Preschool'    : 0,\n",
    "    '1st-4th'      : (1 + 2 + 3 + 4) / 4,\n",
    "    '5th-6th'      : 5.5,\n",
    "    '7th-8th'      : 7.5,\n",
    "    '9th'          : 9,\n",
    "    '10th'         : 10,\n",
    "    '11th'         : 11,\n",
    "    '12th'         : 12,\n",
    "    'HS-grad'      : 12,\n",
    "    'Some-college' : (12 + 13 + 14 + 15) / 4,\n",
    "    'Assoc-voc'    : 14,\n",
    "    'Assoc-acdm'   : 14,\n",
    "    'Bachelors'    : 16,\n",
    "    'Masters'      : 18,\n",
    "    'Prof-school'  : 19,\n",
    "    'Doctorate'    : 20\n",
    "}\n",
    "\n",
    "\n",
    "def group_edu_years(X):\n",
    "    # Ensure X is treated as a 2D array\n",
    "    arr = X.to_numpy()\n",
    "    \n",
    "    if arr.ndim != 2 or arr.shape[1] != 2:\n",
    "        raise ValueError(\"group_edu_years expects exactly 2 columns: [Years_of_Education, Education_Level]\")\n",
    "    \n",
    "    # Now arr[:, 0] and arr[:, 1] work as intended\n",
    "    raw_years   = pd.Series(arr[:, 0])\n",
    "    raw_levels  = pd.Series(arr[:, 1])\n",
    "    \n",
    "    # Map Education_Level → numeric years\n",
    "    mapped_years = raw_levels.map(edu_to_years)\n",
    "    \n",
    "    # Fill NaN in raw_years with mapped_years\n",
    "    filled = raw_years.fillna(mapped_years)\n",
    "    \n",
    "    # Return a single-column DataFrame\n",
    "    return filled.to_frame(name=\"Years_of_Education\")\n",
    "\n",
    "def group_job_type(job):\n",
    "    # 1. White-collar\n",
    "    white = {\n",
    "        \"Exec-managerial\", \n",
    "        \"Prof-specialty\", \n",
    "        \"Adm-clerical\", \n",
    "        \"Sales\", \n",
    "        \"Tech-support\"\n",
    "    }\n",
    "    # 2. Blue-collar\n",
    "    blue = {\n",
    "        \"Craft-repair\",\n",
    "        \"Machine-op-inspct\",\n",
    "        \"Transport-moving\",\n",
    "        \"Handlers-cleaners\",\n",
    "        \"Farming-fishing\",\n",
    "        \"Protective-serv\"\n",
    "    }\n",
    "    # 3. Service\n",
    "    service = {\n",
    "        \"Other-service\",\n",
    "        \"Priv-house-serv\"\n",
    "    }\n",
    "    # 4. Military\n",
    "    military = {\"Armed-forces\"}\n",
    "\n",
    "    if job in white:\n",
    "        return \"White-collar\"\n",
    "    elif job in blue:\n",
    "        return \"Blue-collar\"\n",
    "    elif job in service:\n",
    "        return \"Service\"\n",
    "    elif job in military:\n",
    "        return \"Military\"\n",
    "    else:\n",
    "        return \"Other\""
   ]
  },
  {
   "cell_type": "markdown",
   "id": "8957b7e82eb52d05",
   "metadata": {
    "collapsed": false
   },
   "source": []
  },
  {
   "cell_type": "code",
   "execution_count": 16,
   "id": "323cef953dcfe6f8",
   "metadata": {
    "collapsed": false,
    "ExecuteTime": {
     "end_time": "2025-06-22T12:35:46.502059700Z",
     "start_time": "2025-06-22T12:35:46.331637800Z"
    }
   },
   "outputs": [],
   "source": [
    "from sklearn.preprocessing import FunctionTransformer\n",
    "import pandas as pd\n",
    "\n",
    "\n",
    "pref_com_group = FunctionTransformer(\n",
    "    func=lambda X: pd.Series(\n",
    "        X.to_numpy().ravel()\n",
    "    ).map(group_pref_com).to_frame(\"Preferred_Communication_Method\"),\n",
    "    validate=False\n",
    ")\n",
    "\n",
    "country_group = FunctionTransformer(\n",
    "    func=lambda X: pd.Series(\n",
    "        X.to_numpy().ravel()\n",
    "    ).map(group_country).to_frame(\"Country_of_Residence\"),\n",
    "    validate=False\n",
    ")\n",
    "\n",
    "edu_level_group = FunctionTransformer(\n",
    "    func=lambda X: pd.Series(\n",
    "        X.to_numpy().ravel()\n",
    "    ).map(group_education).to_frame(\"Education_Level_Mapped\"),\n",
    "    validate=False\n",
    ")\n",
    "\n",
    "house_hold_group = FunctionTransformer(\n",
    "    func=lambda X: pd.Series(\n",
    "        X.to_numpy().ravel()\n",
    "    ).map(group_household_role).to_frame(\"Household_Role\"),\n",
    "    validate=False\n",
    ")\n",
    "\n",
    "emp_type_group = FunctionTransformer(\n",
    "    func=lambda X: pd.Series(\n",
    "        X.to_numpy().ravel()\n",
    "    ).map(group_employment).to_frame(\"Employment_Type\"),\n",
    "    validate=False\n",
    ")\n",
    "\n",
    "ethnicity_group = FunctionTransformer(\n",
    "    func=lambda X: pd.Series(\n",
    "        X.to_numpy().ravel()\n",
    "    ).map(group_ethnicity).to_frame(\"Ethnicity\"),\n",
    "    validate=False\n",
    ")\n",
    "\n",
    "job_type_group = FunctionTransformer(\n",
    "    func=lambda X: pd.Series(\n",
    "        X.to_numpy().ravel()\n",
    "    ).map(group_job_type).to_frame(\"job_type\"),\n",
    "    validate=False\n",
    ")\n",
    "\n",
    "# 2. Two-column grouper: \n",
    "#    X will be shape (n_samples, 2), where column 0 = Years_of_Education,\n",
    "#    column 1 = Education_Level. We need to call group_edu_years on each row.\n",
    "\n",
    "edu_years_group = FunctionTransformer(\n",
    "    func=lambda X: group_edu_years(X),\n",
    "    validate=False\n",
    ")"
   ]
  },
  {
   "cell_type": "code",
   "execution_count": 17,
   "id": "ba45e67358850d1a",
   "metadata": {
    "collapsed": false,
    "ExecuteTime": {
     "end_time": "2025-06-22T12:35:46.503740100Z",
     "start_time": "2025-06-22T12:35:46.364836400Z"
    }
   },
   "outputs": [],
   "source": [
    "# ------------ pipelines ------------\n",
    "\n",
    "# Preferred_Communication_Method pipeline\n",
    "pref_pipeline = Pipeline([\n",
    "    ('group', pref_com_group),  \n",
    "    ('impute', SimpleImputer(strategy='constant', fill_value='Missing')),\n",
    "    ('onehot', OneHotEncoder(handle_unknown='ignore'))\n",
    "])\n",
    "\n",
    "# Country_of_Residence pipeline\n",
    "country_pipeline = Pipeline([\n",
    "    ('group', country_group),\n",
    "    ('impute', SimpleImputer(strategy='most_frequent')),  # or 'constant' if you prefer\n",
    "    ('onehot', OneHotEncoder(handle_unknown='ignore'))\n",
    "])\n",
    "\n",
    "# Education_Level pipeline\n",
    "edu_pipeline = Pipeline([\n",
    "    ('group', edu_level_group),\n",
    "    ('impute', SimpleImputer(strategy='constant', fill_value='Missing')),\n",
    "    ('onehot', OneHotEncoder(handle_unknown='ignore'))\n",
    "])\n",
    "\n",
    "# Employment_Type pipeline\n",
    "employment_pipeline = Pipeline([\n",
    "    ('group', emp_type_group),\n",
    "    ('impute', SimpleImputer(strategy='most_frequent')),\n",
    "    ('onehot', OneHotEncoder(handle_unknown='ignore'))\n",
    "])\n",
    "\n",
    "# Ethnicity pipeline\n",
    "ethnicity_pipeline = Pipeline([\n",
    "    ('group', ethnicity_group),\n",
    "    ('impute', SimpleImputer(strategy='constant', fill_value='Missing')),\n",
    "    ('onehot', OneHotEncoder(handle_unknown='ignore'))\n",
    "])\n",
    "\n",
    "# Household pipeline\n",
    "Household_pipeline = Pipeline([\n",
    "    ('group', house_hold_group),\n",
    "    ('impute', SimpleImputer(strategy='constant', fill_value='Missing')),\n",
    "    ('onehot', OneHotEncoder(handle_unknown='ignore'))\n",
    "])\n",
    "\n",
    "# Household pipeline\n",
    "job_type_pipeline = Pipeline([\n",
    "    ('group', job_type_group),\n",
    "    ('impute', SimpleImputer(strategy='constant', fill_value='Missing')),\n",
    "    ('onehot', OneHotEncoder(handle_unknown='ignore'))\n",
    "])\n",
    "\n",
    "# Years of education pipeline\n",
    "edu_years_pipeline = Pipeline([\n",
    "    ('fill_years', edu_years_group),\n",
    "    ('impute_years', SimpleImputer(strategy='mean')),\n",
    "    (\"scaler\", StandardScaler()), \n",
    "])\n",
    "\n",
    "\n",
    "# columns without special adjustments:\n",
    "categorical_col = ['Gender', 'Marital_Status', 'Job_Type', 'Employment_Type']\n",
    "numerical_col = ['E']\n",
    "skw_numerical_col = ['Age', 'Investment_Gain', 'Investment_Loss']\n",
    "\n",
    "# Pipeline for categorical features\n",
    "cat_pipeline = Pipeline([\n",
    "    ('imputer', SimpleImputer(strategy='constant', fill_value='Missing')),\n",
    "    ('encoder', OneHotEncoder(handle_unknown='ignore'))\n",
    "])\n",
    "\n",
    "# Pipeline for numerical features (mean imputation)\n",
    "num_pipeline = Pipeline([\n",
    "    ('imputer', SimpleImputer(strategy='mean')),\n",
    "    (\"scaler\", StandardScaler()), \n",
    "\n",
    "])\n",
    "\n",
    "# Pipeline for numerical features (median imputation) - for skewed columns\n",
    "skw_numerical_pipeline = Pipeline([\n",
    "    ('imputer', SimpleImputer(strategy='median')),\n",
    "    (\"scaler\", StandardScaler()), \n",
    "])\n",
    "\n",
    "# Combine pipelines into a ColumnTransformer\n",
    "preprocessor = ColumnTransformer([\n",
    "    ('pref_communication', pref_pipeline,         ['Preferred_Communication_Method']),\n",
    "    ('country',            country_pipeline,      ['Country_of_Residence']),\n",
    "    ('edu_level',          edu_pipeline,          ['Education_Level']),\n",
    "    ('edu_years',          edu_years_pipeline,    ['Years_of_Education', 'Education_Level']),\n",
    "    ('employment_type',    employment_pipeline,   ['Employment_Type']),\n",
    "    ('ethnicity',          ethnicity_pipeline,    ['Ethnicity']),\n",
    "    ('job_type',           job_type_pipeline,     ['Job_Type']),\n",
    "    ('household_role',     Household_pipeline,    ['Household_Role']),\n",
    "    ('cat',                cat_pipeline,          ['Gender', 'Marital_Status']), # Other categorical columns\n",
    "    ('num',                num_pipeline,          ['E', 'Log_Net_Investment', 'log_gain', 'log_loss', 'net_investment_log']),     # Simple numeric column\n",
    "    ('skw_num',            skw_numerical_pipeline,['Age', 'Investment_Gain', 'Investment_Loss', 'Net_Investment'])                # Skewed numeric columns    \n",
    "    ],\n",
    "    remainder=\"passthrough\"\n",
    "    # All remaining columns that were not specified in transformer. These columns don't need any transformation. This subset of columns is concatenated with the output of the transformers.\n",
    ")"
   ]
  },
  {
   "cell_type": "markdown",
   "id": "49351592f8676b32",
   "metadata": {
    "collapsed": false
   },
   "source": [
    "## 4. Feature Selection\n"
   ]
  },
  {
   "cell_type": "markdown",
   "source": [
    "\n",
    "In here we begin by preprocessing our training and test data — handling imputation, encoding and scaling. Next, we fit RFECV selectors for each model, each identifying its own optimal subset of features. Finally, we evaluate all of our candidate models (LR, SVM, RF, MLP) on the feature‐selected datasets: for each model, we run a GridSearchCV to tune hyperparameters, fit on the selected features, and report ROC‐AUC on the training set and final ROC‐AUC on the hold‐out test set."
   ],
   "metadata": {
    "collapsed": false
   },
   "id": "f398d7a2a123b91a"
  },
  {
   "cell_type": "code",
   "execution_count": 18,
   "outputs": [],
   "source": [
    "# 1) Preprocess once\n",
    "X_train_proc = preprocessor.fit_transform(X_train)\n",
    "X_test_proc  = preprocessor.transform(X_test)\n",
    "y_train = y_train.loc[X_train.index]"
   ],
   "metadata": {
    "collapsed": false,
    "ExecuteTime": {
     "end_time": "2025-06-22T12:35:47.340550700Z",
     "start_time": "2025-06-22T12:35:46.419798200Z"
    }
   },
   "id": "49441713550d1a9e"
  },
  {
   "cell_type": "code",
   "execution_count": null,
   "outputs": [],
   "source": [
    "# — LR selector\n",
    "sel_lr = RFECV(\n",
    "    estimator=LogisticRegression(solver='liblinear', max_iter=2000, random_state=42, penalty='l2', class_weight='balanced'),\n",
    "    cv=StratifiedKFold(5), scoring='roc_auc', min_features_to_select=5,\n",
    "    step=1, n_jobs=-1, verbose=1\n",
    ")\n",
    "\n",
    "\n",
    "sel_lr.fit(X_train_proc, y_train)\n",
    "mask_lr = sel_lr.get_support()"
   ],
   "metadata": {
    "collapsed": false
   },
   "id": "132fbd1ab9dbeb22"
  },
  {
   "cell_type": "code",
   "execution_count": 27,
   "outputs": [
    {
     "name": "stdout",
     "output_type": "stream",
     "text": [
      "Fitting estimator with 50 features.\n",
      "Fitting estimator with 49 features.\n",
      "Fitting estimator with 48 features.\n",
      "Fitting estimator with 47 features.\n",
      "Fitting estimator with 46 features.\n",
      "Fitting estimator with 45 features.\n",
      "Fitting estimator with 44 features.\n",
      "Fitting estimator with 43 features.\n",
      "Fitting estimator with 42 features.\n",
      "Fitting estimator with 41 features.\n",
      "Fitting estimator with 40 features.\n",
      "Fitting estimator with 39 features.\n",
      "Fitting estimator with 38 features.\n",
      "Fitting estimator with 37 features.\n",
      "Fitting estimator with 36 features.\n",
      "Fitting estimator with 35 features.\n"
     ]
    }
   ],
   "source": [
    "# — RF selector\n",
    "sel_rf = RFECV(\n",
    "    estimator=RandomForestClassifier(n_estimators=50, random_state=42, criterion='entropy'),\n",
    "    cv=StratifiedKFold(3), scoring='roc_auc', min_features_to_select=5,\n",
    "    step=1, n_jobs=-1, verbose=1\n",
    ")\n",
    "sel_rf.fit(X_train_proc, y_train)\n",
    "mask_rf = sel_rf.get_support()"
   ],
   "metadata": {
    "collapsed": false,
    "ExecuteTime": {
     "end_time": "2025-06-22T14:46:15.120624500Z",
     "start_time": "2025-06-22T14:35:51.376385100Z"
    }
   },
   "id": "899f0fca731c74c4"
  },
  {
   "cell_type": "code",
   "execution_count": null,
   "outputs": [],
   "source": [
    "# — SVM selector\n",
    "\n",
    "# — RFECV selector powered by a LinearSVC (so coef_ is available)\n",
    "sel_svm = RFECV(\n",
    "    estimator=LinearSVC(\n",
    "        penalty='l2',\n",
    "        dual=False,\n",
    "        max_iter=5000,\n",
    "        random_state=42\n",
    "    ),\n",
    "    cv=StratifiedKFold(3),\n",
    "    scoring='roc_auc',\n",
    "    min_features_to_select=5,\n",
    "    step=1,\n",
    "    n_jobs=-1,\n",
    "    verbose=1\n",
    ")\n",
    "\n",
    "# — Fit the selector\n",
    "sel_svm.fit(X_train_proc, y_train)\n",
    "\n",
    "# — Extract the mask\n",
    "mask_svm = sel_svm.get_support()"
   ],
   "metadata": {
    "collapsed": false
   },
   "id": "ac6c62a078953072"
  },
  {
   "cell_type": "code",
   "execution_count": 38,
   "outputs": [
    {
     "name": "stdout",
     "output_type": "stream",
     "text": [
      "Fitting estimator with 50 features.\n",
      "Fitting estimator with 49 features.\n",
      "Fitting estimator with 48 features.\n",
      "Fitting estimator with 47 features.\n",
      "Fitting estimator with 46 features.\n",
      "Fitting estimator with 45 features.\n",
      "Fitting estimator with 44 features.\n",
      "Fitting estimator with 43 features.\n",
      "Fitting estimator with 42 features.\n",
      "Fitting estimator with 41 features.\n",
      "Fitting estimator with 40 features.\n"
     ]
    }
   ],
   "source": [
    "# — MLP selector\n",
    "\n",
    "# 2) RFECV selector with custom importance_getter that takes only the estimator\n",
    "rfecv_mlp = RFECV(\n",
    "    estimator=MLPClassifier(\n",
    "        hidden_layer_sizes=(50,),\n",
    "        activation='relu',\n",
    "        solver='adam',\n",
    "        alpha=1e-4,\n",
    "        learning_rate_init=1e-3,\n",
    "        max_iter=2000,\n",
    "        early_stopping=True,\n",
    "        random_state=42\n",
    "    ),\n",
    "    # single‐arg getter: average absolute weights of first layer\n",
    "    importance_getter=lambda est: np.mean(np.abs(est.coefs_[0]), axis=1),\n",
    "    step=1,\n",
    "    cv=StratifiedKFold(5),\n",
    "    scoring='roc_auc',\n",
    "    min_features_to_select=5,\n",
    "    n_jobs=-1,\n",
    "    verbose=1\n",
    ")\n",
    "\n",
    "# 3) Fit selector and extract mask\n",
    "rfecv_mlp.fit(X_train_proc, y_train)\n",
    "mask_mlp = rfecv_mlp.get_support()"
   ],
   "metadata": {
    "collapsed": false,
    "ExecuteTime": {
     "end_time": "2025-06-22T17:40:41.225178100Z",
     "start_time": "2025-06-22T17:37:59.454281900Z"
    }
   },
   "id": "d3565b88c3e0c5f6"
  },
  {
   "cell_type": "code",
   "execution_count": 39,
   "outputs": [],
   "source": [
    "# 3) Prepare train/test splits for each selector\n",
    "datasets = {\n",
    "    #'LR-selected': (X_train_proc[:, mask_lr], X_test_proc[:, mask_lr]),\n",
    "    'RF-selected': (X_train_proc[:, mask_rf], X_test_proc[:, mask_rf]),\n",
    "    'MLP-selected': (X_train_proc[:, mask_mlp], X_test_proc[:, mask_mlp]),\n",
    "   # 'SVM-selected': (X_train_proc[:, mask_svm], X_test_proc[:, mask_svm]),\n",
    "}"
   ],
   "metadata": {
    "collapsed": false,
    "ExecuteTime": {
     "end_time": "2025-06-22T17:40:41.271670Z",
     "start_time": "2025-06-22T17:40:41.229690200Z"
    }
   },
   "id": "2cd42052c0e1fca8"
  },
  {
   "cell_type": "markdown",
   "id": "85618933fc93ce16",
   "metadata": {},
   "source": [
    "## 4. Model Training – Basic Models"
   ]
  },
  {
   "cell_type": "markdown",
   "source": [
    "## models - logistic regression\n"
   ],
   "metadata": {
    "collapsed": false
   },
   "id": "192bda0bfa975b59"
  },
  {
   "cell_type": "code",
   "execution_count": 46,
   "outputs": [
    {
     "ename": "KeyError",
     "evalue": "'LR-selected'",
     "output_type": "error",
     "traceback": [
      "\u001B[1;31m---------------------------------------------------------------------------\u001B[0m",
      "\u001B[1;31mKeyError\u001B[0m                                  Traceback (most recent call last)",
      "Cell \u001B[1;32mIn[46], line 4\u001B[0m\n\u001B[0;32m      1\u001B[0m \u001B[38;5;66;03m#--- Grid search - logistic regression ---\u001B[39;00m\n\u001B[0;32m      2\u001B[0m \n\u001B[0;32m      3\u001B[0m \u001B[38;5;66;03m# unpack the LR-selected splits\u001B[39;00m\n\u001B[1;32m----> 4\u001B[0m X_tr_lr, X_te_lr \u001B[38;5;241m=\u001B[39m \u001B[43mdatasets\u001B[49m\u001B[43m[\u001B[49m\u001B[38;5;124;43m'\u001B[39;49m\u001B[38;5;124;43mLR-selected\u001B[39;49m\u001B[38;5;124;43m'\u001B[39;49m\u001B[43m]\u001B[49m\n\u001B[0;32m      6\u001B[0m \u001B[38;5;66;03m# Define the range of C values to search \u001B[39;00m\n\u001B[0;32m      7\u001B[0m param_grid_lr \u001B[38;5;241m=\u001B[39m {\n\u001B[0;32m      8\u001B[0m     \u001B[38;5;124m'\u001B[39m\u001B[38;5;124mC\u001B[39m\u001B[38;5;124m'\u001B[39m: [\u001B[38;5;241m0.0001\u001B[39m, \u001B[38;5;241m0.001\u001B[39m, \u001B[38;5;241m0.01\u001B[39m, \u001B[38;5;241m0.1\u001B[39m, \u001B[38;5;241m1\u001B[39m, \u001B[38;5;241m10\u001B[39m, \u001B[38;5;241m100\u001B[39m]\n\u001B[0;32m      9\u001B[0m }\n",
      "\u001B[1;31mKeyError\u001B[0m: 'LR-selected'"
     ]
    }
   ],
   "source": [
    "#--- Grid search - logistic regression ---\n",
    "\n",
    "# unpack the LR-selected splits\n",
    "X_tr_lr, X_te_lr = datasets['LR-selected']\n",
    "\n",
    "# Define the range of C values to search \n",
    "param_grid_lr = {\n",
    "    'C': [0.0001, 0.001, 0.01, 0.1, 1, 10, 100]\n",
    "}\n",
    "\n",
    "# set up GridSearchCV\n",
    "grid_lr_lr = GridSearchCV(\n",
    "    estimator=LogisticRegression(\n",
    "        penalty='l2',\n",
    "        solver='liblinear',\n",
    "        class_weight='balanced',\n",
    "        max_iter=2000,\n",
    "        random_state=42\n",
    "    ),\n",
    "    param_grid=param_grid_lr,\n",
    "    cv=5,\n",
    "    scoring='roc_auc',\n",
    "    n_jobs=-1,\n",
    "    verbose=1\n",
    ")\n",
    "\n",
    "# fit on training data\n",
    "grid_lr_lr.fit(X_tr_lr, y_train)\n",
    "\n",
    "# print the best hyperparameters and CV score\n",
    "print(\"LR-select → LR: Best C =\", grid_lr_lr.best_params_['C'])\n",
    "print(\"LR-select → LR: Best CV ROC-AUC =\", round(grid_lr_lr.best_score_, 3))\n",
    "\n",
    "# evaluate on the hold-out test set\n",
    "y_pred = grid_lr_lr.predict(X_te_lr)\n",
    "y_proba = grid_lr_lr.predict_proba(X_te_lr)[:, 1]\n",
    "\n",
    "print(\"\\nTest ROC-AUC:\", round(roc_auc_score(y_test, y_proba), 3))\n",
    "print(classification_report(y_test, y_pred))"
   ],
   "metadata": {
    "collapsed": false,
    "ExecuteTime": {
     "end_time": "2025-06-21T17:36:15.192971100Z",
     "start_time": "2025-06-21T17:36:15.138014400Z"
    }
   },
   "id": "f51738bd7d271e61"
  },
  {
   "cell_type": "markdown",
   "id": "ecc8b1eefecc948c",
   "metadata": {},
   "source": [
    "## 5. Model Training – Advanced Models\n"
   ]
  },
  {
   "cell_type": "markdown",
   "source": [
    "## models - random forest\n"
   ],
   "metadata": {
    "collapsed": false
   },
   "id": "d848cca4fb296230"
  },
  {
   "cell_type": "code",
   "execution_count": 31,
   "outputs": [
    {
     "name": "stdout",
     "output_type": "stream",
     "text": [
      "Fitting 5 folds for each of 12 candidates, totalling 60 fits\n",
      "RF-selected → RF: Best params = {'criterion': 'entropy', 'max_depth': 15, 'n_estimators': 2000}\n",
      "RF-selected → RF: Best CV ROC-AUC = 0.917\n",
      "Test ROC-AUC: 0.926\n",
      "              precision    recall  f1-score   support\n",
      "\n",
      "           0       0.88      0.95      0.92      4191\n",
      "           1       0.80      0.60      0.69      1345\n",
      "\n",
      "    accuracy                           0.87      5536\n",
      "   macro avg       0.84      0.78      0.80      5536\n",
      "weighted avg       0.86      0.87      0.86      5536\n"
     ]
    }
   ],
   "source": [
    "#--- Grid search - random forest ---\n",
    "\n",
    "# unpack RF-selected\n",
    "X_tr, X_te = datasets['RF-selected']\n",
    "\n",
    "'''\n",
    "param_grid = param_grid_rf = {\n",
    "    'n_estimators':       [100, 1000],\n",
    "    'min_samples_split':  [2, 10],\n",
    "    'min_samples_leaf':   [1, 4],\n",
    "    'criterion':          ['gini', 'entropy'],\n",
    "\n",
    "}\n",
    "'''\n",
    "from sklearn.ensemble import RandomForestClassifier\n",
    "\n",
    "param_grid_rf = {\n",
    "    # number of trees\n",
    "    'n_estimators':       [100, 1500, 2000],\n",
    "    'max_depth':          [None, 15],\n",
    "    'criterion':          ['gini', 'entropy'],\n",
    "}\n",
    "\n",
    "rf = RandomForestClassifier(random_state=42)\n",
    "\n",
    "\n",
    "grid_rf_rf = GridSearchCV(\n",
    "    estimator=RandomForestClassifier(random_state=42, ),\n",
    "    param_grid=param_grid_rf,\n",
    "    cv=5,\n",
    "    scoring='roc_auc',\n",
    "    n_jobs=-1,\n",
    "    verbose=1\n",
    ")\n",
    "\n",
    "grid_rf_rf.fit(X_tr, y_train)\n",
    "\n",
    "print(\"RF-selected → RF: Best params =\", grid_rf_rf.best_params_)\n",
    "print(\"RF-selected → RF: Best CV ROC-AUC =\", round(grid_rf_rf.best_score_, 3))\n",
    "\n",
    "y_pred  = grid_rf_rf.predict(X_te)\n",
    "y_proba = grid_rf_rf.predict_proba(X_te)[:,1]\n",
    "print(\"Test ROC-AUC:\", round(roc_auc_score(y_test, y_proba), 3))\n",
    "print(classification_report(y_test, y_pred))\n"
   ],
   "metadata": {
    "collapsed": false,
    "ExecuteTime": {
     "end_time": "2025-06-22T15:13:37.611297800Z",
     "start_time": "2025-06-22T14:47:12.005787600Z"
    }
   },
   "id": "acc6ef9db9ebd7ec"
  },
  {
   "cell_type": "markdown",
   "source": [
    "## models - SVM"
   ],
   "metadata": {
    "collapsed": false
   },
   "id": "31f845342e50114"
  },
  {
   "cell_type": "code",
   "execution_count": 69,
   "outputs": [
    {
     "name": "stdout",
     "output_type": "stream",
     "text": [
      "Fitting 5 folds for each of 4 candidates, totalling 20 fits\n",
      "LR-selected → SVC: Best C = 100\n",
      "LR-selected → SVC: Best CV ROC-AUC = 0.898\n",
      "Test ROC-AUC: 0.906\n",
      "              precision    recall  f1-score   support\n",
      "\n",
      "           0       0.87      0.95      0.91      4191\n",
      "           1       0.77      0.55      0.65      1345\n",
      "\n",
      "    accuracy                           0.85      5536\n",
      "   macro avg       0.82      0.75      0.78      5536\n",
      "weighted avg       0.85      0.85      0.84      5536\n"
     ]
    }
   ],
   "source": [
    "#--- Grid search - SVM ---\n",
    "\n",
    "from sklearn.svm           import SVC\n",
    "from sklearn.model_selection import GridSearchCV\n",
    "from sklearn.metrics       import roc_auc_score, classification_report\n",
    "\n",
    "# unpack\n",
    "X_tr, X_te = datasets['SVM-selected']\n",
    "\n",
    "# grid over C\n",
    "param_grid = {'C': [0.1, 1, 10, 100]}\n",
    "\n",
    "grid_svc = GridSearchCV(\n",
    "    estimator=SVC(kernel='rbf', probability=True, random_state=42),\n",
    "    param_grid=param_grid,\n",
    "    cv=5,\n",
    "    scoring='roc_auc',\n",
    "    n_jobs=-1,\n",
    "    verbose=1\n",
    ")\n",
    "\n",
    "grid_svc.fit(X_tr, y_train)\n",
    "print(\"LR-selected → SVC: Best C =\", grid_svc.best_params_['C'])\n",
    "print(\"LR-selected → SVC: Best CV ROC-AUC =\", round(grid_svc.best_score_, 3))\n",
    "\n",
    "# test eval\n",
    "y_pred  = grid_svc.predict(X_te)\n",
    "y_proba = grid_svc.predict_proba(X_te)[:,1]\n",
    "print(\"Test ROC-AUC:\", round(roc_auc_score(y_test, y_proba), 3))\n",
    "print(classification_report(y_test, y_pred))\n"
   ],
   "metadata": {
    "collapsed": false,
    "ExecuteTime": {
     "end_time": "2025-06-20T21:15:49.207019100Z",
     "start_time": "2025-06-20T21:03:42.325719500Z"
    }
   },
   "id": "5852e175d926187f"
  },
  {
   "cell_type": "markdown",
   "source": [
    "## models - neural network"
   ],
   "metadata": {
    "collapsed": false
   },
   "id": "fd5fbae0a25bc8d"
  },
  {
   "cell_type": "code",
   "execution_count": 40,
   "outputs": [
    {
     "name": "stdout",
     "output_type": "stream",
     "text": [
      "Fitting 5 folds for each of 64 candidates, totalling 320 fits\n",
      "MLP-selected → MLP: Best params = {'activation': 'logistic', 'batch_size': 100, 'hidden_layer_sizes': (20, 20, 10, 10, 10), 'learning_rate_init': 0.01}\n",
      "MLP-selected → MLP: Best CV ROC-AUC = 0.903\n",
      "Test ROC-AUC: 0.912\n",
      "              precision    recall  f1-score   support\n",
      "\n",
      "           0       0.88      0.94      0.91      4191\n",
      "           1       0.76      0.59      0.66      1345\n",
      "\n",
      "    accuracy                           0.85      5536\n",
      "   macro avg       0.82      0.77      0.79      5536\n",
      "weighted avg       0.85      0.85      0.85      5536\n"
     ]
    }
   ],
   "source": [
    "#--- Grid search - MLP ---\n",
    "\n",
    "# — Unpack your MLP‐selected datasets\n",
    "X_tr_mlp, X_te_mlp = datasets['MLP-selected']\n",
    "\n",
    "\n",
    "# — Define a hyperparameter grid for the full‐sized network\n",
    "param_grid_mlp =  {'activation' : [\"logistic\", \"relu\"], #\n",
    "                      'hidden_layer_sizes' : [(100,), # 1 large hidden layer\n",
    "                                              (200,), # 1 large hidden layer\n",
    "                                             (50, 50), # 2 medium size layers\n",
    "                                             (20, 20, 10, 10, 10)], # multiple small sized layers\n",
    "                      'batch_size' : [10, 50, 70, 100],\n",
    "                      'learning_rate_init' : [0.1, 0.01], \n",
    "} \n",
    "                     \n",
    "# — Set up GridSearchCV on a bare MLPClassifier\n",
    "grid_mlp = GridSearchCV(\n",
    "    estimator=MLPClassifier(\n",
    "        solver='adam',\n",
    "        max_iter=5000,\n",
    "        random_state=42,\n",
    "        early_stopping=True\n",
    "    ),\n",
    "    param_grid=param_grid_mlp,\n",
    "    cv=5,\n",
    "    scoring='roc_auc',\n",
    "    n_jobs=-1,\n",
    "    verbose=2\n",
    ")\n",
    "\n",
    "# — Fit on the MLP‐selected training features\n",
    "grid_mlp.fit(X_tr_mlp, y_train)\n",
    "\n",
    "# — Report the best parameters and CV score\n",
    "print(\"MLP-selected → MLP: Best params =\", grid_mlp.best_params_)\n",
    "print(\"MLP-selected → MLP: Best CV ROC-AUC =\", round(grid_mlp.best_score_, 3))\n",
    "\n",
    "# — Evaluate the best model on the hold-out test set\n",
    "y_pred  = grid_mlp.predict(X_te_mlp)\n",
    "y_proba = grid_mlp.predict_proba(X_te_mlp)[:, 1]\n",
    "\n",
    "print(\"Test ROC-AUC:\", round(roc_auc_score(y_test, y_proba), 3))\n",
    "print(classification_report(y_test, y_pred))"
   ],
   "metadata": {
    "collapsed": false,
    "ExecuteTime": {
     "end_time": "2025-06-22T17:51:56.110030100Z",
     "start_time": "2025-06-22T17:40:41.263656600Z"
    }
   },
   "id": "a7d25849b9c781aa"
  },
  {
   "cell_type": "markdown",
   "source": [
    "logistic regression results:\n",
    "Best CV ROC-AUC = 0.896\n",
    "Test ROC-AUC: 0.903\n",
    "\n",
    "Random Forest results:\n",
    "Best CV ROC-AUC = 0.916\n",
    "Test ROC-AUC: 0.924\n",
    "\n",
    "SVM results: \n",
    "Best CV ROC-AUC = 0.898\n",
    "Test ROC-AUC: 0.906\n",
    "\n",
    "neural network:\n",
    "Best CV ROC-AUC = 0.903\n",
    "Test ROC-AUC: 0.912"
   ],
   "metadata": {
    "collapsed": false
   },
   "id": "349b2a11c9111f5f"
  },
  {
   "cell_type": "markdown",
   "id": "65b470cc0d11e7b7",
   "metadata": {},
   "source": [
    "## 6. Evaluation - bluh bluh\n",
    "- Build confusion matrix for at least one model\n",
    "- Generate ROC curves (using K-Fold CV)\n",
    "- Report AUC\n",
    "\n",
    "**✏️ Answer in markdown:**\n",
    "- Does any model overfit?\n",
    "- Which model generalizes best?\n",
    "- Final choice justification"
   ]
  },
  {
   "cell_type": "markdown",
   "id": "1f21f590332511f3",
   "metadata": {},
   "source": [
    "## 7. Final Prediction on Test Set\n",
    "_Predict probabilities (not binary labels!) and create submission file._"
   ]
  },
  {
   "cell_type": "code",
   "execution_count": 57,
   "id": "625f5bbc3680f72a",
   "metadata": {
    "ExecuteTime": {
     "end_time": "2025-06-20T20:26:39.136886300Z",
     "start_time": "2025-06-20T20:26:39.108967300Z"
    }
   },
   "outputs": [],
   "source": [
    "# Example:\n",
    "# final_model.predict_proba(test)[:, 1]  # ← probability of 'approved'\n",
    "# submission = pd.DataFrame({\n",
    "#     'customer_id': test['customer_id'],\n",
    "#     'loan_approval': predictions\n",
    "# })\n",
    "# submission.to_csv('Submission_group_32.csv', index=False)"
   ]
  },
  {
   "cell_type": "markdown",
   "id": "ae46b3996890ae43",
   "metadata": {},
   "source": [
    "## 8. Appendix / Extra Notes\n",
    "_Use this area for extra analysis, failed attempts, or ideas you explored._"
   ]
  },
  {
   "cell_type": "markdown",
   "id": "8b3da6484a12cc8c",
   "metadata": {
    "collapsed": false
   },
   "source": [
    "We tried to handle the missing values with linear regression, but R^2 was 0.02, so we just impute with the median.\n",
    "Trying:"
   ]
  },
  {
   "cell_type": "code",
   "execution_count": null,
   "id": "8e75b68a2dc9f39c",
   "metadata": {
    "collapsed": false
   },
   "outputs": [],
   "source": [
    "######## TRY AGAIN AFTER ADDING AGE\n",
    "'''\n",
    "from sklearn.linear_model import LinearRegression\n",
    "from sklearn.model_selection import train_test_split\n",
    "from sklearn.metrics import r2_score, mean_absolute_error\n",
    "\n",
    "df = train  \n",
    "\n",
    "# 1. Define features & split known vs missing\n",
    "features = ['Weekly_Work_Hours', 'Years_of_Education', 'Age']\n",
    "known   = df[df['Investment_Gain'].notnull() ].copy()\n",
    "missing = df[df['Investment_Gain'].isnull()].copy()\n",
    "\n",
    "X_known = known[features]\n",
    "y_known = known['Investment_Gain']\n",
    "\n",
    "# 2. Hold out 20% for validation\n",
    "X_tr, X_val, y_tr, y_val = train_test_split(\n",
    "    X_known, y_known,\n",
    "    test_size=0.2,\n",
    "    random_state=42\n",
    ")\n",
    "\n",
    "# 3. Train on the 80%\n",
    "lr = LinearRegression()\n",
    "lr.fit(X_tr, y_tr)\n",
    "\n",
    "# 4. Predict on the hold‐out and evaluate\n",
    "y_pred = lr.predict(X_val)\n",
    "print(f\"R² on hold-out: {r2_score(y_val, y_pred):.3f}\")\n",
    "print(f\"MAE on hold-out: {mean_absolute_error(y_val, y_pred):.3f}\")\n",
    "\n",
    "# 5. (Optional) Retrain on ALL known data and impute missings\n",
    "lr_full = LinearRegression()\n",
    "lr_full.fit(X_known, y_known)\n",
    "\n",
    "X_missing = missing[features]\n",
    "df.loc[df['Investment_Gain'].isnull(), 'Investment_Gain'] = lr_full.predict(X_missing)\n",
    "'''\n"
   ]
  },
  {
   "cell_type": "markdown",
   "source": [
    "we tried to look at crosstabs of explanatory variables vs. loan approval, but it didnt really help because of the unbalanced proportions:"
   ],
   "metadata": {
    "collapsed": false
   },
   "id": "870035853846733e"
  },
  {
   "cell_type": "code",
   "execution_count": null,
   "outputs": [],
   "source": [
    "pd.crosstab(train['Loan_Approval'], train['Gender'], normalize='index')\n",
    "pd.crosstab(train['Loan_Approval'], train['Ethnicity'], normalize='index')\n",
    "pd.crosstab(train['Loan_Approval'], train['Education_Level'], normalize='index')"
   ],
   "metadata": {
    "collapsed": false
   },
   "id": "db5ba5d80de4c522"
  }
 ],
 "metadata": {
  "kernelspec": {
   "display_name": "Python 3 (ipykernel)",
   "language": "python",
   "name": "python3"
  },
  "language_info": {
   "codemirror_mode": {
    "name": "ipython",
    "version": 3
   },
   "file_extension": ".py",
   "mimetype": "text/x-python",
   "name": "python",
   "nbconvert_exporter": "python",
   "pygments_lexer": "ipython3",
   "version": "3.12.7"
  }
 },
 "nbformat": 4,
 "nbformat_minor": 5
}
